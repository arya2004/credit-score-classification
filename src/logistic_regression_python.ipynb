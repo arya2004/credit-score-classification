{
 "cells": [
  {
   "cell_type": "code",
   "execution_count": 7,
   "id": "6cbf9be8",
   "metadata": {},
   "outputs": [],
   "source": [
    "import pandas as pd\n",
    "import numpy as np\n",
    "from sklearn.model_selection import train_test_split\n",
    "from sklearn.neural_network import MLPClassifier\n",
    "from sklearn.metrics import accuracy_score\n",
    "from sklearn.preprocessing import StandardScaler\n",
    "from sklearn.metrics import classification_report\n",
    "import matplotlib.pyplot as plt\n",
    "import seaborn as sns\n",
    "from sklearn.metrics import confusion_matrix\n",
    "from sklearn.metrics import accuracy_score, precision_score, recall_score, f1_score, confusion_matrix\n",
    "from sklearn.metrics import confusion_matrix, classification_report\n",
    "import joblib\n",
    "from sklearn.linear_model import LogisticRegression\n",
    "from sklearn.preprocessing import LabelEncoder\n",
    "from sklearn.pipeline import make_pipeline\n",
    "from sklearn.preprocessing import StandardScaler"
   ]
  },
  {
   "cell_type": "code",
   "execution_count": 8,
   "id": "d688236b",
   "metadata": {},
   "outputs": [
    {
     "data": {
      "text/html": [
       "<div>\n",
       "<style scoped>\n",
       "    .dataframe tbody tr th:only-of-type {\n",
       "        vertical-align: middle;\n",
       "    }\n",
       "\n",
       "    .dataframe tbody tr th {\n",
       "        vertical-align: top;\n",
       "    }\n",
       "\n",
       "    .dataframe thead th {\n",
       "        text-align: right;\n",
       "    }\n",
       "</style>\n",
       "<table border=\"1\" class=\"dataframe\">\n",
       "  <thead>\n",
       "    <tr style=\"text-align: right;\">\n",
       "      <th></th>\n",
       "      <th>Annual_Income</th>\n",
       "      <th>Num_Bank_Accounts</th>\n",
       "      <th>Num_Credit_Card</th>\n",
       "      <th>Interest_Rate</th>\n",
       "      <th>Num_of_Loan</th>\n",
       "      <th>Delay_from_due_date</th>\n",
       "      <th>Num_of_Delayed_Payment</th>\n",
       "      <th>Changed_Credit_Limit</th>\n",
       "      <th>Num_Credit_Inquiries</th>\n",
       "      <th>Outstanding_Debt</th>\n",
       "      <th>Total_EMI_per_month</th>\n",
       "      <th>Credit_History_Age_Months</th>\n",
       "      <th>Credit_Score_Encoded</th>\n",
       "      <th>Credit_Mix_Encoded</th>\n",
       "      <th>Total_Num_Accounts</th>\n",
       "      <th>Debt_Per_Account</th>\n",
       "      <th>Debt_to_Income_Ratio</th>\n",
       "      <th>Delayed_Payments_Per_Account</th>\n",
       "    </tr>\n",
       "  </thead>\n",
       "  <tbody>\n",
       "    <tr>\n",
       "      <th>0</th>\n",
       "      <td>19114.12</td>\n",
       "      <td>3</td>\n",
       "      <td>4</td>\n",
       "      <td>3</td>\n",
       "      <td>4</td>\n",
       "      <td>5</td>\n",
       "      <td>4</td>\n",
       "      <td>6.27</td>\n",
       "      <td>4.0</td>\n",
       "      <td>809.98</td>\n",
       "      <td>49.574949</td>\n",
       "      <td>268</td>\n",
       "      <td>2.0</td>\n",
       "      <td>2.0</td>\n",
       "      <td>7</td>\n",
       "      <td>115.711429</td>\n",
       "      <td>0.042376</td>\n",
       "      <td>0.571429</td>\n",
       "    </tr>\n",
       "    <tr>\n",
       "      <th>1</th>\n",
       "      <td>19114.12</td>\n",
       "      <td>3</td>\n",
       "      <td>4</td>\n",
       "      <td>3</td>\n",
       "      <td>4</td>\n",
       "      <td>6</td>\n",
       "      <td>0</td>\n",
       "      <td>11.27</td>\n",
       "      <td>4.0</td>\n",
       "      <td>809.98</td>\n",
       "      <td>49.574949</td>\n",
       "      <td>269</td>\n",
       "      <td>2.0</td>\n",
       "      <td>2.0</td>\n",
       "      <td>7</td>\n",
       "      <td>115.711429</td>\n",
       "      <td>0.042376</td>\n",
       "      <td>0.000000</td>\n",
       "    </tr>\n",
       "    <tr>\n",
       "      <th>2</th>\n",
       "      <td>19114.12</td>\n",
       "      <td>3</td>\n",
       "      <td>4</td>\n",
       "      <td>3</td>\n",
       "      <td>4</td>\n",
       "      <td>3</td>\n",
       "      <td>8</td>\n",
       "      <td>11.27</td>\n",
       "      <td>4.0</td>\n",
       "      <td>809.98</td>\n",
       "      <td>49.574949</td>\n",
       "      <td>271</td>\n",
       "      <td>2.0</td>\n",
       "      <td>2.0</td>\n",
       "      <td>7</td>\n",
       "      <td>115.711429</td>\n",
       "      <td>0.042376</td>\n",
       "      <td>1.142857</td>\n",
       "    </tr>\n",
       "    <tr>\n",
       "      <th>3</th>\n",
       "      <td>19114.12</td>\n",
       "      <td>3</td>\n",
       "      <td>4</td>\n",
       "      <td>3</td>\n",
       "      <td>4</td>\n",
       "      <td>3</td>\n",
       "      <td>6</td>\n",
       "      <td>11.27</td>\n",
       "      <td>4.0</td>\n",
       "      <td>809.98</td>\n",
       "      <td>49.574949</td>\n",
       "      <td>0</td>\n",
       "      <td>1.0</td>\n",
       "      <td>2.0</td>\n",
       "      <td>7</td>\n",
       "      <td>115.711429</td>\n",
       "      <td>0.042376</td>\n",
       "      <td>0.857143</td>\n",
       "    </tr>\n",
       "    <tr>\n",
       "      <th>4</th>\n",
       "      <td>34847.84</td>\n",
       "      <td>2</td>\n",
       "      <td>4</td>\n",
       "      <td>6</td>\n",
       "      <td>1</td>\n",
       "      <td>7</td>\n",
       "      <td>1</td>\n",
       "      <td>7.42</td>\n",
       "      <td>2.0</td>\n",
       "      <td>605.03</td>\n",
       "      <td>18.816215</td>\n",
       "      <td>320</td>\n",
       "      <td>2.0</td>\n",
       "      <td>2.0</td>\n",
       "      <td>6</td>\n",
       "      <td>100.838333</td>\n",
       "      <td>0.017362</td>\n",
       "      <td>0.166667</td>\n",
       "    </tr>\n",
       "  </tbody>\n",
       "</table>\n",
       "</div>"
      ],
      "text/plain": [
       "   Annual_Income  Num_Bank_Accounts  Num_Credit_Card  Interest_Rate  \\\n",
       "0       19114.12                  3                4              3   \n",
       "1       19114.12                  3                4              3   \n",
       "2       19114.12                  3                4              3   \n",
       "3       19114.12                  3                4              3   \n",
       "4       34847.84                  2                4              6   \n",
       "\n",
       "   Num_of_Loan  Delay_from_due_date  Num_of_Delayed_Payment  \\\n",
       "0            4                    5                       4   \n",
       "1            4                    6                       0   \n",
       "2            4                    3                       8   \n",
       "3            4                    3                       6   \n",
       "4            1                    7                       1   \n",
       "\n",
       "   Changed_Credit_Limit  Num_Credit_Inquiries  Outstanding_Debt  \\\n",
       "0                  6.27                   4.0            809.98   \n",
       "1                 11.27                   4.0            809.98   \n",
       "2                 11.27                   4.0            809.98   \n",
       "3                 11.27                   4.0            809.98   \n",
       "4                  7.42                   2.0            605.03   \n",
       "\n",
       "   Total_EMI_per_month  Credit_History_Age_Months  Credit_Score_Encoded  \\\n",
       "0            49.574949                        268                   2.0   \n",
       "1            49.574949                        269                   2.0   \n",
       "2            49.574949                        271                   2.0   \n",
       "3            49.574949                          0                   1.0   \n",
       "4            18.816215                        320                   2.0   \n",
       "\n",
       "   Credit_Mix_Encoded  Total_Num_Accounts  Debt_Per_Account  \\\n",
       "0                 2.0                   7        115.711429   \n",
       "1                 2.0                   7        115.711429   \n",
       "2                 2.0                   7        115.711429   \n",
       "3                 2.0                   7        115.711429   \n",
       "4                 2.0                   6        100.838333   \n",
       "\n",
       "   Debt_to_Income_Ratio  Delayed_Payments_Per_Account  \n",
       "0              0.042376                      0.571429  \n",
       "1              0.042376                      0.000000  \n",
       "2              0.042376                      1.142857  \n",
       "3              0.042376                      0.857143  \n",
       "4              0.017362                      0.166667  "
      ]
     },
     "execution_count": 8,
     "metadata": {},
     "output_type": "execute_result"
    }
   ],
   "source": [
    "\n",
    "df = pd.read_csv(\"../data/processed/trained_cleaned.csv\")\n",
    "df.head()"
   ]
  },
  {
   "cell_type": "code",
   "execution_count": 9,
   "id": "9803e33e",
   "metadata": {},
   "outputs": [
    {
     "name": "stdout",
     "output_type": "stream",
     "text": [
      "Accuracy: 0.68\n"
     ]
    }
   ],
   "source": [
    "\n",
    "\n",
    "# Load your dataset\n",
    "df = pd.read_csv(\"../data/processed/smote.csv\")\n",
    "\n",
    "# Adjust target column name to match your dataset\n",
    "X = df.drop(\"Credit_Score_Encoded\", axis=1)\n",
    "y = df[\"Credit_Score_Encoded\"]\n",
    "\n",
    "\n",
    "# Train-test split\n",
    "X_train, X_test, y_train, y_test = train_test_split(X, y, test_size=0.3, random_state=123)\n",
    "\n",
    "# (Optional) Feature scaling\n",
    "scaler = StandardScaler()\n",
    "X_train = scaler.fit_transform(X_train)\n",
    "X_test = scaler.transform(X_test)\n",
    "\n",
    "# Train MLP model (equivalent to `nnet`)\n",
    "model = MLPClassifier(hidden_layer_sizes=(10,), max_iter=500, random_state=123)\n",
    "model.fit(X_train, y_train)\n",
    "\n",
    "# Predict\n",
    "y_pred = model.predict(X_test)\n",
    "\n",
    "# Accuracy\n",
    "accuracy = accuracy_score(y_test, y_pred)\n",
    "print(f\"Accuracy: {accuracy:.2f}\")\n"
   ]
  },
  {
   "cell_type": "code",
   "execution_count": 10,
   "id": "aa511596",
   "metadata": {},
   "outputs": [],
   "source": [
    "# Load data\n",
    "data = pd.read_csv(\"../data/processed/smote.csv\")\n",
    "\n",
    "# Separate features and target\n",
    "X = data.drop(columns=[\"Credit_Score_Encoded\"])\n",
    "y = data[\"Credit_Score_Encoded\"]  # Assuming 'Credit_Score_Encoded' is the target variable\n",
    "\n",
    "# Train-test split with stratification (like createDataPartition in R)\n",
    "X_train, X_test, y_train, y_test = train_test_split(\n",
    "    X, y, \n",
    "    test_size=0.20,      # 20% test data (80% train)\n",
    "    random_state=42,     # seed\n",
    "    stratify=y           # keep class proportions same in train/test\n",
    ")\n"
   ]
  },
  {
   "cell_type": "code",
   "execution_count": 11,
   "id": "411edd8b",
   "metadata": {},
   "outputs": [
    {
     "name": "stderr",
     "output_type": "stream",
     "text": [
      "c:\\ProgramData\\anaconda3\\Lib\\site-packages\\sklearn\\linear_model\\_logistic.py:1247: FutureWarning: 'multi_class' was deprecated in version 1.5 and will be removed in 1.7. From then on, it will always use 'multinomial'. Leave it to its default value to avoid this warning.\n",
      "  warnings.warn(\n"
     ]
    },
    {
     "name": "stdout",
     "output_type": "stream",
     "text": [
      "Pipeline(steps=[('standardscaler', StandardScaler()),\n",
      "                ('logisticregression',\n",
      "                 LogisticRegression(max_iter=1000, multi_class='multinomial',\n",
      "                                    random_state=120))])\n"
     ]
    }
   ],
   "source": [
    "le = LabelEncoder()\n",
    "y_train_encoded = le.fit_transform(y_train)\n",
    "\n",
    "# Create a pipeline with scaling + multinomial logistic regression\n",
    "model = make_pipeline(\n",
    "    StandardScaler(),\n",
    "    LogisticRegression(multi_class='multinomial', solver='lbfgs', max_iter=1000, random_state=120)\n",
    ")\n",
    "\n",
    "# Train model\n",
    "model.fit(X_train, y_train_encoded)\n",
    "\n",
    "# Save the model pipeline\n",
    "joblib.dump(model, '../models/logistic_regression_model.pkl')\n",
    "\n",
    "print(model)\n"
   ]
  },
  {
   "cell_type": "code",
   "execution_count": 12,
   "id": "b509d086",
   "metadata": {},
   "outputs": [
    {
     "name": "stderr",
     "output_type": "stream",
     "text": [
      "c:\\ProgramData\\anaconda3\\Lib\\site-packages\\sklearn\\linear_model\\_logistic.py:1247: FutureWarning: 'multi_class' was deprecated in version 1.5 and will be removed in 1.7. From then on, it will always use 'multinomial'. Leave it to its default value to avoid this warning.\n",
      "  warnings.warn(\n"
     ]
    },
    {
     "name": "stdout",
     "output_type": "stream",
     "text": [
      "Pipeline(steps=[('standardscaler', StandardScaler()),\n",
      "                ('logisticregression',\n",
      "                 LogisticRegression(max_iter=1000, multi_class='multinomial',\n",
      "                                    random_state=120))])\n"
     ]
    }
   ],
   "source": [
    "le = LabelEncoder()\n",
    "y_train_encoded = le.fit_transform(y_train)\n",
    "\n",
    "# Create and train multinomial logistic regression model pipeline\n",
    "model = make_pipeline(\n",
    "    StandardScaler(),\n",
    "    LogisticRegression(multi_class='multinomial', solver='lbfgs', max_iter=1000, random_state=120)\n",
    ")\n",
    "model.fit(X_train, y_train_encoded)\n",
    "\n",
    "# Save the trained model pipeline\n",
    "joblib.dump(model, '../models/logistic_regression_model.pkl')\n",
    "\n",
    "# Save the label encoder (to decode labels later)\n",
    "joblib.dump(le, '../models/label_encoder.pkl')\n",
    "\n",
    "# Print the model info\n",
    "print(model)\n"
   ]
  },
  {
   "cell_type": "code",
   "execution_count": 16,
   "id": "786229a8",
   "metadata": {},
   "outputs": [
    {
     "name": "stdout",
     "output_type": "stream",
     "text": [
      "[1 2 1 ... 1 1 1]\n"
     ]
    }
   ],
   "source": [
    "model = joblib.load('../models/logistic_regression_model.pkl')\n",
    "le = joblib.load('../models/label_encoder.pkl')\n",
    "\n",
    "# Make predictions (returns encoded labels)\n",
    "y_pred_encoded = model.predict(X_test)\n",
    "\n",
    "# Decode the predicted labels back to original classes\n",
    "y_pred = le.inverse_transform(y_pred_encoded)\n",
    "predictions=y_pred\n",
    "print(y_pred)\n"
   ]
  },
  {
   "cell_type": "code",
   "execution_count": 19,
   "id": "4d789e36",
   "metadata": {},
   "outputs": [
    {
     "name": "stdout",
     "output_type": "stream",
     "text": [
      "Confusion Matrix:\n",
      "      0     1     2\n",
      "0  4533  2285   913\n",
      "1  1851  7028  1050\n",
      "2  1173   771  1871\n",
      "\n",
      "Classification Report:\n",
      "              precision    recall  f1-score   support\n",
      "\n",
      "           0       0.60      0.59      0.59      7731\n",
      "           1       0.70      0.71      0.70      9929\n",
      "           2       0.49      0.49      0.49      3815\n",
      "\n",
      "    accuracy                           0.63     21475\n",
      "   macro avg       0.59      0.59      0.59     21475\n",
      "weighted avg       0.62      0.63      0.63     21475\n",
      "\n"
     ]
    },
    {
     "data": {
      "image/png": "[encoded data removed]",
      "text/plain": [
       "<Figure size 640x480 with 2 Axes>"
      ]
     },
     "metadata": {},
     "output_type": "display_data"
    }
   ],
   "source": [
    "\n",
    "\n",
    "# Assuming predictions and y_test are available and both are arrays or Series of labels\n",
    "\n",
    "# Compute confusion matrix\n",
    "cm = confusion_matrix(y_test, predictions)\n",
    "\n",
    "# Print confusion matrix as a table\n",
    "print(\"Confusion Matrix:\")\n",
    "print(pd.DataFrame(cm, index=le.classes_, columns=le.classes_))\n",
    "\n",
    "\n",
    "# Print classification report (precision, recall, f1-score)\n",
    "print(\"\\nClassification Report:\")\n",
    "print(classification_report(y_test, predictions))\n",
    "\n",
    "# Optional: plot confusion matrix heatmap\n",
    "xticklabels=le.classes_,\n",
    "yticklabels=le.classes_\n",
    "\n",
    "sns.heatmap(cm, annot=True, fmt='d', cmap='Blues',\n",
    "            xticklabels=le.classes_,\n",
    "            yticklabels=le.classes_)\n",
    "plt.xlabel('Predicted')\n",
    "plt.ylabel('Actual')\n",
    "plt.title('Confusion Matrix')\n",
    "plt.show()\n",
    "\n"
   ]
  },
  {
   "cell_type": "code",
   "execution_count": 20,
   "id": "e122cf69",
   "metadata": {},
   "outputs": [
    {
     "name": "stdout",
     "output_type": "stream",
     "text": [
      "Specificity (macro): 0.8014\n"
     ]
    }
   ],
   "source": [
    "def specificity_score(y_true, y_pred, average='macro'):\n",
    "    cm = confusion_matrix(y_true, y_pred)\n",
    "    FP = cm.sum(axis=0) - np.diag(cm)  \n",
    "    TN = cm.sum() - (FP + np.diag(cm) + (cm.sum(axis=1) - np.diag(cm)))\n",
    "    specificity = TN / (TN + FP)\n",
    "    if average == 'macro':\n",
    "        return np.mean(specificity)\n",
    "    elif average == 'weighted':\n",
    "        weights = np.sum(cm, axis=1) / np.sum(cm)\n",
    "        return np.sum(specificity * weights)\n",
    "    else:\n",
    "        return specificity  # returns array per class\n",
    "\n",
    "spec = specificity_score(y_test, predictions)\n",
    "print(f\"Specificity (macro): {spec:.4f}\")\n"
   ]
  },
  {
   "cell_type": "code",
   "execution_count": 22,
   "id": "5091e664",
   "metadata": {},
   "outputs": [
    {
     "data": {
      "image/png": "[encoded data removed]",
      "text/plain": [
       "<Figure size 800x600 with 2 Axes>"
      ]
     },
     "metadata": {},
     "output_type": "display_data"
    }
   ],
   "source": [
    "cm = confusion_matrix(y_test, predictions)\n",
    "\n",
    "# Get class labels\n",
    "\n",
    "class_names = le.classes_\n",
    "\n",
    "# Create a DataFrame for the confusion matrix (for nicer plotting)\n",
    "cm_df = pd.DataFrame(cm, index=class_names, columns=class_names)\n",
    "\n",
    "# Plot heatmap\n",
    "plt.figure(figsize=(8, 6))\n",
    "sns.heatmap(cm_df, annot=True, fmt='d', cmap='Blues')\n",
    "plt.xlabel('Predicted')\n",
    "plt.ylabel('Actual')\n",
    "plt.title('Confusion Matrix')\n",
    "plt.show()\n"
   ]
  },
  {
   "cell_type": "code",
   "execution_count": 24,
   "id": "6462dbc9",
   "metadata": {},
   "outputs": [
    {
     "name": "stdout",
     "output_type": "stream",
     "text": [
      "Predicted     0     1     2\n",
      "Actual                     \n",
      "0          4533  2285   913\n",
      "1          1851  7028  1050\n",
      "2          1173   771  1871\n"
     ]
    }
   ],
   "source": [
    "cm = pd.crosstab(y_test, predictions, rownames=['Actual'], colnames=['Predicted'])\n",
    "\n",
    "print(cm)\n"
   ]
  },
  {
   "cell_type": "code",
   "execution_count": 25,
   "id": "c4fcf4d0",
   "metadata": {},
   "outputs": [
    {
     "name": "stdout",
     "output_type": "stream",
     "text": [
      "              precision    recall  f1-score   support\n",
      "\n",
      "           0       0.60      0.59      0.59      7731\n",
      "           1       0.70      0.71      0.70      9929\n",
      "           2       0.49      0.49      0.49      3815\n",
      "\n",
      "    accuracy                           0.63     21475\n",
      "   macro avg       0.59      0.59      0.59     21475\n",
      "weighted avg       0.62      0.63      0.63     21475\n",
      "\n"
     ]
    }
   ],
   "source": [
    "print(classification_report(y_test, predictions))\n"
   ]
  }
 ],
 "metadata": {
  "kernelspec": {
   "display_name": "base",
   "language": "python",
   "name": "python3"
  },
  "language_info": {
   "codemirror_mode": {
    "name": "ipython",
    "version": 3
   },
   "file_extension": ".py",
   "mimetype": "text/x-python",
   "name": "python",
   "nbconvert_exporter": "python",
   "pygments_lexer": "ipython3",
   "version": "3.12.7"
  }
 },
 "nbformat": 4,
 "nbformat_minor": 5
}
