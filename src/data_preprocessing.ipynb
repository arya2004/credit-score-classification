{
 "cells": [
  {
   "cell_type": "code",
   "execution_count": 80,
   "metadata": {
    "vscode": {
     "languageId": "r"
    }
   },
   "outputs": [
    {
     "data": {
      "text/html": [
       "<table class=\"dataframe\">\n",
       "<caption>A data.table: 1 × 28</caption>\n",
       "<thead>\n",
       "\t<tr><th scope=col>ID</th><th scope=col>Customer_ID</th><th scope=col>Month</th><th scope=col>Name</th><th scope=col>Age</th><th scope=col>SSN</th><th scope=col>Occupation</th><th scope=col>Annual_Income</th><th scope=col>Monthly_Inhand_Salary</th><th scope=col>Num_Bank_Accounts</th><th scope=col>⋯</th><th scope=col>Credit_Mix</th><th scope=col>Outstanding_Debt</th><th scope=col>Credit_Utilization_Ratio</th><th scope=col>Credit_History_Age</th><th scope=col>Payment_of_Min_Amount</th><th scope=col>Total_EMI_per_month</th><th scope=col>Amount_invested_monthly</th><th scope=col>Payment_Behaviour</th><th scope=col>Monthly_Balance</th><th scope=col>Credit_Score</th></tr>\n",
       "\t<tr><th scope=col>&lt;chr&gt;</th><th scope=col>&lt;chr&gt;</th><th scope=col>&lt;chr&gt;</th><th scope=col>&lt;chr&gt;</th><th scope=col>&lt;chr&gt;</th><th scope=col>&lt;chr&gt;</th><th scope=col>&lt;chr&gt;</th><th scope=col>&lt;chr&gt;</th><th scope=col>&lt;dbl&gt;</th><th scope=col>&lt;int&gt;</th><th scope=col>⋯</th><th scope=col>&lt;chr&gt;</th><th scope=col>&lt;chr&gt;</th><th scope=col>&lt;dbl&gt;</th><th scope=col>&lt;chr&gt;</th><th scope=col>&lt;chr&gt;</th><th scope=col>&lt;dbl&gt;</th><th scope=col>&lt;chr&gt;</th><th scope=col>&lt;chr&gt;</th><th scope=col>&lt;chr&gt;</th><th scope=col>&lt;chr&gt;</th></tr>\n",
       "</thead>\n",
       "<tbody>\n",
       "\t<tr><td>0x1602</td><td>CUS_0xd40</td><td>January</td><td>Aaron Maashoh</td><td>23</td><td>821-00-0265</td><td>Scientist</td><td>19114.12</td><td>1824.843</td><td>3</td><td>⋯</td><td>_</td><td>809.98</td><td>26.82262</td><td>22 Years and 1 Months</td><td>No</td><td>49.57495</td><td>80.41529543900253</td><td>High_spent_Small_value_payments</td><td>312.49408867943663</td><td>Good</td></tr>\n",
       "</tbody>\n",
       "</table>\n"
      ],
      "text/latex": [
       "A data.table: 1 × 28\n",
       "\\begin{tabular}{lllllllllllllllllllll}\n",
       " ID & Customer\\_ID & Month & Name & Age & SSN & Occupation & Annual\\_Income & Monthly\\_Inhand\\_Salary & Num\\_Bank\\_Accounts & ⋯ & Credit\\_Mix & Outstanding\\_Debt & Credit\\_Utilization\\_Ratio & Credit\\_History\\_Age & Payment\\_of\\_Min\\_Amount & Total\\_EMI\\_per\\_month & Amount\\_invested\\_monthly & Payment\\_Behaviour & Monthly\\_Balance & Credit\\_Score\\\\\n",
       " <chr> & <chr> & <chr> & <chr> & <chr> & <chr> & <chr> & <chr> & <dbl> & <int> & ⋯ & <chr> & <chr> & <dbl> & <chr> & <chr> & <dbl> & <chr> & <chr> & <chr> & <chr>\\\\\n",
       "\\hline\n",
       "\t 0x1602 & CUS\\_0xd40 & January & Aaron Maashoh & 23 & 821-00-0265 & Scientist & 19114.12 & 1824.843 & 3 & ⋯ & \\_ & 809.98 & 26.82262 & 22 Years and 1 Months & No & 49.57495 & 80.41529543900253 & High\\_spent\\_Small\\_value\\_payments & 312.49408867943663 & Good\\\\\n",
       "\\end{tabular}\n"
      ],
      "text/markdown": [
       "\n",
       "A data.table: 1 × 28\n",
       "\n",
       "| ID &lt;chr&gt; | Customer_ID &lt;chr&gt; | Month &lt;chr&gt; | Name &lt;chr&gt; | Age &lt;chr&gt; | SSN &lt;chr&gt; | Occupation &lt;chr&gt; | Annual_Income &lt;chr&gt; | Monthly_Inhand_Salary &lt;dbl&gt; | Num_Bank_Accounts &lt;int&gt; | ⋯ ⋯ | Credit_Mix &lt;chr&gt; | Outstanding_Debt &lt;chr&gt; | Credit_Utilization_Ratio &lt;dbl&gt; | Credit_History_Age &lt;chr&gt; | Payment_of_Min_Amount &lt;chr&gt; | Total_EMI_per_month &lt;dbl&gt; | Amount_invested_monthly &lt;chr&gt; | Payment_Behaviour &lt;chr&gt; | Monthly_Balance &lt;chr&gt; | Credit_Score &lt;chr&gt; |\n",
       "|---|---|---|---|---|---|---|---|---|---|---|---|---|---|---|---|---|---|---|---|---|\n",
       "| 0x1602 | CUS_0xd40 | January | Aaron Maashoh | 23 | 821-00-0265 | Scientist | 19114.12 | 1824.843 | 3 | ⋯ | _ | 809.98 | 26.82262 | 22 Years and 1 Months | No | 49.57495 | 80.41529543900253 | High_spent_Small_value_payments | 312.49408867943663 | Good |\n",
       "\n"
      ],
      "text/plain": [
       "  ID     Customer_ID Month   Name          Age SSN         Occupation\n",
       "1 0x1602 CUS_0xd40   January Aaron Maashoh 23  821-00-0265 Scientist \n",
       "  Annual_Income Monthly_Inhand_Salary Num_Bank_Accounts ⋯ Credit_Mix\n",
       "1 19114.12      1824.843              3                 ⋯ _         \n",
       "  Outstanding_Debt Credit_Utilization_Ratio Credit_History_Age   \n",
       "1 809.98           26.82262                 22 Years and 1 Months\n",
       "  Payment_of_Min_Amount Total_EMI_per_month Amount_invested_monthly\n",
       "1 No                    49.57495            80.41529543900253      \n",
       "  Payment_Behaviour               Monthly_Balance    Credit_Score\n",
       "1 High_spent_Small_value_payments 312.49408867943663 Good        "
      ]
     },
     "metadata": {},
     "output_type": "display_data"
    }
   ],
   "source": [
    "# Load the required library\n",
    "library(data.table)\n",
    "\n",
    "# Read the CSV file\n",
    "train <- fread(\"./input/train.csv\")\n",
    "\n",
    "# Display the first row of the data frame\n",
    "head(train, 1)\n"
   ]
  },
  {
   "cell_type": "code",
   "execution_count": 136,
   "metadata": {
    "vscode": {
     "languageId": "r"
    }
   },
   "outputs": [
    {
     "name": "stdout",
     "output_type": "stream",
     "text": [
      "Number of rows: 28703 \n",
      "Number of columns: 18 \n",
      "Column names: Annual_Income Num_Bank_Accounts Num_Credit_Card Interest_Rate Num_of_Loan Delay_from_due_date Num_of_Delayed_Payment Changed_Credit_Limit Num_Credit_Inquiries Outstanding_Debt Total_EMI_per_month Credit_History_Age_Months Credit_Score_Encoded Credit_Mix_Encoded Total_Num_Accounts Debt_Per_Account Debt_to_Income_Ratio Delayed_Payments_Per_Account \n",
      "Data types: numeric integer integer integer integer integer integer numeric numeric numeric numeric numeric numeric numeric integer numeric numeric numeric \n"
     ]
    }
   ],
   "source": [
    "# Get information about the data frame\n",
    "# Number of rows and columns\n",
    "n_rows <- nrow(train)\n",
    "n_cols <- ncol(train)\n",
    "\n",
    "# Column names and data types\n",
    "column_names <- names(train)\n",
    "data_types <- sapply(train, class)\n",
    "\n",
    "\n",
    "# Print the information\n",
    "cat(\"Number of rows:\", n_rows, \"\\n\")\n",
    "cat(\"Number of columns:\", n_cols, \"\\n\")\n",
    "cat(\"Column names:\", column_names, \"\\n\")\n",
    "cat(\"Data types:\", data_types, \"\\n\")"
   ]
  },
  {
   "cell_type": "code",
   "execution_count": 82,
   "metadata": {
    "vscode": {
     "languageId": "r"
    }
   },
   "outputs": [
    {
     "data": {
      "text/html": [
       "<table class=\"dataframe\">\n",
       "<caption>A data.table: 6 × 28</caption>\n",
       "<thead>\n",
       "\t<tr><th scope=col>ID</th><th scope=col>Customer_ID</th><th scope=col>Month</th><th scope=col>Name</th><th scope=col>Age</th><th scope=col>SSN</th><th scope=col>Occupation</th><th scope=col>Annual_Income</th><th scope=col>Monthly_Inhand_Salary</th><th scope=col>Num_Bank_Accounts</th><th scope=col>⋯</th><th scope=col>Credit_Mix</th><th scope=col>Outstanding_Debt</th><th scope=col>Credit_Utilization_Ratio</th><th scope=col>Credit_History_Age</th><th scope=col>Payment_of_Min_Amount</th><th scope=col>Total_EMI_per_month</th><th scope=col>Amount_invested_monthly</th><th scope=col>Payment_Behaviour</th><th scope=col>Monthly_Balance</th><th scope=col>Credit_Score</th></tr>\n",
       "\t<tr><th scope=col>&lt;chr&gt;</th><th scope=col>&lt;chr&gt;</th><th scope=col>&lt;chr&gt;</th><th scope=col>&lt;chr&gt;</th><th scope=col>&lt;int&gt;</th><th scope=col>&lt;chr&gt;</th><th scope=col>&lt;chr&gt;</th><th scope=col>&lt;chr&gt;</th><th scope=col>&lt;dbl&gt;</th><th scope=col>&lt;int&gt;</th><th scope=col>⋯</th><th scope=col>&lt;chr&gt;</th><th scope=col>&lt;chr&gt;</th><th scope=col>&lt;dbl&gt;</th><th scope=col>&lt;chr&gt;</th><th scope=col>&lt;chr&gt;</th><th scope=col>&lt;dbl&gt;</th><th scope=col>&lt;chr&gt;</th><th scope=col>&lt;chr&gt;</th><th scope=col>&lt;chr&gt;</th><th scope=col>&lt;chr&gt;</th></tr>\n",
       "</thead>\n",
       "<tbody>\n",
       "\t<tr><td>0x1602</td><td>CUS_0xd40</td><td>January </td><td>Aaron Maashoh</td><td> 23</td><td>821-00-0265</td><td>Scientist</td><td>19114.12</td><td>1824.843</td><td>3</td><td>⋯</td><td>_   </td><td>809.98</td><td>26.82262</td><td>22 Years and 1 Months</td><td>No</td><td>49.57495</td><td>80.41529543900253 </td><td>High_spent_Small_value_payments </td><td>312.49408867943663</td><td>Good</td></tr>\n",
       "\t<tr><td>0x1603</td><td>CUS_0xd40</td><td>February</td><td>Aaron Maashoh</td><td> 23</td><td>821-00-0265</td><td>Scientist</td><td>19114.12</td><td>      NA</td><td>3</td><td>⋯</td><td>Good</td><td>809.98</td><td>31.94496</td><td>NA                   </td><td>No</td><td>49.57495</td><td>118.28022162236736</td><td>Low_spent_Large_value_payments  </td><td>284.62916249607184</td><td>Good</td></tr>\n",
       "\t<tr><td>0x1604</td><td>CUS_0xd40</td><td>March   </td><td>Aaron Maashoh</td><td>500</td><td>821-00-0265</td><td>Scientist</td><td>19114.12</td><td>      NA</td><td>3</td><td>⋯</td><td>Good</td><td>809.98</td><td>28.60935</td><td>22 Years and 3 Months</td><td>No</td><td>49.57495</td><td>81.699521264648   </td><td>Low_spent_Medium_value_payments </td><td>331.2098628537912 </td><td>Good</td></tr>\n",
       "\t<tr><td>0x1605</td><td>CUS_0xd40</td><td>April   </td><td>Aaron Maashoh</td><td> 23</td><td>821-00-0265</td><td>Scientist</td><td>19114.12</td><td>      NA</td><td>3</td><td>⋯</td><td>Good</td><td>809.98</td><td>31.37786</td><td>22 Years and 4 Months</td><td>No</td><td>49.57495</td><td>199.4580743910713 </td><td>Low_spent_Small_value_payments  </td><td>223.45130972736786</td><td>Good</td></tr>\n",
       "\t<tr><td>0x1606</td><td>CUS_0xd40</td><td>May     </td><td>Aaron Maashoh</td><td> 23</td><td>821-00-0265</td><td>Scientist</td><td>19114.12</td><td>1824.843</td><td>3</td><td>⋯</td><td>Good</td><td>809.98</td><td>24.79735</td><td>22 Years and 5 Months</td><td>No</td><td>49.57495</td><td>41.420153086217326</td><td>High_spent_Medium_value_payments</td><td>341.48923103222177</td><td>Good</td></tr>\n",
       "\t<tr><td>0x1607</td><td>CUS_0xd40</td><td>June    </td><td>Aaron Maashoh</td><td> 23</td><td>821-00-0265</td><td>Scientist</td><td>19114.12</td><td>      NA</td><td>3</td><td>⋯</td><td>Good</td><td>809.98</td><td>27.26226</td><td>22 Years and 6 Months</td><td>No</td><td>49.57495</td><td>62.430172331195294</td><td>!@9#%8                          </td><td>340.4792117872438 </td><td>Good</td></tr>\n",
       "</tbody>\n",
       "</table>\n"
      ],
      "text/latex": [
       "A data.table: 6 × 28\n",
       "\\begin{tabular}{lllllllllllllllllllll}\n",
       " ID & Customer\\_ID & Month & Name & Age & SSN & Occupation & Annual\\_Income & Monthly\\_Inhand\\_Salary & Num\\_Bank\\_Accounts & ⋯ & Credit\\_Mix & Outstanding\\_Debt & Credit\\_Utilization\\_Ratio & Credit\\_History\\_Age & Payment\\_of\\_Min\\_Amount & Total\\_EMI\\_per\\_month & Amount\\_invested\\_monthly & Payment\\_Behaviour & Monthly\\_Balance & Credit\\_Score\\\\\n",
       " <chr> & <chr> & <chr> & <chr> & <int> & <chr> & <chr> & <chr> & <dbl> & <int> & ⋯ & <chr> & <chr> & <dbl> & <chr> & <chr> & <dbl> & <chr> & <chr> & <chr> & <chr>\\\\\n",
       "\\hline\n",
       "\t 0x1602 & CUS\\_0xd40 & January  & Aaron Maashoh &  23 & 821-00-0265 & Scientist & 19114.12 & 1824.843 & 3 & ⋯ & \\_    & 809.98 & 26.82262 & 22 Years and 1 Months & No & 49.57495 & 80.41529543900253  & High\\_spent\\_Small\\_value\\_payments  & 312.49408867943663 & Good\\\\\n",
       "\t 0x1603 & CUS\\_0xd40 & February & Aaron Maashoh &  23 & 821-00-0265 & Scientist & 19114.12 &       NA & 3 & ⋯ & Good & 809.98 & 31.94496 & NA                    & No & 49.57495 & 118.28022162236736 & Low\\_spent\\_Large\\_value\\_payments   & 284.62916249607184 & Good\\\\\n",
       "\t 0x1604 & CUS\\_0xd40 & March    & Aaron Maashoh & 500 & 821-00-0265 & Scientist & 19114.12 &       NA & 3 & ⋯ & Good & 809.98 & 28.60935 & 22 Years and 3 Months & No & 49.57495 & 81.699521264648    & Low\\_spent\\_Medium\\_value\\_payments  & 331.2098628537912  & Good\\\\\n",
       "\t 0x1605 & CUS\\_0xd40 & April    & Aaron Maashoh &  23 & 821-00-0265 & Scientist & 19114.12 &       NA & 3 & ⋯ & Good & 809.98 & 31.37786 & 22 Years and 4 Months & No & 49.57495 & 199.4580743910713  & Low\\_spent\\_Small\\_value\\_payments   & 223.45130972736786 & Good\\\\\n",
       "\t 0x1606 & CUS\\_0xd40 & May      & Aaron Maashoh &  23 & 821-00-0265 & Scientist & 19114.12 & 1824.843 & 3 & ⋯ & Good & 809.98 & 24.79735 & 22 Years and 5 Months & No & 49.57495 & 41.420153086217326 & High\\_spent\\_Medium\\_value\\_payments & 341.48923103222177 & Good\\\\\n",
       "\t 0x1607 & CUS\\_0xd40 & June     & Aaron Maashoh &  23 & 821-00-0265 & Scientist & 19114.12 &       NA & 3 & ⋯ & Good & 809.98 & 27.26226 & 22 Years and 6 Months & No & 49.57495 & 62.430172331195294 & !@9\\#\\%8                           & 340.4792117872438  & Good\\\\\n",
       "\\end{tabular}\n"
      ],
      "text/markdown": [
       "\n",
       "A data.table: 6 × 28\n",
       "\n",
       "| ID &lt;chr&gt; | Customer_ID &lt;chr&gt; | Month &lt;chr&gt; | Name &lt;chr&gt; | Age &lt;int&gt; | SSN &lt;chr&gt; | Occupation &lt;chr&gt; | Annual_Income &lt;chr&gt; | Monthly_Inhand_Salary &lt;dbl&gt; | Num_Bank_Accounts &lt;int&gt; | ⋯ ⋯ | Credit_Mix &lt;chr&gt; | Outstanding_Debt &lt;chr&gt; | Credit_Utilization_Ratio &lt;dbl&gt; | Credit_History_Age &lt;chr&gt; | Payment_of_Min_Amount &lt;chr&gt; | Total_EMI_per_month &lt;dbl&gt; | Amount_invested_monthly &lt;chr&gt; | Payment_Behaviour &lt;chr&gt; | Monthly_Balance &lt;chr&gt; | Credit_Score &lt;chr&gt; |\n",
       "|---|---|---|---|---|---|---|---|---|---|---|---|---|---|---|---|---|---|---|---|---|\n",
       "| 0x1602 | CUS_0xd40 | January  | Aaron Maashoh |  23 | 821-00-0265 | Scientist | 19114.12 | 1824.843 | 3 | ⋯ | _    | 809.98 | 26.82262 | 22 Years and 1 Months | No | 49.57495 | 80.41529543900253  | High_spent_Small_value_payments  | 312.49408867943663 | Good |\n",
       "| 0x1603 | CUS_0xd40 | February | Aaron Maashoh |  23 | 821-00-0265 | Scientist | 19114.12 |       NA | 3 | ⋯ | Good | 809.98 | 31.94496 | NA                    | No | 49.57495 | 118.28022162236736 | Low_spent_Large_value_payments   | 284.62916249607184 | Good |\n",
       "| 0x1604 | CUS_0xd40 | March    | Aaron Maashoh | 500 | 821-00-0265 | Scientist | 19114.12 |       NA | 3 | ⋯ | Good | 809.98 | 28.60935 | 22 Years and 3 Months | No | 49.57495 | 81.699521264648    | Low_spent_Medium_value_payments  | 331.2098628537912  | Good |\n",
       "| 0x1605 | CUS_0xd40 | April    | Aaron Maashoh |  23 | 821-00-0265 | Scientist | 19114.12 |       NA | 3 | ⋯ | Good | 809.98 | 31.37786 | 22 Years and 4 Months | No | 49.57495 | 199.4580743910713  | Low_spent_Small_value_payments   | 223.45130972736786 | Good |\n",
       "| 0x1606 | CUS_0xd40 | May      | Aaron Maashoh |  23 | 821-00-0265 | Scientist | 19114.12 | 1824.843 | 3 | ⋯ | Good | 809.98 | 24.79735 | 22 Years and 5 Months | No | 49.57495 | 41.420153086217326 | High_spent_Medium_value_payments | 341.48923103222177 | Good |\n",
       "| 0x1607 | CUS_0xd40 | June     | Aaron Maashoh |  23 | 821-00-0265 | Scientist | 19114.12 |       NA | 3 | ⋯ | Good | 809.98 | 27.26226 | 22 Years and 6 Months | No | 49.57495 | 62.430172331195294 | !@9#%8                           | 340.4792117872438  | Good |\n",
       "\n"
      ],
      "text/plain": [
       "  ID     Customer_ID Month    Name          Age SSN         Occupation\n",
       "1 0x1602 CUS_0xd40   January  Aaron Maashoh  23 821-00-0265 Scientist \n",
       "2 0x1603 CUS_0xd40   February Aaron Maashoh  23 821-00-0265 Scientist \n",
       "3 0x1604 CUS_0xd40   March    Aaron Maashoh 500 821-00-0265 Scientist \n",
       "4 0x1605 CUS_0xd40   April    Aaron Maashoh  23 821-00-0265 Scientist \n",
       "5 0x1606 CUS_0xd40   May      Aaron Maashoh  23 821-00-0265 Scientist \n",
       "6 0x1607 CUS_0xd40   June     Aaron Maashoh  23 821-00-0265 Scientist \n",
       "  Annual_Income Monthly_Inhand_Salary Num_Bank_Accounts ⋯ Credit_Mix\n",
       "1 19114.12      1824.843              3                 ⋯ _         \n",
       "2 19114.12            NA              3                 ⋯ Good      \n",
       "3 19114.12            NA              3                 ⋯ Good      \n",
       "4 19114.12            NA              3                 ⋯ Good      \n",
       "5 19114.12      1824.843              3                 ⋯ Good      \n",
       "6 19114.12            NA              3                 ⋯ Good      \n",
       "  Outstanding_Debt Credit_Utilization_Ratio Credit_History_Age   \n",
       "1 809.98           26.82262                 22 Years and 1 Months\n",
       "2 809.98           31.94496                 NA                   \n",
       "3 809.98           28.60935                 22 Years and 3 Months\n",
       "4 809.98           31.37786                 22 Years and 4 Months\n",
       "5 809.98           24.79735                 22 Years and 5 Months\n",
       "6 809.98           27.26226                 22 Years and 6 Months\n",
       "  Payment_of_Min_Amount Total_EMI_per_month Amount_invested_monthly\n",
       "1 No                    49.57495            80.41529543900253      \n",
       "2 No                    49.57495            118.28022162236736     \n",
       "3 No                    49.57495            81.699521264648        \n",
       "4 No                    49.57495            199.4580743910713      \n",
       "5 No                    49.57495            41.420153086217326     \n",
       "6 No                    49.57495            62.430172331195294     \n",
       "  Payment_Behaviour                Monthly_Balance    Credit_Score\n",
       "1 High_spent_Small_value_payments  312.49408867943663 Good        \n",
       "2 Low_spent_Large_value_payments   284.62916249607184 Good        \n",
       "3 Low_spent_Medium_value_payments  331.2098628537912  Good        \n",
       "4 Low_spent_Small_value_payments   223.45130972736786 Good        \n",
       "5 High_spent_Medium_value_payments 341.48923103222177 Good        \n",
       "6 !@9#%8                           340.4792117872438  Good        "
      ]
     },
     "metadata": {},
     "output_type": "display_data"
    }
   ],
   "source": [
    "train[, Age := as.integer(gsub(\"\\\\D\", \"\", ifelse(is.na(Age), '0', Age)))]\n",
    "\n",
    "# Print the first few rows of the updated data frame\n",
    "head(train)"
   ]
  },
  {
   "cell_type": "code",
   "execution_count": 83,
   "metadata": {
    "vscode": {
     "languageId": "r"
    }
   },
   "outputs": [
    {
     "data": {
      "text/html": [
       "<table class=\"dataframe\">\n",
       "<caption>A data.table: 6 × 28</caption>\n",
       "<thead>\n",
       "\t<tr><th scope=col>ID</th><th scope=col>Customer_ID</th><th scope=col>Month</th><th scope=col>Name</th><th scope=col>Age</th><th scope=col>SSN</th><th scope=col>Occupation</th><th scope=col>Annual_Income</th><th scope=col>Monthly_Inhand_Salary</th><th scope=col>Num_Bank_Accounts</th><th scope=col>⋯</th><th scope=col>Credit_Mix</th><th scope=col>Outstanding_Debt</th><th scope=col>Credit_Utilization_Ratio</th><th scope=col>Credit_History_Age</th><th scope=col>Payment_of_Min_Amount</th><th scope=col>Total_EMI_per_month</th><th scope=col>Amount_invested_monthly</th><th scope=col>Payment_Behaviour</th><th scope=col>Monthly_Balance</th><th scope=col>Credit_Score</th></tr>\n",
       "\t<tr><th scope=col>&lt;chr&gt;</th><th scope=col>&lt;chr&gt;</th><th scope=col>&lt;chr&gt;</th><th scope=col>&lt;chr&gt;</th><th scope=col>&lt;int&gt;</th><th scope=col>&lt;chr&gt;</th><th scope=col>&lt;chr&gt;</th><th scope=col>&lt;chr&gt;</th><th scope=col>&lt;dbl&gt;</th><th scope=col>&lt;int&gt;</th><th scope=col>⋯</th><th scope=col>&lt;chr&gt;</th><th scope=col>&lt;chr&gt;</th><th scope=col>&lt;dbl&gt;</th><th scope=col>&lt;chr&gt;</th><th scope=col>&lt;chr&gt;</th><th scope=col>&lt;dbl&gt;</th><th scope=col>&lt;chr&gt;</th><th scope=col>&lt;chr&gt;</th><th scope=col>&lt;chr&gt;</th><th scope=col>&lt;chr&gt;</th></tr>\n",
       "</thead>\n",
       "<tbody>\n",
       "\t<tr><td>0x1602</td><td>CUS_0xd40</td><td>January </td><td>Aaron Maashoh</td><td> 23</td><td>821-00-0265</td><td>Scientist</td><td>19114.12</td><td>1824.843</td><td>3</td><td>⋯</td><td>_   </td><td>809.98</td><td>26.82262</td><td>22 Years and 1 Months</td><td>No</td><td>49.57495</td><td>80.41529543900253 </td><td>High_spent_Small_value_payments </td><td>312.49408867943663</td><td>Good</td></tr>\n",
       "\t<tr><td>0x1603</td><td>CUS_0xd40</td><td>February</td><td>Aaron Maashoh</td><td> 23</td><td>821-00-0265</td><td>Scientist</td><td>19114.12</td><td>      NA</td><td>3</td><td>⋯</td><td>Good</td><td>809.98</td><td>31.94496</td><td>NA                   </td><td>No</td><td>49.57495</td><td>118.28022162236736</td><td>Low_spent_Large_value_payments  </td><td>284.62916249607184</td><td>Good</td></tr>\n",
       "\t<tr><td>0x1604</td><td>CUS_0xd40</td><td>March   </td><td>Aaron Maashoh</td><td>500</td><td>821-00-0265</td><td>Scientist</td><td>19114.12</td><td>      NA</td><td>3</td><td>⋯</td><td>Good</td><td>809.98</td><td>28.60935</td><td>22 Years and 3 Months</td><td>No</td><td>49.57495</td><td>81.699521264648   </td><td>Low_spent_Medium_value_payments </td><td>331.2098628537912 </td><td>Good</td></tr>\n",
       "\t<tr><td>0x1605</td><td>CUS_0xd40</td><td>April   </td><td>Aaron Maashoh</td><td> 23</td><td>821-00-0265</td><td>Scientist</td><td>19114.12</td><td>      NA</td><td>3</td><td>⋯</td><td>Good</td><td>809.98</td><td>31.37786</td><td>22 Years and 4 Months</td><td>No</td><td>49.57495</td><td>199.4580743910713 </td><td>Low_spent_Small_value_payments  </td><td>223.45130972736786</td><td>Good</td></tr>\n",
       "\t<tr><td>0x1606</td><td>CUS_0xd40</td><td>May     </td><td>Aaron Maashoh</td><td> 23</td><td>821-00-0265</td><td>Scientist</td><td>19114.12</td><td>1824.843</td><td>3</td><td>⋯</td><td>Good</td><td>809.98</td><td>24.79735</td><td>22 Years and 5 Months</td><td>No</td><td>49.57495</td><td>41.420153086217326</td><td>High_spent_Medium_value_payments</td><td>341.48923103222177</td><td>Good</td></tr>\n",
       "\t<tr><td>0x1607</td><td>CUS_0xd40</td><td>June    </td><td>Aaron Maashoh</td><td> 23</td><td>821-00-0265</td><td>Scientist</td><td>19114.12</td><td>      NA</td><td>3</td><td>⋯</td><td>Good</td><td>809.98</td><td>27.26226</td><td>22 Years and 6 Months</td><td>No</td><td>49.57495</td><td>62.430172331195294</td><td>!@9#%8                          </td><td>340.4792117872438 </td><td>Good</td></tr>\n",
       "</tbody>\n",
       "</table>\n"
      ],
      "text/latex": [
       "A data.table: 6 × 28\n",
       "\\begin{tabular}{lllllllllllllllllllll}\n",
       " ID & Customer\\_ID & Month & Name & Age & SSN & Occupation & Annual\\_Income & Monthly\\_Inhand\\_Salary & Num\\_Bank\\_Accounts & ⋯ & Credit\\_Mix & Outstanding\\_Debt & Credit\\_Utilization\\_Ratio & Credit\\_History\\_Age & Payment\\_of\\_Min\\_Amount & Total\\_EMI\\_per\\_month & Amount\\_invested\\_monthly & Payment\\_Behaviour & Monthly\\_Balance & Credit\\_Score\\\\\n",
       " <chr> & <chr> & <chr> & <chr> & <int> & <chr> & <chr> & <chr> & <dbl> & <int> & ⋯ & <chr> & <chr> & <dbl> & <chr> & <chr> & <dbl> & <chr> & <chr> & <chr> & <chr>\\\\\n",
       "\\hline\n",
       "\t 0x1602 & CUS\\_0xd40 & January  & Aaron Maashoh &  23 & 821-00-0265 & Scientist & 19114.12 & 1824.843 & 3 & ⋯ & \\_    & 809.98 & 26.82262 & 22 Years and 1 Months & No & 49.57495 & 80.41529543900253  & High\\_spent\\_Small\\_value\\_payments  & 312.49408867943663 & Good\\\\\n",
       "\t 0x1603 & CUS\\_0xd40 & February & Aaron Maashoh &  23 & 821-00-0265 & Scientist & 19114.12 &       NA & 3 & ⋯ & Good & 809.98 & 31.94496 & NA                    & No & 49.57495 & 118.28022162236736 & Low\\_spent\\_Large\\_value\\_payments   & 284.62916249607184 & Good\\\\\n",
       "\t 0x1604 & CUS\\_0xd40 & March    & Aaron Maashoh & 500 & 821-00-0265 & Scientist & 19114.12 &       NA & 3 & ⋯ & Good & 809.98 & 28.60935 & 22 Years and 3 Months & No & 49.57495 & 81.699521264648    & Low\\_spent\\_Medium\\_value\\_payments  & 331.2098628537912  & Good\\\\\n",
       "\t 0x1605 & CUS\\_0xd40 & April    & Aaron Maashoh &  23 & 821-00-0265 & Scientist & 19114.12 &       NA & 3 & ⋯ & Good & 809.98 & 31.37786 & 22 Years and 4 Months & No & 49.57495 & 199.4580743910713  & Low\\_spent\\_Small\\_value\\_payments   & 223.45130972736786 & Good\\\\\n",
       "\t 0x1606 & CUS\\_0xd40 & May      & Aaron Maashoh &  23 & 821-00-0265 & Scientist & 19114.12 & 1824.843 & 3 & ⋯ & Good & 809.98 & 24.79735 & 22 Years and 5 Months & No & 49.57495 & 41.420153086217326 & High\\_spent\\_Medium\\_value\\_payments & 341.48923103222177 & Good\\\\\n",
       "\t 0x1607 & CUS\\_0xd40 & June     & Aaron Maashoh &  23 & 821-00-0265 & Scientist & 19114.12 &       NA & 3 & ⋯ & Good & 809.98 & 27.26226 & 22 Years and 6 Months & No & 49.57495 & 62.430172331195294 & !@9\\#\\%8                           & 340.4792117872438  & Good\\\\\n",
       "\\end{tabular}\n"
      ],
      "text/markdown": [
       "\n",
       "A data.table: 6 × 28\n",
       "\n",
       "| ID &lt;chr&gt; | Customer_ID &lt;chr&gt; | Month &lt;chr&gt; | Name &lt;chr&gt; | Age &lt;int&gt; | SSN &lt;chr&gt; | Occupation &lt;chr&gt; | Annual_Income &lt;chr&gt; | Monthly_Inhand_Salary &lt;dbl&gt; | Num_Bank_Accounts &lt;int&gt; | ⋯ ⋯ | Credit_Mix &lt;chr&gt; | Outstanding_Debt &lt;chr&gt; | Credit_Utilization_Ratio &lt;dbl&gt; | Credit_History_Age &lt;chr&gt; | Payment_of_Min_Amount &lt;chr&gt; | Total_EMI_per_month &lt;dbl&gt; | Amount_invested_monthly &lt;chr&gt; | Payment_Behaviour &lt;chr&gt; | Monthly_Balance &lt;chr&gt; | Credit_Score &lt;chr&gt; |\n",
       "|---|---|---|---|---|---|---|---|---|---|---|---|---|---|---|---|---|---|---|---|---|\n",
       "| 0x1602 | CUS_0xd40 | January  | Aaron Maashoh |  23 | 821-00-0265 | Scientist | 19114.12 | 1824.843 | 3 | ⋯ | _    | 809.98 | 26.82262 | 22 Years and 1 Months | No | 49.57495 | 80.41529543900253  | High_spent_Small_value_payments  | 312.49408867943663 | Good |\n",
       "| 0x1603 | CUS_0xd40 | February | Aaron Maashoh |  23 | 821-00-0265 | Scientist | 19114.12 |       NA | 3 | ⋯ | Good | 809.98 | 31.94496 | NA                    | No | 49.57495 | 118.28022162236736 | Low_spent_Large_value_payments   | 284.62916249607184 | Good |\n",
       "| 0x1604 | CUS_0xd40 | March    | Aaron Maashoh | 500 | 821-00-0265 | Scientist | 19114.12 |       NA | 3 | ⋯ | Good | 809.98 | 28.60935 | 22 Years and 3 Months | No | 49.57495 | 81.699521264648    | Low_spent_Medium_value_payments  | 331.2098628537912  | Good |\n",
       "| 0x1605 | CUS_0xd40 | April    | Aaron Maashoh |  23 | 821-00-0265 | Scientist | 19114.12 |       NA | 3 | ⋯ | Good | 809.98 | 31.37786 | 22 Years and 4 Months | No | 49.57495 | 199.4580743910713  | Low_spent_Small_value_payments   | 223.45130972736786 | Good |\n",
       "| 0x1606 | CUS_0xd40 | May      | Aaron Maashoh |  23 | 821-00-0265 | Scientist | 19114.12 | 1824.843 | 3 | ⋯ | Good | 809.98 | 24.79735 | 22 Years and 5 Months | No | 49.57495 | 41.420153086217326 | High_spent_Medium_value_payments | 341.48923103222177 | Good |\n",
       "| 0x1607 | CUS_0xd40 | June     | Aaron Maashoh |  23 | 821-00-0265 | Scientist | 19114.12 |       NA | 3 | ⋯ | Good | 809.98 | 27.26226 | 22 Years and 6 Months | No | 49.57495 | 62.430172331195294 | !@9#%8                           | 340.4792117872438  | Good |\n",
       "\n"
      ],
      "text/plain": [
       "  ID     Customer_ID Month    Name          Age SSN         Occupation\n",
       "1 0x1602 CUS_0xd40   January  Aaron Maashoh  23 821-00-0265 Scientist \n",
       "2 0x1603 CUS_0xd40   February Aaron Maashoh  23 821-00-0265 Scientist \n",
       "3 0x1604 CUS_0xd40   March    Aaron Maashoh 500 821-00-0265 Scientist \n",
       "4 0x1605 CUS_0xd40   April    Aaron Maashoh  23 821-00-0265 Scientist \n",
       "5 0x1606 CUS_0xd40   May      Aaron Maashoh  23 821-00-0265 Scientist \n",
       "6 0x1607 CUS_0xd40   June     Aaron Maashoh  23 821-00-0265 Scientist \n",
       "  Annual_Income Monthly_Inhand_Salary Num_Bank_Accounts ⋯ Credit_Mix\n",
       "1 19114.12      1824.843              3                 ⋯ _         \n",
       "2 19114.12            NA              3                 ⋯ Good      \n",
       "3 19114.12            NA              3                 ⋯ Good      \n",
       "4 19114.12            NA              3                 ⋯ Good      \n",
       "5 19114.12      1824.843              3                 ⋯ Good      \n",
       "6 19114.12            NA              3                 ⋯ Good      \n",
       "  Outstanding_Debt Credit_Utilization_Ratio Credit_History_Age   \n",
       "1 809.98           26.82262                 22 Years and 1 Months\n",
       "2 809.98           31.94496                 NA                   \n",
       "3 809.98           28.60935                 22 Years and 3 Months\n",
       "4 809.98           31.37786                 22 Years and 4 Months\n",
       "5 809.98           24.79735                 22 Years and 5 Months\n",
       "6 809.98           27.26226                 22 Years and 6 Months\n",
       "  Payment_of_Min_Amount Total_EMI_per_month Amount_invested_monthly\n",
       "1 No                    49.57495            80.41529543900253      \n",
       "2 No                    49.57495            118.28022162236736     \n",
       "3 No                    49.57495            81.699521264648        \n",
       "4 No                    49.57495            199.4580743910713      \n",
       "5 No                    49.57495            41.420153086217326     \n",
       "6 No                    49.57495            62.430172331195294     \n",
       "  Payment_Behaviour                Monthly_Balance    Credit_Score\n",
       "1 High_spent_Small_value_payments  312.49408867943663 Good        \n",
       "2 Low_spent_Large_value_payments   284.62916249607184 Good        \n",
       "3 Low_spent_Medium_value_payments  331.2098628537912  Good        \n",
       "4 Low_spent_Small_value_payments   223.45130972736786 Good        \n",
       "5 High_spent_Medium_value_payments 341.48923103222177 Good        \n",
       "6 !@9#%8                           340.4792117872438  Good        "
      ]
     },
     "metadata": {},
     "output_type": "display_data"
    }
   ],
   "source": [
    "train[, Num_of_Loan := as.integer(gsub(\"\\\\D\", \"\", ifelse(is.na(Num_of_Loan), '0', Num_of_Loan)))]\n",
    "\n",
    "head(train)\n"
   ]
  },
  {
   "cell_type": "code",
   "execution_count": 84,
   "metadata": {
    "vscode": {
     "languageId": "r"
    }
   },
   "outputs": [
    {
     "data": {
      "text/html": [
       "<table class=\"dataframe\">\n",
       "<caption>A data.table: 6 × 28</caption>\n",
       "<thead>\n",
       "\t<tr><th scope=col>ID</th><th scope=col>Customer_ID</th><th scope=col>Month</th><th scope=col>Name</th><th scope=col>Age</th><th scope=col>SSN</th><th scope=col>Occupation</th><th scope=col>Annual_Income</th><th scope=col>Monthly_Inhand_Salary</th><th scope=col>Num_Bank_Accounts</th><th scope=col>⋯</th><th scope=col>Credit_Mix</th><th scope=col>Outstanding_Debt</th><th scope=col>Credit_Utilization_Ratio</th><th scope=col>Credit_History_Age</th><th scope=col>Payment_of_Min_Amount</th><th scope=col>Total_EMI_per_month</th><th scope=col>Amount_invested_monthly</th><th scope=col>Payment_Behaviour</th><th scope=col>Monthly_Balance</th><th scope=col>Credit_Score</th></tr>\n",
       "\t<tr><th scope=col>&lt;chr&gt;</th><th scope=col>&lt;chr&gt;</th><th scope=col>&lt;chr&gt;</th><th scope=col>&lt;chr&gt;</th><th scope=col>&lt;int&gt;</th><th scope=col>&lt;chr&gt;</th><th scope=col>&lt;chr&gt;</th><th scope=col>&lt;chr&gt;</th><th scope=col>&lt;dbl&gt;</th><th scope=col>&lt;int&gt;</th><th scope=col>⋯</th><th scope=col>&lt;chr&gt;</th><th scope=col>&lt;chr&gt;</th><th scope=col>&lt;dbl&gt;</th><th scope=col>&lt;chr&gt;</th><th scope=col>&lt;chr&gt;</th><th scope=col>&lt;dbl&gt;</th><th scope=col>&lt;chr&gt;</th><th scope=col>&lt;chr&gt;</th><th scope=col>&lt;chr&gt;</th><th scope=col>&lt;chr&gt;</th></tr>\n",
       "</thead>\n",
       "<tbody>\n",
       "\t<tr><td>0x1602</td><td>CUS_0xd40</td><td>January </td><td>Aaron Maashoh</td><td> 23</td><td>821-00-0265</td><td>Scientist</td><td>19114.12</td><td>1824.843</td><td>3</td><td>⋯</td><td>_   </td><td>809.98</td><td>26.82262</td><td>22 Years and 1 Months</td><td>No</td><td>49.57495</td><td>80.41529543900253 </td><td>High_spent_Small_value_payments </td><td>312.49408867943663</td><td>Good</td></tr>\n",
       "\t<tr><td>0x1603</td><td>CUS_0xd40</td><td>February</td><td>Aaron Maashoh</td><td> 23</td><td>821-00-0265</td><td>Scientist</td><td>19114.12</td><td>      NA</td><td>3</td><td>⋯</td><td>Good</td><td>809.98</td><td>31.94496</td><td>NA                   </td><td>No</td><td>49.57495</td><td>118.28022162236736</td><td>Low_spent_Large_value_payments  </td><td>284.62916249607184</td><td>Good</td></tr>\n",
       "\t<tr><td>0x1604</td><td>CUS_0xd40</td><td>March   </td><td>Aaron Maashoh</td><td>500</td><td>821-00-0265</td><td>Scientist</td><td>19114.12</td><td>      NA</td><td>3</td><td>⋯</td><td>Good</td><td>809.98</td><td>28.60935</td><td>22 Years and 3 Months</td><td>No</td><td>49.57495</td><td>81.699521264648   </td><td>Low_spent_Medium_value_payments </td><td>331.2098628537912 </td><td>Good</td></tr>\n",
       "\t<tr><td>0x1605</td><td>CUS_0xd40</td><td>April   </td><td>Aaron Maashoh</td><td> 23</td><td>821-00-0265</td><td>Scientist</td><td>19114.12</td><td>      NA</td><td>3</td><td>⋯</td><td>Good</td><td>809.98</td><td>31.37786</td><td>22 Years and 4 Months</td><td>No</td><td>49.57495</td><td>199.4580743910713 </td><td>Low_spent_Small_value_payments  </td><td>223.45130972736786</td><td>Good</td></tr>\n",
       "\t<tr><td>0x1606</td><td>CUS_0xd40</td><td>May     </td><td>Aaron Maashoh</td><td> 23</td><td>821-00-0265</td><td>Scientist</td><td>19114.12</td><td>1824.843</td><td>3</td><td>⋯</td><td>Good</td><td>809.98</td><td>24.79735</td><td>22 Years and 5 Months</td><td>No</td><td>49.57495</td><td>41.420153086217326</td><td>High_spent_Medium_value_payments</td><td>341.48923103222177</td><td>Good</td></tr>\n",
       "\t<tr><td>0x1607</td><td>CUS_0xd40</td><td>June    </td><td>Aaron Maashoh</td><td> 23</td><td>821-00-0265</td><td>Scientist</td><td>19114.12</td><td>      NA</td><td>3</td><td>⋯</td><td>Good</td><td>809.98</td><td>27.26226</td><td>22 Years and 6 Months</td><td>No</td><td>49.57495</td><td>62.430172331195294</td><td>!@9#%8                          </td><td>340.4792117872438 </td><td>Good</td></tr>\n",
       "</tbody>\n",
       "</table>\n"
      ],
      "text/latex": [
       "A data.table: 6 × 28\n",
       "\\begin{tabular}{lllllllllllllllllllll}\n",
       " ID & Customer\\_ID & Month & Name & Age & SSN & Occupation & Annual\\_Income & Monthly\\_Inhand\\_Salary & Num\\_Bank\\_Accounts & ⋯ & Credit\\_Mix & Outstanding\\_Debt & Credit\\_Utilization\\_Ratio & Credit\\_History\\_Age & Payment\\_of\\_Min\\_Amount & Total\\_EMI\\_per\\_month & Amount\\_invested\\_monthly & Payment\\_Behaviour & Monthly\\_Balance & Credit\\_Score\\\\\n",
       " <chr> & <chr> & <chr> & <chr> & <int> & <chr> & <chr> & <chr> & <dbl> & <int> & ⋯ & <chr> & <chr> & <dbl> & <chr> & <chr> & <dbl> & <chr> & <chr> & <chr> & <chr>\\\\\n",
       "\\hline\n",
       "\t 0x1602 & CUS\\_0xd40 & January  & Aaron Maashoh &  23 & 821-00-0265 & Scientist & 19114.12 & 1824.843 & 3 & ⋯ & \\_    & 809.98 & 26.82262 & 22 Years and 1 Months & No & 49.57495 & 80.41529543900253  & High\\_spent\\_Small\\_value\\_payments  & 312.49408867943663 & Good\\\\\n",
       "\t 0x1603 & CUS\\_0xd40 & February & Aaron Maashoh &  23 & 821-00-0265 & Scientist & 19114.12 &       NA & 3 & ⋯ & Good & 809.98 & 31.94496 & NA                    & No & 49.57495 & 118.28022162236736 & Low\\_spent\\_Large\\_value\\_payments   & 284.62916249607184 & Good\\\\\n",
       "\t 0x1604 & CUS\\_0xd40 & March    & Aaron Maashoh & 500 & 821-00-0265 & Scientist & 19114.12 &       NA & 3 & ⋯ & Good & 809.98 & 28.60935 & 22 Years and 3 Months & No & 49.57495 & 81.699521264648    & Low\\_spent\\_Medium\\_value\\_payments  & 331.2098628537912  & Good\\\\\n",
       "\t 0x1605 & CUS\\_0xd40 & April    & Aaron Maashoh &  23 & 821-00-0265 & Scientist & 19114.12 &       NA & 3 & ⋯ & Good & 809.98 & 31.37786 & 22 Years and 4 Months & No & 49.57495 & 199.4580743910713  & Low\\_spent\\_Small\\_value\\_payments   & 223.45130972736786 & Good\\\\\n",
       "\t 0x1606 & CUS\\_0xd40 & May      & Aaron Maashoh &  23 & 821-00-0265 & Scientist & 19114.12 & 1824.843 & 3 & ⋯ & Good & 809.98 & 24.79735 & 22 Years and 5 Months & No & 49.57495 & 41.420153086217326 & High\\_spent\\_Medium\\_value\\_payments & 341.48923103222177 & Good\\\\\n",
       "\t 0x1607 & CUS\\_0xd40 & June     & Aaron Maashoh &  23 & 821-00-0265 & Scientist & 19114.12 &       NA & 3 & ⋯ & Good & 809.98 & 27.26226 & 22 Years and 6 Months & No & 49.57495 & 62.430172331195294 & !@9\\#\\%8                           & 340.4792117872438  & Good\\\\\n",
       "\\end{tabular}\n"
      ],
      "text/markdown": [
       "\n",
       "A data.table: 6 × 28\n",
       "\n",
       "| ID &lt;chr&gt; | Customer_ID &lt;chr&gt; | Month &lt;chr&gt; | Name &lt;chr&gt; | Age &lt;int&gt; | SSN &lt;chr&gt; | Occupation &lt;chr&gt; | Annual_Income &lt;chr&gt; | Monthly_Inhand_Salary &lt;dbl&gt; | Num_Bank_Accounts &lt;int&gt; | ⋯ ⋯ | Credit_Mix &lt;chr&gt; | Outstanding_Debt &lt;chr&gt; | Credit_Utilization_Ratio &lt;dbl&gt; | Credit_History_Age &lt;chr&gt; | Payment_of_Min_Amount &lt;chr&gt; | Total_EMI_per_month &lt;dbl&gt; | Amount_invested_monthly &lt;chr&gt; | Payment_Behaviour &lt;chr&gt; | Monthly_Balance &lt;chr&gt; | Credit_Score &lt;chr&gt; |\n",
       "|---|---|---|---|---|---|---|---|---|---|---|---|---|---|---|---|---|---|---|---|---|\n",
       "| 0x1602 | CUS_0xd40 | January  | Aaron Maashoh |  23 | 821-00-0265 | Scientist | 19114.12 | 1824.843 | 3 | ⋯ | _    | 809.98 | 26.82262 | 22 Years and 1 Months | No | 49.57495 | 80.41529543900253  | High_spent_Small_value_payments  | 312.49408867943663 | Good |\n",
       "| 0x1603 | CUS_0xd40 | February | Aaron Maashoh |  23 | 821-00-0265 | Scientist | 19114.12 |       NA | 3 | ⋯ | Good | 809.98 | 31.94496 | NA                    | No | 49.57495 | 118.28022162236736 | Low_spent_Large_value_payments   | 284.62916249607184 | Good |\n",
       "| 0x1604 | CUS_0xd40 | March    | Aaron Maashoh | 500 | 821-00-0265 | Scientist | 19114.12 |       NA | 3 | ⋯ | Good | 809.98 | 28.60935 | 22 Years and 3 Months | No | 49.57495 | 81.699521264648    | Low_spent_Medium_value_payments  | 331.2098628537912  | Good |\n",
       "| 0x1605 | CUS_0xd40 | April    | Aaron Maashoh |  23 | 821-00-0265 | Scientist | 19114.12 |       NA | 3 | ⋯ | Good | 809.98 | 31.37786 | 22 Years and 4 Months | No | 49.57495 | 199.4580743910713  | Low_spent_Small_value_payments   | 223.45130972736786 | Good |\n",
       "| 0x1606 | CUS_0xd40 | May      | Aaron Maashoh |  23 | 821-00-0265 | Scientist | 19114.12 | 1824.843 | 3 | ⋯ | Good | 809.98 | 24.79735 | 22 Years and 5 Months | No | 49.57495 | 41.420153086217326 | High_spent_Medium_value_payments | 341.48923103222177 | Good |\n",
       "| 0x1607 | CUS_0xd40 | June     | Aaron Maashoh |  23 | 821-00-0265 | Scientist | 19114.12 |       NA | 3 | ⋯ | Good | 809.98 | 27.26226 | 22 Years and 6 Months | No | 49.57495 | 62.430172331195294 | !@9#%8                           | 340.4792117872438  | Good |\n",
       "\n"
      ],
      "text/plain": [
       "  ID     Customer_ID Month    Name          Age SSN         Occupation\n",
       "1 0x1602 CUS_0xd40   January  Aaron Maashoh  23 821-00-0265 Scientist \n",
       "2 0x1603 CUS_0xd40   February Aaron Maashoh  23 821-00-0265 Scientist \n",
       "3 0x1604 CUS_0xd40   March    Aaron Maashoh 500 821-00-0265 Scientist \n",
       "4 0x1605 CUS_0xd40   April    Aaron Maashoh  23 821-00-0265 Scientist \n",
       "5 0x1606 CUS_0xd40   May      Aaron Maashoh  23 821-00-0265 Scientist \n",
       "6 0x1607 CUS_0xd40   June     Aaron Maashoh  23 821-00-0265 Scientist \n",
       "  Annual_Income Monthly_Inhand_Salary Num_Bank_Accounts ⋯ Credit_Mix\n",
       "1 19114.12      1824.843              3                 ⋯ _         \n",
       "2 19114.12            NA              3                 ⋯ Good      \n",
       "3 19114.12            NA              3                 ⋯ Good      \n",
       "4 19114.12            NA              3                 ⋯ Good      \n",
       "5 19114.12      1824.843              3                 ⋯ Good      \n",
       "6 19114.12            NA              3                 ⋯ Good      \n",
       "  Outstanding_Debt Credit_Utilization_Ratio Credit_History_Age   \n",
       "1 809.98           26.82262                 22 Years and 1 Months\n",
       "2 809.98           31.94496                 NA                   \n",
       "3 809.98           28.60935                 22 Years and 3 Months\n",
       "4 809.98           31.37786                 22 Years and 4 Months\n",
       "5 809.98           24.79735                 22 Years and 5 Months\n",
       "6 809.98           27.26226                 22 Years and 6 Months\n",
       "  Payment_of_Min_Amount Total_EMI_per_month Amount_invested_monthly\n",
       "1 No                    49.57495            80.41529543900253      \n",
       "2 No                    49.57495            118.28022162236736     \n",
       "3 No                    49.57495            81.699521264648        \n",
       "4 No                    49.57495            199.4580743910713      \n",
       "5 No                    49.57495            41.420153086217326     \n",
       "6 No                    49.57495            62.430172331195294     \n",
       "  Payment_Behaviour                Monthly_Balance    Credit_Score\n",
       "1 High_spent_Small_value_payments  312.49408867943663 Good        \n",
       "2 Low_spent_Large_value_payments   284.62916249607184 Good        \n",
       "3 Low_spent_Medium_value_payments  331.2098628537912  Good        \n",
       "4 Low_spent_Small_value_payments   223.45130972736786 Good        \n",
       "5 High_spent_Medium_value_payments 341.48923103222177 Good        \n",
       "6 !@9#%8                           340.4792117872438  Good        "
      ]
     },
     "metadata": {},
     "output_type": "display_data"
    }
   ],
   "source": [
    "train[, Num_of_Delayed_Payment := as.integer(gsub(\"\\\\D\", \"\", ifelse(is.na(Num_of_Delayed_Payment), '0', Num_of_Delayed_Payment)))]\n",
    "\n",
    "# Print the first few rows of the updated data frame\n",
    "head(train)"
   ]
  },
  {
   "cell_type": "code",
   "execution_count": 85,
   "metadata": {
    "vscode": {
     "languageId": "r"
    }
   },
   "outputs": [
    {
     "data": {
      "text/html": [
       "<table class=\"dataframe\">\n",
       "<caption>A data.table: 6 × 28</caption>\n",
       "<thead>\n",
       "\t<tr><th scope=col>ID</th><th scope=col>Customer_ID</th><th scope=col>Month</th><th scope=col>Name</th><th scope=col>Age</th><th scope=col>SSN</th><th scope=col>Occupation</th><th scope=col>Annual_Income</th><th scope=col>Monthly_Inhand_Salary</th><th scope=col>Num_Bank_Accounts</th><th scope=col>⋯</th><th scope=col>Credit_Mix</th><th scope=col>Outstanding_Debt</th><th scope=col>Credit_Utilization_Ratio</th><th scope=col>Credit_History_Age</th><th scope=col>Payment_of_Min_Amount</th><th scope=col>Total_EMI_per_month</th><th scope=col>Amount_invested_monthly</th><th scope=col>Payment_Behaviour</th><th scope=col>Monthly_Balance</th><th scope=col>Credit_Score</th></tr>\n",
       "\t<tr><th scope=col>&lt;chr&gt;</th><th scope=col>&lt;chr&gt;</th><th scope=col>&lt;chr&gt;</th><th scope=col>&lt;chr&gt;</th><th scope=col>&lt;int&gt;</th><th scope=col>&lt;chr&gt;</th><th scope=col>&lt;chr&gt;</th><th scope=col>&lt;chr&gt;</th><th scope=col>&lt;dbl&gt;</th><th scope=col>&lt;int&gt;</th><th scope=col>⋯</th><th scope=col>&lt;chr&gt;</th><th scope=col>&lt;chr&gt;</th><th scope=col>&lt;dbl&gt;</th><th scope=col>&lt;chr&gt;</th><th scope=col>&lt;chr&gt;</th><th scope=col>&lt;dbl&gt;</th><th scope=col>&lt;chr&gt;</th><th scope=col>&lt;chr&gt;</th><th scope=col>&lt;chr&gt;</th><th scope=col>&lt;chr&gt;</th></tr>\n",
       "</thead>\n",
       "<tbody>\n",
       "\t<tr><td>0x1602</td><td>CUS_0xd40</td><td>January </td><td>Aaron Maashoh</td><td> 23</td><td>821-00-0265</td><td>Scientist</td><td>19114.12</td><td>1824.843</td><td>3</td><td>⋯</td><td>_   </td><td>809.98</td><td>26.82262</td><td>22 Years and 1 Months</td><td>No</td><td>49.57495</td><td>80.41529543900253 </td><td>High_spent_Small_value_payments </td><td>312.49408867943663</td><td>Good</td></tr>\n",
       "\t<tr><td>0x1603</td><td>CUS_0xd40</td><td>February</td><td>Aaron Maashoh</td><td> 23</td><td>821-00-0265</td><td>Scientist</td><td>19114.12</td><td>      NA</td><td>3</td><td>⋯</td><td>Good</td><td>809.98</td><td>31.94496</td><td>NA                   </td><td>No</td><td>49.57495</td><td>118.28022162236736</td><td>Low_spent_Large_value_payments  </td><td>284.62916249607184</td><td>Good</td></tr>\n",
       "\t<tr><td>0x1604</td><td>CUS_0xd40</td><td>March   </td><td>Aaron Maashoh</td><td>500</td><td>821-00-0265</td><td>Scientist</td><td>19114.12</td><td>      NA</td><td>3</td><td>⋯</td><td>Good</td><td>809.98</td><td>28.60935</td><td>22 Years and 3 Months</td><td>No</td><td>49.57495</td><td>81.699521264648   </td><td>Low_spent_Medium_value_payments </td><td>331.2098628537912 </td><td>Good</td></tr>\n",
       "\t<tr><td>0x1605</td><td>CUS_0xd40</td><td>April   </td><td>Aaron Maashoh</td><td> 23</td><td>821-00-0265</td><td>Scientist</td><td>19114.12</td><td>      NA</td><td>3</td><td>⋯</td><td>Good</td><td>809.98</td><td>31.37786</td><td>22 Years and 4 Months</td><td>No</td><td>49.57495</td><td>199.4580743910713 </td><td>Low_spent_Small_value_payments  </td><td>223.45130972736786</td><td>Good</td></tr>\n",
       "\t<tr><td>0x1606</td><td>CUS_0xd40</td><td>May     </td><td>Aaron Maashoh</td><td> 23</td><td>821-00-0265</td><td>Scientist</td><td>19114.12</td><td>1824.843</td><td>3</td><td>⋯</td><td>Good</td><td>809.98</td><td>24.79735</td><td>22 Years and 5 Months</td><td>No</td><td>49.57495</td><td>41.420153086217326</td><td>High_spent_Medium_value_payments</td><td>341.48923103222177</td><td>Good</td></tr>\n",
       "\t<tr><td>0x1607</td><td>CUS_0xd40</td><td>June    </td><td>Aaron Maashoh</td><td> 23</td><td>821-00-0265</td><td>Scientist</td><td>19114.12</td><td>      NA</td><td>3</td><td>⋯</td><td>Good</td><td>809.98</td><td>27.26226</td><td>22 Years and 6 Months</td><td>No</td><td>49.57495</td><td>62.430172331195294</td><td>!@9#%8                          </td><td>340.4792117872438 </td><td>Good</td></tr>\n",
       "</tbody>\n",
       "</table>\n"
      ],
      "text/latex": [
       "A data.table: 6 × 28\n",
       "\\begin{tabular}{lllllllllllllllllllll}\n",
       " ID & Customer\\_ID & Month & Name & Age & SSN & Occupation & Annual\\_Income & Monthly\\_Inhand\\_Salary & Num\\_Bank\\_Accounts & ⋯ & Credit\\_Mix & Outstanding\\_Debt & Credit\\_Utilization\\_Ratio & Credit\\_History\\_Age & Payment\\_of\\_Min\\_Amount & Total\\_EMI\\_per\\_month & Amount\\_invested\\_monthly & Payment\\_Behaviour & Monthly\\_Balance & Credit\\_Score\\\\\n",
       " <chr> & <chr> & <chr> & <chr> & <int> & <chr> & <chr> & <chr> & <dbl> & <int> & ⋯ & <chr> & <chr> & <dbl> & <chr> & <chr> & <dbl> & <chr> & <chr> & <chr> & <chr>\\\\\n",
       "\\hline\n",
       "\t 0x1602 & CUS\\_0xd40 & January  & Aaron Maashoh &  23 & 821-00-0265 & Scientist & 19114.12 & 1824.843 & 3 & ⋯ & \\_    & 809.98 & 26.82262 & 22 Years and 1 Months & No & 49.57495 & 80.41529543900253  & High\\_spent\\_Small\\_value\\_payments  & 312.49408867943663 & Good\\\\\n",
       "\t 0x1603 & CUS\\_0xd40 & February & Aaron Maashoh &  23 & 821-00-0265 & Scientist & 19114.12 &       NA & 3 & ⋯ & Good & 809.98 & 31.94496 & NA                    & No & 49.57495 & 118.28022162236736 & Low\\_spent\\_Large\\_value\\_payments   & 284.62916249607184 & Good\\\\\n",
       "\t 0x1604 & CUS\\_0xd40 & March    & Aaron Maashoh & 500 & 821-00-0265 & Scientist & 19114.12 &       NA & 3 & ⋯ & Good & 809.98 & 28.60935 & 22 Years and 3 Months & No & 49.57495 & 81.699521264648    & Low\\_spent\\_Medium\\_value\\_payments  & 331.2098628537912  & Good\\\\\n",
       "\t 0x1605 & CUS\\_0xd40 & April    & Aaron Maashoh &  23 & 821-00-0265 & Scientist & 19114.12 &       NA & 3 & ⋯ & Good & 809.98 & 31.37786 & 22 Years and 4 Months & No & 49.57495 & 199.4580743910713  & Low\\_spent\\_Small\\_value\\_payments   & 223.45130972736786 & Good\\\\\n",
       "\t 0x1606 & CUS\\_0xd40 & May      & Aaron Maashoh &  23 & 821-00-0265 & Scientist & 19114.12 & 1824.843 & 3 & ⋯ & Good & 809.98 & 24.79735 & 22 Years and 5 Months & No & 49.57495 & 41.420153086217326 & High\\_spent\\_Medium\\_value\\_payments & 341.48923103222177 & Good\\\\\n",
       "\t 0x1607 & CUS\\_0xd40 & June     & Aaron Maashoh &  23 & 821-00-0265 & Scientist & 19114.12 &       NA & 3 & ⋯ & Good & 809.98 & 27.26226 & 22 Years and 6 Months & No & 49.57495 & 62.430172331195294 & !@9\\#\\%8                           & 340.4792117872438  & Good\\\\\n",
       "\\end{tabular}\n"
      ],
      "text/markdown": [
       "\n",
       "A data.table: 6 × 28\n",
       "\n",
       "| ID &lt;chr&gt; | Customer_ID &lt;chr&gt; | Month &lt;chr&gt; | Name &lt;chr&gt; | Age &lt;int&gt; | SSN &lt;chr&gt; | Occupation &lt;chr&gt; | Annual_Income &lt;chr&gt; | Monthly_Inhand_Salary &lt;dbl&gt; | Num_Bank_Accounts &lt;int&gt; | ⋯ ⋯ | Credit_Mix &lt;chr&gt; | Outstanding_Debt &lt;chr&gt; | Credit_Utilization_Ratio &lt;dbl&gt; | Credit_History_Age &lt;chr&gt; | Payment_of_Min_Amount &lt;chr&gt; | Total_EMI_per_month &lt;dbl&gt; | Amount_invested_monthly &lt;chr&gt; | Payment_Behaviour &lt;chr&gt; | Monthly_Balance &lt;chr&gt; | Credit_Score &lt;chr&gt; |\n",
       "|---|---|---|---|---|---|---|---|---|---|---|---|---|---|---|---|---|---|---|---|---|\n",
       "| 0x1602 | CUS_0xd40 | January  | Aaron Maashoh |  23 | 821-00-0265 | Scientist | 19114.12 | 1824.843 | 3 | ⋯ | _    | 809.98 | 26.82262 | 22 Years and 1 Months | No | 49.57495 | 80.41529543900253  | High_spent_Small_value_payments  | 312.49408867943663 | Good |\n",
       "| 0x1603 | CUS_0xd40 | February | Aaron Maashoh |  23 | 821-00-0265 | Scientist | 19114.12 |       NA | 3 | ⋯ | Good | 809.98 | 31.94496 | NA                    | No | 49.57495 | 118.28022162236736 | Low_spent_Large_value_payments   | 284.62916249607184 | Good |\n",
       "| 0x1604 | CUS_0xd40 | March    | Aaron Maashoh | 500 | 821-00-0265 | Scientist | 19114.12 |       NA | 3 | ⋯ | Good | 809.98 | 28.60935 | 22 Years and 3 Months | No | 49.57495 | 81.699521264648    | Low_spent_Medium_value_payments  | 331.2098628537912  | Good |\n",
       "| 0x1605 | CUS_0xd40 | April    | Aaron Maashoh |  23 | 821-00-0265 | Scientist | 19114.12 |       NA | 3 | ⋯ | Good | 809.98 | 31.37786 | 22 Years and 4 Months | No | 49.57495 | 199.4580743910713  | Low_spent_Small_value_payments   | 223.45130972736786 | Good |\n",
       "| 0x1606 | CUS_0xd40 | May      | Aaron Maashoh |  23 | 821-00-0265 | Scientist | 19114.12 | 1824.843 | 3 | ⋯ | Good | 809.98 | 24.79735 | 22 Years and 5 Months | No | 49.57495 | 41.420153086217326 | High_spent_Medium_value_payments | 341.48923103222177 | Good |\n",
       "| 0x1607 | CUS_0xd40 | June     | Aaron Maashoh |  23 | 821-00-0265 | Scientist | 19114.12 |       NA | 3 | ⋯ | Good | 809.98 | 27.26226 | 22 Years and 6 Months | No | 49.57495 | 62.430172331195294 | !@9#%8                           | 340.4792117872438  | Good |\n",
       "\n"
      ],
      "text/plain": [
       "  ID     Customer_ID Month    Name          Age SSN         Occupation\n",
       "1 0x1602 CUS_0xd40   January  Aaron Maashoh  23 821-00-0265 Scientist \n",
       "2 0x1603 CUS_0xd40   February Aaron Maashoh  23 821-00-0265 Scientist \n",
       "3 0x1604 CUS_0xd40   March    Aaron Maashoh 500 821-00-0265 Scientist \n",
       "4 0x1605 CUS_0xd40   April    Aaron Maashoh  23 821-00-0265 Scientist \n",
       "5 0x1606 CUS_0xd40   May      Aaron Maashoh  23 821-00-0265 Scientist \n",
       "6 0x1607 CUS_0xd40   June     Aaron Maashoh  23 821-00-0265 Scientist \n",
       "  Annual_Income Monthly_Inhand_Salary Num_Bank_Accounts ⋯ Credit_Mix\n",
       "1 19114.12      1824.843              3                 ⋯ _         \n",
       "2 19114.12            NA              3                 ⋯ Good      \n",
       "3 19114.12            NA              3                 ⋯ Good      \n",
       "4 19114.12            NA              3                 ⋯ Good      \n",
       "5 19114.12      1824.843              3                 ⋯ Good      \n",
       "6 19114.12            NA              3                 ⋯ Good      \n",
       "  Outstanding_Debt Credit_Utilization_Ratio Credit_History_Age   \n",
       "1 809.98           26.82262                 22 Years and 1 Months\n",
       "2 809.98           31.94496                 NA                   \n",
       "3 809.98           28.60935                 22 Years and 3 Months\n",
       "4 809.98           31.37786                 22 Years and 4 Months\n",
       "5 809.98           24.79735                 22 Years and 5 Months\n",
       "6 809.98           27.26226                 22 Years and 6 Months\n",
       "  Payment_of_Min_Amount Total_EMI_per_month Amount_invested_monthly\n",
       "1 No                    49.57495            80.41529543900253      \n",
       "2 No                    49.57495            118.28022162236736     \n",
       "3 No                    49.57495            81.699521264648        \n",
       "4 No                    49.57495            199.4580743910713      \n",
       "5 No                    49.57495            41.420153086217326     \n",
       "6 No                    49.57495            62.430172331195294     \n",
       "  Payment_Behaviour                Monthly_Balance    Credit_Score\n",
       "1 High_spent_Small_value_payments  312.49408867943663 Good        \n",
       "2 Low_spent_Large_value_payments   284.62916249607184 Good        \n",
       "3 Low_spent_Medium_value_payments  331.2098628537912  Good        \n",
       "4 Low_spent_Small_value_payments   223.45130972736786 Good        \n",
       "5 High_spent_Medium_value_payments 341.48923103222177 Good        \n",
       "6 !@9#%8                           340.4792117872438  Good        "
      ]
     },
     "metadata": {},
     "output_type": "display_data"
    }
   ],
   "source": [
    "train[, Annual_Income := gsub(\"[^0-9.]\", \"\", Annual_Income)]\n",
    "\n",
    "# Print the first few rows of the updated data frame\n",
    "head(train)"
   ]
  },
  {
   "cell_type": "code",
   "execution_count": 86,
   "metadata": {
    "vscode": {
     "languageId": "r"
    }
   },
   "outputs": [
    {
     "data": {
      "text/html": [
       "<table class=\"dataframe\">\n",
       "<caption>A data.table: 6 × 28</caption>\n",
       "<thead>\n",
       "\t<tr><th scope=col>ID</th><th scope=col>Customer_ID</th><th scope=col>Month</th><th scope=col>Name</th><th scope=col>Age</th><th scope=col>SSN</th><th scope=col>Occupation</th><th scope=col>Annual_Income</th><th scope=col>Monthly_Inhand_Salary</th><th scope=col>Num_Bank_Accounts</th><th scope=col>⋯</th><th scope=col>Credit_Mix</th><th scope=col>Outstanding_Debt</th><th scope=col>Credit_Utilization_Ratio</th><th scope=col>Credit_History_Age</th><th scope=col>Payment_of_Min_Amount</th><th scope=col>Total_EMI_per_month</th><th scope=col>Amount_invested_monthly</th><th scope=col>Payment_Behaviour</th><th scope=col>Monthly_Balance</th><th scope=col>Credit_Score</th></tr>\n",
       "\t<tr><th scope=col>&lt;chr&gt;</th><th scope=col>&lt;chr&gt;</th><th scope=col>&lt;chr&gt;</th><th scope=col>&lt;chr&gt;</th><th scope=col>&lt;int&gt;</th><th scope=col>&lt;chr&gt;</th><th scope=col>&lt;chr&gt;</th><th scope=col>&lt;dbl&gt;</th><th scope=col>&lt;dbl&gt;</th><th scope=col>&lt;int&gt;</th><th scope=col>⋯</th><th scope=col>&lt;chr&gt;</th><th scope=col>&lt;chr&gt;</th><th scope=col>&lt;dbl&gt;</th><th scope=col>&lt;chr&gt;</th><th scope=col>&lt;chr&gt;</th><th scope=col>&lt;dbl&gt;</th><th scope=col>&lt;chr&gt;</th><th scope=col>&lt;chr&gt;</th><th scope=col>&lt;chr&gt;</th><th scope=col>&lt;chr&gt;</th></tr>\n",
       "</thead>\n",
       "<tbody>\n",
       "\t<tr><td>0x1602</td><td>CUS_0xd40</td><td>January </td><td>Aaron Maashoh</td><td> 23</td><td>821-00-0265</td><td>Scientist</td><td>19114.12</td><td>1824.843</td><td>3</td><td>⋯</td><td>_   </td><td>809.98</td><td>26.82262</td><td>22 Years and 1 Months</td><td>No</td><td>49.57495</td><td>80.41529543900253 </td><td>High_spent_Small_value_payments </td><td>312.49408867943663</td><td>Good</td></tr>\n",
       "\t<tr><td>0x1603</td><td>CUS_0xd40</td><td>February</td><td>Aaron Maashoh</td><td> 23</td><td>821-00-0265</td><td>Scientist</td><td>19114.12</td><td>      NA</td><td>3</td><td>⋯</td><td>Good</td><td>809.98</td><td>31.94496</td><td>NA                   </td><td>No</td><td>49.57495</td><td>118.28022162236736</td><td>Low_spent_Large_value_payments  </td><td>284.62916249607184</td><td>Good</td></tr>\n",
       "\t<tr><td>0x1604</td><td>CUS_0xd40</td><td>March   </td><td>Aaron Maashoh</td><td>500</td><td>821-00-0265</td><td>Scientist</td><td>19114.12</td><td>      NA</td><td>3</td><td>⋯</td><td>Good</td><td>809.98</td><td>28.60935</td><td>22 Years and 3 Months</td><td>No</td><td>49.57495</td><td>81.699521264648   </td><td>Low_spent_Medium_value_payments </td><td>331.2098628537912 </td><td>Good</td></tr>\n",
       "\t<tr><td>0x1605</td><td>CUS_0xd40</td><td>April   </td><td>Aaron Maashoh</td><td> 23</td><td>821-00-0265</td><td>Scientist</td><td>19114.12</td><td>      NA</td><td>3</td><td>⋯</td><td>Good</td><td>809.98</td><td>31.37786</td><td>22 Years and 4 Months</td><td>No</td><td>49.57495</td><td>199.4580743910713 </td><td>Low_spent_Small_value_payments  </td><td>223.45130972736786</td><td>Good</td></tr>\n",
       "\t<tr><td>0x1606</td><td>CUS_0xd40</td><td>May     </td><td>Aaron Maashoh</td><td> 23</td><td>821-00-0265</td><td>Scientist</td><td>19114.12</td><td>1824.843</td><td>3</td><td>⋯</td><td>Good</td><td>809.98</td><td>24.79735</td><td>22 Years and 5 Months</td><td>No</td><td>49.57495</td><td>41.420153086217326</td><td>High_spent_Medium_value_payments</td><td>341.48923103222177</td><td>Good</td></tr>\n",
       "\t<tr><td>0x1607</td><td>CUS_0xd40</td><td>June    </td><td>Aaron Maashoh</td><td> 23</td><td>821-00-0265</td><td>Scientist</td><td>19114.12</td><td>      NA</td><td>3</td><td>⋯</td><td>Good</td><td>809.98</td><td>27.26226</td><td>22 Years and 6 Months</td><td>No</td><td>49.57495</td><td>62.430172331195294</td><td>!@9#%8                          </td><td>340.4792117872438 </td><td>Good</td></tr>\n",
       "</tbody>\n",
       "</table>\n"
      ],
      "text/latex": [
       "A data.table: 6 × 28\n",
       "\\begin{tabular}{lllllllllllllllllllll}\n",
       " ID & Customer\\_ID & Month & Name & Age & SSN & Occupation & Annual\\_Income & Monthly\\_Inhand\\_Salary & Num\\_Bank\\_Accounts & ⋯ & Credit\\_Mix & Outstanding\\_Debt & Credit\\_Utilization\\_Ratio & Credit\\_History\\_Age & Payment\\_of\\_Min\\_Amount & Total\\_EMI\\_per\\_month & Amount\\_invested\\_monthly & Payment\\_Behaviour & Monthly\\_Balance & Credit\\_Score\\\\\n",
       " <chr> & <chr> & <chr> & <chr> & <int> & <chr> & <chr> & <dbl> & <dbl> & <int> & ⋯ & <chr> & <chr> & <dbl> & <chr> & <chr> & <dbl> & <chr> & <chr> & <chr> & <chr>\\\\\n",
       "\\hline\n",
       "\t 0x1602 & CUS\\_0xd40 & January  & Aaron Maashoh &  23 & 821-00-0265 & Scientist & 19114.12 & 1824.843 & 3 & ⋯ & \\_    & 809.98 & 26.82262 & 22 Years and 1 Months & No & 49.57495 & 80.41529543900253  & High\\_spent\\_Small\\_value\\_payments  & 312.49408867943663 & Good\\\\\n",
       "\t 0x1603 & CUS\\_0xd40 & February & Aaron Maashoh &  23 & 821-00-0265 & Scientist & 19114.12 &       NA & 3 & ⋯ & Good & 809.98 & 31.94496 & NA                    & No & 49.57495 & 118.28022162236736 & Low\\_spent\\_Large\\_value\\_payments   & 284.62916249607184 & Good\\\\\n",
       "\t 0x1604 & CUS\\_0xd40 & March    & Aaron Maashoh & 500 & 821-00-0265 & Scientist & 19114.12 &       NA & 3 & ⋯ & Good & 809.98 & 28.60935 & 22 Years and 3 Months & No & 49.57495 & 81.699521264648    & Low\\_spent\\_Medium\\_value\\_payments  & 331.2098628537912  & Good\\\\\n",
       "\t 0x1605 & CUS\\_0xd40 & April    & Aaron Maashoh &  23 & 821-00-0265 & Scientist & 19114.12 &       NA & 3 & ⋯ & Good & 809.98 & 31.37786 & 22 Years and 4 Months & No & 49.57495 & 199.4580743910713  & Low\\_spent\\_Small\\_value\\_payments   & 223.45130972736786 & Good\\\\\n",
       "\t 0x1606 & CUS\\_0xd40 & May      & Aaron Maashoh &  23 & 821-00-0265 & Scientist & 19114.12 & 1824.843 & 3 & ⋯ & Good & 809.98 & 24.79735 & 22 Years and 5 Months & No & 49.57495 & 41.420153086217326 & High\\_spent\\_Medium\\_value\\_payments & 341.48923103222177 & Good\\\\\n",
       "\t 0x1607 & CUS\\_0xd40 & June     & Aaron Maashoh &  23 & 821-00-0265 & Scientist & 19114.12 &       NA & 3 & ⋯ & Good & 809.98 & 27.26226 & 22 Years and 6 Months & No & 49.57495 & 62.430172331195294 & !@9\\#\\%8                           & 340.4792117872438  & Good\\\\\n",
       "\\end{tabular}\n"
      ],
      "text/markdown": [
       "\n",
       "A data.table: 6 × 28\n",
       "\n",
       "| ID &lt;chr&gt; | Customer_ID &lt;chr&gt; | Month &lt;chr&gt; | Name &lt;chr&gt; | Age &lt;int&gt; | SSN &lt;chr&gt; | Occupation &lt;chr&gt; | Annual_Income &lt;dbl&gt; | Monthly_Inhand_Salary &lt;dbl&gt; | Num_Bank_Accounts &lt;int&gt; | ⋯ ⋯ | Credit_Mix &lt;chr&gt; | Outstanding_Debt &lt;chr&gt; | Credit_Utilization_Ratio &lt;dbl&gt; | Credit_History_Age &lt;chr&gt; | Payment_of_Min_Amount &lt;chr&gt; | Total_EMI_per_month &lt;dbl&gt; | Amount_invested_monthly &lt;chr&gt; | Payment_Behaviour &lt;chr&gt; | Monthly_Balance &lt;chr&gt; | Credit_Score &lt;chr&gt; |\n",
       "|---|---|---|---|---|---|---|---|---|---|---|---|---|---|---|---|---|---|---|---|---|\n",
       "| 0x1602 | CUS_0xd40 | January  | Aaron Maashoh |  23 | 821-00-0265 | Scientist | 19114.12 | 1824.843 | 3 | ⋯ | _    | 809.98 | 26.82262 | 22 Years and 1 Months | No | 49.57495 | 80.41529543900253  | High_spent_Small_value_payments  | 312.49408867943663 | Good |\n",
       "| 0x1603 | CUS_0xd40 | February | Aaron Maashoh |  23 | 821-00-0265 | Scientist | 19114.12 |       NA | 3 | ⋯ | Good | 809.98 | 31.94496 | NA                    | No | 49.57495 | 118.28022162236736 | Low_spent_Large_value_payments   | 284.62916249607184 | Good |\n",
       "| 0x1604 | CUS_0xd40 | March    | Aaron Maashoh | 500 | 821-00-0265 | Scientist | 19114.12 |       NA | 3 | ⋯ | Good | 809.98 | 28.60935 | 22 Years and 3 Months | No | 49.57495 | 81.699521264648    | Low_spent_Medium_value_payments  | 331.2098628537912  | Good |\n",
       "| 0x1605 | CUS_0xd40 | April    | Aaron Maashoh |  23 | 821-00-0265 | Scientist | 19114.12 |       NA | 3 | ⋯ | Good | 809.98 | 31.37786 | 22 Years and 4 Months | No | 49.57495 | 199.4580743910713  | Low_spent_Small_value_payments   | 223.45130972736786 | Good |\n",
       "| 0x1606 | CUS_0xd40 | May      | Aaron Maashoh |  23 | 821-00-0265 | Scientist | 19114.12 | 1824.843 | 3 | ⋯ | Good | 809.98 | 24.79735 | 22 Years and 5 Months | No | 49.57495 | 41.420153086217326 | High_spent_Medium_value_payments | 341.48923103222177 | Good |\n",
       "| 0x1607 | CUS_0xd40 | June     | Aaron Maashoh |  23 | 821-00-0265 | Scientist | 19114.12 |       NA | 3 | ⋯ | Good | 809.98 | 27.26226 | 22 Years and 6 Months | No | 49.57495 | 62.430172331195294 | !@9#%8                           | 340.4792117872438  | Good |\n",
       "\n"
      ],
      "text/plain": [
       "  ID     Customer_ID Month    Name          Age SSN         Occupation\n",
       "1 0x1602 CUS_0xd40   January  Aaron Maashoh  23 821-00-0265 Scientist \n",
       "2 0x1603 CUS_0xd40   February Aaron Maashoh  23 821-00-0265 Scientist \n",
       "3 0x1604 CUS_0xd40   March    Aaron Maashoh 500 821-00-0265 Scientist \n",
       "4 0x1605 CUS_0xd40   April    Aaron Maashoh  23 821-00-0265 Scientist \n",
       "5 0x1606 CUS_0xd40   May      Aaron Maashoh  23 821-00-0265 Scientist \n",
       "6 0x1607 CUS_0xd40   June     Aaron Maashoh  23 821-00-0265 Scientist \n",
       "  Annual_Income Monthly_Inhand_Salary Num_Bank_Accounts ⋯ Credit_Mix\n",
       "1 19114.12      1824.843              3                 ⋯ _         \n",
       "2 19114.12            NA              3                 ⋯ Good      \n",
       "3 19114.12            NA              3                 ⋯ Good      \n",
       "4 19114.12            NA              3                 ⋯ Good      \n",
       "5 19114.12      1824.843              3                 ⋯ Good      \n",
       "6 19114.12            NA              3                 ⋯ Good      \n",
       "  Outstanding_Debt Credit_Utilization_Ratio Credit_History_Age   \n",
       "1 809.98           26.82262                 22 Years and 1 Months\n",
       "2 809.98           31.94496                 NA                   \n",
       "3 809.98           28.60935                 22 Years and 3 Months\n",
       "4 809.98           31.37786                 22 Years and 4 Months\n",
       "5 809.98           24.79735                 22 Years and 5 Months\n",
       "6 809.98           27.26226                 22 Years and 6 Months\n",
       "  Payment_of_Min_Amount Total_EMI_per_month Amount_invested_monthly\n",
       "1 No                    49.57495            80.41529543900253      \n",
       "2 No                    49.57495            118.28022162236736     \n",
       "3 No                    49.57495            81.699521264648        \n",
       "4 No                    49.57495            199.4580743910713      \n",
       "5 No                    49.57495            41.420153086217326     \n",
       "6 No                    49.57495            62.430172331195294     \n",
       "  Payment_Behaviour                Monthly_Balance    Credit_Score\n",
       "1 High_spent_Small_value_payments  312.49408867943663 Good        \n",
       "2 Low_spent_Large_value_payments   284.62916249607184 Good        \n",
       "3 Low_spent_Medium_value_payments  331.2098628537912  Good        \n",
       "4 Low_spent_Small_value_payments   223.45130972736786 Good        \n",
       "5 High_spent_Medium_value_payments 341.48923103222177 Good        \n",
       "6 !@9#%8                           340.4792117872438  Good        "
      ]
     },
     "metadata": {},
     "output_type": "display_data"
    }
   ],
   "source": [
    "train[, Annual_Income := as.numeric(Annual_Income)]\n",
    "\n",
    "# Print the first few rows of the updated data frame\n",
    "head(train)"
   ]
  },
  {
   "cell_type": "code",
   "execution_count": 87,
   "metadata": {
    "vscode": {
     "languageId": "r"
    }
   },
   "outputs": [
    {
     "data": {
      "text/html": [
       "<table class=\"dataframe\">\n",
       "<caption>A data.table: 6 × 28</caption>\n",
       "<thead>\n",
       "\t<tr><th scope=col>ID</th><th scope=col>Customer_ID</th><th scope=col>Month</th><th scope=col>Name</th><th scope=col>Age</th><th scope=col>SSN</th><th scope=col>Occupation</th><th scope=col>Annual_Income</th><th scope=col>Monthly_Inhand_Salary</th><th scope=col>Num_Bank_Accounts</th><th scope=col>⋯</th><th scope=col>Credit_Mix</th><th scope=col>Outstanding_Debt</th><th scope=col>Credit_Utilization_Ratio</th><th scope=col>Credit_History_Age</th><th scope=col>Payment_of_Min_Amount</th><th scope=col>Total_EMI_per_month</th><th scope=col>Amount_invested_monthly</th><th scope=col>Payment_Behaviour</th><th scope=col>Monthly_Balance</th><th scope=col>Credit_Score</th></tr>\n",
       "\t<tr><th scope=col>&lt;chr&gt;</th><th scope=col>&lt;chr&gt;</th><th scope=col>&lt;chr&gt;</th><th scope=col>&lt;chr&gt;</th><th scope=col>&lt;int&gt;</th><th scope=col>&lt;chr&gt;</th><th scope=col>&lt;chr&gt;</th><th scope=col>&lt;dbl&gt;</th><th scope=col>&lt;dbl&gt;</th><th scope=col>&lt;int&gt;</th><th scope=col>⋯</th><th scope=col>&lt;chr&gt;</th><th scope=col>&lt;chr&gt;</th><th scope=col>&lt;dbl&gt;</th><th scope=col>&lt;chr&gt;</th><th scope=col>&lt;chr&gt;</th><th scope=col>&lt;dbl&gt;</th><th scope=col>&lt;chr&gt;</th><th scope=col>&lt;chr&gt;</th><th scope=col>&lt;chr&gt;</th><th scope=col>&lt;chr&gt;</th></tr>\n",
       "</thead>\n",
       "<tbody>\n",
       "\t<tr><td>0x1602</td><td>CUS_0xd40</td><td>January </td><td>Aaron Maashoh</td><td> 23</td><td>821-00-0265</td><td>Scientist</td><td>19114.12</td><td>1824.843</td><td>3</td><td>⋯</td><td>_   </td><td>809.98</td><td>26.82262</td><td>22 Years and 1 Months</td><td>No</td><td>49.57495</td><td>80.41529543900253 </td><td>High_spent_Small_value_payments </td><td>312.49408867943663</td><td>Good</td></tr>\n",
       "\t<tr><td>0x1603</td><td>CUS_0xd40</td><td>February</td><td>Aaron Maashoh</td><td> 23</td><td>821-00-0265</td><td>Scientist</td><td>19114.12</td><td>      NA</td><td>3</td><td>⋯</td><td>Good</td><td>809.98</td><td>31.94496</td><td>NA                   </td><td>No</td><td>49.57495</td><td>118.28022162236736</td><td>Low_spent_Large_value_payments  </td><td>284.62916249607184</td><td>Good</td></tr>\n",
       "\t<tr><td>0x1604</td><td>CUS_0xd40</td><td>March   </td><td>Aaron Maashoh</td><td>500</td><td>821-00-0265</td><td>Scientist</td><td>19114.12</td><td>      NA</td><td>3</td><td>⋯</td><td>Good</td><td>809.98</td><td>28.60935</td><td>22 Years and 3 Months</td><td>No</td><td>49.57495</td><td>81.699521264648   </td><td>Low_spent_Medium_value_payments </td><td>331.2098628537912 </td><td>Good</td></tr>\n",
       "\t<tr><td>0x1605</td><td>CUS_0xd40</td><td>April   </td><td>Aaron Maashoh</td><td> 23</td><td>821-00-0265</td><td>Scientist</td><td>19114.12</td><td>      NA</td><td>3</td><td>⋯</td><td>Good</td><td>809.98</td><td>31.37786</td><td>22 Years and 4 Months</td><td>No</td><td>49.57495</td><td>199.4580743910713 </td><td>Low_spent_Small_value_payments  </td><td>223.45130972736786</td><td>Good</td></tr>\n",
       "\t<tr><td>0x1606</td><td>CUS_0xd40</td><td>May     </td><td>Aaron Maashoh</td><td> 23</td><td>821-00-0265</td><td>Scientist</td><td>19114.12</td><td>1824.843</td><td>3</td><td>⋯</td><td>Good</td><td>809.98</td><td>24.79735</td><td>22 Years and 5 Months</td><td>No</td><td>49.57495</td><td>41.420153086217326</td><td>High_spent_Medium_value_payments</td><td>341.48923103222177</td><td>Good</td></tr>\n",
       "\t<tr><td>0x1607</td><td>CUS_0xd40</td><td>June    </td><td>Aaron Maashoh</td><td> 23</td><td>821-00-0265</td><td>Scientist</td><td>19114.12</td><td>      NA</td><td>3</td><td>⋯</td><td>Good</td><td>809.98</td><td>27.26226</td><td>22 Years and 6 Months</td><td>No</td><td>49.57495</td><td>62.430172331195294</td><td>!@9#%8                          </td><td>340.4792117872438 </td><td>Good</td></tr>\n",
       "</tbody>\n",
       "</table>\n"
      ],
      "text/latex": [
       "A data.table: 6 × 28\n",
       "\\begin{tabular}{lllllllllllllllllllll}\n",
       " ID & Customer\\_ID & Month & Name & Age & SSN & Occupation & Annual\\_Income & Monthly\\_Inhand\\_Salary & Num\\_Bank\\_Accounts & ⋯ & Credit\\_Mix & Outstanding\\_Debt & Credit\\_Utilization\\_Ratio & Credit\\_History\\_Age & Payment\\_of\\_Min\\_Amount & Total\\_EMI\\_per\\_month & Amount\\_invested\\_monthly & Payment\\_Behaviour & Monthly\\_Balance & Credit\\_Score\\\\\n",
       " <chr> & <chr> & <chr> & <chr> & <int> & <chr> & <chr> & <dbl> & <dbl> & <int> & ⋯ & <chr> & <chr> & <dbl> & <chr> & <chr> & <dbl> & <chr> & <chr> & <chr> & <chr>\\\\\n",
       "\\hline\n",
       "\t 0x1602 & CUS\\_0xd40 & January  & Aaron Maashoh &  23 & 821-00-0265 & Scientist & 19114.12 & 1824.843 & 3 & ⋯ & \\_    & 809.98 & 26.82262 & 22 Years and 1 Months & No & 49.57495 & 80.41529543900253  & High\\_spent\\_Small\\_value\\_payments  & 312.49408867943663 & Good\\\\\n",
       "\t 0x1603 & CUS\\_0xd40 & February & Aaron Maashoh &  23 & 821-00-0265 & Scientist & 19114.12 &       NA & 3 & ⋯ & Good & 809.98 & 31.94496 & NA                    & No & 49.57495 & 118.28022162236736 & Low\\_spent\\_Large\\_value\\_payments   & 284.62916249607184 & Good\\\\\n",
       "\t 0x1604 & CUS\\_0xd40 & March    & Aaron Maashoh & 500 & 821-00-0265 & Scientist & 19114.12 &       NA & 3 & ⋯ & Good & 809.98 & 28.60935 & 22 Years and 3 Months & No & 49.57495 & 81.699521264648    & Low\\_spent\\_Medium\\_value\\_payments  & 331.2098628537912  & Good\\\\\n",
       "\t 0x1605 & CUS\\_0xd40 & April    & Aaron Maashoh &  23 & 821-00-0265 & Scientist & 19114.12 &       NA & 3 & ⋯ & Good & 809.98 & 31.37786 & 22 Years and 4 Months & No & 49.57495 & 199.4580743910713  & Low\\_spent\\_Small\\_value\\_payments   & 223.45130972736786 & Good\\\\\n",
       "\t 0x1606 & CUS\\_0xd40 & May      & Aaron Maashoh &  23 & 821-00-0265 & Scientist & 19114.12 & 1824.843 & 3 & ⋯ & Good & 809.98 & 24.79735 & 22 Years and 5 Months & No & 49.57495 & 41.420153086217326 & High\\_spent\\_Medium\\_value\\_payments & 341.48923103222177 & Good\\\\\n",
       "\t 0x1607 & CUS\\_0xd40 & June     & Aaron Maashoh &  23 & 821-00-0265 & Scientist & 19114.12 &       NA & 3 & ⋯ & Good & 809.98 & 27.26226 & 22 Years and 6 Months & No & 49.57495 & 62.430172331195294 & !@9\\#\\%8                           & 340.4792117872438  & Good\\\\\n",
       "\\end{tabular}\n"
      ],
      "text/markdown": [
       "\n",
       "A data.table: 6 × 28\n",
       "\n",
       "| ID &lt;chr&gt; | Customer_ID &lt;chr&gt; | Month &lt;chr&gt; | Name &lt;chr&gt; | Age &lt;int&gt; | SSN &lt;chr&gt; | Occupation &lt;chr&gt; | Annual_Income &lt;dbl&gt; | Monthly_Inhand_Salary &lt;dbl&gt; | Num_Bank_Accounts &lt;int&gt; | ⋯ ⋯ | Credit_Mix &lt;chr&gt; | Outstanding_Debt &lt;chr&gt; | Credit_Utilization_Ratio &lt;dbl&gt; | Credit_History_Age &lt;chr&gt; | Payment_of_Min_Amount &lt;chr&gt; | Total_EMI_per_month &lt;dbl&gt; | Amount_invested_monthly &lt;chr&gt; | Payment_Behaviour &lt;chr&gt; | Monthly_Balance &lt;chr&gt; | Credit_Score &lt;chr&gt; |\n",
       "|---|---|---|---|---|---|---|---|---|---|---|---|---|---|---|---|---|---|---|---|---|\n",
       "| 0x1602 | CUS_0xd40 | January  | Aaron Maashoh |  23 | 821-00-0265 | Scientist | 19114.12 | 1824.843 | 3 | ⋯ | _    | 809.98 | 26.82262 | 22 Years and 1 Months | No | 49.57495 | 80.41529543900253  | High_spent_Small_value_payments  | 312.49408867943663 | Good |\n",
       "| 0x1603 | CUS_0xd40 | February | Aaron Maashoh |  23 | 821-00-0265 | Scientist | 19114.12 |       NA | 3 | ⋯ | Good | 809.98 | 31.94496 | NA                    | No | 49.57495 | 118.28022162236736 | Low_spent_Large_value_payments   | 284.62916249607184 | Good |\n",
       "| 0x1604 | CUS_0xd40 | March    | Aaron Maashoh | 500 | 821-00-0265 | Scientist | 19114.12 |       NA | 3 | ⋯ | Good | 809.98 | 28.60935 | 22 Years and 3 Months | No | 49.57495 | 81.699521264648    | Low_spent_Medium_value_payments  | 331.2098628537912  | Good |\n",
       "| 0x1605 | CUS_0xd40 | April    | Aaron Maashoh |  23 | 821-00-0265 | Scientist | 19114.12 |       NA | 3 | ⋯ | Good | 809.98 | 31.37786 | 22 Years and 4 Months | No | 49.57495 | 199.4580743910713  | Low_spent_Small_value_payments   | 223.45130972736786 | Good |\n",
       "| 0x1606 | CUS_0xd40 | May      | Aaron Maashoh |  23 | 821-00-0265 | Scientist | 19114.12 | 1824.843 | 3 | ⋯ | Good | 809.98 | 24.79735 | 22 Years and 5 Months | No | 49.57495 | 41.420153086217326 | High_spent_Medium_value_payments | 341.48923103222177 | Good |\n",
       "| 0x1607 | CUS_0xd40 | June     | Aaron Maashoh |  23 | 821-00-0265 | Scientist | 19114.12 |       NA | 3 | ⋯ | Good | 809.98 | 27.26226 | 22 Years and 6 Months | No | 49.57495 | 62.430172331195294 | !@9#%8                           | 340.4792117872438  | Good |\n",
       "\n"
      ],
      "text/plain": [
       "  ID     Customer_ID Month    Name          Age SSN         Occupation\n",
       "1 0x1602 CUS_0xd40   January  Aaron Maashoh  23 821-00-0265 Scientist \n",
       "2 0x1603 CUS_0xd40   February Aaron Maashoh  23 821-00-0265 Scientist \n",
       "3 0x1604 CUS_0xd40   March    Aaron Maashoh 500 821-00-0265 Scientist \n",
       "4 0x1605 CUS_0xd40   April    Aaron Maashoh  23 821-00-0265 Scientist \n",
       "5 0x1606 CUS_0xd40   May      Aaron Maashoh  23 821-00-0265 Scientist \n",
       "6 0x1607 CUS_0xd40   June     Aaron Maashoh  23 821-00-0265 Scientist \n",
       "  Annual_Income Monthly_Inhand_Salary Num_Bank_Accounts ⋯ Credit_Mix\n",
       "1 19114.12      1824.843              3                 ⋯ _         \n",
       "2 19114.12            NA              3                 ⋯ Good      \n",
       "3 19114.12            NA              3                 ⋯ Good      \n",
       "4 19114.12            NA              3                 ⋯ Good      \n",
       "5 19114.12      1824.843              3                 ⋯ Good      \n",
       "6 19114.12            NA              3                 ⋯ Good      \n",
       "  Outstanding_Debt Credit_Utilization_Ratio Credit_History_Age   \n",
       "1 809.98           26.82262                 22 Years and 1 Months\n",
       "2 809.98           31.94496                 NA                   \n",
       "3 809.98           28.60935                 22 Years and 3 Months\n",
       "4 809.98           31.37786                 22 Years and 4 Months\n",
       "5 809.98           24.79735                 22 Years and 5 Months\n",
       "6 809.98           27.26226                 22 Years and 6 Months\n",
       "  Payment_of_Min_Amount Total_EMI_per_month Amount_invested_monthly\n",
       "1 No                    49.57495            80.41529543900253      \n",
       "2 No                    49.57495            118.28022162236736     \n",
       "3 No                    49.57495            81.699521264648        \n",
       "4 No                    49.57495            199.4580743910713      \n",
       "5 No                    49.57495            41.420153086217326     \n",
       "6 No                    49.57495            62.430172331195294     \n",
       "  Payment_Behaviour                Monthly_Balance    Credit_Score\n",
       "1 High_spent_Small_value_payments  312.49408867943663 Good        \n",
       "2 Low_spent_Large_value_payments   284.62916249607184 Good        \n",
       "3 Low_spent_Medium_value_payments  331.2098628537912  Good        \n",
       "4 Low_spent_Small_value_payments   223.45130972736786 Good        \n",
       "5 High_spent_Medium_value_payments 341.48923103222177 Good        \n",
       "6 !@9#%8                           340.4792117872438  Good        "
      ]
     },
     "metadata": {},
     "output_type": "display_data"
    }
   ],
   "source": [
    "# Replace underscores with NA in 'Changed_Credit_Limit' column\n",
    "train[, Changed_Credit_Limit := gsub(\"_\", NA, Changed_Credit_Limit)]\n",
    "\n",
    "# Print the first few rows of the updated data frame\n",
    "head(train)"
   ]
  },
  {
   "cell_type": "code",
   "execution_count": 88,
   "metadata": {
    "vscode": {
     "languageId": "r"
    }
   },
   "outputs": [
    {
     "data": {
      "text/html": [
       "<table class=\"dataframe\">\n",
       "<caption>A data.table: 6 × 28</caption>\n",
       "<thead>\n",
       "\t<tr><th scope=col>ID</th><th scope=col>Customer_ID</th><th scope=col>Month</th><th scope=col>Name</th><th scope=col>Age</th><th scope=col>SSN</th><th scope=col>Occupation</th><th scope=col>Annual_Income</th><th scope=col>Monthly_Inhand_Salary</th><th scope=col>Num_Bank_Accounts</th><th scope=col>⋯</th><th scope=col>Credit_Mix</th><th scope=col>Outstanding_Debt</th><th scope=col>Credit_Utilization_Ratio</th><th scope=col>Credit_History_Age</th><th scope=col>Payment_of_Min_Amount</th><th scope=col>Total_EMI_per_month</th><th scope=col>Amount_invested_monthly</th><th scope=col>Payment_Behaviour</th><th scope=col>Monthly_Balance</th><th scope=col>Credit_Score</th></tr>\n",
       "\t<tr><th scope=col>&lt;chr&gt;</th><th scope=col>&lt;chr&gt;</th><th scope=col>&lt;chr&gt;</th><th scope=col>&lt;chr&gt;</th><th scope=col>&lt;int&gt;</th><th scope=col>&lt;chr&gt;</th><th scope=col>&lt;chr&gt;</th><th scope=col>&lt;dbl&gt;</th><th scope=col>&lt;dbl&gt;</th><th scope=col>&lt;int&gt;</th><th scope=col>⋯</th><th scope=col>&lt;chr&gt;</th><th scope=col>&lt;chr&gt;</th><th scope=col>&lt;dbl&gt;</th><th scope=col>&lt;chr&gt;</th><th scope=col>&lt;chr&gt;</th><th scope=col>&lt;dbl&gt;</th><th scope=col>&lt;chr&gt;</th><th scope=col>&lt;chr&gt;</th><th scope=col>&lt;chr&gt;</th><th scope=col>&lt;chr&gt;</th></tr>\n",
       "</thead>\n",
       "<tbody>\n",
       "\t<tr><td>0x1602</td><td>CUS_0xd40</td><td>January </td><td>Aaron Maashoh</td><td> 23</td><td>821-00-0265</td><td>Scientist</td><td>19114.12</td><td>1824.843</td><td>3</td><td>⋯</td><td>_   </td><td>809.98</td><td>26.82262</td><td>22 Years and 1 Months</td><td>No</td><td>49.57495</td><td>80.41529543900253 </td><td>High_spent_Small_value_payments </td><td>312.49408867943663</td><td>Good</td></tr>\n",
       "\t<tr><td>0x1603</td><td>CUS_0xd40</td><td>February</td><td>Aaron Maashoh</td><td> 23</td><td>821-00-0265</td><td>Scientist</td><td>19114.12</td><td>      NA</td><td>3</td><td>⋯</td><td>Good</td><td>809.98</td><td>31.94496</td><td>NA                   </td><td>No</td><td>49.57495</td><td>118.28022162236736</td><td>Low_spent_Large_value_payments  </td><td>284.62916249607184</td><td>Good</td></tr>\n",
       "\t<tr><td>0x1604</td><td>CUS_0xd40</td><td>March   </td><td>Aaron Maashoh</td><td>500</td><td>821-00-0265</td><td>Scientist</td><td>19114.12</td><td>      NA</td><td>3</td><td>⋯</td><td>Good</td><td>809.98</td><td>28.60935</td><td>22 Years and 3 Months</td><td>No</td><td>49.57495</td><td>81.699521264648   </td><td>Low_spent_Medium_value_payments </td><td>331.2098628537912 </td><td>Good</td></tr>\n",
       "\t<tr><td>0x1605</td><td>CUS_0xd40</td><td>April   </td><td>Aaron Maashoh</td><td> 23</td><td>821-00-0265</td><td>Scientist</td><td>19114.12</td><td>      NA</td><td>3</td><td>⋯</td><td>Good</td><td>809.98</td><td>31.37786</td><td>22 Years and 4 Months</td><td>No</td><td>49.57495</td><td>199.4580743910713 </td><td>Low_spent_Small_value_payments  </td><td>223.45130972736786</td><td>Good</td></tr>\n",
       "\t<tr><td>0x1606</td><td>CUS_0xd40</td><td>May     </td><td>Aaron Maashoh</td><td> 23</td><td>821-00-0265</td><td>Scientist</td><td>19114.12</td><td>1824.843</td><td>3</td><td>⋯</td><td>Good</td><td>809.98</td><td>24.79735</td><td>22 Years and 5 Months</td><td>No</td><td>49.57495</td><td>41.420153086217326</td><td>High_spent_Medium_value_payments</td><td>341.48923103222177</td><td>Good</td></tr>\n",
       "\t<tr><td>0x1607</td><td>CUS_0xd40</td><td>June    </td><td>Aaron Maashoh</td><td> 23</td><td>821-00-0265</td><td>Scientist</td><td>19114.12</td><td>      NA</td><td>3</td><td>⋯</td><td>Good</td><td>809.98</td><td>27.26226</td><td>22 Years and 6 Months</td><td>No</td><td>49.57495</td><td>62.430172331195294</td><td>!@9#%8                          </td><td>340.4792117872438 </td><td>Good</td></tr>\n",
       "</tbody>\n",
       "</table>\n"
      ],
      "text/latex": [
       "A data.table: 6 × 28\n",
       "\\begin{tabular}{lllllllllllllllllllll}\n",
       " ID & Customer\\_ID & Month & Name & Age & SSN & Occupation & Annual\\_Income & Monthly\\_Inhand\\_Salary & Num\\_Bank\\_Accounts & ⋯ & Credit\\_Mix & Outstanding\\_Debt & Credit\\_Utilization\\_Ratio & Credit\\_History\\_Age & Payment\\_of\\_Min\\_Amount & Total\\_EMI\\_per\\_month & Amount\\_invested\\_monthly & Payment\\_Behaviour & Monthly\\_Balance & Credit\\_Score\\\\\n",
       " <chr> & <chr> & <chr> & <chr> & <int> & <chr> & <chr> & <dbl> & <dbl> & <int> & ⋯ & <chr> & <chr> & <dbl> & <chr> & <chr> & <dbl> & <chr> & <chr> & <chr> & <chr>\\\\\n",
       "\\hline\n",
       "\t 0x1602 & CUS\\_0xd40 & January  & Aaron Maashoh &  23 & 821-00-0265 & Scientist & 19114.12 & 1824.843 & 3 & ⋯ & \\_    & 809.98 & 26.82262 & 22 Years and 1 Months & No & 49.57495 & 80.41529543900253  & High\\_spent\\_Small\\_value\\_payments  & 312.49408867943663 & Good\\\\\n",
       "\t 0x1603 & CUS\\_0xd40 & February & Aaron Maashoh &  23 & 821-00-0265 & Scientist & 19114.12 &       NA & 3 & ⋯ & Good & 809.98 & 31.94496 & NA                    & No & 49.57495 & 118.28022162236736 & Low\\_spent\\_Large\\_value\\_payments   & 284.62916249607184 & Good\\\\\n",
       "\t 0x1604 & CUS\\_0xd40 & March    & Aaron Maashoh & 500 & 821-00-0265 & Scientist & 19114.12 &       NA & 3 & ⋯ & Good & 809.98 & 28.60935 & 22 Years and 3 Months & No & 49.57495 & 81.699521264648    & Low\\_spent\\_Medium\\_value\\_payments  & 331.2098628537912  & Good\\\\\n",
       "\t 0x1605 & CUS\\_0xd40 & April    & Aaron Maashoh &  23 & 821-00-0265 & Scientist & 19114.12 &       NA & 3 & ⋯ & Good & 809.98 & 31.37786 & 22 Years and 4 Months & No & 49.57495 & 199.4580743910713  & Low\\_spent\\_Small\\_value\\_payments   & 223.45130972736786 & Good\\\\\n",
       "\t 0x1606 & CUS\\_0xd40 & May      & Aaron Maashoh &  23 & 821-00-0265 & Scientist & 19114.12 & 1824.843 & 3 & ⋯ & Good & 809.98 & 24.79735 & 22 Years and 5 Months & No & 49.57495 & 41.420153086217326 & High\\_spent\\_Medium\\_value\\_payments & 341.48923103222177 & Good\\\\\n",
       "\t 0x1607 & CUS\\_0xd40 & June     & Aaron Maashoh &  23 & 821-00-0265 & Scientist & 19114.12 &       NA & 3 & ⋯ & Good & 809.98 & 27.26226 & 22 Years and 6 Months & No & 49.57495 & 62.430172331195294 & !@9\\#\\%8                           & 340.4792117872438  & Good\\\\\n",
       "\\end{tabular}\n"
      ],
      "text/markdown": [
       "\n",
       "A data.table: 6 × 28\n",
       "\n",
       "| ID &lt;chr&gt; | Customer_ID &lt;chr&gt; | Month &lt;chr&gt; | Name &lt;chr&gt; | Age &lt;int&gt; | SSN &lt;chr&gt; | Occupation &lt;chr&gt; | Annual_Income &lt;dbl&gt; | Monthly_Inhand_Salary &lt;dbl&gt; | Num_Bank_Accounts &lt;int&gt; | ⋯ ⋯ | Credit_Mix &lt;chr&gt; | Outstanding_Debt &lt;chr&gt; | Credit_Utilization_Ratio &lt;dbl&gt; | Credit_History_Age &lt;chr&gt; | Payment_of_Min_Amount &lt;chr&gt; | Total_EMI_per_month &lt;dbl&gt; | Amount_invested_monthly &lt;chr&gt; | Payment_Behaviour &lt;chr&gt; | Monthly_Balance &lt;chr&gt; | Credit_Score &lt;chr&gt; |\n",
       "|---|---|---|---|---|---|---|---|---|---|---|---|---|---|---|---|---|---|---|---|---|\n",
       "| 0x1602 | CUS_0xd40 | January  | Aaron Maashoh |  23 | 821-00-0265 | Scientist | 19114.12 | 1824.843 | 3 | ⋯ | _    | 809.98 | 26.82262 | 22 Years and 1 Months | No | 49.57495 | 80.41529543900253  | High_spent_Small_value_payments  | 312.49408867943663 | Good |\n",
       "| 0x1603 | CUS_0xd40 | February | Aaron Maashoh |  23 | 821-00-0265 | Scientist | 19114.12 |       NA | 3 | ⋯ | Good | 809.98 | 31.94496 | NA                    | No | 49.57495 | 118.28022162236736 | Low_spent_Large_value_payments   | 284.62916249607184 | Good |\n",
       "| 0x1604 | CUS_0xd40 | March    | Aaron Maashoh | 500 | 821-00-0265 | Scientist | 19114.12 |       NA | 3 | ⋯ | Good | 809.98 | 28.60935 | 22 Years and 3 Months | No | 49.57495 | 81.699521264648    | Low_spent_Medium_value_payments  | 331.2098628537912  | Good |\n",
       "| 0x1605 | CUS_0xd40 | April    | Aaron Maashoh |  23 | 821-00-0265 | Scientist | 19114.12 |       NA | 3 | ⋯ | Good | 809.98 | 31.37786 | 22 Years and 4 Months | No | 49.57495 | 199.4580743910713  | Low_spent_Small_value_payments   | 223.45130972736786 | Good |\n",
       "| 0x1606 | CUS_0xd40 | May      | Aaron Maashoh |  23 | 821-00-0265 | Scientist | 19114.12 | 1824.843 | 3 | ⋯ | Good | 809.98 | 24.79735 | 22 Years and 5 Months | No | 49.57495 | 41.420153086217326 | High_spent_Medium_value_payments | 341.48923103222177 | Good |\n",
       "| 0x1607 | CUS_0xd40 | June     | Aaron Maashoh |  23 | 821-00-0265 | Scientist | 19114.12 |       NA | 3 | ⋯ | Good | 809.98 | 27.26226 | 22 Years and 6 Months | No | 49.57495 | 62.430172331195294 | !@9#%8                           | 340.4792117872438  | Good |\n",
       "\n"
      ],
      "text/plain": [
       "  ID     Customer_ID Month    Name          Age SSN         Occupation\n",
       "1 0x1602 CUS_0xd40   January  Aaron Maashoh  23 821-00-0265 Scientist \n",
       "2 0x1603 CUS_0xd40   February Aaron Maashoh  23 821-00-0265 Scientist \n",
       "3 0x1604 CUS_0xd40   March    Aaron Maashoh 500 821-00-0265 Scientist \n",
       "4 0x1605 CUS_0xd40   April    Aaron Maashoh  23 821-00-0265 Scientist \n",
       "5 0x1606 CUS_0xd40   May      Aaron Maashoh  23 821-00-0265 Scientist \n",
       "6 0x1607 CUS_0xd40   June     Aaron Maashoh  23 821-00-0265 Scientist \n",
       "  Annual_Income Monthly_Inhand_Salary Num_Bank_Accounts ⋯ Credit_Mix\n",
       "1 19114.12      1824.843              3                 ⋯ _         \n",
       "2 19114.12            NA              3                 ⋯ Good      \n",
       "3 19114.12            NA              3                 ⋯ Good      \n",
       "4 19114.12            NA              3                 ⋯ Good      \n",
       "5 19114.12      1824.843              3                 ⋯ Good      \n",
       "6 19114.12            NA              3                 ⋯ Good      \n",
       "  Outstanding_Debt Credit_Utilization_Ratio Credit_History_Age   \n",
       "1 809.98           26.82262                 22 Years and 1 Months\n",
       "2 809.98           31.94496                 NA                   \n",
       "3 809.98           28.60935                 22 Years and 3 Months\n",
       "4 809.98           31.37786                 22 Years and 4 Months\n",
       "5 809.98           24.79735                 22 Years and 5 Months\n",
       "6 809.98           27.26226                 22 Years and 6 Months\n",
       "  Payment_of_Min_Amount Total_EMI_per_month Amount_invested_monthly\n",
       "1 No                    49.57495            80.41529543900253      \n",
       "2 No                    49.57495            118.28022162236736     \n",
       "3 No                    49.57495            81.699521264648        \n",
       "4 No                    49.57495            199.4580743910713      \n",
       "5 No                    49.57495            41.420153086217326     \n",
       "6 No                    49.57495            62.430172331195294     \n",
       "  Payment_Behaviour                Monthly_Balance    Credit_Score\n",
       "1 High_spent_Small_value_payments  312.49408867943663 Good        \n",
       "2 Low_spent_Large_value_payments   284.62916249607184 Good        \n",
       "3 Low_spent_Medium_value_payments  331.2098628537912  Good        \n",
       "4 Low_spent_Small_value_payments   223.45130972736786 Good        \n",
       "5 High_spent_Medium_value_payments 341.48923103222177 Good        \n",
       "6 !@9#%8                           340.4792117872438  Good        "
      ]
     },
     "metadata": {},
     "output_type": "display_data"
    }
   ],
   "source": [
    "# Convert 'Changed_Credit_Limit' column to numeric with coercion of errors to NA\n",
    "train[, Changed_Credit_Limit := as.numeric(Changed_Credit_Limit)]\n",
    "\n",
    "# Convert NA values to NaN\n",
    "train[is.na(Changed_Credit_Limit), Changed_Credit_Limit := NaN]\n",
    "\n",
    "# Print the first few rows of the updated data frame\n",
    "head(train)"
   ]
  },
  {
   "cell_type": "code",
   "execution_count": 89,
   "metadata": {
    "vscode": {
     "languageId": "r"
    }
   },
   "outputs": [
    {
     "data": {
      "text/html": [
       "<table class=\"dataframe\">\n",
       "<caption>A data.table: 6 × 28</caption>\n",
       "<thead>\n",
       "\t<tr><th scope=col>ID</th><th scope=col>Customer_ID</th><th scope=col>Month</th><th scope=col>Name</th><th scope=col>Age</th><th scope=col>SSN</th><th scope=col>Occupation</th><th scope=col>Annual_Income</th><th scope=col>Monthly_Inhand_Salary</th><th scope=col>Num_Bank_Accounts</th><th scope=col>⋯</th><th scope=col>Credit_Mix</th><th scope=col>Outstanding_Debt</th><th scope=col>Credit_Utilization_Ratio</th><th scope=col>Credit_History_Age</th><th scope=col>Payment_of_Min_Amount</th><th scope=col>Total_EMI_per_month</th><th scope=col>Amount_invested_monthly</th><th scope=col>Payment_Behaviour</th><th scope=col>Monthly_Balance</th><th scope=col>Credit_Score</th></tr>\n",
       "\t<tr><th scope=col>&lt;chr&gt;</th><th scope=col>&lt;chr&gt;</th><th scope=col>&lt;chr&gt;</th><th scope=col>&lt;chr&gt;</th><th scope=col>&lt;int&gt;</th><th scope=col>&lt;chr&gt;</th><th scope=col>&lt;chr&gt;</th><th scope=col>&lt;dbl&gt;</th><th scope=col>&lt;dbl&gt;</th><th scope=col>&lt;int&gt;</th><th scope=col>⋯</th><th scope=col>&lt;chr&gt;</th><th scope=col>&lt;chr&gt;</th><th scope=col>&lt;dbl&gt;</th><th scope=col>&lt;chr&gt;</th><th scope=col>&lt;chr&gt;</th><th scope=col>&lt;dbl&gt;</th><th scope=col>&lt;chr&gt;</th><th scope=col>&lt;chr&gt;</th><th scope=col>&lt;chr&gt;</th><th scope=col>&lt;chr&gt;</th></tr>\n",
       "</thead>\n",
       "<tbody>\n",
       "\t<tr><td>0x1602</td><td>CUS_0xd40</td><td>January </td><td>Aaron Maashoh</td><td> 23</td><td>821-00-0265</td><td>Scientist</td><td>19114.12</td><td>1824.843</td><td>3</td><td>⋯</td><td>_   </td><td>809.98</td><td>26.82262</td><td>22 Years and 1 Months</td><td>No</td><td>49.57495</td><td>80.41529543900253 </td><td>High_spent_Small_value_payments </td><td>312.49408867943663</td><td>Good</td></tr>\n",
       "\t<tr><td>0x1603</td><td>CUS_0xd40</td><td>February</td><td>Aaron Maashoh</td><td> 23</td><td>821-00-0265</td><td>Scientist</td><td>19114.12</td><td>      NA</td><td>3</td><td>⋯</td><td>Good</td><td>809.98</td><td>31.94496</td><td>NA                   </td><td>No</td><td>49.57495</td><td>118.28022162236736</td><td>Low_spent_Large_value_payments  </td><td>284.62916249607184</td><td>Good</td></tr>\n",
       "\t<tr><td>0x1604</td><td>CUS_0xd40</td><td>March   </td><td>Aaron Maashoh</td><td>500</td><td>821-00-0265</td><td>Scientist</td><td>19114.12</td><td>      NA</td><td>3</td><td>⋯</td><td>Good</td><td>809.98</td><td>28.60935</td><td>22 Years and 3 Months</td><td>No</td><td>49.57495</td><td>81.699521264648   </td><td>Low_spent_Medium_value_payments </td><td>331.2098628537912 </td><td>Good</td></tr>\n",
       "\t<tr><td>0x1605</td><td>CUS_0xd40</td><td>April   </td><td>Aaron Maashoh</td><td> 23</td><td>821-00-0265</td><td>Scientist</td><td>19114.12</td><td>      NA</td><td>3</td><td>⋯</td><td>Good</td><td>809.98</td><td>31.37786</td><td>22 Years and 4 Months</td><td>No</td><td>49.57495</td><td>199.4580743910713 </td><td>Low_spent_Small_value_payments  </td><td>223.45130972736786</td><td>Good</td></tr>\n",
       "\t<tr><td>0x1606</td><td>CUS_0xd40</td><td>May     </td><td>Aaron Maashoh</td><td> 23</td><td>821-00-0265</td><td>Scientist</td><td>19114.12</td><td>1824.843</td><td>3</td><td>⋯</td><td>Good</td><td>809.98</td><td>24.79735</td><td>22 Years and 5 Months</td><td>No</td><td>49.57495</td><td>41.420153086217326</td><td>High_spent_Medium_value_payments</td><td>341.48923103222177</td><td>Good</td></tr>\n",
       "\t<tr><td>0x1607</td><td>CUS_0xd40</td><td>June    </td><td>Aaron Maashoh</td><td> 23</td><td>821-00-0265</td><td>Scientist</td><td>19114.12</td><td>      NA</td><td>3</td><td>⋯</td><td>Good</td><td>809.98</td><td>27.26226</td><td>22 Years and 6 Months</td><td>No</td><td>49.57495</td><td>62.430172331195294</td><td>!@9#%8                          </td><td>340.4792117872438 </td><td>Good</td></tr>\n",
       "</tbody>\n",
       "</table>\n"
      ],
      "text/latex": [
       "A data.table: 6 × 28\n",
       "\\begin{tabular}{lllllllllllllllllllll}\n",
       " ID & Customer\\_ID & Month & Name & Age & SSN & Occupation & Annual\\_Income & Monthly\\_Inhand\\_Salary & Num\\_Bank\\_Accounts & ⋯ & Credit\\_Mix & Outstanding\\_Debt & Credit\\_Utilization\\_Ratio & Credit\\_History\\_Age & Payment\\_of\\_Min\\_Amount & Total\\_EMI\\_per\\_month & Amount\\_invested\\_monthly & Payment\\_Behaviour & Monthly\\_Balance & Credit\\_Score\\\\\n",
       " <chr> & <chr> & <chr> & <chr> & <int> & <chr> & <chr> & <dbl> & <dbl> & <int> & ⋯ & <chr> & <chr> & <dbl> & <chr> & <chr> & <dbl> & <chr> & <chr> & <chr> & <chr>\\\\\n",
       "\\hline\n",
       "\t 0x1602 & CUS\\_0xd40 & January  & Aaron Maashoh &  23 & 821-00-0265 & Scientist & 19114.12 & 1824.843 & 3 & ⋯ & \\_    & 809.98 & 26.82262 & 22 Years and 1 Months & No & 49.57495 & 80.41529543900253  & High\\_spent\\_Small\\_value\\_payments  & 312.49408867943663 & Good\\\\\n",
       "\t 0x1603 & CUS\\_0xd40 & February & Aaron Maashoh &  23 & 821-00-0265 & Scientist & 19114.12 &       NA & 3 & ⋯ & Good & 809.98 & 31.94496 & NA                    & No & 49.57495 & 118.28022162236736 & Low\\_spent\\_Large\\_value\\_payments   & 284.62916249607184 & Good\\\\\n",
       "\t 0x1604 & CUS\\_0xd40 & March    & Aaron Maashoh & 500 & 821-00-0265 & Scientist & 19114.12 &       NA & 3 & ⋯ & Good & 809.98 & 28.60935 & 22 Years and 3 Months & No & 49.57495 & 81.699521264648    & Low\\_spent\\_Medium\\_value\\_payments  & 331.2098628537912  & Good\\\\\n",
       "\t 0x1605 & CUS\\_0xd40 & April    & Aaron Maashoh &  23 & 821-00-0265 & Scientist & 19114.12 &       NA & 3 & ⋯ & Good & 809.98 & 31.37786 & 22 Years and 4 Months & No & 49.57495 & 199.4580743910713  & Low\\_spent\\_Small\\_value\\_payments   & 223.45130972736786 & Good\\\\\n",
       "\t 0x1606 & CUS\\_0xd40 & May      & Aaron Maashoh &  23 & 821-00-0265 & Scientist & 19114.12 & 1824.843 & 3 & ⋯ & Good & 809.98 & 24.79735 & 22 Years and 5 Months & No & 49.57495 & 41.420153086217326 & High\\_spent\\_Medium\\_value\\_payments & 341.48923103222177 & Good\\\\\n",
       "\t 0x1607 & CUS\\_0xd40 & June     & Aaron Maashoh &  23 & 821-00-0265 & Scientist & 19114.12 &       NA & 3 & ⋯ & Good & 809.98 & 27.26226 & 22 Years and 6 Months & No & 49.57495 & 62.430172331195294 & !@9\\#\\%8                           & 340.4792117872438  & Good\\\\\n",
       "\\end{tabular}\n"
      ],
      "text/markdown": [
       "\n",
       "A data.table: 6 × 28\n",
       "\n",
       "| ID &lt;chr&gt; | Customer_ID &lt;chr&gt; | Month &lt;chr&gt; | Name &lt;chr&gt; | Age &lt;int&gt; | SSN &lt;chr&gt; | Occupation &lt;chr&gt; | Annual_Income &lt;dbl&gt; | Monthly_Inhand_Salary &lt;dbl&gt; | Num_Bank_Accounts &lt;int&gt; | ⋯ ⋯ | Credit_Mix &lt;chr&gt; | Outstanding_Debt &lt;chr&gt; | Credit_Utilization_Ratio &lt;dbl&gt; | Credit_History_Age &lt;chr&gt; | Payment_of_Min_Amount &lt;chr&gt; | Total_EMI_per_month &lt;dbl&gt; | Amount_invested_monthly &lt;chr&gt; | Payment_Behaviour &lt;chr&gt; | Monthly_Balance &lt;chr&gt; | Credit_Score &lt;chr&gt; |\n",
       "|---|---|---|---|---|---|---|---|---|---|---|---|---|---|---|---|---|---|---|---|---|\n",
       "| 0x1602 | CUS_0xd40 | January  | Aaron Maashoh |  23 | 821-00-0265 | Scientist | 19114.12 | 1824.843 | 3 | ⋯ | _    | 809.98 | 26.82262 | 22 Years and 1 Months | No | 49.57495 | 80.41529543900253  | High_spent_Small_value_payments  | 312.49408867943663 | Good |\n",
       "| 0x1603 | CUS_0xd40 | February | Aaron Maashoh |  23 | 821-00-0265 | Scientist | 19114.12 |       NA | 3 | ⋯ | Good | 809.98 | 31.94496 | NA                    | No | 49.57495 | 118.28022162236736 | Low_spent_Large_value_payments   | 284.62916249607184 | Good |\n",
       "| 0x1604 | CUS_0xd40 | March    | Aaron Maashoh | 500 | 821-00-0265 | Scientist | 19114.12 |       NA | 3 | ⋯ | Good | 809.98 | 28.60935 | 22 Years and 3 Months | No | 49.57495 | 81.699521264648    | Low_spent_Medium_value_payments  | 331.2098628537912  | Good |\n",
       "| 0x1605 | CUS_0xd40 | April    | Aaron Maashoh |  23 | 821-00-0265 | Scientist | 19114.12 |       NA | 3 | ⋯ | Good | 809.98 | 31.37786 | 22 Years and 4 Months | No | 49.57495 | 199.4580743910713  | Low_spent_Small_value_payments   | 223.45130972736786 | Good |\n",
       "| 0x1606 | CUS_0xd40 | May      | Aaron Maashoh |  23 | 821-00-0265 | Scientist | 19114.12 | 1824.843 | 3 | ⋯ | Good | 809.98 | 24.79735 | 22 Years and 5 Months | No | 49.57495 | 41.420153086217326 | High_spent_Medium_value_payments | 341.48923103222177 | Good |\n",
       "| 0x1607 | CUS_0xd40 | June     | Aaron Maashoh |  23 | 821-00-0265 | Scientist | 19114.12 |       NA | 3 | ⋯ | Good | 809.98 | 27.26226 | 22 Years and 6 Months | No | 49.57495 | 62.430172331195294 | !@9#%8                           | 340.4792117872438  | Good |\n",
       "\n"
      ],
      "text/plain": [
       "  ID     Customer_ID Month    Name          Age SSN         Occupation\n",
       "1 0x1602 CUS_0xd40   January  Aaron Maashoh  23 821-00-0265 Scientist \n",
       "2 0x1603 CUS_0xd40   February Aaron Maashoh  23 821-00-0265 Scientist \n",
       "3 0x1604 CUS_0xd40   March    Aaron Maashoh 500 821-00-0265 Scientist \n",
       "4 0x1605 CUS_0xd40   April    Aaron Maashoh  23 821-00-0265 Scientist \n",
       "5 0x1606 CUS_0xd40   May      Aaron Maashoh  23 821-00-0265 Scientist \n",
       "6 0x1607 CUS_0xd40   June     Aaron Maashoh  23 821-00-0265 Scientist \n",
       "  Annual_Income Monthly_Inhand_Salary Num_Bank_Accounts ⋯ Credit_Mix\n",
       "1 19114.12      1824.843              3                 ⋯ _         \n",
       "2 19114.12            NA              3                 ⋯ Good      \n",
       "3 19114.12            NA              3                 ⋯ Good      \n",
       "4 19114.12            NA              3                 ⋯ Good      \n",
       "5 19114.12      1824.843              3                 ⋯ Good      \n",
       "6 19114.12            NA              3                 ⋯ Good      \n",
       "  Outstanding_Debt Credit_Utilization_Ratio Credit_History_Age   \n",
       "1 809.98           26.82262                 22 Years and 1 Months\n",
       "2 809.98           31.94496                 NA                   \n",
       "3 809.98           28.60935                 22 Years and 3 Months\n",
       "4 809.98           31.37786                 22 Years and 4 Months\n",
       "5 809.98           24.79735                 22 Years and 5 Months\n",
       "6 809.98           27.26226                 22 Years and 6 Months\n",
       "  Payment_of_Min_Amount Total_EMI_per_month Amount_invested_monthly\n",
       "1 No                    49.57495            80.41529543900253      \n",
       "2 No                    49.57495            118.28022162236736     \n",
       "3 No                    49.57495            81.699521264648        \n",
       "4 No                    49.57495            199.4580743910713      \n",
       "5 No                    49.57495            41.420153086217326     \n",
       "6 No                    49.57495            62.430172331195294     \n",
       "  Payment_Behaviour                Monthly_Balance    Credit_Score\n",
       "1 High_spent_Small_value_payments  312.49408867943663 Good        \n",
       "2 Low_spent_Large_value_payments   284.62916249607184 Good        \n",
       "3 Low_spent_Medium_value_payments  331.2098628537912  Good        \n",
       "4 Low_spent_Small_value_payments   223.45130972736786 Good        \n",
       "5 High_spent_Medium_value_payments 341.48923103222177 Good        \n",
       "6 !@9#%8                           340.4792117872438  Good        "
      ]
     },
     "metadata": {},
     "output_type": "display_data"
    }
   ],
   "source": [
    "\n",
    "# Fill missing values in 'Changed_Credit_Limit' column with '0'\n",
    "train[, Changed_Credit_Limit := ifelse(is.na(Changed_Credit_Limit), 0, Changed_Credit_Limit)]\n",
    "\n",
    "# Print the first few rows of the updated data frame\n",
    "head(train)"
   ]
  },
  {
   "cell_type": "code",
   "execution_count": 90,
   "metadata": {
    "vscode": {
     "languageId": "r"
    }
   },
   "outputs": [
    {
     "data": {
      "text/html": [
       "<table class=\"dataframe\">\n",
       "<caption>A data.table: 6 × 28</caption>\n",
       "<thead>\n",
       "\t<tr><th scope=col>ID</th><th scope=col>Customer_ID</th><th scope=col>Month</th><th scope=col>Name</th><th scope=col>Age</th><th scope=col>SSN</th><th scope=col>Occupation</th><th scope=col>Annual_Income</th><th scope=col>Monthly_Inhand_Salary</th><th scope=col>Num_Bank_Accounts</th><th scope=col>⋯</th><th scope=col>Credit_Mix</th><th scope=col>Outstanding_Debt</th><th scope=col>Credit_Utilization_Ratio</th><th scope=col>Credit_History_Age</th><th scope=col>Payment_of_Min_Amount</th><th scope=col>Total_EMI_per_month</th><th scope=col>Amount_invested_monthly</th><th scope=col>Payment_Behaviour</th><th scope=col>Monthly_Balance</th><th scope=col>Credit_Score</th></tr>\n",
       "\t<tr><th scope=col>&lt;chr&gt;</th><th scope=col>&lt;chr&gt;</th><th scope=col>&lt;chr&gt;</th><th scope=col>&lt;chr&gt;</th><th scope=col>&lt;int&gt;</th><th scope=col>&lt;chr&gt;</th><th scope=col>&lt;chr&gt;</th><th scope=col>&lt;dbl&gt;</th><th scope=col>&lt;dbl&gt;</th><th scope=col>&lt;int&gt;</th><th scope=col>⋯</th><th scope=col>&lt;chr&gt;</th><th scope=col>&lt;chr&gt;</th><th scope=col>&lt;dbl&gt;</th><th scope=col>&lt;chr&gt;</th><th scope=col>&lt;chr&gt;</th><th scope=col>&lt;dbl&gt;</th><th scope=col>&lt;chr&gt;</th><th scope=col>&lt;chr&gt;</th><th scope=col>&lt;chr&gt;</th><th scope=col>&lt;chr&gt;</th></tr>\n",
       "</thead>\n",
       "<tbody>\n",
       "\t<tr><td>0x1602</td><td>CUS_0xd40</td><td>January </td><td>Aaron Maashoh</td><td> 23</td><td>821-00-0265</td><td>Scientist</td><td>19114.12</td><td>1824.843</td><td>3</td><td>⋯</td><td>_   </td><td>809.98</td><td>26.82262</td><td>22 Years and 1 Months</td><td>No</td><td>49.57495</td><td>80.41529543900253 </td><td>High_spent_Small_value_payments </td><td>312.49408867943663</td><td>Good</td></tr>\n",
       "\t<tr><td>0x1603</td><td>CUS_0xd40</td><td>February</td><td>Aaron Maashoh</td><td> 23</td><td>821-00-0265</td><td>Scientist</td><td>19114.12</td><td>      NA</td><td>3</td><td>⋯</td><td>Good</td><td>809.98</td><td>31.94496</td><td>NA                   </td><td>No</td><td>49.57495</td><td>118.28022162236736</td><td>Low_spent_Large_value_payments  </td><td>284.62916249607184</td><td>Good</td></tr>\n",
       "\t<tr><td>0x1604</td><td>CUS_0xd40</td><td>March   </td><td>Aaron Maashoh</td><td>500</td><td>821-00-0265</td><td>Scientist</td><td>19114.12</td><td>      NA</td><td>3</td><td>⋯</td><td>Good</td><td>809.98</td><td>28.60935</td><td>22 Years and 3 Months</td><td>No</td><td>49.57495</td><td>81.699521264648   </td><td>Low_spent_Medium_value_payments </td><td>331.2098628537912 </td><td>Good</td></tr>\n",
       "\t<tr><td>0x1605</td><td>CUS_0xd40</td><td>April   </td><td>Aaron Maashoh</td><td> 23</td><td>821-00-0265</td><td>Scientist</td><td>19114.12</td><td>      NA</td><td>3</td><td>⋯</td><td>Good</td><td>809.98</td><td>31.37786</td><td>22 Years and 4 Months</td><td>No</td><td>49.57495</td><td>199.4580743910713 </td><td>Low_spent_Small_value_payments  </td><td>223.45130972736786</td><td>Good</td></tr>\n",
       "\t<tr><td>0x1606</td><td>CUS_0xd40</td><td>May     </td><td>Aaron Maashoh</td><td> 23</td><td>821-00-0265</td><td>Scientist</td><td>19114.12</td><td>1824.843</td><td>3</td><td>⋯</td><td>Good</td><td>809.98</td><td>24.79735</td><td>22 Years and 5 Months</td><td>No</td><td>49.57495</td><td>41.420153086217326</td><td>High_spent_Medium_value_payments</td><td>341.48923103222177</td><td>Good</td></tr>\n",
       "\t<tr><td>0x1607</td><td>CUS_0xd40</td><td>June    </td><td>Aaron Maashoh</td><td> 23</td><td>821-00-0265</td><td>Scientist</td><td>19114.12</td><td>      NA</td><td>3</td><td>⋯</td><td>Good</td><td>809.98</td><td>27.26226</td><td>22 Years and 6 Months</td><td>No</td><td>49.57495</td><td>62.430172331195294</td><td>!@9#%8                          </td><td>340.4792117872438 </td><td>Good</td></tr>\n",
       "</tbody>\n",
       "</table>\n"
      ],
      "text/latex": [
       "A data.table: 6 × 28\n",
       "\\begin{tabular}{lllllllllllllllllllll}\n",
       " ID & Customer\\_ID & Month & Name & Age & SSN & Occupation & Annual\\_Income & Monthly\\_Inhand\\_Salary & Num\\_Bank\\_Accounts & ⋯ & Credit\\_Mix & Outstanding\\_Debt & Credit\\_Utilization\\_Ratio & Credit\\_History\\_Age & Payment\\_of\\_Min\\_Amount & Total\\_EMI\\_per\\_month & Amount\\_invested\\_monthly & Payment\\_Behaviour & Monthly\\_Balance & Credit\\_Score\\\\\n",
       " <chr> & <chr> & <chr> & <chr> & <int> & <chr> & <chr> & <dbl> & <dbl> & <int> & ⋯ & <chr> & <chr> & <dbl> & <chr> & <chr> & <dbl> & <chr> & <chr> & <chr> & <chr>\\\\\n",
       "\\hline\n",
       "\t 0x1602 & CUS\\_0xd40 & January  & Aaron Maashoh &  23 & 821-00-0265 & Scientist & 19114.12 & 1824.843 & 3 & ⋯ & \\_    & 809.98 & 26.82262 & 22 Years and 1 Months & No & 49.57495 & 80.41529543900253  & High\\_spent\\_Small\\_value\\_payments  & 312.49408867943663 & Good\\\\\n",
       "\t 0x1603 & CUS\\_0xd40 & February & Aaron Maashoh &  23 & 821-00-0265 & Scientist & 19114.12 &       NA & 3 & ⋯ & Good & 809.98 & 31.94496 & NA                    & No & 49.57495 & 118.28022162236736 & Low\\_spent\\_Large\\_value\\_payments   & 284.62916249607184 & Good\\\\\n",
       "\t 0x1604 & CUS\\_0xd40 & March    & Aaron Maashoh & 500 & 821-00-0265 & Scientist & 19114.12 &       NA & 3 & ⋯ & Good & 809.98 & 28.60935 & 22 Years and 3 Months & No & 49.57495 & 81.699521264648    & Low\\_spent\\_Medium\\_value\\_payments  & 331.2098628537912  & Good\\\\\n",
       "\t 0x1605 & CUS\\_0xd40 & April    & Aaron Maashoh &  23 & 821-00-0265 & Scientist & 19114.12 &       NA & 3 & ⋯ & Good & 809.98 & 31.37786 & 22 Years and 4 Months & No & 49.57495 & 199.4580743910713  & Low\\_spent\\_Small\\_value\\_payments   & 223.45130972736786 & Good\\\\\n",
       "\t 0x1606 & CUS\\_0xd40 & May      & Aaron Maashoh &  23 & 821-00-0265 & Scientist & 19114.12 & 1824.843 & 3 & ⋯ & Good & 809.98 & 24.79735 & 22 Years and 5 Months & No & 49.57495 & 41.420153086217326 & High\\_spent\\_Medium\\_value\\_payments & 341.48923103222177 & Good\\\\\n",
       "\t 0x1607 & CUS\\_0xd40 & June     & Aaron Maashoh &  23 & 821-00-0265 & Scientist & 19114.12 &       NA & 3 & ⋯ & Good & 809.98 & 27.26226 & 22 Years and 6 Months & No & 49.57495 & 62.430172331195294 & !@9\\#\\%8                           & 340.4792117872438  & Good\\\\\n",
       "\\end{tabular}\n"
      ],
      "text/markdown": [
       "\n",
       "A data.table: 6 × 28\n",
       "\n",
       "| ID &lt;chr&gt; | Customer_ID &lt;chr&gt; | Month &lt;chr&gt; | Name &lt;chr&gt; | Age &lt;int&gt; | SSN &lt;chr&gt; | Occupation &lt;chr&gt; | Annual_Income &lt;dbl&gt; | Monthly_Inhand_Salary &lt;dbl&gt; | Num_Bank_Accounts &lt;int&gt; | ⋯ ⋯ | Credit_Mix &lt;chr&gt; | Outstanding_Debt &lt;chr&gt; | Credit_Utilization_Ratio &lt;dbl&gt; | Credit_History_Age &lt;chr&gt; | Payment_of_Min_Amount &lt;chr&gt; | Total_EMI_per_month &lt;dbl&gt; | Amount_invested_monthly &lt;chr&gt; | Payment_Behaviour &lt;chr&gt; | Monthly_Balance &lt;chr&gt; | Credit_Score &lt;chr&gt; |\n",
       "|---|---|---|---|---|---|---|---|---|---|---|---|---|---|---|---|---|---|---|---|---|\n",
       "| 0x1602 | CUS_0xd40 | January  | Aaron Maashoh |  23 | 821-00-0265 | Scientist | 19114.12 | 1824.843 | 3 | ⋯ | _    | 809.98 | 26.82262 | 22 Years and 1 Months | No | 49.57495 | 80.41529543900253  | High_spent_Small_value_payments  | 312.49408867943663 | Good |\n",
       "| 0x1603 | CUS_0xd40 | February | Aaron Maashoh |  23 | 821-00-0265 | Scientist | 19114.12 |       NA | 3 | ⋯ | Good | 809.98 | 31.94496 | NA                    | No | 49.57495 | 118.28022162236736 | Low_spent_Large_value_payments   | 284.62916249607184 | Good |\n",
       "| 0x1604 | CUS_0xd40 | March    | Aaron Maashoh | 500 | 821-00-0265 | Scientist | 19114.12 |       NA | 3 | ⋯ | Good | 809.98 | 28.60935 | 22 Years and 3 Months | No | 49.57495 | 81.699521264648    | Low_spent_Medium_value_payments  | 331.2098628537912  | Good |\n",
       "| 0x1605 | CUS_0xd40 | April    | Aaron Maashoh |  23 | 821-00-0265 | Scientist | 19114.12 |       NA | 3 | ⋯ | Good | 809.98 | 31.37786 | 22 Years and 4 Months | No | 49.57495 | 199.4580743910713  | Low_spent_Small_value_payments   | 223.45130972736786 | Good |\n",
       "| 0x1606 | CUS_0xd40 | May      | Aaron Maashoh |  23 | 821-00-0265 | Scientist | 19114.12 | 1824.843 | 3 | ⋯ | Good | 809.98 | 24.79735 | 22 Years and 5 Months | No | 49.57495 | 41.420153086217326 | High_spent_Medium_value_payments | 341.48923103222177 | Good |\n",
       "| 0x1607 | CUS_0xd40 | June     | Aaron Maashoh |  23 | 821-00-0265 | Scientist | 19114.12 |       NA | 3 | ⋯ | Good | 809.98 | 27.26226 | 22 Years and 6 Months | No | 49.57495 | 62.430172331195294 | !@9#%8                           | 340.4792117872438  | Good |\n",
       "\n"
      ],
      "text/plain": [
       "  ID     Customer_ID Month    Name          Age SSN         Occupation\n",
       "1 0x1602 CUS_0xd40   January  Aaron Maashoh  23 821-00-0265 Scientist \n",
       "2 0x1603 CUS_0xd40   February Aaron Maashoh  23 821-00-0265 Scientist \n",
       "3 0x1604 CUS_0xd40   March    Aaron Maashoh 500 821-00-0265 Scientist \n",
       "4 0x1605 CUS_0xd40   April    Aaron Maashoh  23 821-00-0265 Scientist \n",
       "5 0x1606 CUS_0xd40   May      Aaron Maashoh  23 821-00-0265 Scientist \n",
       "6 0x1607 CUS_0xd40   June     Aaron Maashoh  23 821-00-0265 Scientist \n",
       "  Annual_Income Monthly_Inhand_Salary Num_Bank_Accounts ⋯ Credit_Mix\n",
       "1 19114.12      1824.843              3                 ⋯ _         \n",
       "2 19114.12            NA              3                 ⋯ Good      \n",
       "3 19114.12            NA              3                 ⋯ Good      \n",
       "4 19114.12            NA              3                 ⋯ Good      \n",
       "5 19114.12      1824.843              3                 ⋯ Good      \n",
       "6 19114.12            NA              3                 ⋯ Good      \n",
       "  Outstanding_Debt Credit_Utilization_Ratio Credit_History_Age   \n",
       "1 809.98           26.82262                 22 Years and 1 Months\n",
       "2 809.98           31.94496                 NA                   \n",
       "3 809.98           28.60935                 22 Years and 3 Months\n",
       "4 809.98           31.37786                 22 Years and 4 Months\n",
       "5 809.98           24.79735                 22 Years and 5 Months\n",
       "6 809.98           27.26226                 22 Years and 6 Months\n",
       "  Payment_of_Min_Amount Total_EMI_per_month Amount_invested_monthly\n",
       "1 No                    49.57495            80.41529543900253      \n",
       "2 No                    49.57495            118.28022162236736     \n",
       "3 No                    49.57495            81.699521264648        \n",
       "4 No                    49.57495            199.4580743910713      \n",
       "5 No                    49.57495            41.420153086217326     \n",
       "6 No                    49.57495            62.430172331195294     \n",
       "  Payment_Behaviour                Monthly_Balance    Credit_Score\n",
       "1 High_spent_Small_value_payments  312.49408867943663 Good        \n",
       "2 Low_spent_Large_value_payments   284.62916249607184 Good        \n",
       "3 Low_spent_Medium_value_payments  331.2098628537912  Good        \n",
       "4 Low_spent_Small_value_payments   223.45130972736786 Good        \n",
       "5 High_spent_Medium_value_payments 341.48923103222177 Good        \n",
       "6 !@9#%8                           340.4792117872438  Good        "
      ]
     },
     "metadata": {},
     "output_type": "display_data"
    }
   ],
   "source": [
    "# Convert 'Outstanding_Debt' column to string\n",
    "train[, Outstanding_Debt := as.character(Outstanding_Debt)]\n",
    "\n",
    "# Print the first few rows of the updated data frame\n",
    "head(train)"
   ]
  },
  {
   "cell_type": "code",
   "execution_count": 91,
   "metadata": {
    "vscode": {
     "languageId": "r"
    }
   },
   "outputs": [
    {
     "data": {
      "text/html": [
       "<table class=\"dataframe\">\n",
       "<caption>A data.table: 6 × 28</caption>\n",
       "<thead>\n",
       "\t<tr><th scope=col>ID</th><th scope=col>Customer_ID</th><th scope=col>Month</th><th scope=col>Name</th><th scope=col>Age</th><th scope=col>SSN</th><th scope=col>Occupation</th><th scope=col>Annual_Income</th><th scope=col>Monthly_Inhand_Salary</th><th scope=col>Num_Bank_Accounts</th><th scope=col>⋯</th><th scope=col>Credit_Mix</th><th scope=col>Outstanding_Debt</th><th scope=col>Credit_Utilization_Ratio</th><th scope=col>Credit_History_Age</th><th scope=col>Payment_of_Min_Amount</th><th scope=col>Total_EMI_per_month</th><th scope=col>Amount_invested_monthly</th><th scope=col>Payment_Behaviour</th><th scope=col>Monthly_Balance</th><th scope=col>Credit_Score</th></tr>\n",
       "\t<tr><th scope=col>&lt;chr&gt;</th><th scope=col>&lt;chr&gt;</th><th scope=col>&lt;chr&gt;</th><th scope=col>&lt;chr&gt;</th><th scope=col>&lt;int&gt;</th><th scope=col>&lt;chr&gt;</th><th scope=col>&lt;chr&gt;</th><th scope=col>&lt;dbl&gt;</th><th scope=col>&lt;dbl&gt;</th><th scope=col>&lt;int&gt;</th><th scope=col>⋯</th><th scope=col>&lt;chr&gt;</th><th scope=col>&lt;chr&gt;</th><th scope=col>&lt;dbl&gt;</th><th scope=col>&lt;chr&gt;</th><th scope=col>&lt;chr&gt;</th><th scope=col>&lt;dbl&gt;</th><th scope=col>&lt;chr&gt;</th><th scope=col>&lt;chr&gt;</th><th scope=col>&lt;chr&gt;</th><th scope=col>&lt;chr&gt;</th></tr>\n",
       "</thead>\n",
       "<tbody>\n",
       "\t<tr><td>0x1602</td><td>CUS_0xd40</td><td>January </td><td>Aaron Maashoh</td><td> 23</td><td>821-00-0265</td><td>Scientist</td><td>19114.12</td><td>1824.843</td><td>3</td><td>⋯</td><td>_   </td><td>809.98</td><td>26.82262</td><td>22 Years and 1 Months</td><td>No</td><td>49.57495</td><td>80.41529543900253 </td><td>High_spent_Small_value_payments </td><td>312.49408867943663</td><td>Good</td></tr>\n",
       "\t<tr><td>0x1603</td><td>CUS_0xd40</td><td>February</td><td>Aaron Maashoh</td><td> 23</td><td>821-00-0265</td><td>Scientist</td><td>19114.12</td><td>      NA</td><td>3</td><td>⋯</td><td>Good</td><td>809.98</td><td>31.94496</td><td>NA                   </td><td>No</td><td>49.57495</td><td>118.28022162236736</td><td>Low_spent_Large_value_payments  </td><td>284.62916249607184</td><td>Good</td></tr>\n",
       "\t<tr><td>0x1604</td><td>CUS_0xd40</td><td>March   </td><td>Aaron Maashoh</td><td>500</td><td>821-00-0265</td><td>Scientist</td><td>19114.12</td><td>      NA</td><td>3</td><td>⋯</td><td>Good</td><td>809.98</td><td>28.60935</td><td>22 Years and 3 Months</td><td>No</td><td>49.57495</td><td>81.699521264648   </td><td>Low_spent_Medium_value_payments </td><td>331.2098628537912 </td><td>Good</td></tr>\n",
       "\t<tr><td>0x1605</td><td>CUS_0xd40</td><td>April   </td><td>Aaron Maashoh</td><td> 23</td><td>821-00-0265</td><td>Scientist</td><td>19114.12</td><td>      NA</td><td>3</td><td>⋯</td><td>Good</td><td>809.98</td><td>31.37786</td><td>22 Years and 4 Months</td><td>No</td><td>49.57495</td><td>199.4580743910713 </td><td>Low_spent_Small_value_payments  </td><td>223.45130972736786</td><td>Good</td></tr>\n",
       "\t<tr><td>0x1606</td><td>CUS_0xd40</td><td>May     </td><td>Aaron Maashoh</td><td> 23</td><td>821-00-0265</td><td>Scientist</td><td>19114.12</td><td>1824.843</td><td>3</td><td>⋯</td><td>Good</td><td>809.98</td><td>24.79735</td><td>22 Years and 5 Months</td><td>No</td><td>49.57495</td><td>41.420153086217326</td><td>High_spent_Medium_value_payments</td><td>341.48923103222177</td><td>Good</td></tr>\n",
       "\t<tr><td>0x1607</td><td>CUS_0xd40</td><td>June    </td><td>Aaron Maashoh</td><td> 23</td><td>821-00-0265</td><td>Scientist</td><td>19114.12</td><td>      NA</td><td>3</td><td>⋯</td><td>Good</td><td>809.98</td><td>27.26226</td><td>22 Years and 6 Months</td><td>No</td><td>49.57495</td><td>62.430172331195294</td><td>!@9#%8                          </td><td>340.4792117872438 </td><td>Good</td></tr>\n",
       "</tbody>\n",
       "</table>\n"
      ],
      "text/latex": [
       "A data.table: 6 × 28\n",
       "\\begin{tabular}{lllllllllllllllllllll}\n",
       " ID & Customer\\_ID & Month & Name & Age & SSN & Occupation & Annual\\_Income & Monthly\\_Inhand\\_Salary & Num\\_Bank\\_Accounts & ⋯ & Credit\\_Mix & Outstanding\\_Debt & Credit\\_Utilization\\_Ratio & Credit\\_History\\_Age & Payment\\_of\\_Min\\_Amount & Total\\_EMI\\_per\\_month & Amount\\_invested\\_monthly & Payment\\_Behaviour & Monthly\\_Balance & Credit\\_Score\\\\\n",
       " <chr> & <chr> & <chr> & <chr> & <int> & <chr> & <chr> & <dbl> & <dbl> & <int> & ⋯ & <chr> & <chr> & <dbl> & <chr> & <chr> & <dbl> & <chr> & <chr> & <chr> & <chr>\\\\\n",
       "\\hline\n",
       "\t 0x1602 & CUS\\_0xd40 & January  & Aaron Maashoh &  23 & 821-00-0265 & Scientist & 19114.12 & 1824.843 & 3 & ⋯ & \\_    & 809.98 & 26.82262 & 22 Years and 1 Months & No & 49.57495 & 80.41529543900253  & High\\_spent\\_Small\\_value\\_payments  & 312.49408867943663 & Good\\\\\n",
       "\t 0x1603 & CUS\\_0xd40 & February & Aaron Maashoh &  23 & 821-00-0265 & Scientist & 19114.12 &       NA & 3 & ⋯ & Good & 809.98 & 31.94496 & NA                    & No & 49.57495 & 118.28022162236736 & Low\\_spent\\_Large\\_value\\_payments   & 284.62916249607184 & Good\\\\\n",
       "\t 0x1604 & CUS\\_0xd40 & March    & Aaron Maashoh & 500 & 821-00-0265 & Scientist & 19114.12 &       NA & 3 & ⋯ & Good & 809.98 & 28.60935 & 22 Years and 3 Months & No & 49.57495 & 81.699521264648    & Low\\_spent\\_Medium\\_value\\_payments  & 331.2098628537912  & Good\\\\\n",
       "\t 0x1605 & CUS\\_0xd40 & April    & Aaron Maashoh &  23 & 821-00-0265 & Scientist & 19114.12 &       NA & 3 & ⋯ & Good & 809.98 & 31.37786 & 22 Years and 4 Months & No & 49.57495 & 199.4580743910713  & Low\\_spent\\_Small\\_value\\_payments   & 223.45130972736786 & Good\\\\\n",
       "\t 0x1606 & CUS\\_0xd40 & May      & Aaron Maashoh &  23 & 821-00-0265 & Scientist & 19114.12 & 1824.843 & 3 & ⋯ & Good & 809.98 & 24.79735 & 22 Years and 5 Months & No & 49.57495 & 41.420153086217326 & High\\_spent\\_Medium\\_value\\_payments & 341.48923103222177 & Good\\\\\n",
       "\t 0x1607 & CUS\\_0xd40 & June     & Aaron Maashoh &  23 & 821-00-0265 & Scientist & 19114.12 &       NA & 3 & ⋯ & Good & 809.98 & 27.26226 & 22 Years and 6 Months & No & 49.57495 & 62.430172331195294 & !@9\\#\\%8                           & 340.4792117872438  & Good\\\\\n",
       "\\end{tabular}\n"
      ],
      "text/markdown": [
       "\n",
       "A data.table: 6 × 28\n",
       "\n",
       "| ID &lt;chr&gt; | Customer_ID &lt;chr&gt; | Month &lt;chr&gt; | Name &lt;chr&gt; | Age &lt;int&gt; | SSN &lt;chr&gt; | Occupation &lt;chr&gt; | Annual_Income &lt;dbl&gt; | Monthly_Inhand_Salary &lt;dbl&gt; | Num_Bank_Accounts &lt;int&gt; | ⋯ ⋯ | Credit_Mix &lt;chr&gt; | Outstanding_Debt &lt;chr&gt; | Credit_Utilization_Ratio &lt;dbl&gt; | Credit_History_Age &lt;chr&gt; | Payment_of_Min_Amount &lt;chr&gt; | Total_EMI_per_month &lt;dbl&gt; | Amount_invested_monthly &lt;chr&gt; | Payment_Behaviour &lt;chr&gt; | Monthly_Balance &lt;chr&gt; | Credit_Score &lt;chr&gt; |\n",
       "|---|---|---|---|---|---|---|---|---|---|---|---|---|---|---|---|---|---|---|---|---|\n",
       "| 0x1602 | CUS_0xd40 | January  | Aaron Maashoh |  23 | 821-00-0265 | Scientist | 19114.12 | 1824.843 | 3 | ⋯ | _    | 809.98 | 26.82262 | 22 Years and 1 Months | No | 49.57495 | 80.41529543900253  | High_spent_Small_value_payments  | 312.49408867943663 | Good |\n",
       "| 0x1603 | CUS_0xd40 | February | Aaron Maashoh |  23 | 821-00-0265 | Scientist | 19114.12 |       NA | 3 | ⋯ | Good | 809.98 | 31.94496 | NA                    | No | 49.57495 | 118.28022162236736 | Low_spent_Large_value_payments   | 284.62916249607184 | Good |\n",
       "| 0x1604 | CUS_0xd40 | March    | Aaron Maashoh | 500 | 821-00-0265 | Scientist | 19114.12 |       NA | 3 | ⋯ | Good | 809.98 | 28.60935 | 22 Years and 3 Months | No | 49.57495 | 81.699521264648    | Low_spent_Medium_value_payments  | 331.2098628537912  | Good |\n",
       "| 0x1605 | CUS_0xd40 | April    | Aaron Maashoh |  23 | 821-00-0265 | Scientist | 19114.12 |       NA | 3 | ⋯ | Good | 809.98 | 31.37786 | 22 Years and 4 Months | No | 49.57495 | 199.4580743910713  | Low_spent_Small_value_payments   | 223.45130972736786 | Good |\n",
       "| 0x1606 | CUS_0xd40 | May      | Aaron Maashoh |  23 | 821-00-0265 | Scientist | 19114.12 | 1824.843 | 3 | ⋯ | Good | 809.98 | 24.79735 | 22 Years and 5 Months | No | 49.57495 | 41.420153086217326 | High_spent_Medium_value_payments | 341.48923103222177 | Good |\n",
       "| 0x1607 | CUS_0xd40 | June     | Aaron Maashoh |  23 | 821-00-0265 | Scientist | 19114.12 |       NA | 3 | ⋯ | Good | 809.98 | 27.26226 | 22 Years and 6 Months | No | 49.57495 | 62.430172331195294 | !@9#%8                           | 340.4792117872438  | Good |\n",
       "\n"
      ],
      "text/plain": [
       "  ID     Customer_ID Month    Name          Age SSN         Occupation\n",
       "1 0x1602 CUS_0xd40   January  Aaron Maashoh  23 821-00-0265 Scientist \n",
       "2 0x1603 CUS_0xd40   February Aaron Maashoh  23 821-00-0265 Scientist \n",
       "3 0x1604 CUS_0xd40   March    Aaron Maashoh 500 821-00-0265 Scientist \n",
       "4 0x1605 CUS_0xd40   April    Aaron Maashoh  23 821-00-0265 Scientist \n",
       "5 0x1606 CUS_0xd40   May      Aaron Maashoh  23 821-00-0265 Scientist \n",
       "6 0x1607 CUS_0xd40   June     Aaron Maashoh  23 821-00-0265 Scientist \n",
       "  Annual_Income Monthly_Inhand_Salary Num_Bank_Accounts ⋯ Credit_Mix\n",
       "1 19114.12      1824.843              3                 ⋯ _         \n",
       "2 19114.12            NA              3                 ⋯ Good      \n",
       "3 19114.12            NA              3                 ⋯ Good      \n",
       "4 19114.12            NA              3                 ⋯ Good      \n",
       "5 19114.12      1824.843              3                 ⋯ Good      \n",
       "6 19114.12            NA              3                 ⋯ Good      \n",
       "  Outstanding_Debt Credit_Utilization_Ratio Credit_History_Age   \n",
       "1 809.98           26.82262                 22 Years and 1 Months\n",
       "2 809.98           31.94496                 NA                   \n",
       "3 809.98           28.60935                 22 Years and 3 Months\n",
       "4 809.98           31.37786                 22 Years and 4 Months\n",
       "5 809.98           24.79735                 22 Years and 5 Months\n",
       "6 809.98           27.26226                 22 Years and 6 Months\n",
       "  Payment_of_Min_Amount Total_EMI_per_month Amount_invested_monthly\n",
       "1 No                    49.57495            80.41529543900253      \n",
       "2 No                    49.57495            118.28022162236736     \n",
       "3 No                    49.57495            81.699521264648        \n",
       "4 No                    49.57495            199.4580743910713      \n",
       "5 No                    49.57495            41.420153086217326     \n",
       "6 No                    49.57495            62.430172331195294     \n",
       "  Payment_Behaviour                Monthly_Balance    Credit_Score\n",
       "1 High_spent_Small_value_payments  312.49408867943663 Good        \n",
       "2 Low_spent_Large_value_payments   284.62916249607184 Good        \n",
       "3 Low_spent_Medium_value_payments  331.2098628537912  Good        \n",
       "4 Low_spent_Small_value_payments   223.45130972736786 Good        \n",
       "5 High_spent_Medium_value_payments 341.48923103222177 Good        \n",
       "6 !@9#%8                           340.4792117872438  Good        "
      ]
     },
     "metadata": {},
     "output_type": "display_data"
    }
   ],
   "source": [
    "# Remove non-numeric characters (except periods) from 'Outstanding_Debt' column\n",
    "train[, Outstanding_Debt := gsub(\"[^0-9.]\", \"\", Outstanding_Debt)]\n",
    "\n",
    "# Print the first few rows of the updated data frame\n",
    "head(train)"
   ]
  },
  {
   "cell_type": "code",
   "execution_count": 92,
   "metadata": {
    "vscode": {
     "languageId": "r"
    }
   },
   "outputs": [
    {
     "data": {
      "text/html": [
       "<table class=\"dataframe\">\n",
       "<caption>A data.table: 6 × 28</caption>\n",
       "<thead>\n",
       "\t<tr><th scope=col>ID</th><th scope=col>Customer_ID</th><th scope=col>Month</th><th scope=col>Name</th><th scope=col>Age</th><th scope=col>SSN</th><th scope=col>Occupation</th><th scope=col>Annual_Income</th><th scope=col>Monthly_Inhand_Salary</th><th scope=col>Num_Bank_Accounts</th><th scope=col>⋯</th><th scope=col>Credit_Mix</th><th scope=col>Outstanding_Debt</th><th scope=col>Credit_Utilization_Ratio</th><th scope=col>Credit_History_Age</th><th scope=col>Payment_of_Min_Amount</th><th scope=col>Total_EMI_per_month</th><th scope=col>Amount_invested_monthly</th><th scope=col>Payment_Behaviour</th><th scope=col>Monthly_Balance</th><th scope=col>Credit_Score</th></tr>\n",
       "\t<tr><th scope=col>&lt;chr&gt;</th><th scope=col>&lt;chr&gt;</th><th scope=col>&lt;chr&gt;</th><th scope=col>&lt;chr&gt;</th><th scope=col>&lt;int&gt;</th><th scope=col>&lt;chr&gt;</th><th scope=col>&lt;chr&gt;</th><th scope=col>&lt;dbl&gt;</th><th scope=col>&lt;dbl&gt;</th><th scope=col>&lt;int&gt;</th><th scope=col>⋯</th><th scope=col>&lt;chr&gt;</th><th scope=col>&lt;dbl&gt;</th><th scope=col>&lt;dbl&gt;</th><th scope=col>&lt;chr&gt;</th><th scope=col>&lt;chr&gt;</th><th scope=col>&lt;dbl&gt;</th><th scope=col>&lt;chr&gt;</th><th scope=col>&lt;chr&gt;</th><th scope=col>&lt;chr&gt;</th><th scope=col>&lt;chr&gt;</th></tr>\n",
       "</thead>\n",
       "<tbody>\n",
       "\t<tr><td>0x1602</td><td>CUS_0xd40</td><td>January </td><td>Aaron Maashoh</td><td> 23</td><td>821-00-0265</td><td>Scientist</td><td>19114.12</td><td>1824.843</td><td>3</td><td>⋯</td><td>_   </td><td>809.98</td><td>26.82262</td><td>22 Years and 1 Months</td><td>No</td><td>49.57495</td><td>80.41529543900253 </td><td>High_spent_Small_value_payments </td><td>312.49408867943663</td><td>Good</td></tr>\n",
       "\t<tr><td>0x1603</td><td>CUS_0xd40</td><td>February</td><td>Aaron Maashoh</td><td> 23</td><td>821-00-0265</td><td>Scientist</td><td>19114.12</td><td>      NA</td><td>3</td><td>⋯</td><td>Good</td><td>809.98</td><td>31.94496</td><td>NA                   </td><td>No</td><td>49.57495</td><td>118.28022162236736</td><td>Low_spent_Large_value_payments  </td><td>284.62916249607184</td><td>Good</td></tr>\n",
       "\t<tr><td>0x1604</td><td>CUS_0xd40</td><td>March   </td><td>Aaron Maashoh</td><td>500</td><td>821-00-0265</td><td>Scientist</td><td>19114.12</td><td>      NA</td><td>3</td><td>⋯</td><td>Good</td><td>809.98</td><td>28.60935</td><td>22 Years and 3 Months</td><td>No</td><td>49.57495</td><td>81.699521264648   </td><td>Low_spent_Medium_value_payments </td><td>331.2098628537912 </td><td>Good</td></tr>\n",
       "\t<tr><td>0x1605</td><td>CUS_0xd40</td><td>April   </td><td>Aaron Maashoh</td><td> 23</td><td>821-00-0265</td><td>Scientist</td><td>19114.12</td><td>      NA</td><td>3</td><td>⋯</td><td>Good</td><td>809.98</td><td>31.37786</td><td>22 Years and 4 Months</td><td>No</td><td>49.57495</td><td>199.4580743910713 </td><td>Low_spent_Small_value_payments  </td><td>223.45130972736786</td><td>Good</td></tr>\n",
       "\t<tr><td>0x1606</td><td>CUS_0xd40</td><td>May     </td><td>Aaron Maashoh</td><td> 23</td><td>821-00-0265</td><td>Scientist</td><td>19114.12</td><td>1824.843</td><td>3</td><td>⋯</td><td>Good</td><td>809.98</td><td>24.79735</td><td>22 Years and 5 Months</td><td>No</td><td>49.57495</td><td>41.420153086217326</td><td>High_spent_Medium_value_payments</td><td>341.48923103222177</td><td>Good</td></tr>\n",
       "\t<tr><td>0x1607</td><td>CUS_0xd40</td><td>June    </td><td>Aaron Maashoh</td><td> 23</td><td>821-00-0265</td><td>Scientist</td><td>19114.12</td><td>      NA</td><td>3</td><td>⋯</td><td>Good</td><td>809.98</td><td>27.26226</td><td>22 Years and 6 Months</td><td>No</td><td>49.57495</td><td>62.430172331195294</td><td>!@9#%8                          </td><td>340.4792117872438 </td><td>Good</td></tr>\n",
       "</tbody>\n",
       "</table>\n"
      ],
      "text/latex": [
       "A data.table: 6 × 28\n",
       "\\begin{tabular}{lllllllllllllllllllll}\n",
       " ID & Customer\\_ID & Month & Name & Age & SSN & Occupation & Annual\\_Income & Monthly\\_Inhand\\_Salary & Num\\_Bank\\_Accounts & ⋯ & Credit\\_Mix & Outstanding\\_Debt & Credit\\_Utilization\\_Ratio & Credit\\_History\\_Age & Payment\\_of\\_Min\\_Amount & Total\\_EMI\\_per\\_month & Amount\\_invested\\_monthly & Payment\\_Behaviour & Monthly\\_Balance & Credit\\_Score\\\\\n",
       " <chr> & <chr> & <chr> & <chr> & <int> & <chr> & <chr> & <dbl> & <dbl> & <int> & ⋯ & <chr> & <dbl> & <dbl> & <chr> & <chr> & <dbl> & <chr> & <chr> & <chr> & <chr>\\\\\n",
       "\\hline\n",
       "\t 0x1602 & CUS\\_0xd40 & January  & Aaron Maashoh &  23 & 821-00-0265 & Scientist & 19114.12 & 1824.843 & 3 & ⋯ & \\_    & 809.98 & 26.82262 & 22 Years and 1 Months & No & 49.57495 & 80.41529543900253  & High\\_spent\\_Small\\_value\\_payments  & 312.49408867943663 & Good\\\\\n",
       "\t 0x1603 & CUS\\_0xd40 & February & Aaron Maashoh &  23 & 821-00-0265 & Scientist & 19114.12 &       NA & 3 & ⋯ & Good & 809.98 & 31.94496 & NA                    & No & 49.57495 & 118.28022162236736 & Low\\_spent\\_Large\\_value\\_payments   & 284.62916249607184 & Good\\\\\n",
       "\t 0x1604 & CUS\\_0xd40 & March    & Aaron Maashoh & 500 & 821-00-0265 & Scientist & 19114.12 &       NA & 3 & ⋯ & Good & 809.98 & 28.60935 & 22 Years and 3 Months & No & 49.57495 & 81.699521264648    & Low\\_spent\\_Medium\\_value\\_payments  & 331.2098628537912  & Good\\\\\n",
       "\t 0x1605 & CUS\\_0xd40 & April    & Aaron Maashoh &  23 & 821-00-0265 & Scientist & 19114.12 &       NA & 3 & ⋯ & Good & 809.98 & 31.37786 & 22 Years and 4 Months & No & 49.57495 & 199.4580743910713  & Low\\_spent\\_Small\\_value\\_payments   & 223.45130972736786 & Good\\\\\n",
       "\t 0x1606 & CUS\\_0xd40 & May      & Aaron Maashoh &  23 & 821-00-0265 & Scientist & 19114.12 & 1824.843 & 3 & ⋯ & Good & 809.98 & 24.79735 & 22 Years and 5 Months & No & 49.57495 & 41.420153086217326 & High\\_spent\\_Medium\\_value\\_payments & 341.48923103222177 & Good\\\\\n",
       "\t 0x1607 & CUS\\_0xd40 & June     & Aaron Maashoh &  23 & 821-00-0265 & Scientist & 19114.12 &       NA & 3 & ⋯ & Good & 809.98 & 27.26226 & 22 Years and 6 Months & No & 49.57495 & 62.430172331195294 & !@9\\#\\%8                           & 340.4792117872438  & Good\\\\\n",
       "\\end{tabular}\n"
      ],
      "text/markdown": [
       "\n",
       "A data.table: 6 × 28\n",
       "\n",
       "| ID &lt;chr&gt; | Customer_ID &lt;chr&gt; | Month &lt;chr&gt; | Name &lt;chr&gt; | Age &lt;int&gt; | SSN &lt;chr&gt; | Occupation &lt;chr&gt; | Annual_Income &lt;dbl&gt; | Monthly_Inhand_Salary &lt;dbl&gt; | Num_Bank_Accounts &lt;int&gt; | ⋯ ⋯ | Credit_Mix &lt;chr&gt; | Outstanding_Debt &lt;dbl&gt; | Credit_Utilization_Ratio &lt;dbl&gt; | Credit_History_Age &lt;chr&gt; | Payment_of_Min_Amount &lt;chr&gt; | Total_EMI_per_month &lt;dbl&gt; | Amount_invested_monthly &lt;chr&gt; | Payment_Behaviour &lt;chr&gt; | Monthly_Balance &lt;chr&gt; | Credit_Score &lt;chr&gt; |\n",
       "|---|---|---|---|---|---|---|---|---|---|---|---|---|---|---|---|---|---|---|---|---|\n",
       "| 0x1602 | CUS_0xd40 | January  | Aaron Maashoh |  23 | 821-00-0265 | Scientist | 19114.12 | 1824.843 | 3 | ⋯ | _    | 809.98 | 26.82262 | 22 Years and 1 Months | No | 49.57495 | 80.41529543900253  | High_spent_Small_value_payments  | 312.49408867943663 | Good |\n",
       "| 0x1603 | CUS_0xd40 | February | Aaron Maashoh |  23 | 821-00-0265 | Scientist | 19114.12 |       NA | 3 | ⋯ | Good | 809.98 | 31.94496 | NA                    | No | 49.57495 | 118.28022162236736 | Low_spent_Large_value_payments   | 284.62916249607184 | Good |\n",
       "| 0x1604 | CUS_0xd40 | March    | Aaron Maashoh | 500 | 821-00-0265 | Scientist | 19114.12 |       NA | 3 | ⋯ | Good | 809.98 | 28.60935 | 22 Years and 3 Months | No | 49.57495 | 81.699521264648    | Low_spent_Medium_value_payments  | 331.2098628537912  | Good |\n",
       "| 0x1605 | CUS_0xd40 | April    | Aaron Maashoh |  23 | 821-00-0265 | Scientist | 19114.12 |       NA | 3 | ⋯ | Good | 809.98 | 31.37786 | 22 Years and 4 Months | No | 49.57495 | 199.4580743910713  | Low_spent_Small_value_payments   | 223.45130972736786 | Good |\n",
       "| 0x1606 | CUS_0xd40 | May      | Aaron Maashoh |  23 | 821-00-0265 | Scientist | 19114.12 | 1824.843 | 3 | ⋯ | Good | 809.98 | 24.79735 | 22 Years and 5 Months | No | 49.57495 | 41.420153086217326 | High_spent_Medium_value_payments | 341.48923103222177 | Good |\n",
       "| 0x1607 | CUS_0xd40 | June     | Aaron Maashoh |  23 | 821-00-0265 | Scientist | 19114.12 |       NA | 3 | ⋯ | Good | 809.98 | 27.26226 | 22 Years and 6 Months | No | 49.57495 | 62.430172331195294 | !@9#%8                           | 340.4792117872438  | Good |\n",
       "\n"
      ],
      "text/plain": [
       "  ID     Customer_ID Month    Name          Age SSN         Occupation\n",
       "1 0x1602 CUS_0xd40   January  Aaron Maashoh  23 821-00-0265 Scientist \n",
       "2 0x1603 CUS_0xd40   February Aaron Maashoh  23 821-00-0265 Scientist \n",
       "3 0x1604 CUS_0xd40   March    Aaron Maashoh 500 821-00-0265 Scientist \n",
       "4 0x1605 CUS_0xd40   April    Aaron Maashoh  23 821-00-0265 Scientist \n",
       "5 0x1606 CUS_0xd40   May      Aaron Maashoh  23 821-00-0265 Scientist \n",
       "6 0x1607 CUS_0xd40   June     Aaron Maashoh  23 821-00-0265 Scientist \n",
       "  Annual_Income Monthly_Inhand_Salary Num_Bank_Accounts ⋯ Credit_Mix\n",
       "1 19114.12      1824.843              3                 ⋯ _         \n",
       "2 19114.12            NA              3                 ⋯ Good      \n",
       "3 19114.12            NA              3                 ⋯ Good      \n",
       "4 19114.12            NA              3                 ⋯ Good      \n",
       "5 19114.12      1824.843              3                 ⋯ Good      \n",
       "6 19114.12            NA              3                 ⋯ Good      \n",
       "  Outstanding_Debt Credit_Utilization_Ratio Credit_History_Age   \n",
       "1 809.98           26.82262                 22 Years and 1 Months\n",
       "2 809.98           31.94496                 NA                   \n",
       "3 809.98           28.60935                 22 Years and 3 Months\n",
       "4 809.98           31.37786                 22 Years and 4 Months\n",
       "5 809.98           24.79735                 22 Years and 5 Months\n",
       "6 809.98           27.26226                 22 Years and 6 Months\n",
       "  Payment_of_Min_Amount Total_EMI_per_month Amount_invested_monthly\n",
       "1 No                    49.57495            80.41529543900253      \n",
       "2 No                    49.57495            118.28022162236736     \n",
       "3 No                    49.57495            81.699521264648        \n",
       "4 No                    49.57495            199.4580743910713      \n",
       "5 No                    49.57495            41.420153086217326     \n",
       "6 No                    49.57495            62.430172331195294     \n",
       "  Payment_Behaviour                Monthly_Balance    Credit_Score\n",
       "1 High_spent_Small_value_payments  312.49408867943663 Good        \n",
       "2 Low_spent_Large_value_payments   284.62916249607184 Good        \n",
       "3 Low_spent_Medium_value_payments  331.2098628537912  Good        \n",
       "4 Low_spent_Small_value_payments   223.45130972736786 Good        \n",
       "5 High_spent_Medium_value_payments 341.48923103222177 Good        \n",
       "6 !@9#%8                           340.4792117872438  Good        "
      ]
     },
     "metadata": {},
     "output_type": "display_data"
    }
   ],
   "source": [
    "# Convert 'Outstanding_Debt' column to numeric with coercion of errors to NA\n",
    "train[, Outstanding_Debt := as.numeric(Outstanding_Debt)]\n",
    "\n",
    "# Print the first few rows of the updated data frame\n",
    "head(train)"
   ]
  },
  {
   "cell_type": "code",
   "execution_count": 93,
   "metadata": {
    "vscode": {
     "languageId": "r"
    }
   },
   "outputs": [
    {
     "data": {
      "text/html": [
       "<table class=\"dataframe\">\n",
       "<caption>A data.table: 6 × 28</caption>\n",
       "<thead>\n",
       "\t<tr><th scope=col>ID</th><th scope=col>Customer_ID</th><th scope=col>Month</th><th scope=col>Name</th><th scope=col>Age</th><th scope=col>SSN</th><th scope=col>Occupation</th><th scope=col>Annual_Income</th><th scope=col>Monthly_Inhand_Salary</th><th scope=col>Num_Bank_Accounts</th><th scope=col>⋯</th><th scope=col>Credit_Mix</th><th scope=col>Outstanding_Debt</th><th scope=col>Credit_Utilization_Ratio</th><th scope=col>Credit_History_Age</th><th scope=col>Payment_of_Min_Amount</th><th scope=col>Total_EMI_per_month</th><th scope=col>Amount_invested_monthly</th><th scope=col>Payment_Behaviour</th><th scope=col>Monthly_Balance</th><th scope=col>Credit_Score</th></tr>\n",
       "\t<tr><th scope=col>&lt;chr&gt;</th><th scope=col>&lt;chr&gt;</th><th scope=col>&lt;chr&gt;</th><th scope=col>&lt;chr&gt;</th><th scope=col>&lt;int&gt;</th><th scope=col>&lt;chr&gt;</th><th scope=col>&lt;chr&gt;</th><th scope=col>&lt;dbl&gt;</th><th scope=col>&lt;dbl&gt;</th><th scope=col>&lt;int&gt;</th><th scope=col>⋯</th><th scope=col>&lt;chr&gt;</th><th scope=col>&lt;dbl&gt;</th><th scope=col>&lt;dbl&gt;</th><th scope=col>&lt;chr&gt;</th><th scope=col>&lt;chr&gt;</th><th scope=col>&lt;dbl&gt;</th><th scope=col>&lt;chr&gt;</th><th scope=col>&lt;chr&gt;</th><th scope=col>&lt;chr&gt;</th><th scope=col>&lt;chr&gt;</th></tr>\n",
       "</thead>\n",
       "<tbody>\n",
       "\t<tr><td>0x1602</td><td>CUS_0xd40</td><td>January </td><td>Aaron Maashoh</td><td> 23</td><td>821-00-0265</td><td>Scientist</td><td>19114.12</td><td>1824.843</td><td>3</td><td>⋯</td><td>_   </td><td>809.98</td><td>26.82262</td><td>22 Years and 1 Months</td><td>No</td><td>49.57495</td><td>80.41529543900253 </td><td>High_spent_Small_value_payments </td><td>312.49408867943663</td><td>Good</td></tr>\n",
       "\t<tr><td>0x1603</td><td>CUS_0xd40</td><td>February</td><td>Aaron Maashoh</td><td> 23</td><td>821-00-0265</td><td>Scientist</td><td>19114.12</td><td>      NA</td><td>3</td><td>⋯</td><td>Good</td><td>809.98</td><td>31.94496</td><td>NA                   </td><td>No</td><td>49.57495</td><td>118.28022162236736</td><td>Low_spent_Large_value_payments  </td><td>284.62916249607184</td><td>Good</td></tr>\n",
       "\t<tr><td>0x1604</td><td>CUS_0xd40</td><td>March   </td><td>Aaron Maashoh</td><td>500</td><td>821-00-0265</td><td>Scientist</td><td>19114.12</td><td>      NA</td><td>3</td><td>⋯</td><td>Good</td><td>809.98</td><td>28.60935</td><td>22 Years and 3 Months</td><td>No</td><td>49.57495</td><td>81.699521264648   </td><td>Low_spent_Medium_value_payments </td><td>331.2098628537912 </td><td>Good</td></tr>\n",
       "\t<tr><td>0x1605</td><td>CUS_0xd40</td><td>April   </td><td>Aaron Maashoh</td><td> 23</td><td>821-00-0265</td><td>Scientist</td><td>19114.12</td><td>      NA</td><td>3</td><td>⋯</td><td>Good</td><td>809.98</td><td>31.37786</td><td>22 Years and 4 Months</td><td>No</td><td>49.57495</td><td>199.4580743910713 </td><td>Low_spent_Small_value_payments  </td><td>223.45130972736786</td><td>Good</td></tr>\n",
       "\t<tr><td>0x1606</td><td>CUS_0xd40</td><td>May     </td><td>Aaron Maashoh</td><td> 23</td><td>821-00-0265</td><td>Scientist</td><td>19114.12</td><td>1824.843</td><td>3</td><td>⋯</td><td>Good</td><td>809.98</td><td>24.79735</td><td>22 Years and 5 Months</td><td>No</td><td>49.57495</td><td>41.420153086217326</td><td>High_spent_Medium_value_payments</td><td>341.48923103222177</td><td>Good</td></tr>\n",
       "\t<tr><td>0x1607</td><td>CUS_0xd40</td><td>June    </td><td>Aaron Maashoh</td><td> 23</td><td>821-00-0265</td><td>Scientist</td><td>19114.12</td><td>      NA</td><td>3</td><td>⋯</td><td>Good</td><td>809.98</td><td>27.26226</td><td>22 Years and 6 Months</td><td>No</td><td>49.57495</td><td>62.430172331195294</td><td>!@9#%8                          </td><td>340.4792117872438 </td><td>Good</td></tr>\n",
       "</tbody>\n",
       "</table>\n"
      ],
      "text/latex": [
       "A data.table: 6 × 28\n",
       "\\begin{tabular}{lllllllllllllllllllll}\n",
       " ID & Customer\\_ID & Month & Name & Age & SSN & Occupation & Annual\\_Income & Monthly\\_Inhand\\_Salary & Num\\_Bank\\_Accounts & ⋯ & Credit\\_Mix & Outstanding\\_Debt & Credit\\_Utilization\\_Ratio & Credit\\_History\\_Age & Payment\\_of\\_Min\\_Amount & Total\\_EMI\\_per\\_month & Amount\\_invested\\_monthly & Payment\\_Behaviour & Monthly\\_Balance & Credit\\_Score\\\\\n",
       " <chr> & <chr> & <chr> & <chr> & <int> & <chr> & <chr> & <dbl> & <dbl> & <int> & ⋯ & <chr> & <dbl> & <dbl> & <chr> & <chr> & <dbl> & <chr> & <chr> & <chr> & <chr>\\\\\n",
       "\\hline\n",
       "\t 0x1602 & CUS\\_0xd40 & January  & Aaron Maashoh &  23 & 821-00-0265 & Scientist & 19114.12 & 1824.843 & 3 & ⋯ & \\_    & 809.98 & 26.82262 & 22 Years and 1 Months & No & 49.57495 & 80.41529543900253  & High\\_spent\\_Small\\_value\\_payments  & 312.49408867943663 & Good\\\\\n",
       "\t 0x1603 & CUS\\_0xd40 & February & Aaron Maashoh &  23 & 821-00-0265 & Scientist & 19114.12 &       NA & 3 & ⋯ & Good & 809.98 & 31.94496 & NA                    & No & 49.57495 & 118.28022162236736 & Low\\_spent\\_Large\\_value\\_payments   & 284.62916249607184 & Good\\\\\n",
       "\t 0x1604 & CUS\\_0xd40 & March    & Aaron Maashoh & 500 & 821-00-0265 & Scientist & 19114.12 &       NA & 3 & ⋯ & Good & 809.98 & 28.60935 & 22 Years and 3 Months & No & 49.57495 & 81.699521264648    & Low\\_spent\\_Medium\\_value\\_payments  & 331.2098628537912  & Good\\\\\n",
       "\t 0x1605 & CUS\\_0xd40 & April    & Aaron Maashoh &  23 & 821-00-0265 & Scientist & 19114.12 &       NA & 3 & ⋯ & Good & 809.98 & 31.37786 & 22 Years and 4 Months & No & 49.57495 & 199.4580743910713  & Low\\_spent\\_Small\\_value\\_payments   & 223.45130972736786 & Good\\\\\n",
       "\t 0x1606 & CUS\\_0xd40 & May      & Aaron Maashoh &  23 & 821-00-0265 & Scientist & 19114.12 & 1824.843 & 3 & ⋯ & Good & 809.98 & 24.79735 & 22 Years and 5 Months & No & 49.57495 & 41.420153086217326 & High\\_spent\\_Medium\\_value\\_payments & 341.48923103222177 & Good\\\\\n",
       "\t 0x1607 & CUS\\_0xd40 & June     & Aaron Maashoh &  23 & 821-00-0265 & Scientist & 19114.12 &       NA & 3 & ⋯ & Good & 809.98 & 27.26226 & 22 Years and 6 Months & No & 49.57495 & 62.430172331195294 & !@9\\#\\%8                           & 340.4792117872438  & Good\\\\\n",
       "\\end{tabular}\n"
      ],
      "text/markdown": [
       "\n",
       "A data.table: 6 × 28\n",
       "\n",
       "| ID &lt;chr&gt; | Customer_ID &lt;chr&gt; | Month &lt;chr&gt; | Name &lt;chr&gt; | Age &lt;int&gt; | SSN &lt;chr&gt; | Occupation &lt;chr&gt; | Annual_Income &lt;dbl&gt; | Monthly_Inhand_Salary &lt;dbl&gt; | Num_Bank_Accounts &lt;int&gt; | ⋯ ⋯ | Credit_Mix &lt;chr&gt; | Outstanding_Debt &lt;dbl&gt; | Credit_Utilization_Ratio &lt;dbl&gt; | Credit_History_Age &lt;chr&gt; | Payment_of_Min_Amount &lt;chr&gt; | Total_EMI_per_month &lt;dbl&gt; | Amount_invested_monthly &lt;chr&gt; | Payment_Behaviour &lt;chr&gt; | Monthly_Balance &lt;chr&gt; | Credit_Score &lt;chr&gt; |\n",
       "|---|---|---|---|---|---|---|---|---|---|---|---|---|---|---|---|---|---|---|---|---|\n",
       "| 0x1602 | CUS_0xd40 | January  | Aaron Maashoh |  23 | 821-00-0265 | Scientist | 19114.12 | 1824.843 | 3 | ⋯ | _    | 809.98 | 26.82262 | 22 Years and 1 Months | No | 49.57495 | 80.41529543900253  | High_spent_Small_value_payments  | 312.49408867943663 | Good |\n",
       "| 0x1603 | CUS_0xd40 | February | Aaron Maashoh |  23 | 821-00-0265 | Scientist | 19114.12 |       NA | 3 | ⋯ | Good | 809.98 | 31.94496 | NA                    | No | 49.57495 | 118.28022162236736 | Low_spent_Large_value_payments   | 284.62916249607184 | Good |\n",
       "| 0x1604 | CUS_0xd40 | March    | Aaron Maashoh | 500 | 821-00-0265 | Scientist | 19114.12 |       NA | 3 | ⋯ | Good | 809.98 | 28.60935 | 22 Years and 3 Months | No | 49.57495 | 81.699521264648    | Low_spent_Medium_value_payments  | 331.2098628537912  | Good |\n",
       "| 0x1605 | CUS_0xd40 | April    | Aaron Maashoh |  23 | 821-00-0265 | Scientist | 19114.12 |       NA | 3 | ⋯ | Good | 809.98 | 31.37786 | 22 Years and 4 Months | No | 49.57495 | 199.4580743910713  | Low_spent_Small_value_payments   | 223.45130972736786 | Good |\n",
       "| 0x1606 | CUS_0xd40 | May      | Aaron Maashoh |  23 | 821-00-0265 | Scientist | 19114.12 | 1824.843 | 3 | ⋯ | Good | 809.98 | 24.79735 | 22 Years and 5 Months | No | 49.57495 | 41.420153086217326 | High_spent_Medium_value_payments | 341.48923103222177 | Good |\n",
       "| 0x1607 | CUS_0xd40 | June     | Aaron Maashoh |  23 | 821-00-0265 | Scientist | 19114.12 |       NA | 3 | ⋯ | Good | 809.98 | 27.26226 | 22 Years and 6 Months | No | 49.57495 | 62.430172331195294 | !@9#%8                           | 340.4792117872438  | Good |\n",
       "\n"
      ],
      "text/plain": [
       "  ID     Customer_ID Month    Name          Age SSN         Occupation\n",
       "1 0x1602 CUS_0xd40   January  Aaron Maashoh  23 821-00-0265 Scientist \n",
       "2 0x1603 CUS_0xd40   February Aaron Maashoh  23 821-00-0265 Scientist \n",
       "3 0x1604 CUS_0xd40   March    Aaron Maashoh 500 821-00-0265 Scientist \n",
       "4 0x1605 CUS_0xd40   April    Aaron Maashoh  23 821-00-0265 Scientist \n",
       "5 0x1606 CUS_0xd40   May      Aaron Maashoh  23 821-00-0265 Scientist \n",
       "6 0x1607 CUS_0xd40   June     Aaron Maashoh  23 821-00-0265 Scientist \n",
       "  Annual_Income Monthly_Inhand_Salary Num_Bank_Accounts ⋯ Credit_Mix\n",
       "1 19114.12      1824.843              3                 ⋯ _         \n",
       "2 19114.12            NA              3                 ⋯ Good      \n",
       "3 19114.12            NA              3                 ⋯ Good      \n",
       "4 19114.12            NA              3                 ⋯ Good      \n",
       "5 19114.12      1824.843              3                 ⋯ Good      \n",
       "6 19114.12            NA              3                 ⋯ Good      \n",
       "  Outstanding_Debt Credit_Utilization_Ratio Credit_History_Age   \n",
       "1 809.98           26.82262                 22 Years and 1 Months\n",
       "2 809.98           31.94496                 NA                   \n",
       "3 809.98           28.60935                 22 Years and 3 Months\n",
       "4 809.98           31.37786                 22 Years and 4 Months\n",
       "5 809.98           24.79735                 22 Years and 5 Months\n",
       "6 809.98           27.26226                 22 Years and 6 Months\n",
       "  Payment_of_Min_Amount Total_EMI_per_month Amount_invested_monthly\n",
       "1 No                    49.57495            80.41529543900253      \n",
       "2 No                    49.57495            118.28022162236736     \n",
       "3 No                    49.57495            81.699521264648        \n",
       "4 No                    49.57495            199.4580743910713      \n",
       "5 No                    49.57495            41.420153086217326     \n",
       "6 No                    49.57495            62.430172331195294     \n",
       "  Payment_Behaviour                Monthly_Balance    Credit_Score\n",
       "1 High_spent_Small_value_payments  312.49408867943663 Good        \n",
       "2 Low_spent_Large_value_payments   284.62916249607184 Good        \n",
       "3 Low_spent_Medium_value_payments  331.2098628537912  Good        \n",
       "4 Low_spent_Small_value_payments   223.45130972736786 Good        \n",
       "5 High_spent_Medium_value_payments 341.48923103222177 Good        \n",
       "6 !@9#%8                           340.4792117872438  Good        "
      ]
     },
     "metadata": {},
     "output_type": "display_data"
    }
   ],
   "source": [
    "# Fill missing values in 'Outstanding_Debt' column with '0'\n",
    "train[is.na(Outstanding_Debt), Outstanding_Debt := 0]\n",
    "\n",
    "# Print the first few rows of the updated data frame\n",
    "head(train)"
   ]
  },
  {
   "cell_type": "code",
   "execution_count": 94,
   "metadata": {
    "vscode": {
     "languageId": "r"
    }
   },
   "outputs": [
    {
     "data": {
      "text/html": [
       "<table class=\"dataframe\">\n",
       "<caption>A data.table: 6 × 28</caption>\n",
       "<thead>\n",
       "\t<tr><th scope=col>ID</th><th scope=col>Customer_ID</th><th scope=col>Month</th><th scope=col>Name</th><th scope=col>Age</th><th scope=col>SSN</th><th scope=col>Occupation</th><th scope=col>Annual_Income</th><th scope=col>Monthly_Inhand_Salary</th><th scope=col>Num_Bank_Accounts</th><th scope=col>⋯</th><th scope=col>Credit_Mix</th><th scope=col>Outstanding_Debt</th><th scope=col>Credit_Utilization_Ratio</th><th scope=col>Credit_History_Age</th><th scope=col>Payment_of_Min_Amount</th><th scope=col>Total_EMI_per_month</th><th scope=col>Amount_invested_monthly</th><th scope=col>Payment_Behaviour</th><th scope=col>Monthly_Balance</th><th scope=col>Credit_Score</th></tr>\n",
       "\t<tr><th scope=col>&lt;chr&gt;</th><th scope=col>&lt;chr&gt;</th><th scope=col>&lt;chr&gt;</th><th scope=col>&lt;chr&gt;</th><th scope=col>&lt;int&gt;</th><th scope=col>&lt;chr&gt;</th><th scope=col>&lt;chr&gt;</th><th scope=col>&lt;dbl&gt;</th><th scope=col>&lt;dbl&gt;</th><th scope=col>&lt;int&gt;</th><th scope=col>⋯</th><th scope=col>&lt;chr&gt;</th><th scope=col>&lt;dbl&gt;</th><th scope=col>&lt;dbl&gt;</th><th scope=col>&lt;chr&gt;</th><th scope=col>&lt;chr&gt;</th><th scope=col>&lt;dbl&gt;</th><th scope=col>&lt;chr&gt;</th><th scope=col>&lt;chr&gt;</th><th scope=col>&lt;chr&gt;</th><th scope=col>&lt;chr&gt;</th></tr>\n",
       "</thead>\n",
       "<tbody>\n",
       "\t<tr><td>0x1602</td><td>CUS_0xd40</td><td>January </td><td>Aaron Maashoh</td><td> 23</td><td>821-00-0265</td><td>Scientist</td><td>19114.12</td><td>1824.843</td><td>3</td><td>⋯</td><td>_   </td><td>809.98</td><td>26.82262</td><td>22 Years and 1 Months</td><td>No</td><td>49.57495</td><td>80.41529543900253 </td><td>High_spent_Small_value_payments </td><td>312.49408867943663</td><td>Good</td></tr>\n",
       "\t<tr><td>0x1603</td><td>CUS_0xd40</td><td>February</td><td>Aaron Maashoh</td><td> 23</td><td>821-00-0265</td><td>Scientist</td><td>19114.12</td><td>      NA</td><td>3</td><td>⋯</td><td>Good</td><td>809.98</td><td>31.94496</td><td>NA                   </td><td>No</td><td>49.57495</td><td>118.28022162236736</td><td>Low_spent_Large_value_payments  </td><td>284.62916249607184</td><td>Good</td></tr>\n",
       "\t<tr><td>0x1604</td><td>CUS_0xd40</td><td>March   </td><td>Aaron Maashoh</td><td>500</td><td>821-00-0265</td><td>Scientist</td><td>19114.12</td><td>      NA</td><td>3</td><td>⋯</td><td>Good</td><td>809.98</td><td>28.60935</td><td>22 Years and 3 Months</td><td>No</td><td>49.57495</td><td>81.699521264648   </td><td>Low_spent_Medium_value_payments </td><td>331.2098628537912 </td><td>Good</td></tr>\n",
       "\t<tr><td>0x1605</td><td>CUS_0xd40</td><td>April   </td><td>Aaron Maashoh</td><td> 23</td><td>821-00-0265</td><td>Scientist</td><td>19114.12</td><td>      NA</td><td>3</td><td>⋯</td><td>Good</td><td>809.98</td><td>31.37786</td><td>22 Years and 4 Months</td><td>No</td><td>49.57495</td><td>199.4580743910713 </td><td>Low_spent_Small_value_payments  </td><td>223.45130972736786</td><td>Good</td></tr>\n",
       "\t<tr><td>0x1606</td><td>CUS_0xd40</td><td>May     </td><td>Aaron Maashoh</td><td> 23</td><td>821-00-0265</td><td>Scientist</td><td>19114.12</td><td>1824.843</td><td>3</td><td>⋯</td><td>Good</td><td>809.98</td><td>24.79735</td><td>22 Years and 5 Months</td><td>No</td><td>49.57495</td><td>41.420153086217326</td><td>High_spent_Medium_value_payments</td><td>341.48923103222177</td><td>Good</td></tr>\n",
       "\t<tr><td>0x1607</td><td>CUS_0xd40</td><td>June    </td><td>Aaron Maashoh</td><td> 23</td><td>821-00-0265</td><td>Scientist</td><td>19114.12</td><td>      NA</td><td>3</td><td>⋯</td><td>Good</td><td>809.98</td><td>27.26226</td><td>22 Years and 6 Months</td><td>No</td><td>49.57495</td><td>62.430172331195294</td><td>!@9#%8                          </td><td>340.4792117872438 </td><td>Good</td></tr>\n",
       "</tbody>\n",
       "</table>\n"
      ],
      "text/latex": [
       "A data.table: 6 × 28\n",
       "\\begin{tabular}{lllllllllllllllllllll}\n",
       " ID & Customer\\_ID & Month & Name & Age & SSN & Occupation & Annual\\_Income & Monthly\\_Inhand\\_Salary & Num\\_Bank\\_Accounts & ⋯ & Credit\\_Mix & Outstanding\\_Debt & Credit\\_Utilization\\_Ratio & Credit\\_History\\_Age & Payment\\_of\\_Min\\_Amount & Total\\_EMI\\_per\\_month & Amount\\_invested\\_monthly & Payment\\_Behaviour & Monthly\\_Balance & Credit\\_Score\\\\\n",
       " <chr> & <chr> & <chr> & <chr> & <int> & <chr> & <chr> & <dbl> & <dbl> & <int> & ⋯ & <chr> & <dbl> & <dbl> & <chr> & <chr> & <dbl> & <chr> & <chr> & <chr> & <chr>\\\\\n",
       "\\hline\n",
       "\t 0x1602 & CUS\\_0xd40 & January  & Aaron Maashoh &  23 & 821-00-0265 & Scientist & 19114.12 & 1824.843 & 3 & ⋯ & \\_    & 809.98 & 26.82262 & 22 Years and 1 Months & No & 49.57495 & 80.41529543900253  & High\\_spent\\_Small\\_value\\_payments  & 312.49408867943663 & Good\\\\\n",
       "\t 0x1603 & CUS\\_0xd40 & February & Aaron Maashoh &  23 & 821-00-0265 & Scientist & 19114.12 &       NA & 3 & ⋯ & Good & 809.98 & 31.94496 & NA                    & No & 49.57495 & 118.28022162236736 & Low\\_spent\\_Large\\_value\\_payments   & 284.62916249607184 & Good\\\\\n",
       "\t 0x1604 & CUS\\_0xd40 & March    & Aaron Maashoh & 500 & 821-00-0265 & Scientist & 19114.12 &       NA & 3 & ⋯ & Good & 809.98 & 28.60935 & 22 Years and 3 Months & No & 49.57495 & 81.699521264648    & Low\\_spent\\_Medium\\_value\\_payments  & 331.2098628537912  & Good\\\\\n",
       "\t 0x1605 & CUS\\_0xd40 & April    & Aaron Maashoh &  23 & 821-00-0265 & Scientist & 19114.12 &       NA & 3 & ⋯ & Good & 809.98 & 31.37786 & 22 Years and 4 Months & No & 49.57495 & 199.4580743910713  & Low\\_spent\\_Small\\_value\\_payments   & 223.45130972736786 & Good\\\\\n",
       "\t 0x1606 & CUS\\_0xd40 & May      & Aaron Maashoh &  23 & 821-00-0265 & Scientist & 19114.12 & 1824.843 & 3 & ⋯ & Good & 809.98 & 24.79735 & 22 Years and 5 Months & No & 49.57495 & 41.420153086217326 & High\\_spent\\_Medium\\_value\\_payments & 341.48923103222177 & Good\\\\\n",
       "\t 0x1607 & CUS\\_0xd40 & June     & Aaron Maashoh &  23 & 821-00-0265 & Scientist & 19114.12 &       NA & 3 & ⋯ & Good & 809.98 & 27.26226 & 22 Years and 6 Months & No & 49.57495 & 62.430172331195294 & !@9\\#\\%8                           & 340.4792117872438  & Good\\\\\n",
       "\\end{tabular}\n"
      ],
      "text/markdown": [
       "\n",
       "A data.table: 6 × 28\n",
       "\n",
       "| ID &lt;chr&gt; | Customer_ID &lt;chr&gt; | Month &lt;chr&gt; | Name &lt;chr&gt; | Age &lt;int&gt; | SSN &lt;chr&gt; | Occupation &lt;chr&gt; | Annual_Income &lt;dbl&gt; | Monthly_Inhand_Salary &lt;dbl&gt; | Num_Bank_Accounts &lt;int&gt; | ⋯ ⋯ | Credit_Mix &lt;chr&gt; | Outstanding_Debt &lt;dbl&gt; | Credit_Utilization_Ratio &lt;dbl&gt; | Credit_History_Age &lt;chr&gt; | Payment_of_Min_Amount &lt;chr&gt; | Total_EMI_per_month &lt;dbl&gt; | Amount_invested_monthly &lt;chr&gt; | Payment_Behaviour &lt;chr&gt; | Monthly_Balance &lt;chr&gt; | Credit_Score &lt;chr&gt; |\n",
       "|---|---|---|---|---|---|---|---|---|---|---|---|---|---|---|---|---|---|---|---|---|\n",
       "| 0x1602 | CUS_0xd40 | January  | Aaron Maashoh |  23 | 821-00-0265 | Scientist | 19114.12 | 1824.843 | 3 | ⋯ | _    | 809.98 | 26.82262 | 22 Years and 1 Months | No | 49.57495 | 80.41529543900253  | High_spent_Small_value_payments  | 312.49408867943663 | Good |\n",
       "| 0x1603 | CUS_0xd40 | February | Aaron Maashoh |  23 | 821-00-0265 | Scientist | 19114.12 |       NA | 3 | ⋯ | Good | 809.98 | 31.94496 | NA                    | No | 49.57495 | 118.28022162236736 | Low_spent_Large_value_payments   | 284.62916249607184 | Good |\n",
       "| 0x1604 | CUS_0xd40 | March    | Aaron Maashoh | 500 | 821-00-0265 | Scientist | 19114.12 |       NA | 3 | ⋯ | Good | 809.98 | 28.60935 | 22 Years and 3 Months | No | 49.57495 | 81.699521264648    | Low_spent_Medium_value_payments  | 331.2098628537912  | Good |\n",
       "| 0x1605 | CUS_0xd40 | April    | Aaron Maashoh |  23 | 821-00-0265 | Scientist | 19114.12 |       NA | 3 | ⋯ | Good | 809.98 | 31.37786 | 22 Years and 4 Months | No | 49.57495 | 199.4580743910713  | Low_spent_Small_value_payments   | 223.45130972736786 | Good |\n",
       "| 0x1606 | CUS_0xd40 | May      | Aaron Maashoh |  23 | 821-00-0265 | Scientist | 19114.12 | 1824.843 | 3 | ⋯ | Good | 809.98 | 24.79735 | 22 Years and 5 Months | No | 49.57495 | 41.420153086217326 | High_spent_Medium_value_payments | 341.48923103222177 | Good |\n",
       "| 0x1607 | CUS_0xd40 | June     | Aaron Maashoh |  23 | 821-00-0265 | Scientist | 19114.12 |       NA | 3 | ⋯ | Good | 809.98 | 27.26226 | 22 Years and 6 Months | No | 49.57495 | 62.430172331195294 | !@9#%8                           | 340.4792117872438  | Good |\n",
       "\n"
      ],
      "text/plain": [
       "  ID     Customer_ID Month    Name          Age SSN         Occupation\n",
       "1 0x1602 CUS_0xd40   January  Aaron Maashoh  23 821-00-0265 Scientist \n",
       "2 0x1603 CUS_0xd40   February Aaron Maashoh  23 821-00-0265 Scientist \n",
       "3 0x1604 CUS_0xd40   March    Aaron Maashoh 500 821-00-0265 Scientist \n",
       "4 0x1605 CUS_0xd40   April    Aaron Maashoh  23 821-00-0265 Scientist \n",
       "5 0x1606 CUS_0xd40   May      Aaron Maashoh  23 821-00-0265 Scientist \n",
       "6 0x1607 CUS_0xd40   June     Aaron Maashoh  23 821-00-0265 Scientist \n",
       "  Annual_Income Monthly_Inhand_Salary Num_Bank_Accounts ⋯ Credit_Mix\n",
       "1 19114.12      1824.843              3                 ⋯ _         \n",
       "2 19114.12            NA              3                 ⋯ Good      \n",
       "3 19114.12            NA              3                 ⋯ Good      \n",
       "4 19114.12            NA              3                 ⋯ Good      \n",
       "5 19114.12      1824.843              3                 ⋯ Good      \n",
       "6 19114.12            NA              3                 ⋯ Good      \n",
       "  Outstanding_Debt Credit_Utilization_Ratio Credit_History_Age   \n",
       "1 809.98           26.82262                 22 Years and 1 Months\n",
       "2 809.98           31.94496                 NA                   \n",
       "3 809.98           28.60935                 22 Years and 3 Months\n",
       "4 809.98           31.37786                 22 Years and 4 Months\n",
       "5 809.98           24.79735                 22 Years and 5 Months\n",
       "6 809.98           27.26226                 22 Years and 6 Months\n",
       "  Payment_of_Min_Amount Total_EMI_per_month Amount_invested_monthly\n",
       "1 No                    49.57495            80.41529543900253      \n",
       "2 No                    49.57495            118.28022162236736     \n",
       "3 No                    49.57495            81.699521264648        \n",
       "4 No                    49.57495            199.4580743910713      \n",
       "5 No                    49.57495            41.420153086217326     \n",
       "6 No                    49.57495            62.430172331195294     \n",
       "  Payment_Behaviour                Monthly_Balance    Credit_Score\n",
       "1 High_spent_Small_value_payments  312.49408867943663 Good        \n",
       "2 Low_spent_Large_value_payments   284.62916249607184 Good        \n",
       "3 Low_spent_Medium_value_payments  331.2098628537912  Good        \n",
       "4 Low_spent_Small_value_payments   223.45130972736786 Good        \n",
       "5 High_spent_Medium_value_payments 341.48923103222177 Good        \n",
       "6 !@9#%8                           340.4792117872438  Good        "
      ]
     },
     "metadata": {},
     "output_type": "display_data"
    }
   ],
   "source": [
    "# Convert 'Amount_invested_monthly' column to string\n",
    "train[, Amount_invested_monthly := as.character(Amount_invested_monthly)]\n",
    "\n",
    "# Print the first few rows of the updated data frame\n",
    "head(train)"
   ]
  },
  {
   "cell_type": "code",
   "execution_count": 95,
   "metadata": {
    "vscode": {
     "languageId": "r"
    }
   },
   "outputs": [
    {
     "data": {
      "text/html": [
       "<table class=\"dataframe\">\n",
       "<caption>A data.table: 6 × 28</caption>\n",
       "<thead>\n",
       "\t<tr><th scope=col>ID</th><th scope=col>Customer_ID</th><th scope=col>Month</th><th scope=col>Name</th><th scope=col>Age</th><th scope=col>SSN</th><th scope=col>Occupation</th><th scope=col>Annual_Income</th><th scope=col>Monthly_Inhand_Salary</th><th scope=col>Num_Bank_Accounts</th><th scope=col>⋯</th><th scope=col>Credit_Mix</th><th scope=col>Outstanding_Debt</th><th scope=col>Credit_Utilization_Ratio</th><th scope=col>Credit_History_Age</th><th scope=col>Payment_of_Min_Amount</th><th scope=col>Total_EMI_per_month</th><th scope=col>Amount_invested_monthly</th><th scope=col>Payment_Behaviour</th><th scope=col>Monthly_Balance</th><th scope=col>Credit_Score</th></tr>\n",
       "\t<tr><th scope=col>&lt;chr&gt;</th><th scope=col>&lt;chr&gt;</th><th scope=col>&lt;chr&gt;</th><th scope=col>&lt;chr&gt;</th><th scope=col>&lt;int&gt;</th><th scope=col>&lt;chr&gt;</th><th scope=col>&lt;chr&gt;</th><th scope=col>&lt;dbl&gt;</th><th scope=col>&lt;dbl&gt;</th><th scope=col>&lt;int&gt;</th><th scope=col>⋯</th><th scope=col>&lt;chr&gt;</th><th scope=col>&lt;dbl&gt;</th><th scope=col>&lt;dbl&gt;</th><th scope=col>&lt;chr&gt;</th><th scope=col>&lt;chr&gt;</th><th scope=col>&lt;dbl&gt;</th><th scope=col>&lt;chr&gt;</th><th scope=col>&lt;chr&gt;</th><th scope=col>&lt;chr&gt;</th><th scope=col>&lt;chr&gt;</th></tr>\n",
       "</thead>\n",
       "<tbody>\n",
       "\t<tr><td>0x1602</td><td>CUS_0xd40</td><td>January </td><td>Aaron Maashoh</td><td> 23</td><td>821-00-0265</td><td>Scientist</td><td>19114.12</td><td>1824.843</td><td>3</td><td>⋯</td><td>_   </td><td>809.98</td><td>26.82262</td><td>22 Years and 1 Months</td><td>No</td><td>49.57495</td><td>80.41529543900253 </td><td>High_spent_Small_value_payments </td><td>312.49408867943663</td><td>Good</td></tr>\n",
       "\t<tr><td>0x1603</td><td>CUS_0xd40</td><td>February</td><td>Aaron Maashoh</td><td> 23</td><td>821-00-0265</td><td>Scientist</td><td>19114.12</td><td>      NA</td><td>3</td><td>⋯</td><td>Good</td><td>809.98</td><td>31.94496</td><td>NA                   </td><td>No</td><td>49.57495</td><td>118.28022162236736</td><td>Low_spent_Large_value_payments  </td><td>284.62916249607184</td><td>Good</td></tr>\n",
       "\t<tr><td>0x1604</td><td>CUS_0xd40</td><td>March   </td><td>Aaron Maashoh</td><td>500</td><td>821-00-0265</td><td>Scientist</td><td>19114.12</td><td>      NA</td><td>3</td><td>⋯</td><td>Good</td><td>809.98</td><td>28.60935</td><td>22 Years and 3 Months</td><td>No</td><td>49.57495</td><td>81.699521264648   </td><td>Low_spent_Medium_value_payments </td><td>331.2098628537912 </td><td>Good</td></tr>\n",
       "\t<tr><td>0x1605</td><td>CUS_0xd40</td><td>April   </td><td>Aaron Maashoh</td><td> 23</td><td>821-00-0265</td><td>Scientist</td><td>19114.12</td><td>      NA</td><td>3</td><td>⋯</td><td>Good</td><td>809.98</td><td>31.37786</td><td>22 Years and 4 Months</td><td>No</td><td>49.57495</td><td>199.4580743910713 </td><td>Low_spent_Small_value_payments  </td><td>223.45130972736786</td><td>Good</td></tr>\n",
       "\t<tr><td>0x1606</td><td>CUS_0xd40</td><td>May     </td><td>Aaron Maashoh</td><td> 23</td><td>821-00-0265</td><td>Scientist</td><td>19114.12</td><td>1824.843</td><td>3</td><td>⋯</td><td>Good</td><td>809.98</td><td>24.79735</td><td>22 Years and 5 Months</td><td>No</td><td>49.57495</td><td>41.420153086217326</td><td>High_spent_Medium_value_payments</td><td>341.48923103222177</td><td>Good</td></tr>\n",
       "\t<tr><td>0x1607</td><td>CUS_0xd40</td><td>June    </td><td>Aaron Maashoh</td><td> 23</td><td>821-00-0265</td><td>Scientist</td><td>19114.12</td><td>      NA</td><td>3</td><td>⋯</td><td>Good</td><td>809.98</td><td>27.26226</td><td>22 Years and 6 Months</td><td>No</td><td>49.57495</td><td>62.430172331195294</td><td>!@9#%8                          </td><td>340.4792117872438 </td><td>Good</td></tr>\n",
       "</tbody>\n",
       "</table>\n"
      ],
      "text/latex": [
       "A data.table: 6 × 28\n",
       "\\begin{tabular}{lllllllllllllllllllll}\n",
       " ID & Customer\\_ID & Month & Name & Age & SSN & Occupation & Annual\\_Income & Monthly\\_Inhand\\_Salary & Num\\_Bank\\_Accounts & ⋯ & Credit\\_Mix & Outstanding\\_Debt & Credit\\_Utilization\\_Ratio & Credit\\_History\\_Age & Payment\\_of\\_Min\\_Amount & Total\\_EMI\\_per\\_month & Amount\\_invested\\_monthly & Payment\\_Behaviour & Monthly\\_Balance & Credit\\_Score\\\\\n",
       " <chr> & <chr> & <chr> & <chr> & <int> & <chr> & <chr> & <dbl> & <dbl> & <int> & ⋯ & <chr> & <dbl> & <dbl> & <chr> & <chr> & <dbl> & <chr> & <chr> & <chr> & <chr>\\\\\n",
       "\\hline\n",
       "\t 0x1602 & CUS\\_0xd40 & January  & Aaron Maashoh &  23 & 821-00-0265 & Scientist & 19114.12 & 1824.843 & 3 & ⋯ & \\_    & 809.98 & 26.82262 & 22 Years and 1 Months & No & 49.57495 & 80.41529543900253  & High\\_spent\\_Small\\_value\\_payments  & 312.49408867943663 & Good\\\\\n",
       "\t 0x1603 & CUS\\_0xd40 & February & Aaron Maashoh &  23 & 821-00-0265 & Scientist & 19114.12 &       NA & 3 & ⋯ & Good & 809.98 & 31.94496 & NA                    & No & 49.57495 & 118.28022162236736 & Low\\_spent\\_Large\\_value\\_payments   & 284.62916249607184 & Good\\\\\n",
       "\t 0x1604 & CUS\\_0xd40 & March    & Aaron Maashoh & 500 & 821-00-0265 & Scientist & 19114.12 &       NA & 3 & ⋯ & Good & 809.98 & 28.60935 & 22 Years and 3 Months & No & 49.57495 & 81.699521264648    & Low\\_spent\\_Medium\\_value\\_payments  & 331.2098628537912  & Good\\\\\n",
       "\t 0x1605 & CUS\\_0xd40 & April    & Aaron Maashoh &  23 & 821-00-0265 & Scientist & 19114.12 &       NA & 3 & ⋯ & Good & 809.98 & 31.37786 & 22 Years and 4 Months & No & 49.57495 & 199.4580743910713  & Low\\_spent\\_Small\\_value\\_payments   & 223.45130972736786 & Good\\\\\n",
       "\t 0x1606 & CUS\\_0xd40 & May      & Aaron Maashoh &  23 & 821-00-0265 & Scientist & 19114.12 & 1824.843 & 3 & ⋯ & Good & 809.98 & 24.79735 & 22 Years and 5 Months & No & 49.57495 & 41.420153086217326 & High\\_spent\\_Medium\\_value\\_payments & 341.48923103222177 & Good\\\\\n",
       "\t 0x1607 & CUS\\_0xd40 & June     & Aaron Maashoh &  23 & 821-00-0265 & Scientist & 19114.12 &       NA & 3 & ⋯ & Good & 809.98 & 27.26226 & 22 Years and 6 Months & No & 49.57495 & 62.430172331195294 & !@9\\#\\%8                           & 340.4792117872438  & Good\\\\\n",
       "\\end{tabular}\n"
      ],
      "text/markdown": [
       "\n",
       "A data.table: 6 × 28\n",
       "\n",
       "| ID &lt;chr&gt; | Customer_ID &lt;chr&gt; | Month &lt;chr&gt; | Name &lt;chr&gt; | Age &lt;int&gt; | SSN &lt;chr&gt; | Occupation &lt;chr&gt; | Annual_Income &lt;dbl&gt; | Monthly_Inhand_Salary &lt;dbl&gt; | Num_Bank_Accounts &lt;int&gt; | ⋯ ⋯ | Credit_Mix &lt;chr&gt; | Outstanding_Debt &lt;dbl&gt; | Credit_Utilization_Ratio &lt;dbl&gt; | Credit_History_Age &lt;chr&gt; | Payment_of_Min_Amount &lt;chr&gt; | Total_EMI_per_month &lt;dbl&gt; | Amount_invested_monthly &lt;chr&gt; | Payment_Behaviour &lt;chr&gt; | Monthly_Balance &lt;chr&gt; | Credit_Score &lt;chr&gt; |\n",
       "|---|---|---|---|---|---|---|---|---|---|---|---|---|---|---|---|---|---|---|---|---|\n",
       "| 0x1602 | CUS_0xd40 | January  | Aaron Maashoh |  23 | 821-00-0265 | Scientist | 19114.12 | 1824.843 | 3 | ⋯ | _    | 809.98 | 26.82262 | 22 Years and 1 Months | No | 49.57495 | 80.41529543900253  | High_spent_Small_value_payments  | 312.49408867943663 | Good |\n",
       "| 0x1603 | CUS_0xd40 | February | Aaron Maashoh |  23 | 821-00-0265 | Scientist | 19114.12 |       NA | 3 | ⋯ | Good | 809.98 | 31.94496 | NA                    | No | 49.57495 | 118.28022162236736 | Low_spent_Large_value_payments   | 284.62916249607184 | Good |\n",
       "| 0x1604 | CUS_0xd40 | March    | Aaron Maashoh | 500 | 821-00-0265 | Scientist | 19114.12 |       NA | 3 | ⋯ | Good | 809.98 | 28.60935 | 22 Years and 3 Months | No | 49.57495 | 81.699521264648    | Low_spent_Medium_value_payments  | 331.2098628537912  | Good |\n",
       "| 0x1605 | CUS_0xd40 | April    | Aaron Maashoh |  23 | 821-00-0265 | Scientist | 19114.12 |       NA | 3 | ⋯ | Good | 809.98 | 31.37786 | 22 Years and 4 Months | No | 49.57495 | 199.4580743910713  | Low_spent_Small_value_payments   | 223.45130972736786 | Good |\n",
       "| 0x1606 | CUS_0xd40 | May      | Aaron Maashoh |  23 | 821-00-0265 | Scientist | 19114.12 | 1824.843 | 3 | ⋯ | Good | 809.98 | 24.79735 | 22 Years and 5 Months | No | 49.57495 | 41.420153086217326 | High_spent_Medium_value_payments | 341.48923103222177 | Good |\n",
       "| 0x1607 | CUS_0xd40 | June     | Aaron Maashoh |  23 | 821-00-0265 | Scientist | 19114.12 |       NA | 3 | ⋯ | Good | 809.98 | 27.26226 | 22 Years and 6 Months | No | 49.57495 | 62.430172331195294 | !@9#%8                           | 340.4792117872438  | Good |\n",
       "\n"
      ],
      "text/plain": [
       "  ID     Customer_ID Month    Name          Age SSN         Occupation\n",
       "1 0x1602 CUS_0xd40   January  Aaron Maashoh  23 821-00-0265 Scientist \n",
       "2 0x1603 CUS_0xd40   February Aaron Maashoh  23 821-00-0265 Scientist \n",
       "3 0x1604 CUS_0xd40   March    Aaron Maashoh 500 821-00-0265 Scientist \n",
       "4 0x1605 CUS_0xd40   April    Aaron Maashoh  23 821-00-0265 Scientist \n",
       "5 0x1606 CUS_0xd40   May      Aaron Maashoh  23 821-00-0265 Scientist \n",
       "6 0x1607 CUS_0xd40   June     Aaron Maashoh  23 821-00-0265 Scientist \n",
       "  Annual_Income Monthly_Inhand_Salary Num_Bank_Accounts ⋯ Credit_Mix\n",
       "1 19114.12      1824.843              3                 ⋯ _         \n",
       "2 19114.12            NA              3                 ⋯ Good      \n",
       "3 19114.12            NA              3                 ⋯ Good      \n",
       "4 19114.12            NA              3                 ⋯ Good      \n",
       "5 19114.12      1824.843              3                 ⋯ Good      \n",
       "6 19114.12            NA              3                 ⋯ Good      \n",
       "  Outstanding_Debt Credit_Utilization_Ratio Credit_History_Age   \n",
       "1 809.98           26.82262                 22 Years and 1 Months\n",
       "2 809.98           31.94496                 NA                   \n",
       "3 809.98           28.60935                 22 Years and 3 Months\n",
       "4 809.98           31.37786                 22 Years and 4 Months\n",
       "5 809.98           24.79735                 22 Years and 5 Months\n",
       "6 809.98           27.26226                 22 Years and 6 Months\n",
       "  Payment_of_Min_Amount Total_EMI_per_month Amount_invested_monthly\n",
       "1 No                    49.57495            80.41529543900253      \n",
       "2 No                    49.57495            118.28022162236736     \n",
       "3 No                    49.57495            81.699521264648        \n",
       "4 No                    49.57495            199.4580743910713      \n",
       "5 No                    49.57495            41.420153086217326     \n",
       "6 No                    49.57495            62.430172331195294     \n",
       "  Payment_Behaviour                Monthly_Balance    Credit_Score\n",
       "1 High_spent_Small_value_payments  312.49408867943663 Good        \n",
       "2 Low_spent_Large_value_payments   284.62916249607184 Good        \n",
       "3 Low_spent_Medium_value_payments  331.2098628537912  Good        \n",
       "4 Low_spent_Small_value_payments   223.45130972736786 Good        \n",
       "5 High_spent_Medium_value_payments 341.48923103222177 Good        \n",
       "6 !@9#%8                           340.4792117872438  Good        "
      ]
     },
     "metadata": {},
     "output_type": "display_data"
    }
   ],
   "source": [
    "# Replace empty strings with '0' in 'Amount_invested_monthly' column\n",
    "train[, Amount_invested_monthly := ifelse(Amount_invested_monthly == '', '0', Amount_invested_monthly)]\n",
    "\n",
    "# Print the first few rows of the updated data frame\n",
    "head(train)"
   ]
  },
  {
   "cell_type": "code",
   "execution_count": 96,
   "metadata": {
    "vscode": {
     "languageId": "r"
    }
   },
   "outputs": [
    {
     "data": {
      "text/html": [
       "<table class=\"dataframe\">\n",
       "<caption>A data.table: 6 × 28</caption>\n",
       "<thead>\n",
       "\t<tr><th scope=col>ID</th><th scope=col>Customer_ID</th><th scope=col>Month</th><th scope=col>Name</th><th scope=col>Age</th><th scope=col>SSN</th><th scope=col>Occupation</th><th scope=col>Annual_Income</th><th scope=col>Monthly_Inhand_Salary</th><th scope=col>Num_Bank_Accounts</th><th scope=col>⋯</th><th scope=col>Credit_Mix</th><th scope=col>Outstanding_Debt</th><th scope=col>Credit_Utilization_Ratio</th><th scope=col>Credit_History_Age</th><th scope=col>Payment_of_Min_Amount</th><th scope=col>Total_EMI_per_month</th><th scope=col>Amount_invested_monthly</th><th scope=col>Payment_Behaviour</th><th scope=col>Monthly_Balance</th><th scope=col>Credit_Score</th></tr>\n",
       "\t<tr><th scope=col>&lt;chr&gt;</th><th scope=col>&lt;chr&gt;</th><th scope=col>&lt;chr&gt;</th><th scope=col>&lt;chr&gt;</th><th scope=col>&lt;int&gt;</th><th scope=col>&lt;chr&gt;</th><th scope=col>&lt;chr&gt;</th><th scope=col>&lt;dbl&gt;</th><th scope=col>&lt;dbl&gt;</th><th scope=col>&lt;int&gt;</th><th scope=col>⋯</th><th scope=col>&lt;chr&gt;</th><th scope=col>&lt;dbl&gt;</th><th scope=col>&lt;dbl&gt;</th><th scope=col>&lt;chr&gt;</th><th scope=col>&lt;chr&gt;</th><th scope=col>&lt;dbl&gt;</th><th scope=col>&lt;chr&gt;</th><th scope=col>&lt;chr&gt;</th><th scope=col>&lt;chr&gt;</th><th scope=col>&lt;chr&gt;</th></tr>\n",
       "</thead>\n",
       "<tbody>\n",
       "\t<tr><td>0x1602</td><td>CUS_0xd40</td><td>January </td><td>Aaron Maashoh</td><td> 23</td><td>821-00-0265</td><td>Scientist</td><td>19114.12</td><td>1824.843</td><td>3</td><td>⋯</td><td>_   </td><td>809.98</td><td>26.82262</td><td>22 Years and 1 Months</td><td>No</td><td>49.57495</td><td>80.41529543900253 </td><td>High_spent_Small_value_payments </td><td>312.49408867943663</td><td>Good</td></tr>\n",
       "\t<tr><td>0x1603</td><td>CUS_0xd40</td><td>February</td><td>Aaron Maashoh</td><td> 23</td><td>821-00-0265</td><td>Scientist</td><td>19114.12</td><td>      NA</td><td>3</td><td>⋯</td><td>Good</td><td>809.98</td><td>31.94496</td><td>NA                   </td><td>No</td><td>49.57495</td><td>118.28022162236736</td><td>Low_spent_Large_value_payments  </td><td>284.62916249607184</td><td>Good</td></tr>\n",
       "\t<tr><td>0x1604</td><td>CUS_0xd40</td><td>March   </td><td>Aaron Maashoh</td><td>500</td><td>821-00-0265</td><td>Scientist</td><td>19114.12</td><td>      NA</td><td>3</td><td>⋯</td><td>Good</td><td>809.98</td><td>28.60935</td><td>22 Years and 3 Months</td><td>No</td><td>49.57495</td><td>81.699521264648   </td><td>Low_spent_Medium_value_payments </td><td>331.2098628537912 </td><td>Good</td></tr>\n",
       "\t<tr><td>0x1605</td><td>CUS_0xd40</td><td>April   </td><td>Aaron Maashoh</td><td> 23</td><td>821-00-0265</td><td>Scientist</td><td>19114.12</td><td>      NA</td><td>3</td><td>⋯</td><td>Good</td><td>809.98</td><td>31.37786</td><td>22 Years and 4 Months</td><td>No</td><td>49.57495</td><td>199.4580743910713 </td><td>Low_spent_Small_value_payments  </td><td>223.45130972736786</td><td>Good</td></tr>\n",
       "\t<tr><td>0x1606</td><td>CUS_0xd40</td><td>May     </td><td>Aaron Maashoh</td><td> 23</td><td>821-00-0265</td><td>Scientist</td><td>19114.12</td><td>1824.843</td><td>3</td><td>⋯</td><td>Good</td><td>809.98</td><td>24.79735</td><td>22 Years and 5 Months</td><td>No</td><td>49.57495</td><td>41.420153086217326</td><td>High_spent_Medium_value_payments</td><td>341.48923103222177</td><td>Good</td></tr>\n",
       "\t<tr><td>0x1607</td><td>CUS_0xd40</td><td>June    </td><td>Aaron Maashoh</td><td> 23</td><td>821-00-0265</td><td>Scientist</td><td>19114.12</td><td>      NA</td><td>3</td><td>⋯</td><td>Good</td><td>809.98</td><td>27.26226</td><td>22 Years and 6 Months</td><td>No</td><td>49.57495</td><td>62.430172331195294</td><td>!@9#%8                          </td><td>340.4792117872438 </td><td>Good</td></tr>\n",
       "</tbody>\n",
       "</table>\n"
      ],
      "text/latex": [
       "A data.table: 6 × 28\n",
       "\\begin{tabular}{lllllllllllllllllllll}\n",
       " ID & Customer\\_ID & Month & Name & Age & SSN & Occupation & Annual\\_Income & Monthly\\_Inhand\\_Salary & Num\\_Bank\\_Accounts & ⋯ & Credit\\_Mix & Outstanding\\_Debt & Credit\\_Utilization\\_Ratio & Credit\\_History\\_Age & Payment\\_of\\_Min\\_Amount & Total\\_EMI\\_per\\_month & Amount\\_invested\\_monthly & Payment\\_Behaviour & Monthly\\_Balance & Credit\\_Score\\\\\n",
       " <chr> & <chr> & <chr> & <chr> & <int> & <chr> & <chr> & <dbl> & <dbl> & <int> & ⋯ & <chr> & <dbl> & <dbl> & <chr> & <chr> & <dbl> & <chr> & <chr> & <chr> & <chr>\\\\\n",
       "\\hline\n",
       "\t 0x1602 & CUS\\_0xd40 & January  & Aaron Maashoh &  23 & 821-00-0265 & Scientist & 19114.12 & 1824.843 & 3 & ⋯ & \\_    & 809.98 & 26.82262 & 22 Years and 1 Months & No & 49.57495 & 80.41529543900253  & High\\_spent\\_Small\\_value\\_payments  & 312.49408867943663 & Good\\\\\n",
       "\t 0x1603 & CUS\\_0xd40 & February & Aaron Maashoh &  23 & 821-00-0265 & Scientist & 19114.12 &       NA & 3 & ⋯ & Good & 809.98 & 31.94496 & NA                    & No & 49.57495 & 118.28022162236736 & Low\\_spent\\_Large\\_value\\_payments   & 284.62916249607184 & Good\\\\\n",
       "\t 0x1604 & CUS\\_0xd40 & March    & Aaron Maashoh & 500 & 821-00-0265 & Scientist & 19114.12 &       NA & 3 & ⋯ & Good & 809.98 & 28.60935 & 22 Years and 3 Months & No & 49.57495 & 81.699521264648    & Low\\_spent\\_Medium\\_value\\_payments  & 331.2098628537912  & Good\\\\\n",
       "\t 0x1605 & CUS\\_0xd40 & April    & Aaron Maashoh &  23 & 821-00-0265 & Scientist & 19114.12 &       NA & 3 & ⋯ & Good & 809.98 & 31.37786 & 22 Years and 4 Months & No & 49.57495 & 199.4580743910713  & Low\\_spent\\_Small\\_value\\_payments   & 223.45130972736786 & Good\\\\\n",
       "\t 0x1606 & CUS\\_0xd40 & May      & Aaron Maashoh &  23 & 821-00-0265 & Scientist & 19114.12 & 1824.843 & 3 & ⋯ & Good & 809.98 & 24.79735 & 22 Years and 5 Months & No & 49.57495 & 41.420153086217326 & High\\_spent\\_Medium\\_value\\_payments & 341.48923103222177 & Good\\\\\n",
       "\t 0x1607 & CUS\\_0xd40 & June     & Aaron Maashoh &  23 & 821-00-0265 & Scientist & 19114.12 &       NA & 3 & ⋯ & Good & 809.98 & 27.26226 & 22 Years and 6 Months & No & 49.57495 & 62.430172331195294 & !@9\\#\\%8                           & 340.4792117872438  & Good\\\\\n",
       "\\end{tabular}\n"
      ],
      "text/markdown": [
       "\n",
       "A data.table: 6 × 28\n",
       "\n",
       "| ID &lt;chr&gt; | Customer_ID &lt;chr&gt; | Month &lt;chr&gt; | Name &lt;chr&gt; | Age &lt;int&gt; | SSN &lt;chr&gt; | Occupation &lt;chr&gt; | Annual_Income &lt;dbl&gt; | Monthly_Inhand_Salary &lt;dbl&gt; | Num_Bank_Accounts &lt;int&gt; | ⋯ ⋯ | Credit_Mix &lt;chr&gt; | Outstanding_Debt &lt;dbl&gt; | Credit_Utilization_Ratio &lt;dbl&gt; | Credit_History_Age &lt;chr&gt; | Payment_of_Min_Amount &lt;chr&gt; | Total_EMI_per_month &lt;dbl&gt; | Amount_invested_monthly &lt;chr&gt; | Payment_Behaviour &lt;chr&gt; | Monthly_Balance &lt;chr&gt; | Credit_Score &lt;chr&gt; |\n",
       "|---|---|---|---|---|---|---|---|---|---|---|---|---|---|---|---|---|---|---|---|---|\n",
       "| 0x1602 | CUS_0xd40 | January  | Aaron Maashoh |  23 | 821-00-0265 | Scientist | 19114.12 | 1824.843 | 3 | ⋯ | _    | 809.98 | 26.82262 | 22 Years and 1 Months | No | 49.57495 | 80.41529543900253  | High_spent_Small_value_payments  | 312.49408867943663 | Good |\n",
       "| 0x1603 | CUS_0xd40 | February | Aaron Maashoh |  23 | 821-00-0265 | Scientist | 19114.12 |       NA | 3 | ⋯ | Good | 809.98 | 31.94496 | NA                    | No | 49.57495 | 118.28022162236736 | Low_spent_Large_value_payments   | 284.62916249607184 | Good |\n",
       "| 0x1604 | CUS_0xd40 | March    | Aaron Maashoh | 500 | 821-00-0265 | Scientist | 19114.12 |       NA | 3 | ⋯ | Good | 809.98 | 28.60935 | 22 Years and 3 Months | No | 49.57495 | 81.699521264648    | Low_spent_Medium_value_payments  | 331.2098628537912  | Good |\n",
       "| 0x1605 | CUS_0xd40 | April    | Aaron Maashoh |  23 | 821-00-0265 | Scientist | 19114.12 |       NA | 3 | ⋯ | Good | 809.98 | 31.37786 | 22 Years and 4 Months | No | 49.57495 | 199.4580743910713  | Low_spent_Small_value_payments   | 223.45130972736786 | Good |\n",
       "| 0x1606 | CUS_0xd40 | May      | Aaron Maashoh |  23 | 821-00-0265 | Scientist | 19114.12 | 1824.843 | 3 | ⋯ | Good | 809.98 | 24.79735 | 22 Years and 5 Months | No | 49.57495 | 41.420153086217326 | High_spent_Medium_value_payments | 341.48923103222177 | Good |\n",
       "| 0x1607 | CUS_0xd40 | June     | Aaron Maashoh |  23 | 821-00-0265 | Scientist | 19114.12 |       NA | 3 | ⋯ | Good | 809.98 | 27.26226 | 22 Years and 6 Months | No | 49.57495 | 62.430172331195294 | !@9#%8                           | 340.4792117872438  | Good |\n",
       "\n"
      ],
      "text/plain": [
       "  ID     Customer_ID Month    Name          Age SSN         Occupation\n",
       "1 0x1602 CUS_0xd40   January  Aaron Maashoh  23 821-00-0265 Scientist \n",
       "2 0x1603 CUS_0xd40   February Aaron Maashoh  23 821-00-0265 Scientist \n",
       "3 0x1604 CUS_0xd40   March    Aaron Maashoh 500 821-00-0265 Scientist \n",
       "4 0x1605 CUS_0xd40   April    Aaron Maashoh  23 821-00-0265 Scientist \n",
       "5 0x1606 CUS_0xd40   May      Aaron Maashoh  23 821-00-0265 Scientist \n",
       "6 0x1607 CUS_0xd40   June     Aaron Maashoh  23 821-00-0265 Scientist \n",
       "  Annual_Income Monthly_Inhand_Salary Num_Bank_Accounts ⋯ Credit_Mix\n",
       "1 19114.12      1824.843              3                 ⋯ _         \n",
       "2 19114.12            NA              3                 ⋯ Good      \n",
       "3 19114.12            NA              3                 ⋯ Good      \n",
       "4 19114.12            NA              3                 ⋯ Good      \n",
       "5 19114.12      1824.843              3                 ⋯ Good      \n",
       "6 19114.12            NA              3                 ⋯ Good      \n",
       "  Outstanding_Debt Credit_Utilization_Ratio Credit_History_Age   \n",
       "1 809.98           26.82262                 22 Years and 1 Months\n",
       "2 809.98           31.94496                 NA                   \n",
       "3 809.98           28.60935                 22 Years and 3 Months\n",
       "4 809.98           31.37786                 22 Years and 4 Months\n",
       "5 809.98           24.79735                 22 Years and 5 Months\n",
       "6 809.98           27.26226                 22 Years and 6 Months\n",
       "  Payment_of_Min_Amount Total_EMI_per_month Amount_invested_monthly\n",
       "1 No                    49.57495            80.41529543900253      \n",
       "2 No                    49.57495            118.28022162236736     \n",
       "3 No                    49.57495            81.699521264648        \n",
       "4 No                    49.57495            199.4580743910713      \n",
       "5 No                    49.57495            41.420153086217326     \n",
       "6 No                    49.57495            62.430172331195294     \n",
       "  Payment_Behaviour                Monthly_Balance    Credit_Score\n",
       "1 High_spent_Small_value_payments  312.49408867943663 Good        \n",
       "2 Low_spent_Large_value_payments   284.62916249607184 Good        \n",
       "3 Low_spent_Medium_value_payments  331.2098628537912  Good        \n",
       "4 Low_spent_Small_value_payments   223.45130972736786 Good        \n",
       "5 High_spent_Medium_value_payments 341.48923103222177 Good        \n",
       "6 !@9#%8                           340.4792117872438  Good        "
      ]
     },
     "metadata": {},
     "output_type": "display_data"
    }
   ],
   "source": [
    "\n",
    "# Remove non-numeric characters (except periods) from 'Amount_invested_monthly' column\n",
    "train[, Amount_invested_monthly := gsub(\"[^0-9.]\", \"\", Amount_invested_monthly)]\n",
    "\n",
    "# Print the first few rows of the updated data frame\n",
    "head(train)"
   ]
  },
  {
   "cell_type": "code",
   "execution_count": 97,
   "metadata": {
    "vscode": {
     "languageId": "r"
    }
   },
   "outputs": [
    {
     "data": {
      "text/html": [
       "<table class=\"dataframe\">\n",
       "<caption>A data.table: 6 × 28</caption>\n",
       "<thead>\n",
       "\t<tr><th scope=col>ID</th><th scope=col>Customer_ID</th><th scope=col>Month</th><th scope=col>Name</th><th scope=col>Age</th><th scope=col>SSN</th><th scope=col>Occupation</th><th scope=col>Annual_Income</th><th scope=col>Monthly_Inhand_Salary</th><th scope=col>Num_Bank_Accounts</th><th scope=col>⋯</th><th scope=col>Credit_Mix</th><th scope=col>Outstanding_Debt</th><th scope=col>Credit_Utilization_Ratio</th><th scope=col>Credit_History_Age</th><th scope=col>Payment_of_Min_Amount</th><th scope=col>Total_EMI_per_month</th><th scope=col>Amount_invested_monthly</th><th scope=col>Payment_Behaviour</th><th scope=col>Monthly_Balance</th><th scope=col>Credit_Score</th></tr>\n",
       "\t<tr><th scope=col>&lt;chr&gt;</th><th scope=col>&lt;chr&gt;</th><th scope=col>&lt;chr&gt;</th><th scope=col>&lt;chr&gt;</th><th scope=col>&lt;int&gt;</th><th scope=col>&lt;chr&gt;</th><th scope=col>&lt;chr&gt;</th><th scope=col>&lt;dbl&gt;</th><th scope=col>&lt;dbl&gt;</th><th scope=col>&lt;int&gt;</th><th scope=col>⋯</th><th scope=col>&lt;chr&gt;</th><th scope=col>&lt;dbl&gt;</th><th scope=col>&lt;dbl&gt;</th><th scope=col>&lt;chr&gt;</th><th scope=col>&lt;chr&gt;</th><th scope=col>&lt;dbl&gt;</th><th scope=col>&lt;dbl&gt;</th><th scope=col>&lt;chr&gt;</th><th scope=col>&lt;chr&gt;</th><th scope=col>&lt;chr&gt;</th></tr>\n",
       "</thead>\n",
       "<tbody>\n",
       "\t<tr><td>0x1602</td><td>CUS_0xd40</td><td>January </td><td>Aaron Maashoh</td><td> 23</td><td>821-00-0265</td><td>Scientist</td><td>19114.12</td><td>1824.843</td><td>3</td><td>⋯</td><td>_   </td><td>809.98</td><td>26.82262</td><td>22 Years and 1 Months</td><td>No</td><td>49.57495</td><td> 80.41530</td><td>High_spent_Small_value_payments </td><td>312.49408867943663</td><td>Good</td></tr>\n",
       "\t<tr><td>0x1603</td><td>CUS_0xd40</td><td>February</td><td>Aaron Maashoh</td><td> 23</td><td>821-00-0265</td><td>Scientist</td><td>19114.12</td><td>      NA</td><td>3</td><td>⋯</td><td>Good</td><td>809.98</td><td>31.94496</td><td>NA                   </td><td>No</td><td>49.57495</td><td>118.28022</td><td>Low_spent_Large_value_payments  </td><td>284.62916249607184</td><td>Good</td></tr>\n",
       "\t<tr><td>0x1604</td><td>CUS_0xd40</td><td>March   </td><td>Aaron Maashoh</td><td>500</td><td>821-00-0265</td><td>Scientist</td><td>19114.12</td><td>      NA</td><td>3</td><td>⋯</td><td>Good</td><td>809.98</td><td>28.60935</td><td>22 Years and 3 Months</td><td>No</td><td>49.57495</td><td> 81.69952</td><td>Low_spent_Medium_value_payments </td><td>331.2098628537912 </td><td>Good</td></tr>\n",
       "\t<tr><td>0x1605</td><td>CUS_0xd40</td><td>April   </td><td>Aaron Maashoh</td><td> 23</td><td>821-00-0265</td><td>Scientist</td><td>19114.12</td><td>      NA</td><td>3</td><td>⋯</td><td>Good</td><td>809.98</td><td>31.37786</td><td>22 Years and 4 Months</td><td>No</td><td>49.57495</td><td>199.45807</td><td>Low_spent_Small_value_payments  </td><td>223.45130972736786</td><td>Good</td></tr>\n",
       "\t<tr><td>0x1606</td><td>CUS_0xd40</td><td>May     </td><td>Aaron Maashoh</td><td> 23</td><td>821-00-0265</td><td>Scientist</td><td>19114.12</td><td>1824.843</td><td>3</td><td>⋯</td><td>Good</td><td>809.98</td><td>24.79735</td><td>22 Years and 5 Months</td><td>No</td><td>49.57495</td><td> 41.42015</td><td>High_spent_Medium_value_payments</td><td>341.48923103222177</td><td>Good</td></tr>\n",
       "\t<tr><td>0x1607</td><td>CUS_0xd40</td><td>June    </td><td>Aaron Maashoh</td><td> 23</td><td>821-00-0265</td><td>Scientist</td><td>19114.12</td><td>      NA</td><td>3</td><td>⋯</td><td>Good</td><td>809.98</td><td>27.26226</td><td>22 Years and 6 Months</td><td>No</td><td>49.57495</td><td> 62.43017</td><td>!@9#%8                          </td><td>340.4792117872438 </td><td>Good</td></tr>\n",
       "</tbody>\n",
       "</table>\n"
      ],
      "text/latex": [
       "A data.table: 6 × 28\n",
       "\\begin{tabular}{lllllllllllllllllllll}\n",
       " ID & Customer\\_ID & Month & Name & Age & SSN & Occupation & Annual\\_Income & Monthly\\_Inhand\\_Salary & Num\\_Bank\\_Accounts & ⋯ & Credit\\_Mix & Outstanding\\_Debt & Credit\\_Utilization\\_Ratio & Credit\\_History\\_Age & Payment\\_of\\_Min\\_Amount & Total\\_EMI\\_per\\_month & Amount\\_invested\\_monthly & Payment\\_Behaviour & Monthly\\_Balance & Credit\\_Score\\\\\n",
       " <chr> & <chr> & <chr> & <chr> & <int> & <chr> & <chr> & <dbl> & <dbl> & <int> & ⋯ & <chr> & <dbl> & <dbl> & <chr> & <chr> & <dbl> & <dbl> & <chr> & <chr> & <chr>\\\\\n",
       "\\hline\n",
       "\t 0x1602 & CUS\\_0xd40 & January  & Aaron Maashoh &  23 & 821-00-0265 & Scientist & 19114.12 & 1824.843 & 3 & ⋯ & \\_    & 809.98 & 26.82262 & 22 Years and 1 Months & No & 49.57495 &  80.41530 & High\\_spent\\_Small\\_value\\_payments  & 312.49408867943663 & Good\\\\\n",
       "\t 0x1603 & CUS\\_0xd40 & February & Aaron Maashoh &  23 & 821-00-0265 & Scientist & 19114.12 &       NA & 3 & ⋯ & Good & 809.98 & 31.94496 & NA                    & No & 49.57495 & 118.28022 & Low\\_spent\\_Large\\_value\\_payments   & 284.62916249607184 & Good\\\\\n",
       "\t 0x1604 & CUS\\_0xd40 & March    & Aaron Maashoh & 500 & 821-00-0265 & Scientist & 19114.12 &       NA & 3 & ⋯ & Good & 809.98 & 28.60935 & 22 Years and 3 Months & No & 49.57495 &  81.69952 & Low\\_spent\\_Medium\\_value\\_payments  & 331.2098628537912  & Good\\\\\n",
       "\t 0x1605 & CUS\\_0xd40 & April    & Aaron Maashoh &  23 & 821-00-0265 & Scientist & 19114.12 &       NA & 3 & ⋯ & Good & 809.98 & 31.37786 & 22 Years and 4 Months & No & 49.57495 & 199.45807 & Low\\_spent\\_Small\\_value\\_payments   & 223.45130972736786 & Good\\\\\n",
       "\t 0x1606 & CUS\\_0xd40 & May      & Aaron Maashoh &  23 & 821-00-0265 & Scientist & 19114.12 & 1824.843 & 3 & ⋯ & Good & 809.98 & 24.79735 & 22 Years and 5 Months & No & 49.57495 &  41.42015 & High\\_spent\\_Medium\\_value\\_payments & 341.48923103222177 & Good\\\\\n",
       "\t 0x1607 & CUS\\_0xd40 & June     & Aaron Maashoh &  23 & 821-00-0265 & Scientist & 19114.12 &       NA & 3 & ⋯ & Good & 809.98 & 27.26226 & 22 Years and 6 Months & No & 49.57495 &  62.43017 & !@9\\#\\%8                           & 340.4792117872438  & Good\\\\\n",
       "\\end{tabular}\n"
      ],
      "text/markdown": [
       "\n",
       "A data.table: 6 × 28\n",
       "\n",
       "| ID &lt;chr&gt; | Customer_ID &lt;chr&gt; | Month &lt;chr&gt; | Name &lt;chr&gt; | Age &lt;int&gt; | SSN &lt;chr&gt; | Occupation &lt;chr&gt; | Annual_Income &lt;dbl&gt; | Monthly_Inhand_Salary &lt;dbl&gt; | Num_Bank_Accounts &lt;int&gt; | ⋯ ⋯ | Credit_Mix &lt;chr&gt; | Outstanding_Debt &lt;dbl&gt; | Credit_Utilization_Ratio &lt;dbl&gt; | Credit_History_Age &lt;chr&gt; | Payment_of_Min_Amount &lt;chr&gt; | Total_EMI_per_month &lt;dbl&gt; | Amount_invested_monthly &lt;dbl&gt; | Payment_Behaviour &lt;chr&gt; | Monthly_Balance &lt;chr&gt; | Credit_Score &lt;chr&gt; |\n",
       "|---|---|---|---|---|---|---|---|---|---|---|---|---|---|---|---|---|---|---|---|---|\n",
       "| 0x1602 | CUS_0xd40 | January  | Aaron Maashoh |  23 | 821-00-0265 | Scientist | 19114.12 | 1824.843 | 3 | ⋯ | _    | 809.98 | 26.82262 | 22 Years and 1 Months | No | 49.57495 |  80.41530 | High_spent_Small_value_payments  | 312.49408867943663 | Good |\n",
       "| 0x1603 | CUS_0xd40 | February | Aaron Maashoh |  23 | 821-00-0265 | Scientist | 19114.12 |       NA | 3 | ⋯ | Good | 809.98 | 31.94496 | NA                    | No | 49.57495 | 118.28022 | Low_spent_Large_value_payments   | 284.62916249607184 | Good |\n",
       "| 0x1604 | CUS_0xd40 | March    | Aaron Maashoh | 500 | 821-00-0265 | Scientist | 19114.12 |       NA | 3 | ⋯ | Good | 809.98 | 28.60935 | 22 Years and 3 Months | No | 49.57495 |  81.69952 | Low_spent_Medium_value_payments  | 331.2098628537912  | Good |\n",
       "| 0x1605 | CUS_0xd40 | April    | Aaron Maashoh |  23 | 821-00-0265 | Scientist | 19114.12 |       NA | 3 | ⋯ | Good | 809.98 | 31.37786 | 22 Years and 4 Months | No | 49.57495 | 199.45807 | Low_spent_Small_value_payments   | 223.45130972736786 | Good |\n",
       "| 0x1606 | CUS_0xd40 | May      | Aaron Maashoh |  23 | 821-00-0265 | Scientist | 19114.12 | 1824.843 | 3 | ⋯ | Good | 809.98 | 24.79735 | 22 Years and 5 Months | No | 49.57495 |  41.42015 | High_spent_Medium_value_payments | 341.48923103222177 | Good |\n",
       "| 0x1607 | CUS_0xd40 | June     | Aaron Maashoh |  23 | 821-00-0265 | Scientist | 19114.12 |       NA | 3 | ⋯ | Good | 809.98 | 27.26226 | 22 Years and 6 Months | No | 49.57495 |  62.43017 | !@9#%8                           | 340.4792117872438  | Good |\n",
       "\n"
      ],
      "text/plain": [
       "  ID     Customer_ID Month    Name          Age SSN         Occupation\n",
       "1 0x1602 CUS_0xd40   January  Aaron Maashoh  23 821-00-0265 Scientist \n",
       "2 0x1603 CUS_0xd40   February Aaron Maashoh  23 821-00-0265 Scientist \n",
       "3 0x1604 CUS_0xd40   March    Aaron Maashoh 500 821-00-0265 Scientist \n",
       "4 0x1605 CUS_0xd40   April    Aaron Maashoh  23 821-00-0265 Scientist \n",
       "5 0x1606 CUS_0xd40   May      Aaron Maashoh  23 821-00-0265 Scientist \n",
       "6 0x1607 CUS_0xd40   June     Aaron Maashoh  23 821-00-0265 Scientist \n",
       "  Annual_Income Monthly_Inhand_Salary Num_Bank_Accounts ⋯ Credit_Mix\n",
       "1 19114.12      1824.843              3                 ⋯ _         \n",
       "2 19114.12            NA              3                 ⋯ Good      \n",
       "3 19114.12            NA              3                 ⋯ Good      \n",
       "4 19114.12            NA              3                 ⋯ Good      \n",
       "5 19114.12      1824.843              3                 ⋯ Good      \n",
       "6 19114.12            NA              3                 ⋯ Good      \n",
       "  Outstanding_Debt Credit_Utilization_Ratio Credit_History_Age   \n",
       "1 809.98           26.82262                 22 Years and 1 Months\n",
       "2 809.98           31.94496                 NA                   \n",
       "3 809.98           28.60935                 22 Years and 3 Months\n",
       "4 809.98           31.37786                 22 Years and 4 Months\n",
       "5 809.98           24.79735                 22 Years and 5 Months\n",
       "6 809.98           27.26226                 22 Years and 6 Months\n",
       "  Payment_of_Min_Amount Total_EMI_per_month Amount_invested_monthly\n",
       "1 No                    49.57495             80.41530              \n",
       "2 No                    49.57495            118.28022              \n",
       "3 No                    49.57495             81.69952              \n",
       "4 No                    49.57495            199.45807              \n",
       "5 No                    49.57495             41.42015              \n",
       "6 No                    49.57495             62.43017              \n",
       "  Payment_Behaviour                Monthly_Balance    Credit_Score\n",
       "1 High_spent_Small_value_payments  312.49408867943663 Good        \n",
       "2 Low_spent_Large_value_payments   284.62916249607184 Good        \n",
       "3 Low_spent_Medium_value_payments  331.2098628537912  Good        \n",
       "4 Low_spent_Small_value_payments   223.45130972736786 Good        \n",
       "5 High_spent_Medium_value_payments 341.48923103222177 Good        \n",
       "6 !@9#%8                           340.4792117872438  Good        "
      ]
     },
     "metadata": {},
     "output_type": "display_data"
    }
   ],
   "source": [
    "# Convert 'Amount_invested_monthly' column to numeric with coercion of errors to NA\n",
    "train[, Amount_invested_monthly := as.numeric(Amount_invested_monthly)]\n",
    "\n",
    "# Convert NA values to NaN\n",
    "train[is.na(Amount_invested_monthly), Amount_invested_monthly := NaN]\n",
    "head(train)"
   ]
  },
  {
   "cell_type": "code",
   "execution_count": 98,
   "metadata": {
    "vscode": {
     "languageId": "r"
    }
   },
   "outputs": [
    {
     "data": {
      "text/html": [
       "<table class=\"dataframe\">\n",
       "<caption>A data.table: 6 × 28</caption>\n",
       "<thead>\n",
       "\t<tr><th scope=col>ID</th><th scope=col>Customer_ID</th><th scope=col>Month</th><th scope=col>Name</th><th scope=col>Age</th><th scope=col>SSN</th><th scope=col>Occupation</th><th scope=col>Annual_Income</th><th scope=col>Monthly_Inhand_Salary</th><th scope=col>Num_Bank_Accounts</th><th scope=col>⋯</th><th scope=col>Credit_Mix</th><th scope=col>Outstanding_Debt</th><th scope=col>Credit_Utilization_Ratio</th><th scope=col>Credit_History_Age</th><th scope=col>Payment_of_Min_Amount</th><th scope=col>Total_EMI_per_month</th><th scope=col>Amount_invested_monthly</th><th scope=col>Payment_Behaviour</th><th scope=col>Monthly_Balance</th><th scope=col>Credit_Score</th></tr>\n",
       "\t<tr><th scope=col>&lt;chr&gt;</th><th scope=col>&lt;chr&gt;</th><th scope=col>&lt;chr&gt;</th><th scope=col>&lt;chr&gt;</th><th scope=col>&lt;int&gt;</th><th scope=col>&lt;chr&gt;</th><th scope=col>&lt;chr&gt;</th><th scope=col>&lt;dbl&gt;</th><th scope=col>&lt;dbl&gt;</th><th scope=col>&lt;int&gt;</th><th scope=col>⋯</th><th scope=col>&lt;chr&gt;</th><th scope=col>&lt;dbl&gt;</th><th scope=col>&lt;dbl&gt;</th><th scope=col>&lt;chr&gt;</th><th scope=col>&lt;chr&gt;</th><th scope=col>&lt;dbl&gt;</th><th scope=col>&lt;dbl&gt;</th><th scope=col>&lt;chr&gt;</th><th scope=col>&lt;chr&gt;</th><th scope=col>&lt;chr&gt;</th></tr>\n",
       "</thead>\n",
       "<tbody>\n",
       "\t<tr><td>0x1602</td><td>CUS_0xd40</td><td>January </td><td>Aaron Maashoh</td><td> 23</td><td>821-00-0265</td><td>Scientist</td><td>19114.12</td><td>1824.843</td><td>3</td><td>⋯</td><td>_   </td><td>809.98</td><td>26.82262</td><td>22 Years and 1 Months</td><td>No</td><td>49.57495</td><td> 80.41530</td><td>High_spent_Small_value_payments </td><td>312.49408867943663</td><td>Good</td></tr>\n",
       "\t<tr><td>0x1603</td><td>CUS_0xd40</td><td>February</td><td>Aaron Maashoh</td><td> 23</td><td>821-00-0265</td><td>Scientist</td><td>19114.12</td><td>      NA</td><td>3</td><td>⋯</td><td>Good</td><td>809.98</td><td>31.94496</td><td>NA                   </td><td>No</td><td>49.57495</td><td>118.28022</td><td>Low_spent_Large_value_payments  </td><td>284.62916249607184</td><td>Good</td></tr>\n",
       "\t<tr><td>0x1604</td><td>CUS_0xd40</td><td>March   </td><td>Aaron Maashoh</td><td>500</td><td>821-00-0265</td><td>Scientist</td><td>19114.12</td><td>      NA</td><td>3</td><td>⋯</td><td>Good</td><td>809.98</td><td>28.60935</td><td>22 Years and 3 Months</td><td>No</td><td>49.57495</td><td> 81.69952</td><td>Low_spent_Medium_value_payments </td><td>331.2098628537912 </td><td>Good</td></tr>\n",
       "\t<tr><td>0x1605</td><td>CUS_0xd40</td><td>April   </td><td>Aaron Maashoh</td><td> 23</td><td>821-00-0265</td><td>Scientist</td><td>19114.12</td><td>      NA</td><td>3</td><td>⋯</td><td>Good</td><td>809.98</td><td>31.37786</td><td>22 Years and 4 Months</td><td>No</td><td>49.57495</td><td>199.45807</td><td>Low_spent_Small_value_payments  </td><td>223.45130972736786</td><td>Good</td></tr>\n",
       "\t<tr><td>0x1606</td><td>CUS_0xd40</td><td>May     </td><td>Aaron Maashoh</td><td> 23</td><td>821-00-0265</td><td>Scientist</td><td>19114.12</td><td>1824.843</td><td>3</td><td>⋯</td><td>Good</td><td>809.98</td><td>24.79735</td><td>22 Years and 5 Months</td><td>No</td><td>49.57495</td><td> 41.42015</td><td>High_spent_Medium_value_payments</td><td>341.48923103222177</td><td>Good</td></tr>\n",
       "\t<tr><td>0x1607</td><td>CUS_0xd40</td><td>June    </td><td>Aaron Maashoh</td><td> 23</td><td>821-00-0265</td><td>Scientist</td><td>19114.12</td><td>      NA</td><td>3</td><td>⋯</td><td>Good</td><td>809.98</td><td>27.26226</td><td>22 Years and 6 Months</td><td>No</td><td>49.57495</td><td> 62.43017</td><td>!@9#%8                          </td><td>340.4792117872438 </td><td>Good</td></tr>\n",
       "</tbody>\n",
       "</table>\n"
      ],
      "text/latex": [
       "A data.table: 6 × 28\n",
       "\\begin{tabular}{lllllllllllllllllllll}\n",
       " ID & Customer\\_ID & Month & Name & Age & SSN & Occupation & Annual\\_Income & Monthly\\_Inhand\\_Salary & Num\\_Bank\\_Accounts & ⋯ & Credit\\_Mix & Outstanding\\_Debt & Credit\\_Utilization\\_Ratio & Credit\\_History\\_Age & Payment\\_of\\_Min\\_Amount & Total\\_EMI\\_per\\_month & Amount\\_invested\\_monthly & Payment\\_Behaviour & Monthly\\_Balance & Credit\\_Score\\\\\n",
       " <chr> & <chr> & <chr> & <chr> & <int> & <chr> & <chr> & <dbl> & <dbl> & <int> & ⋯ & <chr> & <dbl> & <dbl> & <chr> & <chr> & <dbl> & <dbl> & <chr> & <chr> & <chr>\\\\\n",
       "\\hline\n",
       "\t 0x1602 & CUS\\_0xd40 & January  & Aaron Maashoh &  23 & 821-00-0265 & Scientist & 19114.12 & 1824.843 & 3 & ⋯ & \\_    & 809.98 & 26.82262 & 22 Years and 1 Months & No & 49.57495 &  80.41530 & High\\_spent\\_Small\\_value\\_payments  & 312.49408867943663 & Good\\\\\n",
       "\t 0x1603 & CUS\\_0xd40 & February & Aaron Maashoh &  23 & 821-00-0265 & Scientist & 19114.12 &       NA & 3 & ⋯ & Good & 809.98 & 31.94496 & NA                    & No & 49.57495 & 118.28022 & Low\\_spent\\_Large\\_value\\_payments   & 284.62916249607184 & Good\\\\\n",
       "\t 0x1604 & CUS\\_0xd40 & March    & Aaron Maashoh & 500 & 821-00-0265 & Scientist & 19114.12 &       NA & 3 & ⋯ & Good & 809.98 & 28.60935 & 22 Years and 3 Months & No & 49.57495 &  81.69952 & Low\\_spent\\_Medium\\_value\\_payments  & 331.2098628537912  & Good\\\\\n",
       "\t 0x1605 & CUS\\_0xd40 & April    & Aaron Maashoh &  23 & 821-00-0265 & Scientist & 19114.12 &       NA & 3 & ⋯ & Good & 809.98 & 31.37786 & 22 Years and 4 Months & No & 49.57495 & 199.45807 & Low\\_spent\\_Small\\_value\\_payments   & 223.45130972736786 & Good\\\\\n",
       "\t 0x1606 & CUS\\_0xd40 & May      & Aaron Maashoh &  23 & 821-00-0265 & Scientist & 19114.12 & 1824.843 & 3 & ⋯ & Good & 809.98 & 24.79735 & 22 Years and 5 Months & No & 49.57495 &  41.42015 & High\\_spent\\_Medium\\_value\\_payments & 341.48923103222177 & Good\\\\\n",
       "\t 0x1607 & CUS\\_0xd40 & June     & Aaron Maashoh &  23 & 821-00-0265 & Scientist & 19114.12 &       NA & 3 & ⋯ & Good & 809.98 & 27.26226 & 22 Years and 6 Months & No & 49.57495 &  62.43017 & !@9\\#\\%8                           & 340.4792117872438  & Good\\\\\n",
       "\\end{tabular}\n"
      ],
      "text/markdown": [
       "\n",
       "A data.table: 6 × 28\n",
       "\n",
       "| ID &lt;chr&gt; | Customer_ID &lt;chr&gt; | Month &lt;chr&gt; | Name &lt;chr&gt; | Age &lt;int&gt; | SSN &lt;chr&gt; | Occupation &lt;chr&gt; | Annual_Income &lt;dbl&gt; | Monthly_Inhand_Salary &lt;dbl&gt; | Num_Bank_Accounts &lt;int&gt; | ⋯ ⋯ | Credit_Mix &lt;chr&gt; | Outstanding_Debt &lt;dbl&gt; | Credit_Utilization_Ratio &lt;dbl&gt; | Credit_History_Age &lt;chr&gt; | Payment_of_Min_Amount &lt;chr&gt; | Total_EMI_per_month &lt;dbl&gt; | Amount_invested_monthly &lt;dbl&gt; | Payment_Behaviour &lt;chr&gt; | Monthly_Balance &lt;chr&gt; | Credit_Score &lt;chr&gt; |\n",
       "|---|---|---|---|---|---|---|---|---|---|---|---|---|---|---|---|---|---|---|---|---|\n",
       "| 0x1602 | CUS_0xd40 | January  | Aaron Maashoh |  23 | 821-00-0265 | Scientist | 19114.12 | 1824.843 | 3 | ⋯ | _    | 809.98 | 26.82262 | 22 Years and 1 Months | No | 49.57495 |  80.41530 | High_spent_Small_value_payments  | 312.49408867943663 | Good |\n",
       "| 0x1603 | CUS_0xd40 | February | Aaron Maashoh |  23 | 821-00-0265 | Scientist | 19114.12 |       NA | 3 | ⋯ | Good | 809.98 | 31.94496 | NA                    | No | 49.57495 | 118.28022 | Low_spent_Large_value_payments   | 284.62916249607184 | Good |\n",
       "| 0x1604 | CUS_0xd40 | March    | Aaron Maashoh | 500 | 821-00-0265 | Scientist | 19114.12 |       NA | 3 | ⋯ | Good | 809.98 | 28.60935 | 22 Years and 3 Months | No | 49.57495 |  81.69952 | Low_spent_Medium_value_payments  | 331.2098628537912  | Good |\n",
       "| 0x1605 | CUS_0xd40 | April    | Aaron Maashoh |  23 | 821-00-0265 | Scientist | 19114.12 |       NA | 3 | ⋯ | Good | 809.98 | 31.37786 | 22 Years and 4 Months | No | 49.57495 | 199.45807 | Low_spent_Small_value_payments   | 223.45130972736786 | Good |\n",
       "| 0x1606 | CUS_0xd40 | May      | Aaron Maashoh |  23 | 821-00-0265 | Scientist | 19114.12 | 1824.843 | 3 | ⋯ | Good | 809.98 | 24.79735 | 22 Years and 5 Months | No | 49.57495 |  41.42015 | High_spent_Medium_value_payments | 341.48923103222177 | Good |\n",
       "| 0x1607 | CUS_0xd40 | June     | Aaron Maashoh |  23 | 821-00-0265 | Scientist | 19114.12 |       NA | 3 | ⋯ | Good | 809.98 | 27.26226 | 22 Years and 6 Months | No | 49.57495 |  62.43017 | !@9#%8                           | 340.4792117872438  | Good |\n",
       "\n"
      ],
      "text/plain": [
       "  ID     Customer_ID Month    Name          Age SSN         Occupation\n",
       "1 0x1602 CUS_0xd40   January  Aaron Maashoh  23 821-00-0265 Scientist \n",
       "2 0x1603 CUS_0xd40   February Aaron Maashoh  23 821-00-0265 Scientist \n",
       "3 0x1604 CUS_0xd40   March    Aaron Maashoh 500 821-00-0265 Scientist \n",
       "4 0x1605 CUS_0xd40   April    Aaron Maashoh  23 821-00-0265 Scientist \n",
       "5 0x1606 CUS_0xd40   May      Aaron Maashoh  23 821-00-0265 Scientist \n",
       "6 0x1607 CUS_0xd40   June     Aaron Maashoh  23 821-00-0265 Scientist \n",
       "  Annual_Income Monthly_Inhand_Salary Num_Bank_Accounts ⋯ Credit_Mix\n",
       "1 19114.12      1824.843              3                 ⋯ _         \n",
       "2 19114.12            NA              3                 ⋯ Good      \n",
       "3 19114.12            NA              3                 ⋯ Good      \n",
       "4 19114.12            NA              3                 ⋯ Good      \n",
       "5 19114.12      1824.843              3                 ⋯ Good      \n",
       "6 19114.12            NA              3                 ⋯ Good      \n",
       "  Outstanding_Debt Credit_Utilization_Ratio Credit_History_Age   \n",
       "1 809.98           26.82262                 22 Years and 1 Months\n",
       "2 809.98           31.94496                 NA                   \n",
       "3 809.98           28.60935                 22 Years and 3 Months\n",
       "4 809.98           31.37786                 22 Years and 4 Months\n",
       "5 809.98           24.79735                 22 Years and 5 Months\n",
       "6 809.98           27.26226                 22 Years and 6 Months\n",
       "  Payment_of_Min_Amount Total_EMI_per_month Amount_invested_monthly\n",
       "1 No                    49.57495             80.41530              \n",
       "2 No                    49.57495            118.28022              \n",
       "3 No                    49.57495             81.69952              \n",
       "4 No                    49.57495            199.45807              \n",
       "5 No                    49.57495             41.42015              \n",
       "6 No                    49.57495             62.43017              \n",
       "  Payment_Behaviour                Monthly_Balance    Credit_Score\n",
       "1 High_spent_Small_value_payments  312.49408867943663 Good        \n",
       "2 Low_spent_Large_value_payments   284.62916249607184 Good        \n",
       "3 Low_spent_Medium_value_payments  331.2098628537912  Good        \n",
       "4 Low_spent_Small_value_payments   223.45130972736786 Good        \n",
       "5 High_spent_Medium_value_payments 341.48923103222177 Good        \n",
       "6 !@9#%8                           340.4792117872438  Good        "
      ]
     },
     "metadata": {},
     "output_type": "display_data"
    }
   ],
   "source": [
    "# Fill missing values in 'Amount_invested_monthly' column with '0'\n",
    "train[is.na(Amount_invested_monthly), Amount_invested_monthly := 0]\n",
    "\n",
    "# Print the first few rows of the updated data frame\n",
    "head(train)"
   ]
  },
  {
   "cell_type": "code",
   "execution_count": 99,
   "metadata": {
    "vscode": {
     "languageId": "r"
    }
   },
   "outputs": [
    {
     "data": {
      "text/html": [
       "<table class=\"dataframe\">\n",
       "<caption>A data.table: 6 × 28</caption>\n",
       "<thead>\n",
       "\t<tr><th scope=col>ID</th><th scope=col>Customer_ID</th><th scope=col>Month</th><th scope=col>Name</th><th scope=col>Age</th><th scope=col>SSN</th><th scope=col>Occupation</th><th scope=col>Annual_Income</th><th scope=col>Monthly_Inhand_Salary</th><th scope=col>Num_Bank_Accounts</th><th scope=col>⋯</th><th scope=col>Credit_Mix</th><th scope=col>Outstanding_Debt</th><th scope=col>Credit_Utilization_Ratio</th><th scope=col>Credit_History_Age</th><th scope=col>Payment_of_Min_Amount</th><th scope=col>Total_EMI_per_month</th><th scope=col>Amount_invested_monthly</th><th scope=col>Payment_Behaviour</th><th scope=col>Monthly_Balance</th><th scope=col>Credit_Score</th></tr>\n",
       "\t<tr><th scope=col>&lt;chr&gt;</th><th scope=col>&lt;chr&gt;</th><th scope=col>&lt;chr&gt;</th><th scope=col>&lt;chr&gt;</th><th scope=col>&lt;int&gt;</th><th scope=col>&lt;chr&gt;</th><th scope=col>&lt;chr&gt;</th><th scope=col>&lt;dbl&gt;</th><th scope=col>&lt;dbl&gt;</th><th scope=col>&lt;int&gt;</th><th scope=col>⋯</th><th scope=col>&lt;chr&gt;</th><th scope=col>&lt;dbl&gt;</th><th scope=col>&lt;dbl&gt;</th><th scope=col>&lt;chr&gt;</th><th scope=col>&lt;chr&gt;</th><th scope=col>&lt;dbl&gt;</th><th scope=col>&lt;dbl&gt;</th><th scope=col>&lt;chr&gt;</th><th scope=col>&lt;chr&gt;</th><th scope=col>&lt;chr&gt;</th></tr>\n",
       "</thead>\n",
       "<tbody>\n",
       "\t<tr><td>0x1602</td><td>CUS_0xd40</td><td>January </td><td>Aaron Maashoh</td><td> 23</td><td>821-00-0265</td><td>Scientist</td><td>19114.12</td><td>1824.843</td><td>3</td><td>⋯</td><td>_   </td><td>809.98</td><td>26.82262</td><td>22 Years and 1 Months</td><td>No</td><td>49.57495</td><td> 80.41530</td><td>High_spent_Small_value_payments </td><td>312.49408867943663</td><td>Good</td></tr>\n",
       "\t<tr><td>0x1603</td><td>CUS_0xd40</td><td>February</td><td>Aaron Maashoh</td><td> 23</td><td>821-00-0265</td><td>Scientist</td><td>19114.12</td><td>      NA</td><td>3</td><td>⋯</td><td>Good</td><td>809.98</td><td>31.94496</td><td>NA                   </td><td>No</td><td>49.57495</td><td>118.28022</td><td>Low_spent_Large_value_payments  </td><td>284.62916249607184</td><td>Good</td></tr>\n",
       "\t<tr><td>0x1604</td><td>CUS_0xd40</td><td>March   </td><td>Aaron Maashoh</td><td>500</td><td>821-00-0265</td><td>Scientist</td><td>19114.12</td><td>      NA</td><td>3</td><td>⋯</td><td>Good</td><td>809.98</td><td>28.60935</td><td>22 Years and 3 Months</td><td>No</td><td>49.57495</td><td> 81.69952</td><td>Low_spent_Medium_value_payments </td><td>331.2098628537912 </td><td>Good</td></tr>\n",
       "\t<tr><td>0x1605</td><td>CUS_0xd40</td><td>April   </td><td>Aaron Maashoh</td><td> 23</td><td>821-00-0265</td><td>Scientist</td><td>19114.12</td><td>      NA</td><td>3</td><td>⋯</td><td>Good</td><td>809.98</td><td>31.37786</td><td>22 Years and 4 Months</td><td>No</td><td>49.57495</td><td>199.45807</td><td>Low_spent_Small_value_payments  </td><td>223.45130972736786</td><td>Good</td></tr>\n",
       "\t<tr><td>0x1606</td><td>CUS_0xd40</td><td>May     </td><td>Aaron Maashoh</td><td> 23</td><td>821-00-0265</td><td>Scientist</td><td>19114.12</td><td>1824.843</td><td>3</td><td>⋯</td><td>Good</td><td>809.98</td><td>24.79735</td><td>22 Years and 5 Months</td><td>No</td><td>49.57495</td><td> 41.42015</td><td>High_spent_Medium_value_payments</td><td>341.48923103222177</td><td>Good</td></tr>\n",
       "\t<tr><td>0x1607</td><td>CUS_0xd40</td><td>June    </td><td>Aaron Maashoh</td><td> 23</td><td>821-00-0265</td><td>Scientist</td><td>19114.12</td><td>      NA</td><td>3</td><td>⋯</td><td>Good</td><td>809.98</td><td>27.26226</td><td>22 Years and 6 Months</td><td>No</td><td>49.57495</td><td> 62.43017</td><td>!@9#%8                          </td><td>340.4792117872438 </td><td>Good</td></tr>\n",
       "</tbody>\n",
       "</table>\n"
      ],
      "text/latex": [
       "A data.table: 6 × 28\n",
       "\\begin{tabular}{lllllllllllllllllllll}\n",
       " ID & Customer\\_ID & Month & Name & Age & SSN & Occupation & Annual\\_Income & Monthly\\_Inhand\\_Salary & Num\\_Bank\\_Accounts & ⋯ & Credit\\_Mix & Outstanding\\_Debt & Credit\\_Utilization\\_Ratio & Credit\\_History\\_Age & Payment\\_of\\_Min\\_Amount & Total\\_EMI\\_per\\_month & Amount\\_invested\\_monthly & Payment\\_Behaviour & Monthly\\_Balance & Credit\\_Score\\\\\n",
       " <chr> & <chr> & <chr> & <chr> & <int> & <chr> & <chr> & <dbl> & <dbl> & <int> & ⋯ & <chr> & <dbl> & <dbl> & <chr> & <chr> & <dbl> & <dbl> & <chr> & <chr> & <chr>\\\\\n",
       "\\hline\n",
       "\t 0x1602 & CUS\\_0xd40 & January  & Aaron Maashoh &  23 & 821-00-0265 & Scientist & 19114.12 & 1824.843 & 3 & ⋯ & \\_    & 809.98 & 26.82262 & 22 Years and 1 Months & No & 49.57495 &  80.41530 & High\\_spent\\_Small\\_value\\_payments  & 312.49408867943663 & Good\\\\\n",
       "\t 0x1603 & CUS\\_0xd40 & February & Aaron Maashoh &  23 & 821-00-0265 & Scientist & 19114.12 &       NA & 3 & ⋯ & Good & 809.98 & 31.94496 & NA                    & No & 49.57495 & 118.28022 & Low\\_spent\\_Large\\_value\\_payments   & 284.62916249607184 & Good\\\\\n",
       "\t 0x1604 & CUS\\_0xd40 & March    & Aaron Maashoh & 500 & 821-00-0265 & Scientist & 19114.12 &       NA & 3 & ⋯ & Good & 809.98 & 28.60935 & 22 Years and 3 Months & No & 49.57495 &  81.69952 & Low\\_spent\\_Medium\\_value\\_payments  & 331.2098628537912  & Good\\\\\n",
       "\t 0x1605 & CUS\\_0xd40 & April    & Aaron Maashoh &  23 & 821-00-0265 & Scientist & 19114.12 &       NA & 3 & ⋯ & Good & 809.98 & 31.37786 & 22 Years and 4 Months & No & 49.57495 & 199.45807 & Low\\_spent\\_Small\\_value\\_payments   & 223.45130972736786 & Good\\\\\n",
       "\t 0x1606 & CUS\\_0xd40 & May      & Aaron Maashoh &  23 & 821-00-0265 & Scientist & 19114.12 & 1824.843 & 3 & ⋯ & Good & 809.98 & 24.79735 & 22 Years and 5 Months & No & 49.57495 &  41.42015 & High\\_spent\\_Medium\\_value\\_payments & 341.48923103222177 & Good\\\\\n",
       "\t 0x1607 & CUS\\_0xd40 & June     & Aaron Maashoh &  23 & 821-00-0265 & Scientist & 19114.12 &       NA & 3 & ⋯ & Good & 809.98 & 27.26226 & 22 Years and 6 Months & No & 49.57495 &  62.43017 & !@9\\#\\%8                           & 340.4792117872438  & Good\\\\\n",
       "\\end{tabular}\n"
      ],
      "text/markdown": [
       "\n",
       "A data.table: 6 × 28\n",
       "\n",
       "| ID &lt;chr&gt; | Customer_ID &lt;chr&gt; | Month &lt;chr&gt; | Name &lt;chr&gt; | Age &lt;int&gt; | SSN &lt;chr&gt; | Occupation &lt;chr&gt; | Annual_Income &lt;dbl&gt; | Monthly_Inhand_Salary &lt;dbl&gt; | Num_Bank_Accounts &lt;int&gt; | ⋯ ⋯ | Credit_Mix &lt;chr&gt; | Outstanding_Debt &lt;dbl&gt; | Credit_Utilization_Ratio &lt;dbl&gt; | Credit_History_Age &lt;chr&gt; | Payment_of_Min_Amount &lt;chr&gt; | Total_EMI_per_month &lt;dbl&gt; | Amount_invested_monthly &lt;dbl&gt; | Payment_Behaviour &lt;chr&gt; | Monthly_Balance &lt;chr&gt; | Credit_Score &lt;chr&gt; |\n",
       "|---|---|---|---|---|---|---|---|---|---|---|---|---|---|---|---|---|---|---|---|---|\n",
       "| 0x1602 | CUS_0xd40 | January  | Aaron Maashoh |  23 | 821-00-0265 | Scientist | 19114.12 | 1824.843 | 3 | ⋯ | _    | 809.98 | 26.82262 | 22 Years and 1 Months | No | 49.57495 |  80.41530 | High_spent_Small_value_payments  | 312.49408867943663 | Good |\n",
       "| 0x1603 | CUS_0xd40 | February | Aaron Maashoh |  23 | 821-00-0265 | Scientist | 19114.12 |       NA | 3 | ⋯ | Good | 809.98 | 31.94496 | NA                    | No | 49.57495 | 118.28022 | Low_spent_Large_value_payments   | 284.62916249607184 | Good |\n",
       "| 0x1604 | CUS_0xd40 | March    | Aaron Maashoh | 500 | 821-00-0265 | Scientist | 19114.12 |       NA | 3 | ⋯ | Good | 809.98 | 28.60935 | 22 Years and 3 Months | No | 49.57495 |  81.69952 | Low_spent_Medium_value_payments  | 331.2098628537912  | Good |\n",
       "| 0x1605 | CUS_0xd40 | April    | Aaron Maashoh |  23 | 821-00-0265 | Scientist | 19114.12 |       NA | 3 | ⋯ | Good | 809.98 | 31.37786 | 22 Years and 4 Months | No | 49.57495 | 199.45807 | Low_spent_Small_value_payments   | 223.45130972736786 | Good |\n",
       "| 0x1606 | CUS_0xd40 | May      | Aaron Maashoh |  23 | 821-00-0265 | Scientist | 19114.12 | 1824.843 | 3 | ⋯ | Good | 809.98 | 24.79735 | 22 Years and 5 Months | No | 49.57495 |  41.42015 | High_spent_Medium_value_payments | 341.48923103222177 | Good |\n",
       "| 0x1607 | CUS_0xd40 | June     | Aaron Maashoh |  23 | 821-00-0265 | Scientist | 19114.12 |       NA | 3 | ⋯ | Good | 809.98 | 27.26226 | 22 Years and 6 Months | No | 49.57495 |  62.43017 | !@9#%8                           | 340.4792117872438  | Good |\n",
       "\n"
      ],
      "text/plain": [
       "  ID     Customer_ID Month    Name          Age SSN         Occupation\n",
       "1 0x1602 CUS_0xd40   January  Aaron Maashoh  23 821-00-0265 Scientist \n",
       "2 0x1603 CUS_0xd40   February Aaron Maashoh  23 821-00-0265 Scientist \n",
       "3 0x1604 CUS_0xd40   March    Aaron Maashoh 500 821-00-0265 Scientist \n",
       "4 0x1605 CUS_0xd40   April    Aaron Maashoh  23 821-00-0265 Scientist \n",
       "5 0x1606 CUS_0xd40   May      Aaron Maashoh  23 821-00-0265 Scientist \n",
       "6 0x1607 CUS_0xd40   June     Aaron Maashoh  23 821-00-0265 Scientist \n",
       "  Annual_Income Monthly_Inhand_Salary Num_Bank_Accounts ⋯ Credit_Mix\n",
       "1 19114.12      1824.843              3                 ⋯ _         \n",
       "2 19114.12            NA              3                 ⋯ Good      \n",
       "3 19114.12            NA              3                 ⋯ Good      \n",
       "4 19114.12            NA              3                 ⋯ Good      \n",
       "5 19114.12      1824.843              3                 ⋯ Good      \n",
       "6 19114.12            NA              3                 ⋯ Good      \n",
       "  Outstanding_Debt Credit_Utilization_Ratio Credit_History_Age   \n",
       "1 809.98           26.82262                 22 Years and 1 Months\n",
       "2 809.98           31.94496                 NA                   \n",
       "3 809.98           28.60935                 22 Years and 3 Months\n",
       "4 809.98           31.37786                 22 Years and 4 Months\n",
       "5 809.98           24.79735                 22 Years and 5 Months\n",
       "6 809.98           27.26226                 22 Years and 6 Months\n",
       "  Payment_of_Min_Amount Total_EMI_per_month Amount_invested_monthly\n",
       "1 No                    49.57495             80.41530              \n",
       "2 No                    49.57495            118.28022              \n",
       "3 No                    49.57495             81.69952              \n",
       "4 No                    49.57495            199.45807              \n",
       "5 No                    49.57495             41.42015              \n",
       "6 No                    49.57495             62.43017              \n",
       "  Payment_Behaviour                Monthly_Balance    Credit_Score\n",
       "1 High_spent_Small_value_payments  312.49408867943663 Good        \n",
       "2 Low_spent_Large_value_payments   284.62916249607184 Good        \n",
       "3 Low_spent_Medium_value_payments  331.2098628537912  Good        \n",
       "4 Low_spent_Small_value_payments   223.45130972736786 Good        \n",
       "5 High_spent_Medium_value_payments 341.48923103222177 Good        \n",
       "6 !@9#%8                           340.4792117872438  Good        "
      ]
     },
     "metadata": {},
     "output_type": "display_data"
    }
   ],
   "source": [
    "# Convert 'Monthly_Balance' column to string\n",
    "train[, Monthly_Balance := as.character(Monthly_Balance)]\n",
    "\n",
    "# Print the first few rows of the updated data frame\n",
    "head(train)"
   ]
  },
  {
   "cell_type": "code",
   "execution_count": 100,
   "metadata": {
    "vscode": {
     "languageId": "r"
    }
   },
   "outputs": [
    {
     "data": {
      "text/html": [
       "<table class=\"dataframe\">\n",
       "<caption>A data.table: 6 × 28</caption>\n",
       "<thead>\n",
       "\t<tr><th scope=col>ID</th><th scope=col>Customer_ID</th><th scope=col>Month</th><th scope=col>Name</th><th scope=col>Age</th><th scope=col>SSN</th><th scope=col>Occupation</th><th scope=col>Annual_Income</th><th scope=col>Monthly_Inhand_Salary</th><th scope=col>Num_Bank_Accounts</th><th scope=col>⋯</th><th scope=col>Credit_Mix</th><th scope=col>Outstanding_Debt</th><th scope=col>Credit_Utilization_Ratio</th><th scope=col>Credit_History_Age</th><th scope=col>Payment_of_Min_Amount</th><th scope=col>Total_EMI_per_month</th><th scope=col>Amount_invested_monthly</th><th scope=col>Payment_Behaviour</th><th scope=col>Monthly_Balance</th><th scope=col>Credit_Score</th></tr>\n",
       "\t<tr><th scope=col>&lt;chr&gt;</th><th scope=col>&lt;chr&gt;</th><th scope=col>&lt;chr&gt;</th><th scope=col>&lt;chr&gt;</th><th scope=col>&lt;int&gt;</th><th scope=col>&lt;chr&gt;</th><th scope=col>&lt;chr&gt;</th><th scope=col>&lt;dbl&gt;</th><th scope=col>&lt;dbl&gt;</th><th scope=col>&lt;int&gt;</th><th scope=col>⋯</th><th scope=col>&lt;chr&gt;</th><th scope=col>&lt;dbl&gt;</th><th scope=col>&lt;dbl&gt;</th><th scope=col>&lt;chr&gt;</th><th scope=col>&lt;chr&gt;</th><th scope=col>&lt;dbl&gt;</th><th scope=col>&lt;dbl&gt;</th><th scope=col>&lt;chr&gt;</th><th scope=col>&lt;chr&gt;</th><th scope=col>&lt;chr&gt;</th></tr>\n",
       "</thead>\n",
       "<tbody>\n",
       "\t<tr><td>0x1602</td><td>CUS_0xd40</td><td>January </td><td>Aaron Maashoh</td><td> 23</td><td>821-00-0265</td><td>Scientist</td><td>19114.12</td><td>1824.843</td><td>3</td><td>⋯</td><td>_   </td><td>809.98</td><td>26.82262</td><td>22 Years and 1 Months</td><td>No</td><td>49.57495</td><td> 80.41530</td><td>High_spent_Small_value_payments </td><td>312.49408867943663</td><td>Good</td></tr>\n",
       "\t<tr><td>0x1603</td><td>CUS_0xd40</td><td>February</td><td>Aaron Maashoh</td><td> 23</td><td>821-00-0265</td><td>Scientist</td><td>19114.12</td><td>      NA</td><td>3</td><td>⋯</td><td>Good</td><td>809.98</td><td>31.94496</td><td>NA                   </td><td>No</td><td>49.57495</td><td>118.28022</td><td>Low_spent_Large_value_payments  </td><td>284.62916249607184</td><td>Good</td></tr>\n",
       "\t<tr><td>0x1604</td><td>CUS_0xd40</td><td>March   </td><td>Aaron Maashoh</td><td>500</td><td>821-00-0265</td><td>Scientist</td><td>19114.12</td><td>      NA</td><td>3</td><td>⋯</td><td>Good</td><td>809.98</td><td>28.60935</td><td>22 Years and 3 Months</td><td>No</td><td>49.57495</td><td> 81.69952</td><td>Low_spent_Medium_value_payments </td><td>331.2098628537912 </td><td>Good</td></tr>\n",
       "\t<tr><td>0x1605</td><td>CUS_0xd40</td><td>April   </td><td>Aaron Maashoh</td><td> 23</td><td>821-00-0265</td><td>Scientist</td><td>19114.12</td><td>      NA</td><td>3</td><td>⋯</td><td>Good</td><td>809.98</td><td>31.37786</td><td>22 Years and 4 Months</td><td>No</td><td>49.57495</td><td>199.45807</td><td>Low_spent_Small_value_payments  </td><td>223.45130972736786</td><td>Good</td></tr>\n",
       "\t<tr><td>0x1606</td><td>CUS_0xd40</td><td>May     </td><td>Aaron Maashoh</td><td> 23</td><td>821-00-0265</td><td>Scientist</td><td>19114.12</td><td>1824.843</td><td>3</td><td>⋯</td><td>Good</td><td>809.98</td><td>24.79735</td><td>22 Years and 5 Months</td><td>No</td><td>49.57495</td><td> 41.42015</td><td>High_spent_Medium_value_payments</td><td>341.48923103222177</td><td>Good</td></tr>\n",
       "\t<tr><td>0x1607</td><td>CUS_0xd40</td><td>June    </td><td>Aaron Maashoh</td><td> 23</td><td>821-00-0265</td><td>Scientist</td><td>19114.12</td><td>      NA</td><td>3</td><td>⋯</td><td>Good</td><td>809.98</td><td>27.26226</td><td>22 Years and 6 Months</td><td>No</td><td>49.57495</td><td> 62.43017</td><td>!@9#%8                          </td><td>340.4792117872438 </td><td>Good</td></tr>\n",
       "</tbody>\n",
       "</table>\n"
      ],
      "text/latex": [
       "A data.table: 6 × 28\n",
       "\\begin{tabular}{lllllllllllllllllllll}\n",
       " ID & Customer\\_ID & Month & Name & Age & SSN & Occupation & Annual\\_Income & Monthly\\_Inhand\\_Salary & Num\\_Bank\\_Accounts & ⋯ & Credit\\_Mix & Outstanding\\_Debt & Credit\\_Utilization\\_Ratio & Credit\\_History\\_Age & Payment\\_of\\_Min\\_Amount & Total\\_EMI\\_per\\_month & Amount\\_invested\\_monthly & Payment\\_Behaviour & Monthly\\_Balance & Credit\\_Score\\\\\n",
       " <chr> & <chr> & <chr> & <chr> & <int> & <chr> & <chr> & <dbl> & <dbl> & <int> & ⋯ & <chr> & <dbl> & <dbl> & <chr> & <chr> & <dbl> & <dbl> & <chr> & <chr> & <chr>\\\\\n",
       "\\hline\n",
       "\t 0x1602 & CUS\\_0xd40 & January  & Aaron Maashoh &  23 & 821-00-0265 & Scientist & 19114.12 & 1824.843 & 3 & ⋯ & \\_    & 809.98 & 26.82262 & 22 Years and 1 Months & No & 49.57495 &  80.41530 & High\\_spent\\_Small\\_value\\_payments  & 312.49408867943663 & Good\\\\\n",
       "\t 0x1603 & CUS\\_0xd40 & February & Aaron Maashoh &  23 & 821-00-0265 & Scientist & 19114.12 &       NA & 3 & ⋯ & Good & 809.98 & 31.94496 & NA                    & No & 49.57495 & 118.28022 & Low\\_spent\\_Large\\_value\\_payments   & 284.62916249607184 & Good\\\\\n",
       "\t 0x1604 & CUS\\_0xd40 & March    & Aaron Maashoh & 500 & 821-00-0265 & Scientist & 19114.12 &       NA & 3 & ⋯ & Good & 809.98 & 28.60935 & 22 Years and 3 Months & No & 49.57495 &  81.69952 & Low\\_spent\\_Medium\\_value\\_payments  & 331.2098628537912  & Good\\\\\n",
       "\t 0x1605 & CUS\\_0xd40 & April    & Aaron Maashoh &  23 & 821-00-0265 & Scientist & 19114.12 &       NA & 3 & ⋯ & Good & 809.98 & 31.37786 & 22 Years and 4 Months & No & 49.57495 & 199.45807 & Low\\_spent\\_Small\\_value\\_payments   & 223.45130972736786 & Good\\\\\n",
       "\t 0x1606 & CUS\\_0xd40 & May      & Aaron Maashoh &  23 & 821-00-0265 & Scientist & 19114.12 & 1824.843 & 3 & ⋯ & Good & 809.98 & 24.79735 & 22 Years and 5 Months & No & 49.57495 &  41.42015 & High\\_spent\\_Medium\\_value\\_payments & 341.48923103222177 & Good\\\\\n",
       "\t 0x1607 & CUS\\_0xd40 & June     & Aaron Maashoh &  23 & 821-00-0265 & Scientist & 19114.12 &       NA & 3 & ⋯ & Good & 809.98 & 27.26226 & 22 Years and 6 Months & No & 49.57495 &  62.43017 & !@9\\#\\%8                           & 340.4792117872438  & Good\\\\\n",
       "\\end{tabular}\n"
      ],
      "text/markdown": [
       "\n",
       "A data.table: 6 × 28\n",
       "\n",
       "| ID &lt;chr&gt; | Customer_ID &lt;chr&gt; | Month &lt;chr&gt; | Name &lt;chr&gt; | Age &lt;int&gt; | SSN &lt;chr&gt; | Occupation &lt;chr&gt; | Annual_Income &lt;dbl&gt; | Monthly_Inhand_Salary &lt;dbl&gt; | Num_Bank_Accounts &lt;int&gt; | ⋯ ⋯ | Credit_Mix &lt;chr&gt; | Outstanding_Debt &lt;dbl&gt; | Credit_Utilization_Ratio &lt;dbl&gt; | Credit_History_Age &lt;chr&gt; | Payment_of_Min_Amount &lt;chr&gt; | Total_EMI_per_month &lt;dbl&gt; | Amount_invested_monthly &lt;dbl&gt; | Payment_Behaviour &lt;chr&gt; | Monthly_Balance &lt;chr&gt; | Credit_Score &lt;chr&gt; |\n",
       "|---|---|---|---|---|---|---|---|---|---|---|---|---|---|---|---|---|---|---|---|---|\n",
       "| 0x1602 | CUS_0xd40 | January  | Aaron Maashoh |  23 | 821-00-0265 | Scientist | 19114.12 | 1824.843 | 3 | ⋯ | _    | 809.98 | 26.82262 | 22 Years and 1 Months | No | 49.57495 |  80.41530 | High_spent_Small_value_payments  | 312.49408867943663 | Good |\n",
       "| 0x1603 | CUS_0xd40 | February | Aaron Maashoh |  23 | 821-00-0265 | Scientist | 19114.12 |       NA | 3 | ⋯ | Good | 809.98 | 31.94496 | NA                    | No | 49.57495 | 118.28022 | Low_spent_Large_value_payments   | 284.62916249607184 | Good |\n",
       "| 0x1604 | CUS_0xd40 | March    | Aaron Maashoh | 500 | 821-00-0265 | Scientist | 19114.12 |       NA | 3 | ⋯ | Good | 809.98 | 28.60935 | 22 Years and 3 Months | No | 49.57495 |  81.69952 | Low_spent_Medium_value_payments  | 331.2098628537912  | Good |\n",
       "| 0x1605 | CUS_0xd40 | April    | Aaron Maashoh |  23 | 821-00-0265 | Scientist | 19114.12 |       NA | 3 | ⋯ | Good | 809.98 | 31.37786 | 22 Years and 4 Months | No | 49.57495 | 199.45807 | Low_spent_Small_value_payments   | 223.45130972736786 | Good |\n",
       "| 0x1606 | CUS_0xd40 | May      | Aaron Maashoh |  23 | 821-00-0265 | Scientist | 19114.12 | 1824.843 | 3 | ⋯ | Good | 809.98 | 24.79735 | 22 Years and 5 Months | No | 49.57495 |  41.42015 | High_spent_Medium_value_payments | 341.48923103222177 | Good |\n",
       "| 0x1607 | CUS_0xd40 | June     | Aaron Maashoh |  23 | 821-00-0265 | Scientist | 19114.12 |       NA | 3 | ⋯ | Good | 809.98 | 27.26226 | 22 Years and 6 Months | No | 49.57495 |  62.43017 | !@9#%8                           | 340.4792117872438  | Good |\n",
       "\n"
      ],
      "text/plain": [
       "  ID     Customer_ID Month    Name          Age SSN         Occupation\n",
       "1 0x1602 CUS_0xd40   January  Aaron Maashoh  23 821-00-0265 Scientist \n",
       "2 0x1603 CUS_0xd40   February Aaron Maashoh  23 821-00-0265 Scientist \n",
       "3 0x1604 CUS_0xd40   March    Aaron Maashoh 500 821-00-0265 Scientist \n",
       "4 0x1605 CUS_0xd40   April    Aaron Maashoh  23 821-00-0265 Scientist \n",
       "5 0x1606 CUS_0xd40   May      Aaron Maashoh  23 821-00-0265 Scientist \n",
       "6 0x1607 CUS_0xd40   June     Aaron Maashoh  23 821-00-0265 Scientist \n",
       "  Annual_Income Monthly_Inhand_Salary Num_Bank_Accounts ⋯ Credit_Mix\n",
       "1 19114.12      1824.843              3                 ⋯ _         \n",
       "2 19114.12            NA              3                 ⋯ Good      \n",
       "3 19114.12            NA              3                 ⋯ Good      \n",
       "4 19114.12            NA              3                 ⋯ Good      \n",
       "5 19114.12      1824.843              3                 ⋯ Good      \n",
       "6 19114.12            NA              3                 ⋯ Good      \n",
       "  Outstanding_Debt Credit_Utilization_Ratio Credit_History_Age   \n",
       "1 809.98           26.82262                 22 Years and 1 Months\n",
       "2 809.98           31.94496                 NA                   \n",
       "3 809.98           28.60935                 22 Years and 3 Months\n",
       "4 809.98           31.37786                 22 Years and 4 Months\n",
       "5 809.98           24.79735                 22 Years and 5 Months\n",
       "6 809.98           27.26226                 22 Years and 6 Months\n",
       "  Payment_of_Min_Amount Total_EMI_per_month Amount_invested_monthly\n",
       "1 No                    49.57495             80.41530              \n",
       "2 No                    49.57495            118.28022              \n",
       "3 No                    49.57495             81.69952              \n",
       "4 No                    49.57495            199.45807              \n",
       "5 No                    49.57495             41.42015              \n",
       "6 No                    49.57495             62.43017              \n",
       "  Payment_Behaviour                Monthly_Balance    Credit_Score\n",
       "1 High_spent_Small_value_payments  312.49408867943663 Good        \n",
       "2 Low_spent_Large_value_payments   284.62916249607184 Good        \n",
       "3 Low_spent_Medium_value_payments  331.2098628537912  Good        \n",
       "4 Low_spent_Small_value_payments   223.45130972736786 Good        \n",
       "5 High_spent_Medium_value_payments 341.48923103222177 Good        \n",
       "6 !@9#%8                           340.4792117872438  Good        "
      ]
     },
     "metadata": {},
     "output_type": "display_data"
    }
   ],
   "source": [
    "# Remove non-numeric characters (including periods and hyphens) from 'Monthly_Balance' column\n",
    "train[, Monthly_Balance := gsub(\"[^0-9.-]\", \"\", Monthly_Balance)]\n",
    "\n",
    "# Print the first few rows of the updated data frame\n",
    "head(train)"
   ]
  },
  {
   "cell_type": "code",
   "execution_count": 101,
   "metadata": {
    "vscode": {
     "languageId": "r"
    }
   },
   "outputs": [
    {
     "data": {
      "text/html": [
       "<table class=\"dataframe\">\n",
       "<caption>A data.table: 6 × 28</caption>\n",
       "<thead>\n",
       "\t<tr><th scope=col>ID</th><th scope=col>Customer_ID</th><th scope=col>Month</th><th scope=col>Name</th><th scope=col>Age</th><th scope=col>SSN</th><th scope=col>Occupation</th><th scope=col>Annual_Income</th><th scope=col>Monthly_Inhand_Salary</th><th scope=col>Num_Bank_Accounts</th><th scope=col>⋯</th><th scope=col>Credit_Mix</th><th scope=col>Outstanding_Debt</th><th scope=col>Credit_Utilization_Ratio</th><th scope=col>Credit_History_Age</th><th scope=col>Payment_of_Min_Amount</th><th scope=col>Total_EMI_per_month</th><th scope=col>Amount_invested_monthly</th><th scope=col>Payment_Behaviour</th><th scope=col>Monthly_Balance</th><th scope=col>Credit_Score</th></tr>\n",
       "\t<tr><th scope=col>&lt;chr&gt;</th><th scope=col>&lt;chr&gt;</th><th scope=col>&lt;chr&gt;</th><th scope=col>&lt;chr&gt;</th><th scope=col>&lt;int&gt;</th><th scope=col>&lt;chr&gt;</th><th scope=col>&lt;chr&gt;</th><th scope=col>&lt;dbl&gt;</th><th scope=col>&lt;dbl&gt;</th><th scope=col>&lt;int&gt;</th><th scope=col>⋯</th><th scope=col>&lt;chr&gt;</th><th scope=col>&lt;dbl&gt;</th><th scope=col>&lt;dbl&gt;</th><th scope=col>&lt;chr&gt;</th><th scope=col>&lt;chr&gt;</th><th scope=col>&lt;dbl&gt;</th><th scope=col>&lt;dbl&gt;</th><th scope=col>&lt;chr&gt;</th><th scope=col>&lt;dbl&gt;</th><th scope=col>&lt;chr&gt;</th></tr>\n",
       "</thead>\n",
       "<tbody>\n",
       "\t<tr><td>0x1602</td><td>CUS_0xd40</td><td>January </td><td>Aaron Maashoh</td><td> 23</td><td>821-00-0265</td><td>Scientist</td><td>19114.12</td><td>1824.843</td><td>3</td><td>⋯</td><td>_   </td><td>809.98</td><td>26.82262</td><td>22 Years and 1 Months</td><td>No</td><td>49.57495</td><td> 80.41530</td><td>High_spent_Small_value_payments </td><td>312.4941</td><td>Good</td></tr>\n",
       "\t<tr><td>0x1603</td><td>CUS_0xd40</td><td>February</td><td>Aaron Maashoh</td><td> 23</td><td>821-00-0265</td><td>Scientist</td><td>19114.12</td><td>      NA</td><td>3</td><td>⋯</td><td>Good</td><td>809.98</td><td>31.94496</td><td>NA                   </td><td>No</td><td>49.57495</td><td>118.28022</td><td>Low_spent_Large_value_payments  </td><td>284.6292</td><td>Good</td></tr>\n",
       "\t<tr><td>0x1604</td><td>CUS_0xd40</td><td>March   </td><td>Aaron Maashoh</td><td>500</td><td>821-00-0265</td><td>Scientist</td><td>19114.12</td><td>      NA</td><td>3</td><td>⋯</td><td>Good</td><td>809.98</td><td>28.60935</td><td>22 Years and 3 Months</td><td>No</td><td>49.57495</td><td> 81.69952</td><td>Low_spent_Medium_value_payments </td><td>331.2099</td><td>Good</td></tr>\n",
       "\t<tr><td>0x1605</td><td>CUS_0xd40</td><td>April   </td><td>Aaron Maashoh</td><td> 23</td><td>821-00-0265</td><td>Scientist</td><td>19114.12</td><td>      NA</td><td>3</td><td>⋯</td><td>Good</td><td>809.98</td><td>31.37786</td><td>22 Years and 4 Months</td><td>No</td><td>49.57495</td><td>199.45807</td><td>Low_spent_Small_value_payments  </td><td>223.4513</td><td>Good</td></tr>\n",
       "\t<tr><td>0x1606</td><td>CUS_0xd40</td><td>May     </td><td>Aaron Maashoh</td><td> 23</td><td>821-00-0265</td><td>Scientist</td><td>19114.12</td><td>1824.843</td><td>3</td><td>⋯</td><td>Good</td><td>809.98</td><td>24.79735</td><td>22 Years and 5 Months</td><td>No</td><td>49.57495</td><td> 41.42015</td><td>High_spent_Medium_value_payments</td><td>341.4892</td><td>Good</td></tr>\n",
       "\t<tr><td>0x1607</td><td>CUS_0xd40</td><td>June    </td><td>Aaron Maashoh</td><td> 23</td><td>821-00-0265</td><td>Scientist</td><td>19114.12</td><td>      NA</td><td>3</td><td>⋯</td><td>Good</td><td>809.98</td><td>27.26226</td><td>22 Years and 6 Months</td><td>No</td><td>49.57495</td><td> 62.43017</td><td>!@9#%8                          </td><td>340.4792</td><td>Good</td></tr>\n",
       "</tbody>\n",
       "</table>\n"
      ],
      "text/latex": [
       "A data.table: 6 × 28\n",
       "\\begin{tabular}{lllllllllllllllllllll}\n",
       " ID & Customer\\_ID & Month & Name & Age & SSN & Occupation & Annual\\_Income & Monthly\\_Inhand\\_Salary & Num\\_Bank\\_Accounts & ⋯ & Credit\\_Mix & Outstanding\\_Debt & Credit\\_Utilization\\_Ratio & Credit\\_History\\_Age & Payment\\_of\\_Min\\_Amount & Total\\_EMI\\_per\\_month & Amount\\_invested\\_monthly & Payment\\_Behaviour & Monthly\\_Balance & Credit\\_Score\\\\\n",
       " <chr> & <chr> & <chr> & <chr> & <int> & <chr> & <chr> & <dbl> & <dbl> & <int> & ⋯ & <chr> & <dbl> & <dbl> & <chr> & <chr> & <dbl> & <dbl> & <chr> & <dbl> & <chr>\\\\\n",
       "\\hline\n",
       "\t 0x1602 & CUS\\_0xd40 & January  & Aaron Maashoh &  23 & 821-00-0265 & Scientist & 19114.12 & 1824.843 & 3 & ⋯ & \\_    & 809.98 & 26.82262 & 22 Years and 1 Months & No & 49.57495 &  80.41530 & High\\_spent\\_Small\\_value\\_payments  & 312.4941 & Good\\\\\n",
       "\t 0x1603 & CUS\\_0xd40 & February & Aaron Maashoh &  23 & 821-00-0265 & Scientist & 19114.12 &       NA & 3 & ⋯ & Good & 809.98 & 31.94496 & NA                    & No & 49.57495 & 118.28022 & Low\\_spent\\_Large\\_value\\_payments   & 284.6292 & Good\\\\\n",
       "\t 0x1604 & CUS\\_0xd40 & March    & Aaron Maashoh & 500 & 821-00-0265 & Scientist & 19114.12 &       NA & 3 & ⋯ & Good & 809.98 & 28.60935 & 22 Years and 3 Months & No & 49.57495 &  81.69952 & Low\\_spent\\_Medium\\_value\\_payments  & 331.2099 & Good\\\\\n",
       "\t 0x1605 & CUS\\_0xd40 & April    & Aaron Maashoh &  23 & 821-00-0265 & Scientist & 19114.12 &       NA & 3 & ⋯ & Good & 809.98 & 31.37786 & 22 Years and 4 Months & No & 49.57495 & 199.45807 & Low\\_spent\\_Small\\_value\\_payments   & 223.4513 & Good\\\\\n",
       "\t 0x1606 & CUS\\_0xd40 & May      & Aaron Maashoh &  23 & 821-00-0265 & Scientist & 19114.12 & 1824.843 & 3 & ⋯ & Good & 809.98 & 24.79735 & 22 Years and 5 Months & No & 49.57495 &  41.42015 & High\\_spent\\_Medium\\_value\\_payments & 341.4892 & Good\\\\\n",
       "\t 0x1607 & CUS\\_0xd40 & June     & Aaron Maashoh &  23 & 821-00-0265 & Scientist & 19114.12 &       NA & 3 & ⋯ & Good & 809.98 & 27.26226 & 22 Years and 6 Months & No & 49.57495 &  62.43017 & !@9\\#\\%8                           & 340.4792 & Good\\\\\n",
       "\\end{tabular}\n"
      ],
      "text/markdown": [
       "\n",
       "A data.table: 6 × 28\n",
       "\n",
       "| ID &lt;chr&gt; | Customer_ID &lt;chr&gt; | Month &lt;chr&gt; | Name &lt;chr&gt; | Age &lt;int&gt; | SSN &lt;chr&gt; | Occupation &lt;chr&gt; | Annual_Income &lt;dbl&gt; | Monthly_Inhand_Salary &lt;dbl&gt; | Num_Bank_Accounts &lt;int&gt; | ⋯ ⋯ | Credit_Mix &lt;chr&gt; | Outstanding_Debt &lt;dbl&gt; | Credit_Utilization_Ratio &lt;dbl&gt; | Credit_History_Age &lt;chr&gt; | Payment_of_Min_Amount &lt;chr&gt; | Total_EMI_per_month &lt;dbl&gt; | Amount_invested_monthly &lt;dbl&gt; | Payment_Behaviour &lt;chr&gt; | Monthly_Balance &lt;dbl&gt; | Credit_Score &lt;chr&gt; |\n",
       "|---|---|---|---|---|---|---|---|---|---|---|---|---|---|---|---|---|---|---|---|---|\n",
       "| 0x1602 | CUS_0xd40 | January  | Aaron Maashoh |  23 | 821-00-0265 | Scientist | 19114.12 | 1824.843 | 3 | ⋯ | _    | 809.98 | 26.82262 | 22 Years and 1 Months | No | 49.57495 |  80.41530 | High_spent_Small_value_payments  | 312.4941 | Good |\n",
       "| 0x1603 | CUS_0xd40 | February | Aaron Maashoh |  23 | 821-00-0265 | Scientist | 19114.12 |       NA | 3 | ⋯ | Good | 809.98 | 31.94496 | NA                    | No | 49.57495 | 118.28022 | Low_spent_Large_value_payments   | 284.6292 | Good |\n",
       "| 0x1604 | CUS_0xd40 | March    | Aaron Maashoh | 500 | 821-00-0265 | Scientist | 19114.12 |       NA | 3 | ⋯ | Good | 809.98 | 28.60935 | 22 Years and 3 Months | No | 49.57495 |  81.69952 | Low_spent_Medium_value_payments  | 331.2099 | Good |\n",
       "| 0x1605 | CUS_0xd40 | April    | Aaron Maashoh |  23 | 821-00-0265 | Scientist | 19114.12 |       NA | 3 | ⋯ | Good | 809.98 | 31.37786 | 22 Years and 4 Months | No | 49.57495 | 199.45807 | Low_spent_Small_value_payments   | 223.4513 | Good |\n",
       "| 0x1606 | CUS_0xd40 | May      | Aaron Maashoh |  23 | 821-00-0265 | Scientist | 19114.12 | 1824.843 | 3 | ⋯ | Good | 809.98 | 24.79735 | 22 Years and 5 Months | No | 49.57495 |  41.42015 | High_spent_Medium_value_payments | 341.4892 | Good |\n",
       "| 0x1607 | CUS_0xd40 | June     | Aaron Maashoh |  23 | 821-00-0265 | Scientist | 19114.12 |       NA | 3 | ⋯ | Good | 809.98 | 27.26226 | 22 Years and 6 Months | No | 49.57495 |  62.43017 | !@9#%8                           | 340.4792 | Good |\n",
       "\n"
      ],
      "text/plain": [
       "  ID     Customer_ID Month    Name          Age SSN         Occupation\n",
       "1 0x1602 CUS_0xd40   January  Aaron Maashoh  23 821-00-0265 Scientist \n",
       "2 0x1603 CUS_0xd40   February Aaron Maashoh  23 821-00-0265 Scientist \n",
       "3 0x1604 CUS_0xd40   March    Aaron Maashoh 500 821-00-0265 Scientist \n",
       "4 0x1605 CUS_0xd40   April    Aaron Maashoh  23 821-00-0265 Scientist \n",
       "5 0x1606 CUS_0xd40   May      Aaron Maashoh  23 821-00-0265 Scientist \n",
       "6 0x1607 CUS_0xd40   June     Aaron Maashoh  23 821-00-0265 Scientist \n",
       "  Annual_Income Monthly_Inhand_Salary Num_Bank_Accounts ⋯ Credit_Mix\n",
       "1 19114.12      1824.843              3                 ⋯ _         \n",
       "2 19114.12            NA              3                 ⋯ Good      \n",
       "3 19114.12            NA              3                 ⋯ Good      \n",
       "4 19114.12            NA              3                 ⋯ Good      \n",
       "5 19114.12      1824.843              3                 ⋯ Good      \n",
       "6 19114.12            NA              3                 ⋯ Good      \n",
       "  Outstanding_Debt Credit_Utilization_Ratio Credit_History_Age   \n",
       "1 809.98           26.82262                 22 Years and 1 Months\n",
       "2 809.98           31.94496                 NA                   \n",
       "3 809.98           28.60935                 22 Years and 3 Months\n",
       "4 809.98           31.37786                 22 Years and 4 Months\n",
       "5 809.98           24.79735                 22 Years and 5 Months\n",
       "6 809.98           27.26226                 22 Years and 6 Months\n",
       "  Payment_of_Min_Amount Total_EMI_per_month Amount_invested_monthly\n",
       "1 No                    49.57495             80.41530              \n",
       "2 No                    49.57495            118.28022              \n",
       "3 No                    49.57495             81.69952              \n",
       "4 No                    49.57495            199.45807              \n",
       "5 No                    49.57495             41.42015              \n",
       "6 No                    49.57495             62.43017              \n",
       "  Payment_Behaviour                Monthly_Balance Credit_Score\n",
       "1 High_spent_Small_value_payments  312.4941        Good        \n",
       "2 Low_spent_Large_value_payments   284.6292        Good        \n",
       "3 Low_spent_Medium_value_payments  331.2099        Good        \n",
       "4 Low_spent_Small_value_payments   223.4513        Good        \n",
       "5 High_spent_Medium_value_payments 341.4892        Good        \n",
       "6 !@9#%8                           340.4792        Good        "
      ]
     },
     "metadata": {},
     "output_type": "display_data"
    }
   ],
   "source": [
    "# Convert 'Monthly_Balance' column to numeric with coercion of errors to NA\n",
    "train[, Monthly_Balance := as.numeric(Monthly_Balance)]\n",
    "\n",
    "# Convert NA values to NaN\n",
    "train[is.na(Monthly_Balance), Monthly_Balance := NaN]\n",
    "\n",
    "# Print the first few rows of the updated data frame\n",
    "head(train)"
   ]
  },
  {
   "cell_type": "code",
   "execution_count": 102,
   "metadata": {
    "vscode": {
     "languageId": "r"
    }
   },
   "outputs": [
    {
     "data": {
      "text/html": [
       "<table class=\"dataframe\">\n",
       "<caption>A data.table: 6 × 28</caption>\n",
       "<thead>\n",
       "\t<tr><th scope=col>ID</th><th scope=col>Customer_ID</th><th scope=col>Month</th><th scope=col>Name</th><th scope=col>Age</th><th scope=col>SSN</th><th scope=col>Occupation</th><th scope=col>Annual_Income</th><th scope=col>Monthly_Inhand_Salary</th><th scope=col>Num_Bank_Accounts</th><th scope=col>⋯</th><th scope=col>Credit_Mix</th><th scope=col>Outstanding_Debt</th><th scope=col>Credit_Utilization_Ratio</th><th scope=col>Credit_History_Age</th><th scope=col>Payment_of_Min_Amount</th><th scope=col>Total_EMI_per_month</th><th scope=col>Amount_invested_monthly</th><th scope=col>Payment_Behaviour</th><th scope=col>Monthly_Balance</th><th scope=col>Credit_Score</th></tr>\n",
       "\t<tr><th scope=col>&lt;chr&gt;</th><th scope=col>&lt;chr&gt;</th><th scope=col>&lt;chr&gt;</th><th scope=col>&lt;chr&gt;</th><th scope=col>&lt;int&gt;</th><th scope=col>&lt;chr&gt;</th><th scope=col>&lt;chr&gt;</th><th scope=col>&lt;dbl&gt;</th><th scope=col>&lt;dbl&gt;</th><th scope=col>&lt;int&gt;</th><th scope=col>⋯</th><th scope=col>&lt;chr&gt;</th><th scope=col>&lt;dbl&gt;</th><th scope=col>&lt;dbl&gt;</th><th scope=col>&lt;chr&gt;</th><th scope=col>&lt;chr&gt;</th><th scope=col>&lt;dbl&gt;</th><th scope=col>&lt;dbl&gt;</th><th scope=col>&lt;chr&gt;</th><th scope=col>&lt;dbl&gt;</th><th scope=col>&lt;chr&gt;</th></tr>\n",
       "</thead>\n",
       "<tbody>\n",
       "\t<tr><td>0x1602</td><td>CUS_0xd40</td><td>January </td><td>Aaron Maashoh</td><td> 23</td><td>821-00-0265</td><td>Scientist</td><td>19114.12</td><td>1824.843</td><td>3</td><td>⋯</td><td>_   </td><td>809.98</td><td>26.82262</td><td>22 Years and 1 Months</td><td>No</td><td>49.57495</td><td> 80.41530</td><td>High_spent_Small_value_payments </td><td>312.4941</td><td>Good</td></tr>\n",
       "\t<tr><td>0x1603</td><td>CUS_0xd40</td><td>February</td><td>Aaron Maashoh</td><td> 23</td><td>821-00-0265</td><td>Scientist</td><td>19114.12</td><td>      NA</td><td>3</td><td>⋯</td><td>Good</td><td>809.98</td><td>31.94496</td><td>NA                   </td><td>No</td><td>49.57495</td><td>118.28022</td><td>Low_spent_Large_value_payments  </td><td>284.6292</td><td>Good</td></tr>\n",
       "\t<tr><td>0x1604</td><td>CUS_0xd40</td><td>March   </td><td>Aaron Maashoh</td><td>500</td><td>821-00-0265</td><td>Scientist</td><td>19114.12</td><td>      NA</td><td>3</td><td>⋯</td><td>Good</td><td>809.98</td><td>28.60935</td><td>22 Years and 3 Months</td><td>No</td><td>49.57495</td><td> 81.69952</td><td>Low_spent_Medium_value_payments </td><td>331.2099</td><td>Good</td></tr>\n",
       "\t<tr><td>0x1605</td><td>CUS_0xd40</td><td>April   </td><td>Aaron Maashoh</td><td> 23</td><td>821-00-0265</td><td>Scientist</td><td>19114.12</td><td>      NA</td><td>3</td><td>⋯</td><td>Good</td><td>809.98</td><td>31.37786</td><td>22 Years and 4 Months</td><td>No</td><td>49.57495</td><td>199.45807</td><td>Low_spent_Small_value_payments  </td><td>223.4513</td><td>Good</td></tr>\n",
       "\t<tr><td>0x1606</td><td>CUS_0xd40</td><td>May     </td><td>Aaron Maashoh</td><td> 23</td><td>821-00-0265</td><td>Scientist</td><td>19114.12</td><td>1824.843</td><td>3</td><td>⋯</td><td>Good</td><td>809.98</td><td>24.79735</td><td>22 Years and 5 Months</td><td>No</td><td>49.57495</td><td> 41.42015</td><td>High_spent_Medium_value_payments</td><td>341.4892</td><td>Good</td></tr>\n",
       "\t<tr><td>0x1607</td><td>CUS_0xd40</td><td>June    </td><td>Aaron Maashoh</td><td> 23</td><td>821-00-0265</td><td>Scientist</td><td>19114.12</td><td>      NA</td><td>3</td><td>⋯</td><td>Good</td><td>809.98</td><td>27.26226</td><td>22 Years and 6 Months</td><td>No</td><td>49.57495</td><td> 62.43017</td><td>!@9#%8                          </td><td>340.4792</td><td>Good</td></tr>\n",
       "</tbody>\n",
       "</table>\n"
      ],
      "text/latex": [
       "A data.table: 6 × 28\n",
       "\\begin{tabular}{lllllllllllllllllllll}\n",
       " ID & Customer\\_ID & Month & Name & Age & SSN & Occupation & Annual\\_Income & Monthly\\_Inhand\\_Salary & Num\\_Bank\\_Accounts & ⋯ & Credit\\_Mix & Outstanding\\_Debt & Credit\\_Utilization\\_Ratio & Credit\\_History\\_Age & Payment\\_of\\_Min\\_Amount & Total\\_EMI\\_per\\_month & Amount\\_invested\\_monthly & Payment\\_Behaviour & Monthly\\_Balance & Credit\\_Score\\\\\n",
       " <chr> & <chr> & <chr> & <chr> & <int> & <chr> & <chr> & <dbl> & <dbl> & <int> & ⋯ & <chr> & <dbl> & <dbl> & <chr> & <chr> & <dbl> & <dbl> & <chr> & <dbl> & <chr>\\\\\n",
       "\\hline\n",
       "\t 0x1602 & CUS\\_0xd40 & January  & Aaron Maashoh &  23 & 821-00-0265 & Scientist & 19114.12 & 1824.843 & 3 & ⋯ & \\_    & 809.98 & 26.82262 & 22 Years and 1 Months & No & 49.57495 &  80.41530 & High\\_spent\\_Small\\_value\\_payments  & 312.4941 & Good\\\\\n",
       "\t 0x1603 & CUS\\_0xd40 & February & Aaron Maashoh &  23 & 821-00-0265 & Scientist & 19114.12 &       NA & 3 & ⋯ & Good & 809.98 & 31.94496 & NA                    & No & 49.57495 & 118.28022 & Low\\_spent\\_Large\\_value\\_payments   & 284.6292 & Good\\\\\n",
       "\t 0x1604 & CUS\\_0xd40 & March    & Aaron Maashoh & 500 & 821-00-0265 & Scientist & 19114.12 &       NA & 3 & ⋯ & Good & 809.98 & 28.60935 & 22 Years and 3 Months & No & 49.57495 &  81.69952 & Low\\_spent\\_Medium\\_value\\_payments  & 331.2099 & Good\\\\\n",
       "\t 0x1605 & CUS\\_0xd40 & April    & Aaron Maashoh &  23 & 821-00-0265 & Scientist & 19114.12 &       NA & 3 & ⋯ & Good & 809.98 & 31.37786 & 22 Years and 4 Months & No & 49.57495 & 199.45807 & Low\\_spent\\_Small\\_value\\_payments   & 223.4513 & Good\\\\\n",
       "\t 0x1606 & CUS\\_0xd40 & May      & Aaron Maashoh &  23 & 821-00-0265 & Scientist & 19114.12 & 1824.843 & 3 & ⋯ & Good & 809.98 & 24.79735 & 22 Years and 5 Months & No & 49.57495 &  41.42015 & High\\_spent\\_Medium\\_value\\_payments & 341.4892 & Good\\\\\n",
       "\t 0x1607 & CUS\\_0xd40 & June     & Aaron Maashoh &  23 & 821-00-0265 & Scientist & 19114.12 &       NA & 3 & ⋯ & Good & 809.98 & 27.26226 & 22 Years and 6 Months & No & 49.57495 &  62.43017 & !@9\\#\\%8                           & 340.4792 & Good\\\\\n",
       "\\end{tabular}\n"
      ],
      "text/markdown": [
       "\n",
       "A data.table: 6 × 28\n",
       "\n",
       "| ID &lt;chr&gt; | Customer_ID &lt;chr&gt; | Month &lt;chr&gt; | Name &lt;chr&gt; | Age &lt;int&gt; | SSN &lt;chr&gt; | Occupation &lt;chr&gt; | Annual_Income &lt;dbl&gt; | Monthly_Inhand_Salary &lt;dbl&gt; | Num_Bank_Accounts &lt;int&gt; | ⋯ ⋯ | Credit_Mix &lt;chr&gt; | Outstanding_Debt &lt;dbl&gt; | Credit_Utilization_Ratio &lt;dbl&gt; | Credit_History_Age &lt;chr&gt; | Payment_of_Min_Amount &lt;chr&gt; | Total_EMI_per_month &lt;dbl&gt; | Amount_invested_monthly &lt;dbl&gt; | Payment_Behaviour &lt;chr&gt; | Monthly_Balance &lt;dbl&gt; | Credit_Score &lt;chr&gt; |\n",
       "|---|---|---|---|---|---|---|---|---|---|---|---|---|---|---|---|---|---|---|---|---|\n",
       "| 0x1602 | CUS_0xd40 | January  | Aaron Maashoh |  23 | 821-00-0265 | Scientist | 19114.12 | 1824.843 | 3 | ⋯ | _    | 809.98 | 26.82262 | 22 Years and 1 Months | No | 49.57495 |  80.41530 | High_spent_Small_value_payments  | 312.4941 | Good |\n",
       "| 0x1603 | CUS_0xd40 | February | Aaron Maashoh |  23 | 821-00-0265 | Scientist | 19114.12 |       NA | 3 | ⋯ | Good | 809.98 | 31.94496 | NA                    | No | 49.57495 | 118.28022 | Low_spent_Large_value_payments   | 284.6292 | Good |\n",
       "| 0x1604 | CUS_0xd40 | March    | Aaron Maashoh | 500 | 821-00-0265 | Scientist | 19114.12 |       NA | 3 | ⋯ | Good | 809.98 | 28.60935 | 22 Years and 3 Months | No | 49.57495 |  81.69952 | Low_spent_Medium_value_payments  | 331.2099 | Good |\n",
       "| 0x1605 | CUS_0xd40 | April    | Aaron Maashoh |  23 | 821-00-0265 | Scientist | 19114.12 |       NA | 3 | ⋯ | Good | 809.98 | 31.37786 | 22 Years and 4 Months | No | 49.57495 | 199.45807 | Low_spent_Small_value_payments   | 223.4513 | Good |\n",
       "| 0x1606 | CUS_0xd40 | May      | Aaron Maashoh |  23 | 821-00-0265 | Scientist | 19114.12 | 1824.843 | 3 | ⋯ | Good | 809.98 | 24.79735 | 22 Years and 5 Months | No | 49.57495 |  41.42015 | High_spent_Medium_value_payments | 341.4892 | Good |\n",
       "| 0x1607 | CUS_0xd40 | June     | Aaron Maashoh |  23 | 821-00-0265 | Scientist | 19114.12 |       NA | 3 | ⋯ | Good | 809.98 | 27.26226 | 22 Years and 6 Months | No | 49.57495 |  62.43017 | !@9#%8                           | 340.4792 | Good |\n",
       "\n"
      ],
      "text/plain": [
       "  ID     Customer_ID Month    Name          Age SSN         Occupation\n",
       "1 0x1602 CUS_0xd40   January  Aaron Maashoh  23 821-00-0265 Scientist \n",
       "2 0x1603 CUS_0xd40   February Aaron Maashoh  23 821-00-0265 Scientist \n",
       "3 0x1604 CUS_0xd40   March    Aaron Maashoh 500 821-00-0265 Scientist \n",
       "4 0x1605 CUS_0xd40   April    Aaron Maashoh  23 821-00-0265 Scientist \n",
       "5 0x1606 CUS_0xd40   May      Aaron Maashoh  23 821-00-0265 Scientist \n",
       "6 0x1607 CUS_0xd40   June     Aaron Maashoh  23 821-00-0265 Scientist \n",
       "  Annual_Income Monthly_Inhand_Salary Num_Bank_Accounts ⋯ Credit_Mix\n",
       "1 19114.12      1824.843              3                 ⋯ _         \n",
       "2 19114.12            NA              3                 ⋯ Good      \n",
       "3 19114.12            NA              3                 ⋯ Good      \n",
       "4 19114.12            NA              3                 ⋯ Good      \n",
       "5 19114.12      1824.843              3                 ⋯ Good      \n",
       "6 19114.12            NA              3                 ⋯ Good      \n",
       "  Outstanding_Debt Credit_Utilization_Ratio Credit_History_Age   \n",
       "1 809.98           26.82262                 22 Years and 1 Months\n",
       "2 809.98           31.94496                 NA                   \n",
       "3 809.98           28.60935                 22 Years and 3 Months\n",
       "4 809.98           31.37786                 22 Years and 4 Months\n",
       "5 809.98           24.79735                 22 Years and 5 Months\n",
       "6 809.98           27.26226                 22 Years and 6 Months\n",
       "  Payment_of_Min_Amount Total_EMI_per_month Amount_invested_monthly\n",
       "1 No                    49.57495             80.41530              \n",
       "2 No                    49.57495            118.28022              \n",
       "3 No                    49.57495             81.69952              \n",
       "4 No                    49.57495            199.45807              \n",
       "5 No                    49.57495             41.42015              \n",
       "6 No                    49.57495             62.43017              \n",
       "  Payment_Behaviour                Monthly_Balance Credit_Score\n",
       "1 High_spent_Small_value_payments  312.4941        Good        \n",
       "2 Low_spent_Large_value_payments   284.6292        Good        \n",
       "3 Low_spent_Medium_value_payments  331.2099        Good        \n",
       "4 Low_spent_Small_value_payments   223.4513        Good        \n",
       "5 High_spent_Medium_value_payments 341.4892        Good        \n",
       "6 !@9#%8                           340.4792        Good        "
      ]
     },
     "metadata": {},
     "output_type": "display_data"
    }
   ],
   "source": [
    "# Fill missing values in 'Monthly_Balance' column with '0'\n",
    "train[is.na(Monthly_Balance), Monthly_Balance := 0]\n",
    "\n",
    "# Print the first few rows of the updated data frame\n",
    "head(train)"
   ]
  },
  {
   "cell_type": "code",
   "execution_count": 103,
   "metadata": {
    "vscode": {
     "languageId": "r"
    }
   },
   "outputs": [
    {
     "data": {
      "text/html": [
       "<table class=\"dataframe\">\n",
       "<caption>A data.table: 6 × 29</caption>\n",
       "<thead>\n",
       "\t<tr><th scope=col>ID</th><th scope=col>Customer_ID</th><th scope=col>Month</th><th scope=col>Name</th><th scope=col>Age</th><th scope=col>SSN</th><th scope=col>Occupation</th><th scope=col>Annual_Income</th><th scope=col>Monthly_Inhand_Salary</th><th scope=col>Num_Bank_Accounts</th><th scope=col>⋯</th><th scope=col>Outstanding_Debt</th><th scope=col>Credit_Utilization_Ratio</th><th scope=col>Credit_History_Age</th><th scope=col>Payment_of_Min_Amount</th><th scope=col>Total_EMI_per_month</th><th scope=col>Amount_invested_monthly</th><th scope=col>Payment_Behaviour</th><th scope=col>Monthly_Balance</th><th scope=col>Credit_Score</th><th scope=col>Credit_History_Age_Months</th></tr>\n",
       "\t<tr><th scope=col>&lt;chr&gt;</th><th scope=col>&lt;chr&gt;</th><th scope=col>&lt;chr&gt;</th><th scope=col>&lt;chr&gt;</th><th scope=col>&lt;int&gt;</th><th scope=col>&lt;chr&gt;</th><th scope=col>&lt;chr&gt;</th><th scope=col>&lt;dbl&gt;</th><th scope=col>&lt;dbl&gt;</th><th scope=col>&lt;int&gt;</th><th scope=col>⋯</th><th scope=col>&lt;dbl&gt;</th><th scope=col>&lt;dbl&gt;</th><th scope=col>&lt;chr&gt;</th><th scope=col>&lt;chr&gt;</th><th scope=col>&lt;dbl&gt;</th><th scope=col>&lt;dbl&gt;</th><th scope=col>&lt;chr&gt;</th><th scope=col>&lt;dbl&gt;</th><th scope=col>&lt;chr&gt;</th><th scope=col>&lt;dbl&gt;</th></tr>\n",
       "</thead>\n",
       "<tbody>\n",
       "\t<tr><td>0x1602</td><td>CUS_0xd40</td><td>January </td><td>Aaron Maashoh</td><td> 23</td><td>821-00-0265</td><td>Scientist</td><td>19114.12</td><td>1824.843</td><td>3</td><td>⋯</td><td>809.98</td><td>26.82262</td><td>22 Years and 1 Months</td><td>No</td><td>49.57495</td><td> 80.41530</td><td>High_spent_Small_value_payments </td><td>312.4941</td><td>Good</td><td>265</td></tr>\n",
       "\t<tr><td>0x1603</td><td>CUS_0xd40</td><td>February</td><td>Aaron Maashoh</td><td> 23</td><td>821-00-0265</td><td>Scientist</td><td>19114.12</td><td>      NA</td><td>3</td><td>⋯</td><td>809.98</td><td>31.94496</td><td>NA                   </td><td>No</td><td>49.57495</td><td>118.28022</td><td>Low_spent_Large_value_payments  </td><td>284.6292</td><td>Good</td><td>  0</td></tr>\n",
       "\t<tr><td>0x1604</td><td>CUS_0xd40</td><td>March   </td><td>Aaron Maashoh</td><td>500</td><td>821-00-0265</td><td>Scientist</td><td>19114.12</td><td>      NA</td><td>3</td><td>⋯</td><td>809.98</td><td>28.60935</td><td>22 Years and 3 Months</td><td>No</td><td>49.57495</td><td> 81.69952</td><td>Low_spent_Medium_value_payments </td><td>331.2099</td><td>Good</td><td>267</td></tr>\n",
       "\t<tr><td>0x1605</td><td>CUS_0xd40</td><td>April   </td><td>Aaron Maashoh</td><td> 23</td><td>821-00-0265</td><td>Scientist</td><td>19114.12</td><td>      NA</td><td>3</td><td>⋯</td><td>809.98</td><td>31.37786</td><td>22 Years and 4 Months</td><td>No</td><td>49.57495</td><td>199.45807</td><td>Low_spent_Small_value_payments  </td><td>223.4513</td><td>Good</td><td>268</td></tr>\n",
       "\t<tr><td>0x1606</td><td>CUS_0xd40</td><td>May     </td><td>Aaron Maashoh</td><td> 23</td><td>821-00-0265</td><td>Scientist</td><td>19114.12</td><td>1824.843</td><td>3</td><td>⋯</td><td>809.98</td><td>24.79735</td><td>22 Years and 5 Months</td><td>No</td><td>49.57495</td><td> 41.42015</td><td>High_spent_Medium_value_payments</td><td>341.4892</td><td>Good</td><td>269</td></tr>\n",
       "\t<tr><td>0x1607</td><td>CUS_0xd40</td><td>June    </td><td>Aaron Maashoh</td><td> 23</td><td>821-00-0265</td><td>Scientist</td><td>19114.12</td><td>      NA</td><td>3</td><td>⋯</td><td>809.98</td><td>27.26226</td><td>22 Years and 6 Months</td><td>No</td><td>49.57495</td><td> 62.43017</td><td>!@9#%8                          </td><td>340.4792</td><td>Good</td><td>270</td></tr>\n",
       "</tbody>\n",
       "</table>\n"
      ],
      "text/latex": [
       "A data.table: 6 × 29\n",
       "\\begin{tabular}{lllllllllllllllllllll}\n",
       " ID & Customer\\_ID & Month & Name & Age & SSN & Occupation & Annual\\_Income & Monthly\\_Inhand\\_Salary & Num\\_Bank\\_Accounts & ⋯ & Outstanding\\_Debt & Credit\\_Utilization\\_Ratio & Credit\\_History\\_Age & Payment\\_of\\_Min\\_Amount & Total\\_EMI\\_per\\_month & Amount\\_invested\\_monthly & Payment\\_Behaviour & Monthly\\_Balance & Credit\\_Score & Credit\\_History\\_Age\\_Months\\\\\n",
       " <chr> & <chr> & <chr> & <chr> & <int> & <chr> & <chr> & <dbl> & <dbl> & <int> & ⋯ & <dbl> & <dbl> & <chr> & <chr> & <dbl> & <dbl> & <chr> & <dbl> & <chr> & <dbl>\\\\\n",
       "\\hline\n",
       "\t 0x1602 & CUS\\_0xd40 & January  & Aaron Maashoh &  23 & 821-00-0265 & Scientist & 19114.12 & 1824.843 & 3 & ⋯ & 809.98 & 26.82262 & 22 Years and 1 Months & No & 49.57495 &  80.41530 & High\\_spent\\_Small\\_value\\_payments  & 312.4941 & Good & 265\\\\\n",
       "\t 0x1603 & CUS\\_0xd40 & February & Aaron Maashoh &  23 & 821-00-0265 & Scientist & 19114.12 &       NA & 3 & ⋯ & 809.98 & 31.94496 & NA                    & No & 49.57495 & 118.28022 & Low\\_spent\\_Large\\_value\\_payments   & 284.6292 & Good &   0\\\\\n",
       "\t 0x1604 & CUS\\_0xd40 & March    & Aaron Maashoh & 500 & 821-00-0265 & Scientist & 19114.12 &       NA & 3 & ⋯ & 809.98 & 28.60935 & 22 Years and 3 Months & No & 49.57495 &  81.69952 & Low\\_spent\\_Medium\\_value\\_payments  & 331.2099 & Good & 267\\\\\n",
       "\t 0x1605 & CUS\\_0xd40 & April    & Aaron Maashoh &  23 & 821-00-0265 & Scientist & 19114.12 &       NA & 3 & ⋯ & 809.98 & 31.37786 & 22 Years and 4 Months & No & 49.57495 & 199.45807 & Low\\_spent\\_Small\\_value\\_payments   & 223.4513 & Good & 268\\\\\n",
       "\t 0x1606 & CUS\\_0xd40 & May      & Aaron Maashoh &  23 & 821-00-0265 & Scientist & 19114.12 & 1824.843 & 3 & ⋯ & 809.98 & 24.79735 & 22 Years and 5 Months & No & 49.57495 &  41.42015 & High\\_spent\\_Medium\\_value\\_payments & 341.4892 & Good & 269\\\\\n",
       "\t 0x1607 & CUS\\_0xd40 & June     & Aaron Maashoh &  23 & 821-00-0265 & Scientist & 19114.12 &       NA & 3 & ⋯ & 809.98 & 27.26226 & 22 Years and 6 Months & No & 49.57495 &  62.43017 & !@9\\#\\%8                           & 340.4792 & Good & 270\\\\\n",
       "\\end{tabular}\n"
      ],
      "text/markdown": [
       "\n",
       "A data.table: 6 × 29\n",
       "\n",
       "| ID &lt;chr&gt; | Customer_ID &lt;chr&gt; | Month &lt;chr&gt; | Name &lt;chr&gt; | Age &lt;int&gt; | SSN &lt;chr&gt; | Occupation &lt;chr&gt; | Annual_Income &lt;dbl&gt; | Monthly_Inhand_Salary &lt;dbl&gt; | Num_Bank_Accounts &lt;int&gt; | ⋯ ⋯ | Outstanding_Debt &lt;dbl&gt; | Credit_Utilization_Ratio &lt;dbl&gt; | Credit_History_Age &lt;chr&gt; | Payment_of_Min_Amount &lt;chr&gt; | Total_EMI_per_month &lt;dbl&gt; | Amount_invested_monthly &lt;dbl&gt; | Payment_Behaviour &lt;chr&gt; | Monthly_Balance &lt;dbl&gt; | Credit_Score &lt;chr&gt; | Credit_History_Age_Months &lt;dbl&gt; |\n",
       "|---|---|---|---|---|---|---|---|---|---|---|---|---|---|---|---|---|---|---|---|---|\n",
       "| 0x1602 | CUS_0xd40 | January  | Aaron Maashoh |  23 | 821-00-0265 | Scientist | 19114.12 | 1824.843 | 3 | ⋯ | 809.98 | 26.82262 | 22 Years and 1 Months | No | 49.57495 |  80.41530 | High_spent_Small_value_payments  | 312.4941 | Good | 265 |\n",
       "| 0x1603 | CUS_0xd40 | February | Aaron Maashoh |  23 | 821-00-0265 | Scientist | 19114.12 |       NA | 3 | ⋯ | 809.98 | 31.94496 | NA                    | No | 49.57495 | 118.28022 | Low_spent_Large_value_payments   | 284.6292 | Good |   0 |\n",
       "| 0x1604 | CUS_0xd40 | March    | Aaron Maashoh | 500 | 821-00-0265 | Scientist | 19114.12 |       NA | 3 | ⋯ | 809.98 | 28.60935 | 22 Years and 3 Months | No | 49.57495 |  81.69952 | Low_spent_Medium_value_payments  | 331.2099 | Good | 267 |\n",
       "| 0x1605 | CUS_0xd40 | April    | Aaron Maashoh |  23 | 821-00-0265 | Scientist | 19114.12 |       NA | 3 | ⋯ | 809.98 | 31.37786 | 22 Years and 4 Months | No | 49.57495 | 199.45807 | Low_spent_Small_value_payments   | 223.4513 | Good | 268 |\n",
       "| 0x1606 | CUS_0xd40 | May      | Aaron Maashoh |  23 | 821-00-0265 | Scientist | 19114.12 | 1824.843 | 3 | ⋯ | 809.98 | 24.79735 | 22 Years and 5 Months | No | 49.57495 |  41.42015 | High_spent_Medium_value_payments | 341.4892 | Good | 269 |\n",
       "| 0x1607 | CUS_0xd40 | June     | Aaron Maashoh |  23 | 821-00-0265 | Scientist | 19114.12 |       NA | 3 | ⋯ | 809.98 | 27.26226 | 22 Years and 6 Months | No | 49.57495 |  62.43017 | !@9#%8                           | 340.4792 | Good | 270 |\n",
       "\n"
      ],
      "text/plain": [
       "  ID     Customer_ID Month    Name          Age SSN         Occupation\n",
       "1 0x1602 CUS_0xd40   January  Aaron Maashoh  23 821-00-0265 Scientist \n",
       "2 0x1603 CUS_0xd40   February Aaron Maashoh  23 821-00-0265 Scientist \n",
       "3 0x1604 CUS_0xd40   March    Aaron Maashoh 500 821-00-0265 Scientist \n",
       "4 0x1605 CUS_0xd40   April    Aaron Maashoh  23 821-00-0265 Scientist \n",
       "5 0x1606 CUS_0xd40   May      Aaron Maashoh  23 821-00-0265 Scientist \n",
       "6 0x1607 CUS_0xd40   June     Aaron Maashoh  23 821-00-0265 Scientist \n",
       "  Annual_Income Monthly_Inhand_Salary Num_Bank_Accounts ⋯ Outstanding_Debt\n",
       "1 19114.12      1824.843              3                 ⋯ 809.98          \n",
       "2 19114.12            NA              3                 ⋯ 809.98          \n",
       "3 19114.12            NA              3                 ⋯ 809.98          \n",
       "4 19114.12            NA              3                 ⋯ 809.98          \n",
       "5 19114.12      1824.843              3                 ⋯ 809.98          \n",
       "6 19114.12            NA              3                 ⋯ 809.98          \n",
       "  Credit_Utilization_Ratio Credit_History_Age    Payment_of_Min_Amount\n",
       "1 26.82262                 22 Years and 1 Months No                   \n",
       "2 31.94496                 NA                    No                   \n",
       "3 28.60935                 22 Years and 3 Months No                   \n",
       "4 31.37786                 22 Years and 4 Months No                   \n",
       "5 24.79735                 22 Years and 5 Months No                   \n",
       "6 27.26226                 22 Years and 6 Months No                   \n",
       "  Total_EMI_per_month Amount_invested_monthly Payment_Behaviour               \n",
       "1 49.57495             80.41530               High_spent_Small_value_payments \n",
       "2 49.57495            118.28022               Low_spent_Large_value_payments  \n",
       "3 49.57495             81.69952               Low_spent_Medium_value_payments \n",
       "4 49.57495            199.45807               Low_spent_Small_value_payments  \n",
       "5 49.57495             41.42015               High_spent_Medium_value_payments\n",
       "6 49.57495             62.43017               !@9#%8                          \n",
       "  Monthly_Balance Credit_Score Credit_History_Age_Months\n",
       "1 312.4941        Good         265                      \n",
       "2 284.6292        Good           0                      \n",
       "3 331.2099        Good         267                      \n",
       "4 223.4513        Good         268                      \n",
       "5 341.4892        Good         269                      \n",
       "6 340.4792        Good         270                      "
      ]
     },
     "metadata": {},
     "output_type": "display_data"
    }
   ],
   "source": [
    "# Define the parsing function\n",
    "parse_years_and_months <- function(age) {\n",
    "  if (!is.na(age)) {\n",
    "    age_parts <- strsplit(age, ' Years and ')[[1]]\n",
    "    years <- ifelse(grepl('Years', age), as.integer(age_parts[1]), 0)\n",
    "    months_str <- ifelse(grepl('Months', age_parts[2]), substr(age_parts[2], 1, regexpr(' Months', age_parts[2])-1), '0')\n",
    "    months <- as.integer(months_str)\n",
    "    total_months <- years * 12 + months\n",
    "    return(total_months)\n",
    "  } else {\n",
    "    return(0)\n",
    "  }\n",
    "}\n",
    "\n",
    "train[, Credit_History_Age_Months := sapply(Credit_History_Age, parse_years_and_months)]\n",
    "\n",
    "# Print the first few rows of the updated data frame\n",
    "head(train)"
   ]
  },
  {
   "cell_type": "code",
   "execution_count": 104,
   "metadata": {
    "vscode": {
     "languageId": "r"
    }
   },
   "outputs": [
    {
     "name": "stdout",
     "output_type": "stream",
     "text": [
      "[1] \"There are no duplicates 👌\"\n"
     ]
    }
   ],
   "source": [
    "# Check for duplicates\n",
    "duplicates <- train[duplicated(train)]\n",
    "\n",
    "# Count the number of duplicates\n",
    "num_duplicates <- nrow(duplicates)\n",
    "\n",
    "if (num_duplicates == 0) {\n",
    "  print(\"There are no duplicates 👌\")\n",
    "} else {\n",
    "  print(paste(\"There are\", num_duplicates, \"duplicates.\"))\n",
    "}"
   ]
  },
  {
   "cell_type": "markdown",
   "metadata": {},
   "source": [
    "# Data Scaling\n"
   ]
  },
  {
   "cell_type": "code",
   "execution_count": 105,
   "metadata": {
    "vscode": {
     "languageId": "r"
    }
   },
   "outputs": [
    {
     "name": "stdout",
     "output_type": "stream",
     "text": [
      "                                                                   \n",
      "     ID                   Length:100000        Class :character    \n",
      "Customer_ID               Length:100000        Class :character    \n",
      "   Month                  Length:100000        Class :character    \n",
      "    Name                  Length:100000        Class :character    \n",
      "     Age                  Min.   :  14.0       1st Qu.:  25.0      \n",
      "    SSN                   Length:100000        Class :character    \n",
      " Occupation               Length:100000        Class :character    \n",
      "Annual_Income             Min.   :    7006     1st Qu.:   19458    \n",
      "Monthly_Inhand_Salary     Min.   :  303.6      1st Qu.: 1625.6     \n",
      "Num_Bank_Accounts         Min.   :  -1.00      1st Qu.:   3.00     \n",
      "Num_Credit_Card           Min.   :   0.00      1st Qu.:   4.00     \n",
      "Interest_Rate             Min.   :   1.00      1st Qu.:   8.00     \n",
      " Num_of_Loan              Min.   :   0.00      1st Qu.:   2.00     \n",
      "Type_of_Loan              Length:100000        Class :character    \n",
      "Delay_from_due_date       Min.   :-5.00        1st Qu.:10.00       \n",
      "Num_of_Delayed_Payment    Min.   :   0.00      1st Qu.:   9.00     \n",
      "Changed_Credit_Limit      Min.   :-6.49        1st Qu.: 4.97       \n",
      "Num_Credit_Inquiries      Min.   :   0.00      1st Qu.:   3.00     \n",
      " Credit_Mix               Length:100000        Class :character    \n",
      "Outstanding_Debt          Min.   :   0.23      1st Qu.: 566.07     \n",
      "Credit_Utilization_Ratio  Min.   :20.00        1st Qu.:28.05       \n",
      "Credit_History_Age        Length:100000        Class :character    \n",
      "Payment_of_Min_Amount     Length:100000        Class :character    \n",
      "Total_EMI_per_month       Min.   :    0.00     1st Qu.:   30.31    \n",
      "Amount_invested_monthly   Min.   :    0.00     1st Qu.:   67.43    \n",
      "Payment_Behaviour         Length:100000        Class :character    \n",
      "Monthly_Balance           Min.   :-3.333e+26   1st Qu.: 2.680e+02  \n",
      "Credit_Score              Length:100000        Class :character    \n",
      "Credit_History_Age_Months Min.   :  0.0        1st Qu.:114.0       \n",
      "                                                                   \n",
      "     ID                   Mode  :character                         \n",
      "Customer_ID               Mode  :character                         \n",
      "   Month                  Mode  :character                         \n",
      "    Name                  Mode  :character                         \n",
      "     Age                  Median :  34.0       Mean   : 119.5      \n",
      "    SSN                   Mode  :character                         \n",
      " Occupation               Mode  :character                         \n",
      "Annual_Income             Median :   37579     Mean   :  176416    \n",
      "Monthly_Inhand_Salary     Median : 3093.7      Mean   : 4194.2     \n",
      "Num_Bank_Accounts         Median :   6.00      Mean   :  17.09     \n",
      "Num_Credit_Card           Median :   5.00      Mean   :  22.47     \n",
      "Interest_Rate             Median :  13.00      Mean   :  72.47     \n",
      " Num_of_Loan              Median :   3.00      Mean   :  10.76     \n",
      "Type_of_Loan              Mode  :character                         \n",
      "Delay_from_due_date       Median :18.00        Mean   :21.07       \n",
      "Num_of_Delayed_Payment    Median :  14.00      Mean   :  30.95     \n",
      "Changed_Credit_Limit      Median : 9.25        Mean   :10.17       \n",
      "Num_Credit_Inquiries      Median :   6.00      Mean   :  27.75     \n",
      " Credit_Mix               Mode  :character                         \n",
      "Outstanding_Debt          Median :1166.15      Mean   :1426.22     \n",
      "Credit_Utilization_Ratio  Median :32.31        Mean   :32.29       \n",
      "Credit_History_Age        Mode  :character                         \n",
      "Payment_of_Min_Amount     Mode  :character                         \n",
      "Total_EMI_per_month       Median :   69.25     Mean   : 1403.12    \n",
      "Amount_invested_monthly   Median :  128.70     Mean   :  608.86    \n",
      "Payment_Behaviour         Mode  :character                         \n",
      "Monthly_Balance           Median : 3.350e+02   Mean   :-3.000e+22  \n",
      "Credit_Score              Mode  :character                         \n",
      "Credit_History_Age_Months Median :208.0        Mean   :201.2       \n",
      "                                                                   \n",
      "     ID                                                            \n",
      "Customer_ID                                                        \n",
      "   Month                                                           \n",
      "    Name                                                           \n",
      "     Age                  3rd Qu.:  42.0       Max.   :8698.0      \n",
      "    SSN                                                            \n",
      " Occupation                                                        \n",
      "Annual_Income             3rd Qu.:   72791     Max.   :24198062    \n",
      "Monthly_Inhand_Salary     3rd Qu.: 5957.4      Max.   :15204.6     \n",
      "Num_Bank_Accounts         3rd Qu.:   7.00      Max.   :1798.00     \n",
      "Num_Credit_Card           3rd Qu.:   7.00      Max.   :1499.00     \n",
      "Interest_Rate             3rd Qu.:  20.00      Max.   :5797.00     \n",
      " Num_of_Loan              3rd Qu.:   6.00      Max.   :1496.00     \n",
      "Type_of_Loan                                                       \n",
      "Delay_from_due_date       3rd Qu.:28.00        Max.   :67.00       \n",
      "Num_of_Delayed_Payment    3rd Qu.:  18.00      Max.   :4397.00     \n",
      "Changed_Credit_Limit      3rd Qu.:14.66        Max.   :36.97       \n",
      "Num_Credit_Inquiries      3rd Qu.:   9.00      Max.   :2597.00     \n",
      " Credit_Mix                                                        \n",
      "Outstanding_Debt          3rd Qu.:1945.96      Max.   :4998.07     \n",
      "Credit_Utilization_Ratio  3rd Qu.:36.50        Max.   :50.00       \n",
      "Credit_History_Age                                                 \n",
      "Payment_of_Min_Amount                                              \n",
      "Total_EMI_per_month       3rd Qu.:  161.22     Max.   :82331.00    \n",
      "Amount_invested_monthly   3rd Qu.:  255.04     Max.   :10000.00    \n",
      "Payment_Behaviour                                                  \n",
      "Monthly_Balance           3rd Qu.: 4.680e+02   Max.   : 1.602e+03  \n",
      "Credit_Score                                                       \n",
      "Credit_History_Age_Months 3rd Qu.:292.0        Max.   :404.0       \n",
      "                                         \n",
      "     ID                                  \n",
      "Customer_ID                              \n",
      "   Month                                 \n",
      "    Name                                 \n",
      "     Age                                 \n",
      "    SSN                                  \n",
      " Occupation                              \n",
      "Annual_Income                            \n",
      "Monthly_Inhand_Salary     NA's   :15002  \n",
      "Num_Bank_Accounts                        \n",
      "Num_Credit_Card                          \n",
      "Interest_Rate                            \n",
      " Num_of_Loan                             \n",
      "Type_of_Loan                             \n",
      "Delay_from_due_date                      \n",
      "Num_of_Delayed_Payment    NA's   :7002   \n",
      "Changed_Credit_Limit                     \n",
      "Num_Credit_Inquiries      NA's   :1965   \n",
      " Credit_Mix                              \n",
      "Outstanding_Debt                         \n",
      "Credit_Utilization_Ratio                 \n",
      "Credit_History_Age                       \n",
      "Payment_of_Min_Amount                    \n",
      "Total_EMI_per_month                      \n",
      "Amount_invested_monthly                  \n",
      "Payment_Behaviour                        \n",
      "Monthly_Balance                          \n",
      "Credit_Score                             \n",
      "Credit_History_Age_Months                \n"
     ]
    }
   ],
   "source": [
    "summary_stats <- summary(train)\n",
    "\n",
    "# Transpose the summary statistics\n",
    "summary_stats <- t(summary_stats)\n",
    "\n",
    "# Print the transposed summary statistics\n",
    "print(summary_stats)"
   ]
  },
  {
   "cell_type": "code",
   "execution_count": 106,
   "metadata": {
    "vscode": {
     "languageId": "r"
    }
   },
   "outputs": [
    {
     "data": {
      "text/html": [
       "<table class=\"dataframe\">\n",
       "<caption>A data.table: 6 × 29</caption>\n",
       "<thead>\n",
       "\t<tr><th scope=col>ID</th><th scope=col>Customer_ID</th><th scope=col>Month</th><th scope=col>Name</th><th scope=col>Age</th><th scope=col>SSN</th><th scope=col>Occupation</th><th scope=col>Annual_Income</th><th scope=col>Monthly_Inhand_Salary</th><th scope=col>Num_Bank_Accounts</th><th scope=col>⋯</th><th scope=col>Outstanding_Debt</th><th scope=col>Credit_Utilization_Ratio</th><th scope=col>Credit_History_Age</th><th scope=col>Payment_of_Min_Amount</th><th scope=col>Total_EMI_per_month</th><th scope=col>Amount_invested_monthly</th><th scope=col>Payment_Behaviour</th><th scope=col>Monthly_Balance</th><th scope=col>Credit_Score</th><th scope=col>Credit_History_Age_Months</th></tr>\n",
       "\t<tr><th scope=col>&lt;chr&gt;</th><th scope=col>&lt;chr&gt;</th><th scope=col>&lt;chr&gt;</th><th scope=col>&lt;chr&gt;</th><th scope=col>&lt;int&gt;</th><th scope=col>&lt;chr&gt;</th><th scope=col>&lt;chr&gt;</th><th scope=col>&lt;dbl&gt;</th><th scope=col>&lt;dbl&gt;</th><th scope=col>&lt;int&gt;</th><th scope=col>⋯</th><th scope=col>&lt;dbl&gt;</th><th scope=col>&lt;dbl&gt;</th><th scope=col>&lt;chr&gt;</th><th scope=col>&lt;chr&gt;</th><th scope=col>&lt;dbl&gt;</th><th scope=col>&lt;dbl&gt;</th><th scope=col>&lt;chr&gt;</th><th scope=col>&lt;dbl&gt;</th><th scope=col>&lt;chr&gt;</th><th scope=col>&lt;dbl&gt;</th></tr>\n",
       "</thead>\n",
       "<tbody>\n",
       "\t<tr><td>0x1602</td><td>CUS_0xd40</td><td>January</td><td>Aaron Maashoh</td><td> 23</td><td>821-00-0265</td><td>Scientist</td><td>19114.12</td><td>1824.843</td><td>3</td><td>⋯</td><td>809.98</td><td>26.82262</td><td>22 Years and 1 Months</td><td>No</td><td>49.57495</td><td> 80.41530</td><td>High_spent_Small_value_payments </td><td>312.4941</td><td>Good    </td><td>265</td></tr>\n",
       "\t<tr><td>0x1604</td><td>CUS_0xd40</td><td>March  </td><td>Aaron Maashoh</td><td>500</td><td>821-00-0265</td><td>Scientist</td><td>19114.12</td><td>      NA</td><td>3</td><td>⋯</td><td>809.98</td><td>28.60935</td><td>22 Years and 3 Months</td><td>No</td><td>49.57495</td><td> 81.69952</td><td>Low_spent_Medium_value_payments </td><td>331.2099</td><td>Good    </td><td>267</td></tr>\n",
       "\t<tr><td>0x1605</td><td>CUS_0xd40</td><td>April  </td><td>Aaron Maashoh</td><td> 23</td><td>821-00-0265</td><td>Scientist</td><td>19114.12</td><td>      NA</td><td>3</td><td>⋯</td><td>809.98</td><td>31.37786</td><td>22 Years and 4 Months</td><td>No</td><td>49.57495</td><td>199.45807</td><td>Low_spent_Small_value_payments  </td><td>223.4513</td><td>Good    </td><td>268</td></tr>\n",
       "\t<tr><td>0x1607</td><td>CUS_0xd40</td><td>June   </td><td>Aaron Maashoh</td><td> 23</td><td>821-00-0265</td><td>Scientist</td><td>19114.12</td><td>      NA</td><td>3</td><td>⋯</td><td>809.98</td><td>27.26226</td><td>22 Years and 6 Months</td><td>No</td><td>49.57495</td><td> 62.43017</td><td>!@9#%8                          </td><td>340.4792</td><td>Good    </td><td>270</td></tr>\n",
       "\t<tr><td>0x1608</td><td>CUS_0xd40</td><td>July   </td><td>Aaron Maashoh</td><td> 23</td><td>821-00-0265</td><td>Scientist</td><td>19114.12</td><td>1824.843</td><td>3</td><td>⋯</td><td>809.98</td><td>22.53759</td><td>22 Years and 7 Months</td><td>No</td><td>49.57495</td><td>178.34407</td><td>Low_spent_Small_value_payments  </td><td>244.5653</td><td>Good    </td><td>271</td></tr>\n",
       "\t<tr><td>0x1609</td><td>CUS_0xd40</td><td>August </td><td><span style=white-space:pre-wrap>             </span></td><td> 23</td><td><span style=white-space:pre-wrap>#F%$D@*&amp;8  </span></td><td>Scientist</td><td>19114.12</td><td>1824.843</td><td>3</td><td>⋯</td><td>809.98</td><td>23.93379</td><td><span style=white-space:pre-wrap>NA                   </span></td><td>No</td><td>49.57495</td><td> 24.78522</td><td>High_spent_Medium_value_payments</td><td>358.1242</td><td>Standard</td><td><span style=white-space:pre-wrap>  0</span></td></tr>\n",
       "</tbody>\n",
       "</table>\n"
      ],
      "text/latex": [
       "A data.table: 6 × 29\n",
       "\\begin{tabular}{lllllllllllllllllllll}\n",
       " ID & Customer\\_ID & Month & Name & Age & SSN & Occupation & Annual\\_Income & Monthly\\_Inhand\\_Salary & Num\\_Bank\\_Accounts & ⋯ & Outstanding\\_Debt & Credit\\_Utilization\\_Ratio & Credit\\_History\\_Age & Payment\\_of\\_Min\\_Amount & Total\\_EMI\\_per\\_month & Amount\\_invested\\_monthly & Payment\\_Behaviour & Monthly\\_Balance & Credit\\_Score & Credit\\_History\\_Age\\_Months\\\\\n",
       " <chr> & <chr> & <chr> & <chr> & <int> & <chr> & <chr> & <dbl> & <dbl> & <int> & ⋯ & <dbl> & <dbl> & <chr> & <chr> & <dbl> & <dbl> & <chr> & <dbl> & <chr> & <dbl>\\\\\n",
       "\\hline\n",
       "\t 0x1602 & CUS\\_0xd40 & January & Aaron Maashoh &  23 & 821-00-0265 & Scientist & 19114.12 & 1824.843 & 3 & ⋯ & 809.98 & 26.82262 & 22 Years and 1 Months & No & 49.57495 &  80.41530 & High\\_spent\\_Small\\_value\\_payments  & 312.4941 & Good     & 265\\\\\n",
       "\t 0x1604 & CUS\\_0xd40 & March   & Aaron Maashoh & 500 & 821-00-0265 & Scientist & 19114.12 &       NA & 3 & ⋯ & 809.98 & 28.60935 & 22 Years and 3 Months & No & 49.57495 &  81.69952 & Low\\_spent\\_Medium\\_value\\_payments  & 331.2099 & Good     & 267\\\\\n",
       "\t 0x1605 & CUS\\_0xd40 & April   & Aaron Maashoh &  23 & 821-00-0265 & Scientist & 19114.12 &       NA & 3 & ⋯ & 809.98 & 31.37786 & 22 Years and 4 Months & No & 49.57495 & 199.45807 & Low\\_spent\\_Small\\_value\\_payments   & 223.4513 & Good     & 268\\\\\n",
       "\t 0x1607 & CUS\\_0xd40 & June    & Aaron Maashoh &  23 & 821-00-0265 & Scientist & 19114.12 &       NA & 3 & ⋯ & 809.98 & 27.26226 & 22 Years and 6 Months & No & 49.57495 &  62.43017 & !@9\\#\\%8                           & 340.4792 & Good     & 270\\\\\n",
       "\t 0x1608 & CUS\\_0xd40 & July    & Aaron Maashoh &  23 & 821-00-0265 & Scientist & 19114.12 & 1824.843 & 3 & ⋯ & 809.98 & 22.53759 & 22 Years and 7 Months & No & 49.57495 & 178.34407 & Low\\_spent\\_Small\\_value\\_payments   & 244.5653 & Good     & 271\\\\\n",
       "\t 0x1609 & CUS\\_0xd40 & August  &               &  23 & \\#F\\%\\$D@*\\&8   & Scientist & 19114.12 & 1824.843 & 3 & ⋯ & 809.98 & 23.93379 & NA                    & No & 49.57495 &  24.78522 & High\\_spent\\_Medium\\_value\\_payments & 358.1242 & Standard &   0\\\\\n",
       "\\end{tabular}\n"
      ],
      "text/markdown": [
       "\n",
       "A data.table: 6 × 29\n",
       "\n",
       "| ID &lt;chr&gt; | Customer_ID &lt;chr&gt; | Month &lt;chr&gt; | Name &lt;chr&gt; | Age &lt;int&gt; | SSN &lt;chr&gt; | Occupation &lt;chr&gt; | Annual_Income &lt;dbl&gt; | Monthly_Inhand_Salary &lt;dbl&gt; | Num_Bank_Accounts &lt;int&gt; | ⋯ ⋯ | Outstanding_Debt &lt;dbl&gt; | Credit_Utilization_Ratio &lt;dbl&gt; | Credit_History_Age &lt;chr&gt; | Payment_of_Min_Amount &lt;chr&gt; | Total_EMI_per_month &lt;dbl&gt; | Amount_invested_monthly &lt;dbl&gt; | Payment_Behaviour &lt;chr&gt; | Monthly_Balance &lt;dbl&gt; | Credit_Score &lt;chr&gt; | Credit_History_Age_Months &lt;dbl&gt; |\n",
       "|---|---|---|---|---|---|---|---|---|---|---|---|---|---|---|---|---|---|---|---|---|\n",
       "| 0x1602 | CUS_0xd40 | January | Aaron Maashoh |  23 | 821-00-0265 | Scientist | 19114.12 | 1824.843 | 3 | ⋯ | 809.98 | 26.82262 | 22 Years and 1 Months | No | 49.57495 |  80.41530 | High_spent_Small_value_payments  | 312.4941 | Good     | 265 |\n",
       "| 0x1604 | CUS_0xd40 | March   | Aaron Maashoh | 500 | 821-00-0265 | Scientist | 19114.12 |       NA | 3 | ⋯ | 809.98 | 28.60935 | 22 Years and 3 Months | No | 49.57495 |  81.69952 | Low_spent_Medium_value_payments  | 331.2099 | Good     | 267 |\n",
       "| 0x1605 | CUS_0xd40 | April   | Aaron Maashoh |  23 | 821-00-0265 | Scientist | 19114.12 |       NA | 3 | ⋯ | 809.98 | 31.37786 | 22 Years and 4 Months | No | 49.57495 | 199.45807 | Low_spent_Small_value_payments   | 223.4513 | Good     | 268 |\n",
       "| 0x1607 | CUS_0xd40 | June    | Aaron Maashoh |  23 | 821-00-0265 | Scientist | 19114.12 |       NA | 3 | ⋯ | 809.98 | 27.26226 | 22 Years and 6 Months | No | 49.57495 |  62.43017 | !@9#%8                           | 340.4792 | Good     | 270 |\n",
       "| 0x1608 | CUS_0xd40 | July    | Aaron Maashoh |  23 | 821-00-0265 | Scientist | 19114.12 | 1824.843 | 3 | ⋯ | 809.98 | 22.53759 | 22 Years and 7 Months | No | 49.57495 | 178.34407 | Low_spent_Small_value_payments   | 244.5653 | Good     | 271 |\n",
       "| 0x1609 | CUS_0xd40 | August  | <!----> |  23 | #F%$D@*&amp;8   | Scientist | 19114.12 | 1824.843 | 3 | ⋯ | 809.98 | 23.93379 | NA                    | No | 49.57495 |  24.78522 | High_spent_Medium_value_payments | 358.1242 | Standard |   0 |\n",
       "\n"
      ],
      "text/plain": [
       "  ID     Customer_ID Month   Name          Age SSN         Occupation\n",
       "1 0x1602 CUS_0xd40   January Aaron Maashoh  23 821-00-0265 Scientist \n",
       "2 0x1604 CUS_0xd40   March   Aaron Maashoh 500 821-00-0265 Scientist \n",
       "3 0x1605 CUS_0xd40   April   Aaron Maashoh  23 821-00-0265 Scientist \n",
       "4 0x1607 CUS_0xd40   June    Aaron Maashoh  23 821-00-0265 Scientist \n",
       "5 0x1608 CUS_0xd40   July    Aaron Maashoh  23 821-00-0265 Scientist \n",
       "6 0x1609 CUS_0xd40   August                 23 #F%$D@*&8   Scientist \n",
       "  Annual_Income Monthly_Inhand_Salary Num_Bank_Accounts ⋯ Outstanding_Debt\n",
       "1 19114.12      1824.843              3                 ⋯ 809.98          \n",
       "2 19114.12            NA              3                 ⋯ 809.98          \n",
       "3 19114.12            NA              3                 ⋯ 809.98          \n",
       "4 19114.12            NA              3                 ⋯ 809.98          \n",
       "5 19114.12      1824.843              3                 ⋯ 809.98          \n",
       "6 19114.12      1824.843              3                 ⋯ 809.98          \n",
       "  Credit_Utilization_Ratio Credit_History_Age    Payment_of_Min_Amount\n",
       "1 26.82262                 22 Years and 1 Months No                   \n",
       "2 28.60935                 22 Years and 3 Months No                   \n",
       "3 31.37786                 22 Years and 4 Months No                   \n",
       "4 27.26226                 22 Years and 6 Months No                   \n",
       "5 22.53759                 22 Years and 7 Months No                   \n",
       "6 23.93379                 NA                    No                   \n",
       "  Total_EMI_per_month Amount_invested_monthly Payment_Behaviour               \n",
       "1 49.57495             80.41530               High_spent_Small_value_payments \n",
       "2 49.57495             81.69952               Low_spent_Medium_value_payments \n",
       "3 49.57495            199.45807               Low_spent_Small_value_payments  \n",
       "4 49.57495             62.43017               !@9#%8                          \n",
       "5 49.57495            178.34407               Low_spent_Small_value_payments  \n",
       "6 49.57495             24.78522               High_spent_Medium_value_payments\n",
       "  Monthly_Balance Credit_Score Credit_History_Age_Months\n",
       "1 312.4941        Good         265                      \n",
       "2 331.2099        Good         267                      \n",
       "3 223.4513        Good         268                      \n",
       "4 340.4792        Good         270                      \n",
       "5 244.5653        Good         271                      \n",
       "6 358.1242        Standard       0                      "
      ]
     },
     "metadata": {},
     "output_type": "display_data"
    }
   ],
   "source": [
    "## Might require changes\n",
    "# Select the columns of interest\n",
    "selected_columns_train <- train[, c(\"Num_Bank_Accounts\", \"Interest_Rate\", \"Annual_Income\", \"Num_of_Delayed_Payment\", \"Num_Credit_Inquiries\", \"Total_EMI_per_month\", \"Num_of_Loan\", \"Num_Credit_Card\")]\n",
    "\n",
    "# Calculate the 98th percentile for each column\n",
    "percentile_threshold <- 0.98\n",
    "percentiles <- apply(selected_columns_train, 2, quantile, probs = percentile_threshold, na.rm = TRUE)\n",
    "\n",
    "# Loop through columns and filter out outliers\n",
    "for (column in colnames(selected_columns_train)) {\n",
    "  train <- train[train[[column]] <= percentiles[column], ]\n",
    "}\n",
    "\n",
    "# Print the first few rows of the updated data frame\n",
    "head(train)"
   ]
  },
  {
   "cell_type": "code",
   "execution_count": 107,
   "metadata": {
    "vscode": {
     "languageId": "r"
    }
   },
   "outputs": [
    {
     "name": "stdout",
     "output_type": "stream",
     "text": [
      "                                                                   \n",
      "     ID                   Length:79719         Class :character    \n",
      "Customer_ID               Length:79719         Class :character    \n",
      "   Month                  Length:79719         Class :character    \n",
      "    Name                  Length:79719         Class :character    \n",
      "     Age                  Min.   :  14.0       1st Qu.:  25.0      \n",
      "    SSN                   Length:79719         Class :character    \n",
      " Occupation               Length:79719         Class :character    \n",
      "Annual_Income             Min.   :  7006       1st Qu.: 19302      \n",
      "Monthly_Inhand_Salary     Min.   :  303.6      1st Qu.: 1625.0     \n",
      "Num_Bank_Accounts         Min.   :-1.00        1st Qu.: 3.00       \n",
      "Num_Credit_Card           Min.   :  0.000      1st Qu.:  4.000     \n",
      "Interest_Rate             Min.   :  1.00       1st Qu.:  7.00      \n",
      " Num_of_Loan              Min.   :  0.00       1st Qu.:  2.00      \n",
      "Type_of_Loan              Length:79719         Class :character    \n",
      "Delay_from_due_date       Min.   :-5.00        1st Qu.:10.00       \n",
      "Num_of_Delayed_Payment    Min.   : 0.00        1st Qu.: 9.00       \n",
      "Changed_Credit_Limit      Min.   :-6.49        1st Qu.: 4.98       \n",
      "Num_Credit_Inquiries      Min.   : 0.00        1st Qu.: 3.00       \n",
      " Credit_Mix               Length:79719         Class :character    \n",
      "Outstanding_Debt          Min.   :   0.23      1st Qu.: 565.28     \n",
      "Credit_Utilization_Ratio  Min.   :20.00        1st Qu.:28.04       \n",
      "Credit_History_Age        Length:79719         Class :character    \n",
      "Payment_of_Min_Amount     Length:79719         Class :character    \n",
      "Total_EMI_per_month       Min.   :    0.00     1st Qu.:   29.54    \n",
      "Amount_invested_monthly   Min.   :    0.00     1st Qu.:   67.02    \n",
      "Payment_Behaviour         Length:79719         Class :character    \n",
      "Monthly_Balance           Min.   :-3.333e+26   1st Qu.: 2.680e+02  \n",
      "Credit_Score              Length:79719         Class :character    \n",
      "Credit_History_Age_Months Min.   :  0.0        1st Qu.:115.0       \n",
      "                                                                   \n",
      "     ID                   Mode  :character                         \n",
      "Customer_ID               Mode  :character                         \n",
      "   Month                  Mode  :character                         \n",
      "    Name                  Mode  :character                         \n",
      "     Age                  Median :  34.0       Mean   : 120.7      \n",
      "    SSN                   Mode  :character                         \n",
      " Occupation               Mode  :character                         \n",
      "Annual_Income             Median : 36792       Mean   : 49417      \n",
      "Monthly_Inhand_Salary     Median : 3073.5      Mean   : 4108.1     \n",
      "Num_Bank_Accounts         Median : 6.00        Mean   : 5.37       \n",
      "Num_Credit_Card           Median :  5.000      Mean   :  5.785     \n",
      "Interest_Rate             Median : 13.00       Mean   : 14.55      \n",
      " Num_of_Loan              Median :  3.00       Mean   :  7.29      \n",
      "Type_of_Loan              Mode  :character                         \n",
      "Delay_from_due_date       Median :18.00        Mean   :21.02       \n",
      "Num_of_Delayed_Payment    Median :14.00        Mean   :13.29       \n",
      "Changed_Credit_Limit      Median : 9.28        Mean   :10.19       \n",
      "Num_Credit_Inquiries      Median : 5.00        Mean   : 5.76       \n",
      " Credit_Mix               Mode  :character                         \n",
      "Outstanding_Debt          Median :1161.51      Mean   :1419.17     \n",
      "Credit_Utilization_Ratio  Median :32.27        Mean   :32.26       \n",
      "Credit_History_Age        Mode  :character                         \n",
      "Payment_of_Min_Amount     Mode  :character                         \n",
      "Total_EMI_per_month       Median :   66.73     Mean   :  288.97    \n",
      "Amount_invested_monthly   Median :  127.72     Mean   :  607.55    \n",
      "Payment_Behaviour         Mode  :character                         \n",
      "Monthly_Balance           Median : 3.350e+02   Mean   :-3.763e+22  \n",
      "Credit_Score              Mode  :character                         \n",
      "Credit_History_Age_Months Median :209.0        Mean   :201.5       \n",
      "                                                                   \n",
      "     ID                                                            \n",
      "Customer_ID                                                        \n",
      "   Month                                                           \n",
      "    Name                                                           \n",
      "     Age                  3rd Qu.:  42.0       Max.   :8698.0      \n",
      "    SSN                                                            \n",
      " Occupation                                                        \n",
      "Annual_Income             3rd Qu.: 70897       Max.   :166838      \n",
      "Monthly_Inhand_Salary     3rd Qu.: 5902.3      Max.   :14131.1     \n",
      "Num_Bank_Accounts         3rd Qu.: 7.00        Max.   :10.00       \n",
      "Num_Credit_Card           3rd Qu.:  7.000      Max.   :171.000     \n",
      "Interest_Rate             3rd Qu.: 20.00       Max.   :128.00      \n",
      " Num_of_Loan              3rd Qu.:  6.00       Max.   :100.00      \n",
      "Type_of_Loan                                                       \n",
      "Delay_from_due_date       3rd Qu.:28.00        Max.   :67.00       \n",
      "Num_of_Delayed_Payment    3rd Qu.:18.00        Max.   :25.00       \n",
      "Changed_Credit_Limit      3rd Qu.:14.72        Max.   :36.97       \n",
      "Num_Credit_Inquiries      3rd Qu.: 8.00        Max.   :16.00       \n",
      " Credit_Mix                                                        \n",
      "Outstanding_Debt          3rd Qu.:1933.90      Max.   :4998.07     \n",
      "Credit_Utilization_Ratio  3rd Qu.:36.48        Max.   :48.49       \n",
      "Credit_History_Age                                                 \n",
      "Payment_of_Min_Amount                                              \n",
      "Total_EMI_per_month       3rd Qu.:  149.00     Max.   :29974.00    \n",
      "Amount_invested_monthly   3rd Qu.:  250.87     Max.   :10000.00    \n",
      "Payment_Behaviour                                                  \n",
      "Monthly_Balance           3rd Qu.: 4.640e+02   Max.   : 1.498e+03  \n",
      "Credit_Score                                                       \n",
      "Credit_History_Age_Months 3rd Qu.:292.0        Max.   :404.0       \n",
      "                                         \n",
      "     ID                                  \n",
      "Customer_ID                              \n",
      "   Month                                 \n",
      "    Name                                 \n",
      "     Age                                 \n",
      "    SSN                                  \n",
      " Occupation                              \n",
      "Annual_Income                            \n",
      "Monthly_Inhand_Salary     NA's   :12000  \n",
      "Num_Bank_Accounts                        \n",
      "Num_Credit_Card                          \n",
      "Interest_Rate                            \n",
      " Num_of_Loan                             \n",
      "Type_of_Loan                             \n",
      "Delay_from_due_date                      \n",
      "Num_of_Delayed_Payment                   \n",
      "Changed_Credit_Limit                     \n",
      "Num_Credit_Inquiries                     \n",
      " Credit_Mix                              \n",
      "Outstanding_Debt                         \n",
      "Credit_Utilization_Ratio                 \n",
      "Credit_History_Age                       \n",
      "Payment_of_Min_Amount                    \n",
      "Total_EMI_per_month                      \n",
      "Amount_invested_monthly                  \n",
      "Payment_Behaviour                        \n",
      "Monthly_Balance                          \n",
      "Credit_Score                             \n",
      "Credit_History_Age_Months                \n"
     ]
    }
   ],
   "source": [
    "# Get summary statistics for numeric variables\n",
    "summary_stats <- summary(train)\n",
    "\n",
    "# Transpose the summary statistics\n",
    "summary_stats <- t(summary_stats)\n",
    "\n",
    "# Print the transposed summary statistics\n",
    "print(summary_stats)"
   ]
  },
  {
   "cell_type": "markdown",
   "metadata": {},
   "source": [
    "# Data Filter"
   ]
  },
  {
   "cell_type": "code",
   "execution_count": null,
   "metadata": {
    "vscode": {
     "languageId": "r"
    }
   },
   "outputs": [
    {
     "data": {
      "text/html": [
       "<table class=\"dataframe\">\n",
       "<caption>A data.table: 6 × 29</caption>\n",
       "<thead>\n",
       "\t<tr><th scope=col>ID</th><th scope=col>Customer_ID</th><th scope=col>Month</th><th scope=col>Name</th><th scope=col>Age</th><th scope=col>SSN</th><th scope=col>Occupation</th><th scope=col>Annual_Income</th><th scope=col>Monthly_Inhand_Salary</th><th scope=col>Num_Bank_Accounts</th><th scope=col>⋯</th><th scope=col>Outstanding_Debt</th><th scope=col>Credit_Utilization_Ratio</th><th scope=col>Credit_History_Age</th><th scope=col>Payment_of_Min_Amount</th><th scope=col>Total_EMI_per_month</th><th scope=col>Amount_invested_monthly</th><th scope=col>Payment_Behaviour</th><th scope=col>Monthly_Balance</th><th scope=col>Credit_Score</th><th scope=col>Credit_History_Age_Months</th></tr>\n",
       "\t<tr><th scope=col>&lt;chr&gt;</th><th scope=col>&lt;chr&gt;</th><th scope=col>&lt;chr&gt;</th><th scope=col>&lt;chr&gt;</th><th scope=col>&lt;int&gt;</th><th scope=col>&lt;chr&gt;</th><th scope=col>&lt;chr&gt;</th><th scope=col>&lt;dbl&gt;</th><th scope=col>&lt;dbl&gt;</th><th scope=col>&lt;int&gt;</th><th scope=col>⋯</th><th scope=col>&lt;dbl&gt;</th><th scope=col>&lt;dbl&gt;</th><th scope=col>&lt;chr&gt;</th><th scope=col>&lt;chr&gt;</th><th scope=col>&lt;dbl&gt;</th><th scope=col>&lt;dbl&gt;</th><th scope=col>&lt;chr&gt;</th><th scope=col>&lt;dbl&gt;</th><th scope=col>&lt;chr&gt;</th><th scope=col>&lt;dbl&gt;</th></tr>\n",
       "</thead>\n",
       "<tbody>\n",
       "\t<tr><td>0x1602</td><td>CUS_0xd40 </td><td>January</td><td>Aaron Maashoh  </td><td> 23</td><td>821-00-0265</td><td>Scientist</td><td>19114.12</td><td>1824.843</td><td>3</td><td>⋯</td><td>809.98</td><td>26.82262</td><td>22 Years and 1 Months</td><td>No</td><td>49.57495</td><td> 80.41530</td><td>High_spent_Small_value_payments </td><td>312.4941</td><td>Good    </td><td>265</td></tr>\n",
       "\t<tr><td>0x1604</td><td>CUS_0xd40 </td><td>March  </td><td>Aaron Maashoh  </td><td>500</td><td>821-00-0265</td><td>Scientist</td><td>19114.12</td><td>      NA</td><td>3</td><td>⋯</td><td>809.98</td><td>28.60935</td><td>22 Years and 3 Months</td><td>No</td><td>49.57495</td><td> 81.69952</td><td>Low_spent_Medium_value_payments </td><td>331.2099</td><td>Good    </td><td>267</td></tr>\n",
       "\t<tr><td>0x1605</td><td>CUS_0xd40 </td><td>April  </td><td>Aaron Maashoh  </td><td> 23</td><td>821-00-0265</td><td>Scientist</td><td>19114.12</td><td>      NA</td><td>3</td><td>⋯</td><td>809.98</td><td>31.37786</td><td>22 Years and 4 Months</td><td>No</td><td>49.57495</td><td>199.45807</td><td>Low_spent_Small_value_payments  </td><td>223.4513</td><td>Good    </td><td>268</td></tr>\n",
       "\t<tr><td>0x1608</td><td>CUS_0xd40 </td><td>July   </td><td>Aaron Maashoh  </td><td> 23</td><td>821-00-0265</td><td>Scientist</td><td>19114.12</td><td>1824.843</td><td>3</td><td>⋯</td><td>809.98</td><td>22.53759</td><td>22 Years and 7 Months</td><td>No</td><td>49.57495</td><td>178.34407</td><td>Low_spent_Small_value_payments  </td><td>244.5653</td><td>Good    </td><td>271</td></tr>\n",
       "\t<tr><td>0x1609</td><td>CUS_0xd40 </td><td>August </td><td><span style=white-space:pre-wrap>               </span></td><td> 23</td><td><span style=white-space:pre-wrap>#F%$D@*&amp;8  </span></td><td>Scientist</td><td>19114.12</td><td>1824.843</td><td>3</td><td>⋯</td><td>809.98</td><td>23.93379</td><td><span style=white-space:pre-wrap>NA                   </span></td><td>No</td><td>49.57495</td><td> 24.78522</td><td>High_spent_Medium_value_payments</td><td>358.1242</td><td>Standard</td><td><span style=white-space:pre-wrap>  0</span></td></tr>\n",
       "\t<tr><td>0x160e</td><td>CUS_0x21b1</td><td>January</td><td>Rick Rothackerj</td><td> 28</td><td>004-07-5839</td><td>_______  </td><td>34847.84</td><td>3037.987</td><td>2</td><td>⋯</td><td>605.03</td><td>24.46403</td><td>26 Years and 7 Months</td><td>No</td><td>18.81621</td><td>104.29183</td><td>Low_spent_Small_value_payments  </td><td>470.6906</td><td>Standard</td><td>319</td></tr>\n",
       "</tbody>\n",
       "</table>\n"
      ],
      "text/latex": [
       "A data.table: 6 × 29\n",
       "\\begin{tabular}{lllllllllllllllllllll}\n",
       " ID & Customer\\_ID & Month & Name & Age & SSN & Occupation & Annual\\_Income & Monthly\\_Inhand\\_Salary & Num\\_Bank\\_Accounts & ⋯ & Outstanding\\_Debt & Credit\\_Utilization\\_Ratio & Credit\\_History\\_Age & Payment\\_of\\_Min\\_Amount & Total\\_EMI\\_per\\_month & Amount\\_invested\\_monthly & Payment\\_Behaviour & Monthly\\_Balance & Credit\\_Score & Credit\\_History\\_Age\\_Months\\\\\n",
       " <chr> & <chr> & <chr> & <chr> & <int> & <chr> & <chr> & <dbl> & <dbl> & <int> & ⋯ & <dbl> & <dbl> & <chr> & <chr> & <dbl> & <dbl> & <chr> & <dbl> & <chr> & <dbl>\\\\\n",
       "\\hline\n",
       "\t 0x1602 & CUS\\_0xd40  & January & Aaron Maashoh   &  23 & 821-00-0265 & Scientist & 19114.12 & 1824.843 & 3 & ⋯ & 809.98 & 26.82262 & 22 Years and 1 Months & No & 49.57495 &  80.41530 & High\\_spent\\_Small\\_value\\_payments  & 312.4941 & Good     & 265\\\\\n",
       "\t 0x1604 & CUS\\_0xd40  & March   & Aaron Maashoh   & 500 & 821-00-0265 & Scientist & 19114.12 &       NA & 3 & ⋯ & 809.98 & 28.60935 & 22 Years and 3 Months & No & 49.57495 &  81.69952 & Low\\_spent\\_Medium\\_value\\_payments  & 331.2099 & Good     & 267\\\\\n",
       "\t 0x1605 & CUS\\_0xd40  & April   & Aaron Maashoh   &  23 & 821-00-0265 & Scientist & 19114.12 &       NA & 3 & ⋯ & 809.98 & 31.37786 & 22 Years and 4 Months & No & 49.57495 & 199.45807 & Low\\_spent\\_Small\\_value\\_payments   & 223.4513 & Good     & 268\\\\\n",
       "\t 0x1608 & CUS\\_0xd40  & July    & Aaron Maashoh   &  23 & 821-00-0265 & Scientist & 19114.12 & 1824.843 & 3 & ⋯ & 809.98 & 22.53759 & 22 Years and 7 Months & No & 49.57495 & 178.34407 & Low\\_spent\\_Small\\_value\\_payments   & 244.5653 & Good     & 271\\\\\n",
       "\t 0x1609 & CUS\\_0xd40  & August  &                 &  23 & \\#F\\%\\$D@*\\&8   & Scientist & 19114.12 & 1824.843 & 3 & ⋯ & 809.98 & 23.93379 & NA                    & No & 49.57495 &  24.78522 & High\\_spent\\_Medium\\_value\\_payments & 358.1242 & Standard &   0\\\\\n",
       "\t 0x160e & CUS\\_0x21b1 & January & Rick Rothackerj &  28 & 004-07-5839 & \\_\\_\\_\\_\\_\\_\\_   & 34847.84 & 3037.987 & 2 & ⋯ & 605.03 & 24.46403 & 26 Years and 7 Months & No & 18.81621 & 104.29183 & Low\\_spent\\_Small\\_value\\_payments   & 470.6906 & Standard & 319\\\\\n",
       "\\end{tabular}\n"
      ],
      "text/markdown": [
       "\n",
       "A data.table: 6 × 29\n",
       "\n",
       "| ID &lt;chr&gt; | Customer_ID &lt;chr&gt; | Month &lt;chr&gt; | Name &lt;chr&gt; | Age &lt;int&gt; | SSN &lt;chr&gt; | Occupation &lt;chr&gt; | Annual_Income &lt;dbl&gt; | Monthly_Inhand_Salary &lt;dbl&gt; | Num_Bank_Accounts &lt;int&gt; | ⋯ ⋯ | Outstanding_Debt &lt;dbl&gt; | Credit_Utilization_Ratio &lt;dbl&gt; | Credit_History_Age &lt;chr&gt; | Payment_of_Min_Amount &lt;chr&gt; | Total_EMI_per_month &lt;dbl&gt; | Amount_invested_monthly &lt;dbl&gt; | Payment_Behaviour &lt;chr&gt; | Monthly_Balance &lt;dbl&gt; | Credit_Score &lt;chr&gt; | Credit_History_Age_Months &lt;dbl&gt; |\n",
       "|---|---|---|---|---|---|---|---|---|---|---|---|---|---|---|---|---|---|---|---|---|\n",
       "| 0x1602 | CUS_0xd40  | January | Aaron Maashoh   |  23 | 821-00-0265 | Scientist | 19114.12 | 1824.843 | 3 | ⋯ | 809.98 | 26.82262 | 22 Years and 1 Months | No | 49.57495 |  80.41530 | High_spent_Small_value_payments  | 312.4941 | Good     | 265 |\n",
       "| 0x1604 | CUS_0xd40  | March   | Aaron Maashoh   | 500 | 821-00-0265 | Scientist | 19114.12 |       NA | 3 | ⋯ | 809.98 | 28.60935 | 22 Years and 3 Months | No | 49.57495 |  81.69952 | Low_spent_Medium_value_payments  | 331.2099 | Good     | 267 |\n",
       "| 0x1605 | CUS_0xd40  | April   | Aaron Maashoh   |  23 | 821-00-0265 | Scientist | 19114.12 |       NA | 3 | ⋯ | 809.98 | 31.37786 | 22 Years and 4 Months | No | 49.57495 | 199.45807 | Low_spent_Small_value_payments   | 223.4513 | Good     | 268 |\n",
       "| 0x1608 | CUS_0xd40  | July    | Aaron Maashoh   |  23 | 821-00-0265 | Scientist | 19114.12 | 1824.843 | 3 | ⋯ | 809.98 | 22.53759 | 22 Years and 7 Months | No | 49.57495 | 178.34407 | Low_spent_Small_value_payments   | 244.5653 | Good     | 271 |\n",
       "| 0x1609 | CUS_0xd40  | August  | <!----> |  23 | #F%$D@*&amp;8   | Scientist | 19114.12 | 1824.843 | 3 | ⋯ | 809.98 | 23.93379 | NA                    | No | 49.57495 |  24.78522 | High_spent_Medium_value_payments | 358.1242 | Standard |   0 |\n",
       "| 0x160e | CUS_0x21b1 | January | Rick Rothackerj |  28 | 004-07-5839 | _______   | 34847.84 | 3037.987 | 2 | ⋯ | 605.03 | 24.46403 | 26 Years and 7 Months | No | 18.81621 | 104.29183 | Low_spent_Small_value_payments   | 470.6906 | Standard | 319 |\n",
       "\n"
      ],
      "text/plain": [
       "  ID     Customer_ID Month   Name            Age SSN         Occupation\n",
       "1 0x1602 CUS_0xd40   January Aaron Maashoh    23 821-00-0265 Scientist \n",
       "2 0x1604 CUS_0xd40   March   Aaron Maashoh   500 821-00-0265 Scientist \n",
       "3 0x1605 CUS_0xd40   April   Aaron Maashoh    23 821-00-0265 Scientist \n",
       "4 0x1608 CUS_0xd40   July    Aaron Maashoh    23 821-00-0265 Scientist \n",
       "5 0x1609 CUS_0xd40   August                   23 #F%$D@*&8   Scientist \n",
       "6 0x160e CUS_0x21b1  January Rick Rothackerj  28 004-07-5839 _______   \n",
       "  Annual_Income Monthly_Inhand_Salary Num_Bank_Accounts ⋯ Outstanding_Debt\n",
       "1 19114.12      1824.843              3                 ⋯ 809.98          \n",
       "2 19114.12            NA              3                 ⋯ 809.98          \n",
       "3 19114.12            NA              3                 ⋯ 809.98          \n",
       "4 19114.12      1824.843              3                 ⋯ 809.98          \n",
       "5 19114.12      1824.843              3                 ⋯ 809.98          \n",
       "6 34847.84      3037.987              2                 ⋯ 605.03          \n",
       "  Credit_Utilization_Ratio Credit_History_Age    Payment_of_Min_Amount\n",
       "1 26.82262                 22 Years and 1 Months No                   \n",
       "2 28.60935                 22 Years and 3 Months No                   \n",
       "3 31.37786                 22 Years and 4 Months No                   \n",
       "4 22.53759                 22 Years and 7 Months No                   \n",
       "5 23.93379                 NA                    No                   \n",
       "6 24.46403                 26 Years and 7 Months No                   \n",
       "  Total_EMI_per_month Amount_invested_monthly Payment_Behaviour               \n",
       "1 49.57495             80.41530               High_spent_Small_value_payments \n",
       "2 49.57495             81.69952               Low_spent_Medium_value_payments \n",
       "3 49.57495            199.45807               Low_spent_Small_value_payments  \n",
       "4 49.57495            178.34407               Low_spent_Small_value_payments  \n",
       "5 49.57495             24.78522               High_spent_Medium_value_payments\n",
       "6 18.81621            104.29183               Low_spent_Small_value_payments  \n",
       "  Monthly_Balance Credit_Score Credit_History_Age_Months\n",
       "1 312.4941        Good         265                      \n",
       "2 331.2099        Good         267                      \n",
       "3 223.4513        Good         268                      \n",
       "4 244.5653        Good         271                      \n",
       "5 358.1242        Standard       0                      \n",
       "6 470.6906        Standard     319                      "
      ]
     },
     "metadata": {},
     "output_type": "display_data"
    }
   ],
   "source": [
    "# Filter rows where 'Payment_Behaviour' column is not equal to '!@9#%8'\n",
    "    train <- train[Payment_Behaviour != '!@9#%8']\n",
    "\n",
    "# Print the first few rows of the updated data frame\n",
    "head(train)"
   ]
  },
  {
   "cell_type": "code",
   "execution_count": 109,
   "metadata": {
    "vscode": {
     "languageId": "r"
    }
   },
   "outputs": [
    {
     "name": "stdout",
     "output_type": "stream",
     "text": [
      " [1] \"Scientist\"     \"Teacher\"       \"Engineer\"      \"Entrepreneur\" \n",
      " [5] \"Developer\"     \"Lawyer\"        \"Media_Manager\" \"Doctor\"       \n",
      " [9] \"Journalist\"    \"Manager\"       \"Accountant\"    \"Musician\"     \n",
      "[13] \"Mechanic\"      \"Writer\"        \"Architect\"    \n"
     ]
    }
   ],
   "source": [
    "# Filter rows where 'Occupation' column is not equal to '_______'\n",
    "train <- train[Occupation != '_______']\n",
    "\n",
    "# Print the unique values of 'Occupation' column\n",
    "unique_occupations <- unique(train$Occupation)\n",
    "print(unique_occupations)"
   ]
  },
  {
   "cell_type": "code",
   "execution_count": 110,
   "metadata": {
    "vscode": {
     "languageId": "r"
    }
   },
   "outputs": [
    {
     "name": "stdout",
     "output_type": "stream",
     "text": [
      "[1] \"Good\"     \"Standard\" \"Bad\"     \n"
     ]
    }
   ],
   "source": [
    "\n",
    "# Drop rows where 'Credit_Mix' column is equal to '_'\n",
    "train <- train[Credit_Mix != '_']\n",
    "\n",
    "# Print the unique values of 'Credit_Mix' column\n",
    "unique_credit_mix <- unique(train$Credit_Mix)\n",
    "print(unique_credit_mix)"
   ]
  },
  {
   "cell_type": "code",
   "execution_count": 111,
   "metadata": {
    "vscode": {
     "languageId": "r"
    }
   },
   "outputs": [
    {
     "data": {
      "text/html": [
       "<table class=\"dataframe\">\n",
       "<caption>A data.table: 6 × 29</caption>\n",
       "<thead>\n",
       "\t<tr><th scope=col>ID</th><th scope=col>Customer_ID</th><th scope=col>Month</th><th scope=col>Name</th><th scope=col>Age</th><th scope=col>SSN</th><th scope=col>Occupation</th><th scope=col>Annual_Income</th><th scope=col>Monthly_Inhand_Salary</th><th scope=col>Num_Bank_Accounts</th><th scope=col>⋯</th><th scope=col>Outstanding_Debt</th><th scope=col>Credit_Utilization_Ratio</th><th scope=col>Credit_History_Age</th><th scope=col>Payment_of_Min_Amount</th><th scope=col>Total_EMI_per_month</th><th scope=col>Amount_invested_monthly</th><th scope=col>Payment_Behaviour</th><th scope=col>Monthly_Balance</th><th scope=col>Credit_Score</th><th scope=col>Credit_History_Age_Months</th></tr>\n",
       "\t<tr><th scope=col>&lt;chr&gt;</th><th scope=col>&lt;chr&gt;</th><th scope=col>&lt;chr&gt;</th><th scope=col>&lt;chr&gt;</th><th scope=col>&lt;int&gt;</th><th scope=col>&lt;chr&gt;</th><th scope=col>&lt;chr&gt;</th><th scope=col>&lt;dbl&gt;</th><th scope=col>&lt;dbl&gt;</th><th scope=col>&lt;int&gt;</th><th scope=col>⋯</th><th scope=col>&lt;dbl&gt;</th><th scope=col>&lt;dbl&gt;</th><th scope=col>&lt;chr&gt;</th><th scope=col>&lt;chr&gt;</th><th scope=col>&lt;dbl&gt;</th><th scope=col>&lt;dbl&gt;</th><th scope=col>&lt;chr&gt;</th><th scope=col>&lt;dbl&gt;</th><th scope=col>&lt;chr&gt;</th><th scope=col>&lt;dbl&gt;</th></tr>\n",
       "</thead>\n",
       "<tbody>\n",
       "\t<tr><td>0x1604</td><td>CUS_0xd40 </td><td>March   </td><td>Aaron Maashoh  </td><td>500</td><td>821-00-0265</td><td>Scientist</td><td>19114.12</td><td>      NA</td><td>3</td><td>⋯</td><td>809.98</td><td>28.60935</td><td>22 Years and 3 Months </td><td>No</td><td>49.57495</td><td> 81.69952</td><td>Low_spent_Medium_value_payments </td><td>331.2099</td><td>Good    </td><td>267</td></tr>\n",
       "\t<tr><td>0x1605</td><td>CUS_0xd40 </td><td>April   </td><td>Aaron Maashoh  </td><td> 23</td><td>821-00-0265</td><td>Scientist</td><td>19114.12</td><td>      NA</td><td>3</td><td>⋯</td><td>809.98</td><td>31.37786</td><td>22 Years and 4 Months </td><td>No</td><td>49.57495</td><td>199.45807</td><td>Low_spent_Small_value_payments  </td><td>223.4513</td><td>Good    </td><td>268</td></tr>\n",
       "\t<tr><td>0x1608</td><td>CUS_0xd40 </td><td>July    </td><td>Aaron Maashoh  </td><td> 23</td><td>821-00-0265</td><td>Scientist</td><td>19114.12</td><td>1824.843</td><td>3</td><td>⋯</td><td>809.98</td><td>22.53759</td><td>22 Years and 7 Months </td><td>No</td><td>49.57495</td><td>178.34407</td><td>Low_spent_Small_value_payments  </td><td>244.5653</td><td>Good    </td><td>271</td></tr>\n",
       "\t<tr><td>0x1609</td><td>CUS_0xd40 </td><td><span style=white-space:pre-wrap>August  </span></td><td><span style=white-space:pre-wrap>               </span></td><td> 23</td><td><span style=white-space:pre-wrap>#F%$D@*&amp;8  </span></td><td>Scientist</td><td>19114.12</td><td>1824.843</td><td>3</td><td>⋯</td><td>809.98</td><td>23.93379</td><td><span style=white-space:pre-wrap>NA                    </span></td><td>No</td><td>49.57495</td><td> 24.78522</td><td>High_spent_Medium_value_payments</td><td>358.1242</td><td>Standard</td><td><span style=white-space:pre-wrap>  0</span></td></tr>\n",
       "\t<tr><td>0x160f</td><td>CUS_0x21b1</td><td>February</td><td>Rick Rothackerj</td><td> 28</td><td>004-07-5839</td><td>Teacher  </td><td>34847.84</td><td>3037.987</td><td>2</td><td>⋯</td><td>605.03</td><td>38.55085</td><td>26 Years and 8 Months </td><td>No</td><td>18.81621</td><td> 40.39124</td><td>High_spent_Large_value_payments </td><td>484.5912</td><td>Good    </td><td>320</td></tr>\n",
       "\t<tr><td>0x1611</td><td>CUS_0x21b1</td><td>April   </td><td>Rick Rothackerj</td><td> 28</td><td>004-07-5839</td><td>Teacher  </td><td>34847.84</td><td>      NA</td><td>2</td><td>⋯</td><td>605.03</td><td>39.18266</td><td>26 Years and 10 Months</td><td>No</td><td>18.81621</td><td> 99.30623</td><td>Low_spent_Medium_value_payments </td><td>465.6762</td><td>Good    </td><td>322</td></tr>\n",
       "</tbody>\n",
       "</table>\n"
      ],
      "text/latex": [
       "A data.table: 6 × 29\n",
       "\\begin{tabular}{lllllllllllllllllllll}\n",
       " ID & Customer\\_ID & Month & Name & Age & SSN & Occupation & Annual\\_Income & Monthly\\_Inhand\\_Salary & Num\\_Bank\\_Accounts & ⋯ & Outstanding\\_Debt & Credit\\_Utilization\\_Ratio & Credit\\_History\\_Age & Payment\\_of\\_Min\\_Amount & Total\\_EMI\\_per\\_month & Amount\\_invested\\_monthly & Payment\\_Behaviour & Monthly\\_Balance & Credit\\_Score & Credit\\_History\\_Age\\_Months\\\\\n",
       " <chr> & <chr> & <chr> & <chr> & <int> & <chr> & <chr> & <dbl> & <dbl> & <int> & ⋯ & <dbl> & <dbl> & <chr> & <chr> & <dbl> & <dbl> & <chr> & <dbl> & <chr> & <dbl>\\\\\n",
       "\\hline\n",
       "\t 0x1604 & CUS\\_0xd40  & March    & Aaron Maashoh   & 500 & 821-00-0265 & Scientist & 19114.12 &       NA & 3 & ⋯ & 809.98 & 28.60935 & 22 Years and 3 Months  & No & 49.57495 &  81.69952 & Low\\_spent\\_Medium\\_value\\_payments  & 331.2099 & Good     & 267\\\\\n",
       "\t 0x1605 & CUS\\_0xd40  & April    & Aaron Maashoh   &  23 & 821-00-0265 & Scientist & 19114.12 &       NA & 3 & ⋯ & 809.98 & 31.37786 & 22 Years and 4 Months  & No & 49.57495 & 199.45807 & Low\\_spent\\_Small\\_value\\_payments   & 223.4513 & Good     & 268\\\\\n",
       "\t 0x1608 & CUS\\_0xd40  & July     & Aaron Maashoh   &  23 & 821-00-0265 & Scientist & 19114.12 & 1824.843 & 3 & ⋯ & 809.98 & 22.53759 & 22 Years and 7 Months  & No & 49.57495 & 178.34407 & Low\\_spent\\_Small\\_value\\_payments   & 244.5653 & Good     & 271\\\\\n",
       "\t 0x1609 & CUS\\_0xd40  & August   &                 &  23 & \\#F\\%\\$D@*\\&8   & Scientist & 19114.12 & 1824.843 & 3 & ⋯ & 809.98 & 23.93379 & NA                     & No & 49.57495 &  24.78522 & High\\_spent\\_Medium\\_value\\_payments & 358.1242 & Standard &   0\\\\\n",
       "\t 0x160f & CUS\\_0x21b1 & February & Rick Rothackerj &  28 & 004-07-5839 & Teacher   & 34847.84 & 3037.987 & 2 & ⋯ & 605.03 & 38.55085 & 26 Years and 8 Months  & No & 18.81621 &  40.39124 & High\\_spent\\_Large\\_value\\_payments  & 484.5912 & Good     & 320\\\\\n",
       "\t 0x1611 & CUS\\_0x21b1 & April    & Rick Rothackerj &  28 & 004-07-5839 & Teacher   & 34847.84 &       NA & 2 & ⋯ & 605.03 & 39.18266 & 26 Years and 10 Months & No & 18.81621 &  99.30623 & Low\\_spent\\_Medium\\_value\\_payments  & 465.6762 & Good     & 322\\\\\n",
       "\\end{tabular}\n"
      ],
      "text/markdown": [
       "\n",
       "A data.table: 6 × 29\n",
       "\n",
       "| ID &lt;chr&gt; | Customer_ID &lt;chr&gt; | Month &lt;chr&gt; | Name &lt;chr&gt; | Age &lt;int&gt; | SSN &lt;chr&gt; | Occupation &lt;chr&gt; | Annual_Income &lt;dbl&gt; | Monthly_Inhand_Salary &lt;dbl&gt; | Num_Bank_Accounts &lt;int&gt; | ⋯ ⋯ | Outstanding_Debt &lt;dbl&gt; | Credit_Utilization_Ratio &lt;dbl&gt; | Credit_History_Age &lt;chr&gt; | Payment_of_Min_Amount &lt;chr&gt; | Total_EMI_per_month &lt;dbl&gt; | Amount_invested_monthly &lt;dbl&gt; | Payment_Behaviour &lt;chr&gt; | Monthly_Balance &lt;dbl&gt; | Credit_Score &lt;chr&gt; | Credit_History_Age_Months &lt;dbl&gt; |\n",
       "|---|---|---|---|---|---|---|---|---|---|---|---|---|---|---|---|---|---|---|---|---|\n",
       "| 0x1604 | CUS_0xd40  | March    | Aaron Maashoh   | 500 | 821-00-0265 | Scientist | 19114.12 |       NA | 3 | ⋯ | 809.98 | 28.60935 | 22 Years and 3 Months  | No | 49.57495 |  81.69952 | Low_spent_Medium_value_payments  | 331.2099 | Good     | 267 |\n",
       "| 0x1605 | CUS_0xd40  | April    | Aaron Maashoh   |  23 | 821-00-0265 | Scientist | 19114.12 |       NA | 3 | ⋯ | 809.98 | 31.37786 | 22 Years and 4 Months  | No | 49.57495 | 199.45807 | Low_spent_Small_value_payments   | 223.4513 | Good     | 268 |\n",
       "| 0x1608 | CUS_0xd40  | July     | Aaron Maashoh   |  23 | 821-00-0265 | Scientist | 19114.12 | 1824.843 | 3 | ⋯ | 809.98 | 22.53759 | 22 Years and 7 Months  | No | 49.57495 | 178.34407 | Low_spent_Small_value_payments   | 244.5653 | Good     | 271 |\n",
       "| 0x1609 | CUS_0xd40  | August   | <!----> |  23 | #F%$D@*&amp;8   | Scientist | 19114.12 | 1824.843 | 3 | ⋯ | 809.98 | 23.93379 | NA                     | No | 49.57495 |  24.78522 | High_spent_Medium_value_payments | 358.1242 | Standard |   0 |\n",
       "| 0x160f | CUS_0x21b1 | February | Rick Rothackerj |  28 | 004-07-5839 | Teacher   | 34847.84 | 3037.987 | 2 | ⋯ | 605.03 | 38.55085 | 26 Years and 8 Months  | No | 18.81621 |  40.39124 | High_spent_Large_value_payments  | 484.5912 | Good     | 320 |\n",
       "| 0x1611 | CUS_0x21b1 | April    | Rick Rothackerj |  28 | 004-07-5839 | Teacher   | 34847.84 |       NA | 2 | ⋯ | 605.03 | 39.18266 | 26 Years and 10 Months | No | 18.81621 |  99.30623 | Low_spent_Medium_value_payments  | 465.6762 | Good     | 322 |\n",
       "\n"
      ],
      "text/plain": [
       "  ID     Customer_ID Month    Name            Age SSN         Occupation\n",
       "1 0x1604 CUS_0xd40   March    Aaron Maashoh   500 821-00-0265 Scientist \n",
       "2 0x1605 CUS_0xd40   April    Aaron Maashoh    23 821-00-0265 Scientist \n",
       "3 0x1608 CUS_0xd40   July     Aaron Maashoh    23 821-00-0265 Scientist \n",
       "4 0x1609 CUS_0xd40   August                    23 #F%$D@*&8   Scientist \n",
       "5 0x160f CUS_0x21b1  February Rick Rothackerj  28 004-07-5839 Teacher   \n",
       "6 0x1611 CUS_0x21b1  April    Rick Rothackerj  28 004-07-5839 Teacher   \n",
       "  Annual_Income Monthly_Inhand_Salary Num_Bank_Accounts ⋯ Outstanding_Debt\n",
       "1 19114.12            NA              3                 ⋯ 809.98          \n",
       "2 19114.12            NA              3                 ⋯ 809.98          \n",
       "3 19114.12      1824.843              3                 ⋯ 809.98          \n",
       "4 19114.12      1824.843              3                 ⋯ 809.98          \n",
       "5 34847.84      3037.987              2                 ⋯ 605.03          \n",
       "6 34847.84            NA              2                 ⋯ 605.03          \n",
       "  Credit_Utilization_Ratio Credit_History_Age     Payment_of_Min_Amount\n",
       "1 28.60935                 22 Years and 3 Months  No                   \n",
       "2 31.37786                 22 Years and 4 Months  No                   \n",
       "3 22.53759                 22 Years and 7 Months  No                   \n",
       "4 23.93379                 NA                     No                   \n",
       "5 38.55085                 26 Years and 8 Months  No                   \n",
       "6 39.18266                 26 Years and 10 Months No                   \n",
       "  Total_EMI_per_month Amount_invested_monthly Payment_Behaviour               \n",
       "1 49.57495             81.69952               Low_spent_Medium_value_payments \n",
       "2 49.57495            199.45807               Low_spent_Small_value_payments  \n",
       "3 49.57495            178.34407               Low_spent_Small_value_payments  \n",
       "4 49.57495             24.78522               High_spent_Medium_value_payments\n",
       "5 18.81621             40.39124               High_spent_Large_value_payments \n",
       "6 18.81621             99.30623               Low_spent_Medium_value_payments \n",
       "  Monthly_Balance Credit_Score Credit_History_Age_Months\n",
       "1 331.2099        Good         267                      \n",
       "2 223.4513        Good         268                      \n",
       "3 244.5653        Good         271                      \n",
       "4 358.1242        Standard       0                      \n",
       "5 484.5912        Good         320                      \n",
       "6 465.6762        Good         322                      "
      ]
     },
     "metadata": {},
     "output_type": "display_data"
    }
   ],
   "source": [
    "# Define selected columns\n",
    "selected_columns <- c('Delay_from_due_date', 'Changed_Credit_Limit', 'Num_Bank_Accounts')\n",
    "\n",
    "# Loop through selected columns and filter rows\n",
    "for (column in selected_columns) {\n",
    "  train <- train[train[[column]] >= 0]\n",
    "}\n",
    "\n",
    "# Print the first few rows of the updated data frame\n",
    "head(train)"
   ]
  },
  {
   "cell_type": "markdown",
   "metadata": {},
   "source": [
    "# Drop COls"
   ]
  },
  {
   "cell_type": "code",
   "execution_count": 112,
   "metadata": {
    "vscode": {
     "languageId": "r"
    }
   },
   "outputs": [
    {
     "data": {
      "text/html": [
       "<table class=\"dataframe\">\n",
       "<caption>A data.table: 6 × 21</caption>\n",
       "<thead>\n",
       "\t<tr><th scope=col>Age</th><th scope=col>Occupation</th><th scope=col>Annual_Income</th><th scope=col>Num_Bank_Accounts</th><th scope=col>Num_Credit_Card</th><th scope=col>Interest_Rate</th><th scope=col>Num_of_Loan</th><th scope=col>Delay_from_due_date</th><th scope=col>Num_of_Delayed_Payment</th><th scope=col>Changed_Credit_Limit</th><th scope=col>⋯</th><th scope=col>Credit_Mix</th><th scope=col>Outstanding_Debt</th><th scope=col>Credit_Utilization_Ratio</th><th scope=col>Payment_of_Min_Amount</th><th scope=col>Total_EMI_per_month</th><th scope=col>Amount_invested_monthly</th><th scope=col>Payment_Behaviour</th><th scope=col>Monthly_Balance</th><th scope=col>Credit_Score</th><th scope=col>Credit_History_Age_Months</th></tr>\n",
       "\t<tr><th scope=col>&lt;int&gt;</th><th scope=col>&lt;chr&gt;</th><th scope=col>&lt;dbl&gt;</th><th scope=col>&lt;int&gt;</th><th scope=col>&lt;int&gt;</th><th scope=col>&lt;int&gt;</th><th scope=col>&lt;int&gt;</th><th scope=col>&lt;int&gt;</th><th scope=col>&lt;int&gt;</th><th scope=col>&lt;dbl&gt;</th><th scope=col>⋯</th><th scope=col>&lt;chr&gt;</th><th scope=col>&lt;dbl&gt;</th><th scope=col>&lt;dbl&gt;</th><th scope=col>&lt;chr&gt;</th><th scope=col>&lt;dbl&gt;</th><th scope=col>&lt;dbl&gt;</th><th scope=col>&lt;chr&gt;</th><th scope=col>&lt;dbl&gt;</th><th scope=col>&lt;chr&gt;</th><th scope=col>&lt;dbl&gt;</th></tr>\n",
       "</thead>\n",
       "<tbody>\n",
       "\t<tr><td>500</td><td>Scientist</td><td>19114.12</td><td>3</td><td>4</td><td>3</td><td>4</td><td>3</td><td>7</td><td> 0.00</td><td>⋯</td><td>Good</td><td>809.98</td><td>28.60935</td><td>No</td><td>49.57495</td><td> 81.69952</td><td>Low_spent_Medium_value_payments </td><td>331.2099</td><td>Good    </td><td>267</td></tr>\n",
       "\t<tr><td> 23</td><td>Scientist</td><td>19114.12</td><td>3</td><td>4</td><td>3</td><td>4</td><td>5</td><td>4</td><td> 6.27</td><td>⋯</td><td>Good</td><td>809.98</td><td>31.37786</td><td>No</td><td>49.57495</td><td>199.45807</td><td>Low_spent_Small_value_payments  </td><td>223.4513</td><td>Good    </td><td>268</td></tr>\n",
       "\t<tr><td> 23</td><td>Scientist</td><td>19114.12</td><td>3</td><td>4</td><td>3</td><td>4</td><td>3</td><td>8</td><td>11.27</td><td>⋯</td><td>Good</td><td>809.98</td><td>22.53759</td><td>No</td><td>49.57495</td><td>178.34407</td><td>Low_spent_Small_value_payments  </td><td>244.5653</td><td>Good    </td><td>271</td></tr>\n",
       "\t<tr><td> 23</td><td>Scientist</td><td>19114.12</td><td>3</td><td>4</td><td>3</td><td>4</td><td>3</td><td>6</td><td>11.27</td><td>⋯</td><td>Good</td><td>809.98</td><td>23.93379</td><td>No</td><td>49.57495</td><td> 24.78522</td><td>High_spent_Medium_value_payments</td><td>358.1242</td><td>Standard</td><td>  0</td></tr>\n",
       "\t<tr><td> 28</td><td>Teacher  </td><td>34847.84</td><td>2</td><td>4</td><td>6</td><td>1</td><td>7</td><td>1</td><td> 7.42</td><td>⋯</td><td>Good</td><td>605.03</td><td>38.55085</td><td>No</td><td>18.81621</td><td> 40.39124</td><td>High_spent_Large_value_payments </td><td>484.5912</td><td>Good    </td><td>320</td></tr>\n",
       "\t<tr><td> 28</td><td>Teacher  </td><td>34847.84</td><td>2</td><td>4</td><td>6</td><td>1</td><td>3</td><td>3</td><td> 5.42</td><td>⋯</td><td>Good</td><td>605.03</td><td>39.18266</td><td>No</td><td>18.81621</td><td> 99.30623</td><td>Low_spent_Medium_value_payments </td><td>465.6762</td><td>Good    </td><td>322</td></tr>\n",
       "</tbody>\n",
       "</table>\n"
      ],
      "text/latex": [
       "A data.table: 6 × 21\n",
       "\\begin{tabular}{lllllllllllllllllllll}\n",
       " Age & Occupation & Annual\\_Income & Num\\_Bank\\_Accounts & Num\\_Credit\\_Card & Interest\\_Rate & Num\\_of\\_Loan & Delay\\_from\\_due\\_date & Num\\_of\\_Delayed\\_Payment & Changed\\_Credit\\_Limit & ⋯ & Credit\\_Mix & Outstanding\\_Debt & Credit\\_Utilization\\_Ratio & Payment\\_of\\_Min\\_Amount & Total\\_EMI\\_per\\_month & Amount\\_invested\\_monthly & Payment\\_Behaviour & Monthly\\_Balance & Credit\\_Score & Credit\\_History\\_Age\\_Months\\\\\n",
       " <int> & <chr> & <dbl> & <int> & <int> & <int> & <int> & <int> & <int> & <dbl> & ⋯ & <chr> & <dbl> & <dbl> & <chr> & <dbl> & <dbl> & <chr> & <dbl> & <chr> & <dbl>\\\\\n",
       "\\hline\n",
       "\t 500 & Scientist & 19114.12 & 3 & 4 & 3 & 4 & 3 & 7 &  0.00 & ⋯ & Good & 809.98 & 28.60935 & No & 49.57495 &  81.69952 & Low\\_spent\\_Medium\\_value\\_payments  & 331.2099 & Good     & 267\\\\\n",
       "\t  23 & Scientist & 19114.12 & 3 & 4 & 3 & 4 & 5 & 4 &  6.27 & ⋯ & Good & 809.98 & 31.37786 & No & 49.57495 & 199.45807 & Low\\_spent\\_Small\\_value\\_payments   & 223.4513 & Good     & 268\\\\\n",
       "\t  23 & Scientist & 19114.12 & 3 & 4 & 3 & 4 & 3 & 8 & 11.27 & ⋯ & Good & 809.98 & 22.53759 & No & 49.57495 & 178.34407 & Low\\_spent\\_Small\\_value\\_payments   & 244.5653 & Good     & 271\\\\\n",
       "\t  23 & Scientist & 19114.12 & 3 & 4 & 3 & 4 & 3 & 6 & 11.27 & ⋯ & Good & 809.98 & 23.93379 & No & 49.57495 &  24.78522 & High\\_spent\\_Medium\\_value\\_payments & 358.1242 & Standard &   0\\\\\n",
       "\t  28 & Teacher   & 34847.84 & 2 & 4 & 6 & 1 & 7 & 1 &  7.42 & ⋯ & Good & 605.03 & 38.55085 & No & 18.81621 &  40.39124 & High\\_spent\\_Large\\_value\\_payments  & 484.5912 & Good     & 320\\\\\n",
       "\t  28 & Teacher   & 34847.84 & 2 & 4 & 6 & 1 & 3 & 3 &  5.42 & ⋯ & Good & 605.03 & 39.18266 & No & 18.81621 &  99.30623 & Low\\_spent\\_Medium\\_value\\_payments  & 465.6762 & Good     & 322\\\\\n",
       "\\end{tabular}\n"
      ],
      "text/markdown": [
       "\n",
       "A data.table: 6 × 21\n",
       "\n",
       "| Age &lt;int&gt; | Occupation &lt;chr&gt; | Annual_Income &lt;dbl&gt; | Num_Bank_Accounts &lt;int&gt; | Num_Credit_Card &lt;int&gt; | Interest_Rate &lt;int&gt; | Num_of_Loan &lt;int&gt; | Delay_from_due_date &lt;int&gt; | Num_of_Delayed_Payment &lt;int&gt; | Changed_Credit_Limit &lt;dbl&gt; | ⋯ ⋯ | Credit_Mix &lt;chr&gt; | Outstanding_Debt &lt;dbl&gt; | Credit_Utilization_Ratio &lt;dbl&gt; | Payment_of_Min_Amount &lt;chr&gt; | Total_EMI_per_month &lt;dbl&gt; | Amount_invested_monthly &lt;dbl&gt; | Payment_Behaviour &lt;chr&gt; | Monthly_Balance &lt;dbl&gt; | Credit_Score &lt;chr&gt; | Credit_History_Age_Months &lt;dbl&gt; |\n",
       "|---|---|---|---|---|---|---|---|---|---|---|---|---|---|---|---|---|---|---|---|---|\n",
       "| 500 | Scientist | 19114.12 | 3 | 4 | 3 | 4 | 3 | 7 |  0.00 | ⋯ | Good | 809.98 | 28.60935 | No | 49.57495 |  81.69952 | Low_spent_Medium_value_payments  | 331.2099 | Good     | 267 |\n",
       "|  23 | Scientist | 19114.12 | 3 | 4 | 3 | 4 | 5 | 4 |  6.27 | ⋯ | Good | 809.98 | 31.37786 | No | 49.57495 | 199.45807 | Low_spent_Small_value_payments   | 223.4513 | Good     | 268 |\n",
       "|  23 | Scientist | 19114.12 | 3 | 4 | 3 | 4 | 3 | 8 | 11.27 | ⋯ | Good | 809.98 | 22.53759 | No | 49.57495 | 178.34407 | Low_spent_Small_value_payments   | 244.5653 | Good     | 271 |\n",
       "|  23 | Scientist | 19114.12 | 3 | 4 | 3 | 4 | 3 | 6 | 11.27 | ⋯ | Good | 809.98 | 23.93379 | No | 49.57495 |  24.78522 | High_spent_Medium_value_payments | 358.1242 | Standard |   0 |\n",
       "|  28 | Teacher   | 34847.84 | 2 | 4 | 6 | 1 | 7 | 1 |  7.42 | ⋯ | Good | 605.03 | 38.55085 | No | 18.81621 |  40.39124 | High_spent_Large_value_payments  | 484.5912 | Good     | 320 |\n",
       "|  28 | Teacher   | 34847.84 | 2 | 4 | 6 | 1 | 3 | 3 |  5.42 | ⋯ | Good | 605.03 | 39.18266 | No | 18.81621 |  99.30623 | Low_spent_Medium_value_payments  | 465.6762 | Good     | 322 |\n",
       "\n"
      ],
      "text/plain": [
       "  Age Occupation Annual_Income Num_Bank_Accounts Num_Credit_Card Interest_Rate\n",
       "1 500 Scientist  19114.12      3                 4               3            \n",
       "2  23 Scientist  19114.12      3                 4               3            \n",
       "3  23 Scientist  19114.12      3                 4               3            \n",
       "4  23 Scientist  19114.12      3                 4               3            \n",
       "5  28 Teacher    34847.84      2                 4               6            \n",
       "6  28 Teacher    34847.84      2                 4               6            \n",
       "  Num_of_Loan Delay_from_due_date Num_of_Delayed_Payment Changed_Credit_Limit ⋯\n",
       "1 4           3                   7                       0.00                ⋯\n",
       "2 4           5                   4                       6.27                ⋯\n",
       "3 4           3                   8                      11.27                ⋯\n",
       "4 4           3                   6                      11.27                ⋯\n",
       "5 1           7                   1                       7.42                ⋯\n",
       "6 1           3                   3                       5.42                ⋯\n",
       "  Credit_Mix Outstanding_Debt Credit_Utilization_Ratio Payment_of_Min_Amount\n",
       "1 Good       809.98           28.60935                 No                   \n",
       "2 Good       809.98           31.37786                 No                   \n",
       "3 Good       809.98           22.53759                 No                   \n",
       "4 Good       809.98           23.93379                 No                   \n",
       "5 Good       605.03           38.55085                 No                   \n",
       "6 Good       605.03           39.18266                 No                   \n",
       "  Total_EMI_per_month Amount_invested_monthly Payment_Behaviour               \n",
       "1 49.57495             81.69952               Low_spent_Medium_value_payments \n",
       "2 49.57495            199.45807               Low_spent_Small_value_payments  \n",
       "3 49.57495            178.34407               Low_spent_Small_value_payments  \n",
       "4 49.57495             24.78522               High_spent_Medium_value_payments\n",
       "5 18.81621             40.39124               High_spent_Large_value_payments \n",
       "6 18.81621             99.30623               Low_spent_Medium_value_payments \n",
       "  Monthly_Balance Credit_Score Credit_History_Age_Months\n",
       "1 331.2099        Good         267                      \n",
       "2 223.4513        Good         268                      \n",
       "3 244.5653        Good         271                      \n",
       "4 358.1242        Standard       0                      \n",
       "5 484.5912        Good         320                      \n",
       "6 465.6762        Good         322                      "
      ]
     },
     "metadata": {},
     "output_type": "display_data"
    }
   ],
   "source": [
    "\n",
    "# Define columns to drop\n",
    "columns_to_drop <- c('ID', 'Customer_ID', 'Month', 'Name', 'SSN', 'Credit_History_Age', 'Monthly_Inhand_Salary', 'Type_of_Loan')\n",
    "\n",
    "# Drop columns\n",
    "train <- train[, !names(train) %in% columns_to_drop, with = FALSE]\n",
    "\n",
    "# Print the first few rows of the updated data frame\n",
    "head(train)"
   ]
  },
  {
   "cell_type": "code",
   "execution_count": 113,
   "metadata": {
    "vscode": {
     "languageId": "r"
    }
   },
   "outputs": [
    {
     "name": "stdout",
     "output_type": "stream",
     "text": [
      "[1] \"There are no missing values 💅\"\n"
     ]
    }
   ],
   "source": [
    "\n",
    "# Count total missing values\n",
    "total_missing_values <- sum(is.na(train))\n",
    "\n",
    "if (total_missing_values == 0) {\n",
    "  print(\"There are no missing values 💅\")\n",
    "} else {\n",
    "  print(paste(\"Total missing values:\", total_missing_values))\n",
    "}"
   ]
  },
  {
   "cell_type": "code",
   "execution_count": 114,
   "metadata": {
    "vscode": {
     "languageId": "r"
    }
   },
   "outputs": [
    {
     "data": {
      "image/png": "[encoded data removed]",
      "text/plain": [
       "plot without title"
      ]
     },
     "metadata": {
      "image/png": {
       "height": 420,
       "width": 420
      }
     },
     "output_type": "display_data"
    }
   ],
   "source": [
    "library(ggplot2)\n",
    "library(cowplot)\n",
    "\n",
    "# Get numeric columns\n",
    "numeric_columns <- colnames(train)[sapply(train, is.numeric)]\n",
    "\n",
    "# Number of columns and rows in the grid\n",
    "num_columns <- 4\n",
    "num_rows <- ceiling(length(numeric_columns) / num_columns)\n",
    "\n",
    "# Create a list to store plots\n",
    "plot_list <- list()\n",
    "\n",
    "# Loop through numeric columns and create boxplots\n",
    "for (i in 1:length(numeric_columns)) {\n",
    "  plot_list[[i]] <- ggplot(train, aes_string(x = numeric_columns[i])) +\n",
    "    geom_boxplot() +\n",
    "    labs(title = numeric_columns[i]) +\n",
    "    theme_minimal() +\n",
    "    theme(axis.text.x = element_text(angle = 45, hjust = 1))\n",
    "}\n",
    "\n",
    "# Arrange plots into a grid\n",
    "plot_grid <- plot_grid(plotlist = plot_list, ncol = num_columns)\n",
    "\n",
    "# Print the grid of boxplots\n",
    "print(plot_grid)"
   ]
  },
  {
   "cell_type": "code",
   "execution_count": 115,
   "metadata": {
    "vscode": {
     "languageId": "r"
    }
   },
   "outputs": [],
   "source": [
    "#install.packages(\"cowplot\")"
   ]
  },
  {
   "cell_type": "markdown",
   "metadata": {},
   "source": [
    "# More Scaling"
   ]
  },
  {
   "cell_type": "code",
   "execution_count": 116,
   "metadata": {
    "vscode": {
     "languageId": "r"
    }
   },
   "outputs": [
    {
     "data": {
      "text/html": [
       "<table class=\"dataframe\">\n",
       "<caption>A data.table: 6 × 21</caption>\n",
       "<thead>\n",
       "\t<tr><th scope=col>Age</th><th scope=col>Occupation</th><th scope=col>Annual_Income</th><th scope=col>Num_Bank_Accounts</th><th scope=col>Num_Credit_Card</th><th scope=col>Interest_Rate</th><th scope=col>Num_of_Loan</th><th scope=col>Delay_from_due_date</th><th scope=col>Num_of_Delayed_Payment</th><th scope=col>Changed_Credit_Limit</th><th scope=col>⋯</th><th scope=col>Credit_Mix</th><th scope=col>Outstanding_Debt</th><th scope=col>Credit_Utilization_Ratio</th><th scope=col>Payment_of_Min_Amount</th><th scope=col>Total_EMI_per_month</th><th scope=col>Amount_invested_monthly</th><th scope=col>Payment_Behaviour</th><th scope=col>Monthly_Balance</th><th scope=col>Credit_Score</th><th scope=col>Credit_History_Age_Months</th></tr>\n",
       "\t<tr><th scope=col>&lt;int&gt;</th><th scope=col>&lt;chr&gt;</th><th scope=col>&lt;dbl&gt;</th><th scope=col>&lt;int&gt;</th><th scope=col>&lt;int&gt;</th><th scope=col>&lt;int&gt;</th><th scope=col>&lt;int&gt;</th><th scope=col>&lt;int&gt;</th><th scope=col>&lt;int&gt;</th><th scope=col>&lt;dbl&gt;</th><th scope=col>⋯</th><th scope=col>&lt;chr&gt;</th><th scope=col>&lt;dbl&gt;</th><th scope=col>&lt;dbl&gt;</th><th scope=col>&lt;chr&gt;</th><th scope=col>&lt;dbl&gt;</th><th scope=col>&lt;dbl&gt;</th><th scope=col>&lt;chr&gt;</th><th scope=col>&lt;dbl&gt;</th><th scope=col>&lt;chr&gt;</th><th scope=col>&lt;dbl&gt;</th></tr>\n",
       "</thead>\n",
       "<tbody>\n",
       "\t<tr><td>23</td><td>Scientist</td><td>19114.12</td><td>3</td><td>4</td><td>3</td><td>4</td><td>5</td><td>4</td><td> 6.27</td><td>⋯</td><td>Good</td><td>809.98</td><td>31.37786</td><td>No</td><td>49.57495</td><td>199.45807</td><td>Low_spent_Small_value_payments  </td><td>223.4513</td><td>Good    </td><td>268</td></tr>\n",
       "\t<tr><td>23</td><td>Scientist</td><td>19114.12</td><td>3</td><td>4</td><td>3</td><td>4</td><td>3</td><td>8</td><td>11.27</td><td>⋯</td><td>Good</td><td>809.98</td><td>22.53759</td><td>No</td><td>49.57495</td><td>178.34407</td><td>Low_spent_Small_value_payments  </td><td>244.5653</td><td>Good    </td><td>271</td></tr>\n",
       "\t<tr><td>23</td><td>Scientist</td><td>19114.12</td><td>3</td><td>4</td><td>3</td><td>4</td><td>3</td><td>6</td><td>11.27</td><td>⋯</td><td>Good</td><td>809.98</td><td>23.93379</td><td>No</td><td>49.57495</td><td> 24.78522</td><td>High_spent_Medium_value_payments</td><td>358.1242</td><td>Standard</td><td>  0</td></tr>\n",
       "\t<tr><td>28</td><td>Teacher  </td><td>34847.84</td><td>2</td><td>4</td><td>6</td><td>1</td><td>7</td><td>1</td><td> 7.42</td><td>⋯</td><td>Good</td><td>605.03</td><td>38.55085</td><td>No</td><td>18.81621</td><td> 40.39124</td><td>High_spent_Large_value_payments </td><td>484.5912</td><td>Good    </td><td>320</td></tr>\n",
       "\t<tr><td>28</td><td>Teacher  </td><td>34847.84</td><td>2</td><td>4</td><td>6</td><td>1</td><td>3</td><td>3</td><td> 5.42</td><td>⋯</td><td>Good</td><td>605.03</td><td>39.18266</td><td>No</td><td>18.81621</td><td> 99.30623</td><td>Low_spent_Medium_value_payments </td><td>465.6762</td><td>Good    </td><td>322</td></tr>\n",
       "\t<tr><td>28</td><td>Teacher  </td><td>34847.84</td><td>2</td><td>4</td><td>6</td><td>1</td><td>3</td><td>1</td><td> 6.42</td><td>⋯</td><td>Good</td><td>605.03</td><td>34.97789</td><td>No</td><td>18.81621</td><td>130.11542</td><td>Low_spent_Small_value_payments  </td><td>444.8670</td><td>Good    </td><td>323</td></tr>\n",
       "</tbody>\n",
       "</table>\n"
      ],
      "text/latex": [
       "A data.table: 6 × 21\n",
       "\\begin{tabular}{lllllllllllllllllllll}\n",
       " Age & Occupation & Annual\\_Income & Num\\_Bank\\_Accounts & Num\\_Credit\\_Card & Interest\\_Rate & Num\\_of\\_Loan & Delay\\_from\\_due\\_date & Num\\_of\\_Delayed\\_Payment & Changed\\_Credit\\_Limit & ⋯ & Credit\\_Mix & Outstanding\\_Debt & Credit\\_Utilization\\_Ratio & Payment\\_of\\_Min\\_Amount & Total\\_EMI\\_per\\_month & Amount\\_invested\\_monthly & Payment\\_Behaviour & Monthly\\_Balance & Credit\\_Score & Credit\\_History\\_Age\\_Months\\\\\n",
       " <int> & <chr> & <dbl> & <int> & <int> & <int> & <int> & <int> & <int> & <dbl> & ⋯ & <chr> & <dbl> & <dbl> & <chr> & <dbl> & <dbl> & <chr> & <dbl> & <chr> & <dbl>\\\\\n",
       "\\hline\n",
       "\t 23 & Scientist & 19114.12 & 3 & 4 & 3 & 4 & 5 & 4 &  6.27 & ⋯ & Good & 809.98 & 31.37786 & No & 49.57495 & 199.45807 & Low\\_spent\\_Small\\_value\\_payments   & 223.4513 & Good     & 268\\\\\n",
       "\t 23 & Scientist & 19114.12 & 3 & 4 & 3 & 4 & 3 & 8 & 11.27 & ⋯ & Good & 809.98 & 22.53759 & No & 49.57495 & 178.34407 & Low\\_spent\\_Small\\_value\\_payments   & 244.5653 & Good     & 271\\\\\n",
       "\t 23 & Scientist & 19114.12 & 3 & 4 & 3 & 4 & 3 & 6 & 11.27 & ⋯ & Good & 809.98 & 23.93379 & No & 49.57495 &  24.78522 & High\\_spent\\_Medium\\_value\\_payments & 358.1242 & Standard &   0\\\\\n",
       "\t 28 & Teacher   & 34847.84 & 2 & 4 & 6 & 1 & 7 & 1 &  7.42 & ⋯ & Good & 605.03 & 38.55085 & No & 18.81621 &  40.39124 & High\\_spent\\_Large\\_value\\_payments  & 484.5912 & Good     & 320\\\\\n",
       "\t 28 & Teacher   & 34847.84 & 2 & 4 & 6 & 1 & 3 & 3 &  5.42 & ⋯ & Good & 605.03 & 39.18266 & No & 18.81621 &  99.30623 & Low\\_spent\\_Medium\\_value\\_payments  & 465.6762 & Good     & 322\\\\\n",
       "\t 28 & Teacher   & 34847.84 & 2 & 4 & 6 & 1 & 3 & 1 &  6.42 & ⋯ & Good & 605.03 & 34.97789 & No & 18.81621 & 130.11542 & Low\\_spent\\_Small\\_value\\_payments   & 444.8670 & Good     & 323\\\\\n",
       "\\end{tabular}\n"
      ],
      "text/markdown": [
       "\n",
       "A data.table: 6 × 21\n",
       "\n",
       "| Age &lt;int&gt; | Occupation &lt;chr&gt; | Annual_Income &lt;dbl&gt; | Num_Bank_Accounts &lt;int&gt; | Num_Credit_Card &lt;int&gt; | Interest_Rate &lt;int&gt; | Num_of_Loan &lt;int&gt; | Delay_from_due_date &lt;int&gt; | Num_of_Delayed_Payment &lt;int&gt; | Changed_Credit_Limit &lt;dbl&gt; | ⋯ ⋯ | Credit_Mix &lt;chr&gt; | Outstanding_Debt &lt;dbl&gt; | Credit_Utilization_Ratio &lt;dbl&gt; | Payment_of_Min_Amount &lt;chr&gt; | Total_EMI_per_month &lt;dbl&gt; | Amount_invested_monthly &lt;dbl&gt; | Payment_Behaviour &lt;chr&gt; | Monthly_Balance &lt;dbl&gt; | Credit_Score &lt;chr&gt; | Credit_History_Age_Months &lt;dbl&gt; |\n",
       "|---|---|---|---|---|---|---|---|---|---|---|---|---|---|---|---|---|---|---|---|---|\n",
       "| 23 | Scientist | 19114.12 | 3 | 4 | 3 | 4 | 5 | 4 |  6.27 | ⋯ | Good | 809.98 | 31.37786 | No | 49.57495 | 199.45807 | Low_spent_Small_value_payments   | 223.4513 | Good     | 268 |\n",
       "| 23 | Scientist | 19114.12 | 3 | 4 | 3 | 4 | 3 | 8 | 11.27 | ⋯ | Good | 809.98 | 22.53759 | No | 49.57495 | 178.34407 | Low_spent_Small_value_payments   | 244.5653 | Good     | 271 |\n",
       "| 23 | Scientist | 19114.12 | 3 | 4 | 3 | 4 | 3 | 6 | 11.27 | ⋯ | Good | 809.98 | 23.93379 | No | 49.57495 |  24.78522 | High_spent_Medium_value_payments | 358.1242 | Standard |   0 |\n",
       "| 28 | Teacher   | 34847.84 | 2 | 4 | 6 | 1 | 7 | 1 |  7.42 | ⋯ | Good | 605.03 | 38.55085 | No | 18.81621 |  40.39124 | High_spent_Large_value_payments  | 484.5912 | Good     | 320 |\n",
       "| 28 | Teacher   | 34847.84 | 2 | 4 | 6 | 1 | 3 | 3 |  5.42 | ⋯ | Good | 605.03 | 39.18266 | No | 18.81621 |  99.30623 | Low_spent_Medium_value_payments  | 465.6762 | Good     | 322 |\n",
       "| 28 | Teacher   | 34847.84 | 2 | 4 | 6 | 1 | 3 | 1 |  6.42 | ⋯ | Good | 605.03 | 34.97789 | No | 18.81621 | 130.11542 | Low_spent_Small_value_payments   | 444.8670 | Good     | 323 |\n",
       "\n"
      ],
      "text/plain": [
       "  Age Occupation Annual_Income Num_Bank_Accounts Num_Credit_Card Interest_Rate\n",
       "1 23  Scientist  19114.12      3                 4               3            \n",
       "2 23  Scientist  19114.12      3                 4               3            \n",
       "3 23  Scientist  19114.12      3                 4               3            \n",
       "4 28  Teacher    34847.84      2                 4               6            \n",
       "5 28  Teacher    34847.84      2                 4               6            \n",
       "6 28  Teacher    34847.84      2                 4               6            \n",
       "  Num_of_Loan Delay_from_due_date Num_of_Delayed_Payment Changed_Credit_Limit ⋯\n",
       "1 4           5                   4                       6.27                ⋯\n",
       "2 4           3                   8                      11.27                ⋯\n",
       "3 4           3                   6                      11.27                ⋯\n",
       "4 1           7                   1                       7.42                ⋯\n",
       "5 1           3                   3                       5.42                ⋯\n",
       "6 1           3                   1                       6.42                ⋯\n",
       "  Credit_Mix Outstanding_Debt Credit_Utilization_Ratio Payment_of_Min_Amount\n",
       "1 Good       809.98           31.37786                 No                   \n",
       "2 Good       809.98           22.53759                 No                   \n",
       "3 Good       809.98           23.93379                 No                   \n",
       "4 Good       605.03           38.55085                 No                   \n",
       "5 Good       605.03           39.18266                 No                   \n",
       "6 Good       605.03           34.97789                 No                   \n",
       "  Total_EMI_per_month Amount_invested_monthly Payment_Behaviour               \n",
       "1 49.57495            199.45807               Low_spent_Small_value_payments  \n",
       "2 49.57495            178.34407               Low_spent_Small_value_payments  \n",
       "3 49.57495             24.78522               High_spent_Medium_value_payments\n",
       "4 18.81621             40.39124               High_spent_Large_value_payments \n",
       "5 18.81621             99.30623               Low_spent_Medium_value_payments \n",
       "6 18.81621            130.11542               Low_spent_Small_value_payments  \n",
       "  Monthly_Balance Credit_Score Credit_History_Age_Months\n",
       "1 223.4513        Good         268                      \n",
       "2 244.5653        Good         271                      \n",
       "3 358.1242        Standard       0                      \n",
       "4 484.5912        Good         320                      \n",
       "5 465.6762        Good         322                      \n",
       "6 444.8670        Good         323                      "
      ]
     },
     "metadata": {},
     "output_type": "display_data"
    }
   ],
   "source": [
    "# Apply filtering conditions\n",
    "train <- train[Age < 60 &\n",
    "               Num_Credit_Card <= 10 &\n",
    "               Interest_Rate <= 50 &\n",
    "               Num_of_Loan <= 12 &\n",
    "               Num_Bank_Accounts <= 10 &\n",
    "               Delay_from_due_date <= 60 &\n",
    "               Changed_Credit_Limit <= 30 &\n",
    "               Num_Credit_Inquiries <= 12 &\n",
    "               Total_EMI_per_month <= 200 &\n",
    "               Outstanding_Debt <= 1500]\n",
    "\n",
    "head(train)"
   ]
  },
  {
   "cell_type": "code",
   "execution_count": 117,
   "metadata": {
    "vscode": {
     "languageId": "r"
    }
   },
   "outputs": [
    {
     "data": {
      "text/html": [
       "<table class=\"dataframe\">\n",
       "<caption>A data.table: 6 × 22</caption>\n",
       "<thead>\n",
       "\t<tr><th scope=col>Age</th><th scope=col>Occupation</th><th scope=col>Annual_Income</th><th scope=col>Num_Bank_Accounts</th><th scope=col>Num_Credit_Card</th><th scope=col>Interest_Rate</th><th scope=col>Num_of_Loan</th><th scope=col>Delay_from_due_date</th><th scope=col>Num_of_Delayed_Payment</th><th scope=col>Changed_Credit_Limit</th><th scope=col>⋯</th><th scope=col>Outstanding_Debt</th><th scope=col>Credit_Utilization_Ratio</th><th scope=col>Payment_of_Min_Amount</th><th scope=col>Total_EMI_per_month</th><th scope=col>Amount_invested_monthly</th><th scope=col>Payment_Behaviour</th><th scope=col>Monthly_Balance</th><th scope=col>Credit_Score</th><th scope=col>Credit_History_Age_Months</th><th scope=col>Credit_Score_Encoded</th></tr>\n",
       "\t<tr><th scope=col>&lt;int&gt;</th><th scope=col>&lt;chr&gt;</th><th scope=col>&lt;dbl&gt;</th><th scope=col>&lt;int&gt;</th><th scope=col>&lt;int&gt;</th><th scope=col>&lt;int&gt;</th><th scope=col>&lt;int&gt;</th><th scope=col>&lt;int&gt;</th><th scope=col>&lt;int&gt;</th><th scope=col>&lt;dbl&gt;</th><th scope=col>⋯</th><th scope=col>&lt;dbl&gt;</th><th scope=col>&lt;dbl&gt;</th><th scope=col>&lt;chr&gt;</th><th scope=col>&lt;dbl&gt;</th><th scope=col>&lt;dbl&gt;</th><th scope=col>&lt;chr&gt;</th><th scope=col>&lt;dbl&gt;</th><th scope=col>&lt;chr&gt;</th><th scope=col>&lt;dbl&gt;</th><th scope=col>&lt;dbl&gt;</th></tr>\n",
       "</thead>\n",
       "<tbody>\n",
       "\t<tr><td>23</td><td>Scientist</td><td>19114.12</td><td>3</td><td>4</td><td>3</td><td>4</td><td>5</td><td>4</td><td> 6.27</td><td>⋯</td><td>809.98</td><td>31.37786</td><td>No</td><td>49.57495</td><td>199.45807</td><td>Low_spent_Small_value_payments  </td><td>223.4513</td><td>Good    </td><td>268</td><td>3</td></tr>\n",
       "\t<tr><td>23</td><td>Scientist</td><td>19114.12</td><td>3</td><td>4</td><td>3</td><td>4</td><td>3</td><td>8</td><td>11.27</td><td>⋯</td><td>809.98</td><td>22.53759</td><td>No</td><td>49.57495</td><td>178.34407</td><td>Low_spent_Small_value_payments  </td><td>244.5653</td><td>Good    </td><td>271</td><td>3</td></tr>\n",
       "\t<tr><td>23</td><td>Scientist</td><td>19114.12</td><td>3</td><td>4</td><td>3</td><td>4</td><td>3</td><td>6</td><td>11.27</td><td>⋯</td><td>809.98</td><td>23.93379</td><td>No</td><td>49.57495</td><td> 24.78522</td><td>High_spent_Medium_value_payments</td><td>358.1242</td><td>Standard</td><td>  0</td><td>2</td></tr>\n",
       "\t<tr><td>28</td><td>Teacher  </td><td>34847.84</td><td>2</td><td>4</td><td>6</td><td>1</td><td>7</td><td>1</td><td> 7.42</td><td>⋯</td><td>605.03</td><td>38.55085</td><td>No</td><td>18.81621</td><td> 40.39124</td><td>High_spent_Large_value_payments </td><td>484.5912</td><td>Good    </td><td>320</td><td>3</td></tr>\n",
       "\t<tr><td>28</td><td>Teacher  </td><td>34847.84</td><td>2</td><td>4</td><td>6</td><td>1</td><td>3</td><td>3</td><td> 5.42</td><td>⋯</td><td>605.03</td><td>39.18266</td><td>No</td><td>18.81621</td><td> 99.30623</td><td>Low_spent_Medium_value_payments </td><td>465.6762</td><td>Good    </td><td>322</td><td>3</td></tr>\n",
       "\t<tr><td>28</td><td>Teacher  </td><td>34847.84</td><td>2</td><td>4</td><td>6</td><td>1</td><td>3</td><td>1</td><td> 6.42</td><td>⋯</td><td>605.03</td><td>34.97789</td><td>No</td><td>18.81621</td><td>130.11542</td><td>Low_spent_Small_value_payments  </td><td>444.8670</td><td>Good    </td><td>323</td><td>3</td></tr>\n",
       "</tbody>\n",
       "</table>\n"
      ],
      "text/latex": [
       "A data.table: 6 × 22\n",
       "\\begin{tabular}{lllllllllllllllllllll}\n",
       " Age & Occupation & Annual\\_Income & Num\\_Bank\\_Accounts & Num\\_Credit\\_Card & Interest\\_Rate & Num\\_of\\_Loan & Delay\\_from\\_due\\_date & Num\\_of\\_Delayed\\_Payment & Changed\\_Credit\\_Limit & ⋯ & Outstanding\\_Debt & Credit\\_Utilization\\_Ratio & Payment\\_of\\_Min\\_Amount & Total\\_EMI\\_per\\_month & Amount\\_invested\\_monthly & Payment\\_Behaviour & Monthly\\_Balance & Credit\\_Score & Credit\\_History\\_Age\\_Months & Credit\\_Score\\_Encoded\\\\\n",
       " <int> & <chr> & <dbl> & <int> & <int> & <int> & <int> & <int> & <int> & <dbl> & ⋯ & <dbl> & <dbl> & <chr> & <dbl> & <dbl> & <chr> & <dbl> & <chr> & <dbl> & <dbl>\\\\\n",
       "\\hline\n",
       "\t 23 & Scientist & 19114.12 & 3 & 4 & 3 & 4 & 5 & 4 &  6.27 & ⋯ & 809.98 & 31.37786 & No & 49.57495 & 199.45807 & Low\\_spent\\_Small\\_value\\_payments   & 223.4513 & Good     & 268 & 3\\\\\n",
       "\t 23 & Scientist & 19114.12 & 3 & 4 & 3 & 4 & 3 & 8 & 11.27 & ⋯ & 809.98 & 22.53759 & No & 49.57495 & 178.34407 & Low\\_spent\\_Small\\_value\\_payments   & 244.5653 & Good     & 271 & 3\\\\\n",
       "\t 23 & Scientist & 19114.12 & 3 & 4 & 3 & 4 & 3 & 6 & 11.27 & ⋯ & 809.98 & 23.93379 & No & 49.57495 &  24.78522 & High\\_spent\\_Medium\\_value\\_payments & 358.1242 & Standard &   0 & 2\\\\\n",
       "\t 28 & Teacher   & 34847.84 & 2 & 4 & 6 & 1 & 7 & 1 &  7.42 & ⋯ & 605.03 & 38.55085 & No & 18.81621 &  40.39124 & High\\_spent\\_Large\\_value\\_payments  & 484.5912 & Good     & 320 & 3\\\\\n",
       "\t 28 & Teacher   & 34847.84 & 2 & 4 & 6 & 1 & 3 & 3 &  5.42 & ⋯ & 605.03 & 39.18266 & No & 18.81621 &  99.30623 & Low\\_spent\\_Medium\\_value\\_payments  & 465.6762 & Good     & 322 & 3\\\\\n",
       "\t 28 & Teacher   & 34847.84 & 2 & 4 & 6 & 1 & 3 & 1 &  6.42 & ⋯ & 605.03 & 34.97789 & No & 18.81621 & 130.11542 & Low\\_spent\\_Small\\_value\\_payments   & 444.8670 & Good     & 323 & 3\\\\\n",
       "\\end{tabular}\n"
      ],
      "text/markdown": [
       "\n",
       "A data.table: 6 × 22\n",
       "\n",
       "| Age &lt;int&gt; | Occupation &lt;chr&gt; | Annual_Income &lt;dbl&gt; | Num_Bank_Accounts &lt;int&gt; | Num_Credit_Card &lt;int&gt; | Interest_Rate &lt;int&gt; | Num_of_Loan &lt;int&gt; | Delay_from_due_date &lt;int&gt; | Num_of_Delayed_Payment &lt;int&gt; | Changed_Credit_Limit &lt;dbl&gt; | ⋯ ⋯ | Outstanding_Debt &lt;dbl&gt; | Credit_Utilization_Ratio &lt;dbl&gt; | Payment_of_Min_Amount &lt;chr&gt; | Total_EMI_per_month &lt;dbl&gt; | Amount_invested_monthly &lt;dbl&gt; | Payment_Behaviour &lt;chr&gt; | Monthly_Balance &lt;dbl&gt; | Credit_Score &lt;chr&gt; | Credit_History_Age_Months &lt;dbl&gt; | Credit_Score_Encoded &lt;dbl&gt; |\n",
       "|---|---|---|---|---|---|---|---|---|---|---|---|---|---|---|---|---|---|---|---|---|\n",
       "| 23 | Scientist | 19114.12 | 3 | 4 | 3 | 4 | 5 | 4 |  6.27 | ⋯ | 809.98 | 31.37786 | No | 49.57495 | 199.45807 | Low_spent_Small_value_payments   | 223.4513 | Good     | 268 | 3 |\n",
       "| 23 | Scientist | 19114.12 | 3 | 4 | 3 | 4 | 3 | 8 | 11.27 | ⋯ | 809.98 | 22.53759 | No | 49.57495 | 178.34407 | Low_spent_Small_value_payments   | 244.5653 | Good     | 271 | 3 |\n",
       "| 23 | Scientist | 19114.12 | 3 | 4 | 3 | 4 | 3 | 6 | 11.27 | ⋯ | 809.98 | 23.93379 | No | 49.57495 |  24.78522 | High_spent_Medium_value_payments | 358.1242 | Standard |   0 | 2 |\n",
       "| 28 | Teacher   | 34847.84 | 2 | 4 | 6 | 1 | 7 | 1 |  7.42 | ⋯ | 605.03 | 38.55085 | No | 18.81621 |  40.39124 | High_spent_Large_value_payments  | 484.5912 | Good     | 320 | 3 |\n",
       "| 28 | Teacher   | 34847.84 | 2 | 4 | 6 | 1 | 3 | 3 |  5.42 | ⋯ | 605.03 | 39.18266 | No | 18.81621 |  99.30623 | Low_spent_Medium_value_payments  | 465.6762 | Good     | 322 | 3 |\n",
       "| 28 | Teacher   | 34847.84 | 2 | 4 | 6 | 1 | 3 | 1 |  6.42 | ⋯ | 605.03 | 34.97789 | No | 18.81621 | 130.11542 | Low_spent_Small_value_payments   | 444.8670 | Good     | 323 | 3 |\n",
       "\n"
      ],
      "text/plain": [
       "  Age Occupation Annual_Income Num_Bank_Accounts Num_Credit_Card Interest_Rate\n",
       "1 23  Scientist  19114.12      3                 4               3            \n",
       "2 23  Scientist  19114.12      3                 4               3            \n",
       "3 23  Scientist  19114.12      3                 4               3            \n",
       "4 28  Teacher    34847.84      2                 4               6            \n",
       "5 28  Teacher    34847.84      2                 4               6            \n",
       "6 28  Teacher    34847.84      2                 4               6            \n",
       "  Num_of_Loan Delay_from_due_date Num_of_Delayed_Payment Changed_Credit_Limit ⋯\n",
       "1 4           5                   4                       6.27                ⋯\n",
       "2 4           3                   8                      11.27                ⋯\n",
       "3 4           3                   6                      11.27                ⋯\n",
       "4 1           7                   1                       7.42                ⋯\n",
       "5 1           3                   3                       5.42                ⋯\n",
       "6 1           3                   1                       6.42                ⋯\n",
       "  Outstanding_Debt Credit_Utilization_Ratio Payment_of_Min_Amount\n",
       "1 809.98           31.37786                 No                   \n",
       "2 809.98           22.53759                 No                   \n",
       "3 809.98           23.93379                 No                   \n",
       "4 605.03           38.55085                 No                   \n",
       "5 605.03           39.18266                 No                   \n",
       "6 605.03           34.97789                 No                   \n",
       "  Total_EMI_per_month Amount_invested_monthly Payment_Behaviour               \n",
       "1 49.57495            199.45807               Low_spent_Small_value_payments  \n",
       "2 49.57495            178.34407               Low_spent_Small_value_payments  \n",
       "3 49.57495             24.78522               High_spent_Medium_value_payments\n",
       "4 18.81621             40.39124               High_spent_Large_value_payments \n",
       "5 18.81621             99.30623               Low_spent_Medium_value_payments \n",
       "6 18.81621            130.11542               Low_spent_Small_value_payments  \n",
       "  Monthly_Balance Credit_Score Credit_History_Age_Months Credit_Score_Encoded\n",
       "1 223.4513        Good         268                       3                   \n",
       "2 244.5653        Good         271                       3                   \n",
       "3 358.1242        Standard       0                       2                   \n",
       "4 484.5912        Good         320                       3                   \n",
       "5 465.6762        Good         322                       3                   \n",
       "6 444.8670        Good         323                       3                   "
      ]
     },
     "metadata": {},
     "output_type": "display_data"
    }
   ],
   "source": [
    "# Define categories\n",
    "# Define the order of categories\n",
    "categories <- c(\"Poor\", \"Standard\", \"Good\")\n",
    "\n",
    "# Convert 'Credit_Score_Encoded' to numeric while preserving order\n",
    "train$Credit_Score_Encoded <- as.numeric(factor(train$Credit_Score, levels = categories))\n",
    "\n",
    "# Print the updated data\n",
    "head(train)"
   ]
  },
  {
   "cell_type": "code",
   "execution_count": 118,
   "metadata": {
    "vscode": {
     "languageId": "r"
    }
   },
   "outputs": [
    {
     "data": {
      "text/html": [
       "<table class=\"dataframe\">\n",
       "<caption>A data.table: 6 × 23</caption>\n",
       "<thead>\n",
       "\t<tr><th scope=col>Age</th><th scope=col>Occupation</th><th scope=col>Annual_Income</th><th scope=col>Num_Bank_Accounts</th><th scope=col>Num_Credit_Card</th><th scope=col>Interest_Rate</th><th scope=col>Num_of_Loan</th><th scope=col>Delay_from_due_date</th><th scope=col>Num_of_Delayed_Payment</th><th scope=col>Changed_Credit_Limit</th><th scope=col>⋯</th><th scope=col>Credit_Utilization_Ratio</th><th scope=col>Payment_of_Min_Amount</th><th scope=col>Total_EMI_per_month</th><th scope=col>Amount_invested_monthly</th><th scope=col>Payment_Behaviour</th><th scope=col>Monthly_Balance</th><th scope=col>Credit_Score</th><th scope=col>Credit_History_Age_Months</th><th scope=col>Credit_Score_Encoded</th><th scope=col>Occupation_Encoded</th></tr>\n",
       "\t<tr><th scope=col>&lt;int&gt;</th><th scope=col>&lt;chr&gt;</th><th scope=col>&lt;dbl&gt;</th><th scope=col>&lt;int&gt;</th><th scope=col>&lt;int&gt;</th><th scope=col>&lt;int&gt;</th><th scope=col>&lt;int&gt;</th><th scope=col>&lt;int&gt;</th><th scope=col>&lt;int&gt;</th><th scope=col>&lt;dbl&gt;</th><th scope=col>⋯</th><th scope=col>&lt;dbl&gt;</th><th scope=col>&lt;chr&gt;</th><th scope=col>&lt;dbl&gt;</th><th scope=col>&lt;dbl&gt;</th><th scope=col>&lt;chr&gt;</th><th scope=col>&lt;dbl&gt;</th><th scope=col>&lt;chr&gt;</th><th scope=col>&lt;dbl&gt;</th><th scope=col>&lt;dbl&gt;</th><th scope=col>&lt;fct&gt;</th></tr>\n",
       "</thead>\n",
       "<tbody>\n",
       "\t<tr><td>23</td><td>Scientist</td><td>19114.12</td><td>3</td><td>4</td><td>3</td><td>4</td><td>5</td><td>4</td><td> 6.27</td><td>⋯</td><td>31.37786</td><td>No</td><td>49.57495</td><td>199.45807</td><td>Low_spent_Small_value_payments  </td><td>223.4513</td><td>Good    </td><td>268</td><td>3</td><td>13</td></tr>\n",
       "\t<tr><td>23</td><td>Scientist</td><td>19114.12</td><td>3</td><td>4</td><td>3</td><td>4</td><td>3</td><td>8</td><td>11.27</td><td>⋯</td><td>22.53759</td><td>No</td><td>49.57495</td><td>178.34407</td><td>Low_spent_Small_value_payments  </td><td>244.5653</td><td>Good    </td><td>271</td><td>3</td><td>13</td></tr>\n",
       "\t<tr><td>23</td><td>Scientist</td><td>19114.12</td><td>3</td><td>4</td><td>3</td><td>4</td><td>3</td><td>6</td><td>11.27</td><td>⋯</td><td>23.93379</td><td>No</td><td>49.57495</td><td> 24.78522</td><td>High_spent_Medium_value_payments</td><td>358.1242</td><td>Standard</td><td>  0</td><td>2</td><td>13</td></tr>\n",
       "\t<tr><td>28</td><td>Teacher  </td><td>34847.84</td><td>2</td><td>4</td><td>6</td><td>1</td><td>7</td><td>1</td><td> 7.42</td><td>⋯</td><td>38.55085</td><td>No</td><td>18.81621</td><td> 40.39124</td><td>High_spent_Large_value_payments </td><td>484.5912</td><td>Good    </td><td>320</td><td>3</td><td>14</td></tr>\n",
       "\t<tr><td>28</td><td>Teacher  </td><td>34847.84</td><td>2</td><td>4</td><td>6</td><td>1</td><td>3</td><td>3</td><td> 5.42</td><td>⋯</td><td>39.18266</td><td>No</td><td>18.81621</td><td> 99.30623</td><td>Low_spent_Medium_value_payments </td><td>465.6762</td><td>Good    </td><td>322</td><td>3</td><td>14</td></tr>\n",
       "\t<tr><td>28</td><td>Teacher  </td><td>34847.84</td><td>2</td><td>4</td><td>6</td><td>1</td><td>3</td><td>1</td><td> 6.42</td><td>⋯</td><td>34.97789</td><td>No</td><td>18.81621</td><td>130.11542</td><td>Low_spent_Small_value_payments  </td><td>444.8670</td><td>Good    </td><td>323</td><td>3</td><td>14</td></tr>\n",
       "</tbody>\n",
       "</table>\n"
      ],
      "text/latex": [
       "A data.table: 6 × 23\n",
       "\\begin{tabular}{lllllllllllllllllllll}\n",
       " Age & Occupation & Annual\\_Income & Num\\_Bank\\_Accounts & Num\\_Credit\\_Card & Interest\\_Rate & Num\\_of\\_Loan & Delay\\_from\\_due\\_date & Num\\_of\\_Delayed\\_Payment & Changed\\_Credit\\_Limit & ⋯ & Credit\\_Utilization\\_Ratio & Payment\\_of\\_Min\\_Amount & Total\\_EMI\\_per\\_month & Amount\\_invested\\_monthly & Payment\\_Behaviour & Monthly\\_Balance & Credit\\_Score & Credit\\_History\\_Age\\_Months & Credit\\_Score\\_Encoded & Occupation\\_Encoded\\\\\n",
       " <int> & <chr> & <dbl> & <int> & <int> & <int> & <int> & <int> & <int> & <dbl> & ⋯ & <dbl> & <chr> & <dbl> & <dbl> & <chr> & <dbl> & <chr> & <dbl> & <dbl> & <fct>\\\\\n",
       "\\hline\n",
       "\t 23 & Scientist & 19114.12 & 3 & 4 & 3 & 4 & 5 & 4 &  6.27 & ⋯ & 31.37786 & No & 49.57495 & 199.45807 & Low\\_spent\\_Small\\_value\\_payments   & 223.4513 & Good     & 268 & 3 & 13\\\\\n",
       "\t 23 & Scientist & 19114.12 & 3 & 4 & 3 & 4 & 3 & 8 & 11.27 & ⋯ & 22.53759 & No & 49.57495 & 178.34407 & Low\\_spent\\_Small\\_value\\_payments   & 244.5653 & Good     & 271 & 3 & 13\\\\\n",
       "\t 23 & Scientist & 19114.12 & 3 & 4 & 3 & 4 & 3 & 6 & 11.27 & ⋯ & 23.93379 & No & 49.57495 &  24.78522 & High\\_spent\\_Medium\\_value\\_payments & 358.1242 & Standard &   0 & 2 & 13\\\\\n",
       "\t 28 & Teacher   & 34847.84 & 2 & 4 & 6 & 1 & 7 & 1 &  7.42 & ⋯ & 38.55085 & No & 18.81621 &  40.39124 & High\\_spent\\_Large\\_value\\_payments  & 484.5912 & Good     & 320 & 3 & 14\\\\\n",
       "\t 28 & Teacher   & 34847.84 & 2 & 4 & 6 & 1 & 3 & 3 &  5.42 & ⋯ & 39.18266 & No & 18.81621 &  99.30623 & Low\\_spent\\_Medium\\_value\\_payments  & 465.6762 & Good     & 322 & 3 & 14\\\\\n",
       "\t 28 & Teacher   & 34847.84 & 2 & 4 & 6 & 1 & 3 & 1 &  6.42 & ⋯ & 34.97789 & No & 18.81621 & 130.11542 & Low\\_spent\\_Small\\_value\\_payments   & 444.8670 & Good     & 323 & 3 & 14\\\\\n",
       "\\end{tabular}\n"
      ],
      "text/markdown": [
       "\n",
       "A data.table: 6 × 23\n",
       "\n",
       "| Age &lt;int&gt; | Occupation &lt;chr&gt; | Annual_Income &lt;dbl&gt; | Num_Bank_Accounts &lt;int&gt; | Num_Credit_Card &lt;int&gt; | Interest_Rate &lt;int&gt; | Num_of_Loan &lt;int&gt; | Delay_from_due_date &lt;int&gt; | Num_of_Delayed_Payment &lt;int&gt; | Changed_Credit_Limit &lt;dbl&gt; | ⋯ ⋯ | Credit_Utilization_Ratio &lt;dbl&gt; | Payment_of_Min_Amount &lt;chr&gt; | Total_EMI_per_month &lt;dbl&gt; | Amount_invested_monthly &lt;dbl&gt; | Payment_Behaviour &lt;chr&gt; | Monthly_Balance &lt;dbl&gt; | Credit_Score &lt;chr&gt; | Credit_History_Age_Months &lt;dbl&gt; | Credit_Score_Encoded &lt;dbl&gt; | Occupation_Encoded &lt;fct&gt; |\n",
       "|---|---|---|---|---|---|---|---|---|---|---|---|---|---|---|---|---|---|---|---|---|\n",
       "| 23 | Scientist | 19114.12 | 3 | 4 | 3 | 4 | 5 | 4 |  6.27 | ⋯ | 31.37786 | No | 49.57495 | 199.45807 | Low_spent_Small_value_payments   | 223.4513 | Good     | 268 | 3 | 13 |\n",
       "| 23 | Scientist | 19114.12 | 3 | 4 | 3 | 4 | 3 | 8 | 11.27 | ⋯ | 22.53759 | No | 49.57495 | 178.34407 | Low_spent_Small_value_payments   | 244.5653 | Good     | 271 | 3 | 13 |\n",
       "| 23 | Scientist | 19114.12 | 3 | 4 | 3 | 4 | 3 | 6 | 11.27 | ⋯ | 23.93379 | No | 49.57495 |  24.78522 | High_spent_Medium_value_payments | 358.1242 | Standard |   0 | 2 | 13 |\n",
       "| 28 | Teacher   | 34847.84 | 2 | 4 | 6 | 1 | 7 | 1 |  7.42 | ⋯ | 38.55085 | No | 18.81621 |  40.39124 | High_spent_Large_value_payments  | 484.5912 | Good     | 320 | 3 | 14 |\n",
       "| 28 | Teacher   | 34847.84 | 2 | 4 | 6 | 1 | 3 | 3 |  5.42 | ⋯ | 39.18266 | No | 18.81621 |  99.30623 | Low_spent_Medium_value_payments  | 465.6762 | Good     | 322 | 3 | 14 |\n",
       "| 28 | Teacher   | 34847.84 | 2 | 4 | 6 | 1 | 3 | 1 |  6.42 | ⋯ | 34.97789 | No | 18.81621 | 130.11542 | Low_spent_Small_value_payments   | 444.8670 | Good     | 323 | 3 | 14 |\n",
       "\n"
      ],
      "text/plain": [
       "  Age Occupation Annual_Income Num_Bank_Accounts Num_Credit_Card Interest_Rate\n",
       "1 23  Scientist  19114.12      3                 4               3            \n",
       "2 23  Scientist  19114.12      3                 4               3            \n",
       "3 23  Scientist  19114.12      3                 4               3            \n",
       "4 28  Teacher    34847.84      2                 4               6            \n",
       "5 28  Teacher    34847.84      2                 4               6            \n",
       "6 28  Teacher    34847.84      2                 4               6            \n",
       "  Num_of_Loan Delay_from_due_date Num_of_Delayed_Payment Changed_Credit_Limit ⋯\n",
       "1 4           5                   4                       6.27                ⋯\n",
       "2 4           3                   8                      11.27                ⋯\n",
       "3 4           3                   6                      11.27                ⋯\n",
       "4 1           7                   1                       7.42                ⋯\n",
       "5 1           3                   3                       5.42                ⋯\n",
       "6 1           3                   1                       6.42                ⋯\n",
       "  Credit_Utilization_Ratio Payment_of_Min_Amount Total_EMI_per_month\n",
       "1 31.37786                 No                    49.57495           \n",
       "2 22.53759                 No                    49.57495           \n",
       "3 23.93379                 No                    49.57495           \n",
       "4 38.55085                 No                    18.81621           \n",
       "5 39.18266                 No                    18.81621           \n",
       "6 34.97789                 No                    18.81621           \n",
       "  Amount_invested_monthly Payment_Behaviour                Monthly_Balance\n",
       "1 199.45807               Low_spent_Small_value_payments   223.4513       \n",
       "2 178.34407               Low_spent_Small_value_payments   244.5653       \n",
       "3  24.78522               High_spent_Medium_value_payments 358.1242       \n",
       "4  40.39124               High_spent_Large_value_payments  484.5912       \n",
       "5  99.30623               Low_spent_Medium_value_payments  465.6762       \n",
       "6 130.11542               Low_spent_Small_value_payments   444.8670       \n",
       "  Credit_Score Credit_History_Age_Months Credit_Score_Encoded\n",
       "1 Good         268                       3                   \n",
       "2 Good         271                       3                   \n",
       "3 Standard       0                       2                   \n",
       "4 Good         320                       3                   \n",
       "5 Good         322                       3                   \n",
       "6 Good         323                       3                   \n",
       "  Occupation_Encoded\n",
       "1 13                \n",
       "2 13                \n",
       "3 13                \n",
       "4 14                \n",
       "5 14                \n",
       "6 14                "
      ]
     },
     "metadata": {},
     "output_type": "display_data"
    }
   ],
   "source": [
    "# Encode 'Occupation' column using labels\n",
    "train[, Occupation_Encoded := factor(Occupation, labels = seq_along(unique(Occupation)))]\n",
    "\n",
    "# Print the first few rows of the updated data table\n",
    "head(train)"
   ]
  },
  {
   "cell_type": "markdown",
   "metadata": {},
   "source": [
    "## Ordinal Encoder"
   ]
  },
  {
   "cell_type": "code",
   "execution_count": 119,
   "metadata": {
    "vscode": {
     "languageId": "r"
    }
   },
   "outputs": [
    {
     "data": {
      "text/html": [
       "<table class=\"dataframe\">\n",
       "<caption>A data.table: 6 × 24</caption>\n",
       "<thead>\n",
       "\t<tr><th scope=col>Age</th><th scope=col>Occupation</th><th scope=col>Annual_Income</th><th scope=col>Num_Bank_Accounts</th><th scope=col>Num_Credit_Card</th><th scope=col>Interest_Rate</th><th scope=col>Num_of_Loan</th><th scope=col>Delay_from_due_date</th><th scope=col>Num_of_Delayed_Payment</th><th scope=col>Changed_Credit_Limit</th><th scope=col>⋯</th><th scope=col>Payment_of_Min_Amount</th><th scope=col>Total_EMI_per_month</th><th scope=col>Amount_invested_monthly</th><th scope=col>Payment_Behaviour</th><th scope=col>Monthly_Balance</th><th scope=col>Credit_Score</th><th scope=col>Credit_History_Age_Months</th><th scope=col>Credit_Score_Encoded</th><th scope=col>Occupation_Encoded</th><th scope=col>Credit_Mix_Encoded</th></tr>\n",
       "\t<tr><th scope=col>&lt;int&gt;</th><th scope=col>&lt;chr&gt;</th><th scope=col>&lt;dbl&gt;</th><th scope=col>&lt;int&gt;</th><th scope=col>&lt;int&gt;</th><th scope=col>&lt;int&gt;</th><th scope=col>&lt;int&gt;</th><th scope=col>&lt;int&gt;</th><th scope=col>&lt;int&gt;</th><th scope=col>&lt;dbl&gt;</th><th scope=col>⋯</th><th scope=col>&lt;chr&gt;</th><th scope=col>&lt;dbl&gt;</th><th scope=col>&lt;dbl&gt;</th><th scope=col>&lt;chr&gt;</th><th scope=col>&lt;dbl&gt;</th><th scope=col>&lt;chr&gt;</th><th scope=col>&lt;dbl&gt;</th><th scope=col>&lt;dbl&gt;</th><th scope=col>&lt;fct&gt;</th><th scope=col>&lt;dbl&gt;</th></tr>\n",
       "</thead>\n",
       "<tbody>\n",
       "\t<tr><td>23</td><td>Scientist</td><td>19114.12</td><td>3</td><td>4</td><td>3</td><td>4</td><td>5</td><td>4</td><td> 6.27</td><td>⋯</td><td>No</td><td>49.57495</td><td>199.45807</td><td>Low_spent_Small_value_payments  </td><td>223.4513</td><td>Good    </td><td>268</td><td>3</td><td>13</td><td>3</td></tr>\n",
       "\t<tr><td>23</td><td>Scientist</td><td>19114.12</td><td>3</td><td>4</td><td>3</td><td>4</td><td>3</td><td>8</td><td>11.27</td><td>⋯</td><td>No</td><td>49.57495</td><td>178.34407</td><td>Low_spent_Small_value_payments  </td><td>244.5653</td><td>Good    </td><td>271</td><td>3</td><td>13</td><td>3</td></tr>\n",
       "\t<tr><td>23</td><td>Scientist</td><td>19114.12</td><td>3</td><td>4</td><td>3</td><td>4</td><td>3</td><td>6</td><td>11.27</td><td>⋯</td><td>No</td><td>49.57495</td><td> 24.78522</td><td>High_spent_Medium_value_payments</td><td>358.1242</td><td>Standard</td><td>  0</td><td>2</td><td>13</td><td>3</td></tr>\n",
       "\t<tr><td>28</td><td>Teacher  </td><td>34847.84</td><td>2</td><td>4</td><td>6</td><td>1</td><td>7</td><td>1</td><td> 7.42</td><td>⋯</td><td>No</td><td>18.81621</td><td> 40.39124</td><td>High_spent_Large_value_payments </td><td>484.5912</td><td>Good    </td><td>320</td><td>3</td><td>14</td><td>3</td></tr>\n",
       "\t<tr><td>28</td><td>Teacher  </td><td>34847.84</td><td>2</td><td>4</td><td>6</td><td>1</td><td>3</td><td>3</td><td> 5.42</td><td>⋯</td><td>No</td><td>18.81621</td><td> 99.30623</td><td>Low_spent_Medium_value_payments </td><td>465.6762</td><td>Good    </td><td>322</td><td>3</td><td>14</td><td>3</td></tr>\n",
       "\t<tr><td>28</td><td>Teacher  </td><td>34847.84</td><td>2</td><td>4</td><td>6</td><td>1</td><td>3</td><td>1</td><td> 6.42</td><td>⋯</td><td>No</td><td>18.81621</td><td>130.11542</td><td>Low_spent_Small_value_payments  </td><td>444.8670</td><td>Good    </td><td>323</td><td>3</td><td>14</td><td>3</td></tr>\n",
       "</tbody>\n",
       "</table>\n"
      ],
      "text/latex": [
       "A data.table: 6 × 24\n",
       "\\begin{tabular}{lllllllllllllllllllll}\n",
       " Age & Occupation & Annual\\_Income & Num\\_Bank\\_Accounts & Num\\_Credit\\_Card & Interest\\_Rate & Num\\_of\\_Loan & Delay\\_from\\_due\\_date & Num\\_of\\_Delayed\\_Payment & Changed\\_Credit\\_Limit & ⋯ & Payment\\_of\\_Min\\_Amount & Total\\_EMI\\_per\\_month & Amount\\_invested\\_monthly & Payment\\_Behaviour & Monthly\\_Balance & Credit\\_Score & Credit\\_History\\_Age\\_Months & Credit\\_Score\\_Encoded & Occupation\\_Encoded & Credit\\_Mix\\_Encoded\\\\\n",
       " <int> & <chr> & <dbl> & <int> & <int> & <int> & <int> & <int> & <int> & <dbl> & ⋯ & <chr> & <dbl> & <dbl> & <chr> & <dbl> & <chr> & <dbl> & <dbl> & <fct> & <dbl>\\\\\n",
       "\\hline\n",
       "\t 23 & Scientist & 19114.12 & 3 & 4 & 3 & 4 & 5 & 4 &  6.27 & ⋯ & No & 49.57495 & 199.45807 & Low\\_spent\\_Small\\_value\\_payments   & 223.4513 & Good     & 268 & 3 & 13 & 3\\\\\n",
       "\t 23 & Scientist & 19114.12 & 3 & 4 & 3 & 4 & 3 & 8 & 11.27 & ⋯ & No & 49.57495 & 178.34407 & Low\\_spent\\_Small\\_value\\_payments   & 244.5653 & Good     & 271 & 3 & 13 & 3\\\\\n",
       "\t 23 & Scientist & 19114.12 & 3 & 4 & 3 & 4 & 3 & 6 & 11.27 & ⋯ & No & 49.57495 &  24.78522 & High\\_spent\\_Medium\\_value\\_payments & 358.1242 & Standard &   0 & 2 & 13 & 3\\\\\n",
       "\t 28 & Teacher   & 34847.84 & 2 & 4 & 6 & 1 & 7 & 1 &  7.42 & ⋯ & No & 18.81621 &  40.39124 & High\\_spent\\_Large\\_value\\_payments  & 484.5912 & Good     & 320 & 3 & 14 & 3\\\\\n",
       "\t 28 & Teacher   & 34847.84 & 2 & 4 & 6 & 1 & 3 & 3 &  5.42 & ⋯ & No & 18.81621 &  99.30623 & Low\\_spent\\_Medium\\_value\\_payments  & 465.6762 & Good     & 322 & 3 & 14 & 3\\\\\n",
       "\t 28 & Teacher   & 34847.84 & 2 & 4 & 6 & 1 & 3 & 1 &  6.42 & ⋯ & No & 18.81621 & 130.11542 & Low\\_spent\\_Small\\_value\\_payments   & 444.8670 & Good     & 323 & 3 & 14 & 3\\\\\n",
       "\\end{tabular}\n"
      ],
      "text/markdown": [
       "\n",
       "A data.table: 6 × 24\n",
       "\n",
       "| Age &lt;int&gt; | Occupation &lt;chr&gt; | Annual_Income &lt;dbl&gt; | Num_Bank_Accounts &lt;int&gt; | Num_Credit_Card &lt;int&gt; | Interest_Rate &lt;int&gt; | Num_of_Loan &lt;int&gt; | Delay_from_due_date &lt;int&gt; | Num_of_Delayed_Payment &lt;int&gt; | Changed_Credit_Limit &lt;dbl&gt; | ⋯ ⋯ | Payment_of_Min_Amount &lt;chr&gt; | Total_EMI_per_month &lt;dbl&gt; | Amount_invested_monthly &lt;dbl&gt; | Payment_Behaviour &lt;chr&gt; | Monthly_Balance &lt;dbl&gt; | Credit_Score &lt;chr&gt; | Credit_History_Age_Months &lt;dbl&gt; | Credit_Score_Encoded &lt;dbl&gt; | Occupation_Encoded &lt;fct&gt; | Credit_Mix_Encoded &lt;dbl&gt; |\n",
       "|---|---|---|---|---|---|---|---|---|---|---|---|---|---|---|---|---|---|---|---|---|\n",
       "| 23 | Scientist | 19114.12 | 3 | 4 | 3 | 4 | 5 | 4 |  6.27 | ⋯ | No | 49.57495 | 199.45807 | Low_spent_Small_value_payments   | 223.4513 | Good     | 268 | 3 | 13 | 3 |\n",
       "| 23 | Scientist | 19114.12 | 3 | 4 | 3 | 4 | 3 | 8 | 11.27 | ⋯ | No | 49.57495 | 178.34407 | Low_spent_Small_value_payments   | 244.5653 | Good     | 271 | 3 | 13 | 3 |\n",
       "| 23 | Scientist | 19114.12 | 3 | 4 | 3 | 4 | 3 | 6 | 11.27 | ⋯ | No | 49.57495 |  24.78522 | High_spent_Medium_value_payments | 358.1242 | Standard |   0 | 2 | 13 | 3 |\n",
       "| 28 | Teacher   | 34847.84 | 2 | 4 | 6 | 1 | 7 | 1 |  7.42 | ⋯ | No | 18.81621 |  40.39124 | High_spent_Large_value_payments  | 484.5912 | Good     | 320 | 3 | 14 | 3 |\n",
       "| 28 | Teacher   | 34847.84 | 2 | 4 | 6 | 1 | 3 | 3 |  5.42 | ⋯ | No | 18.81621 |  99.30623 | Low_spent_Medium_value_payments  | 465.6762 | Good     | 322 | 3 | 14 | 3 |\n",
       "| 28 | Teacher   | 34847.84 | 2 | 4 | 6 | 1 | 3 | 1 |  6.42 | ⋯ | No | 18.81621 | 130.11542 | Low_spent_Small_value_payments   | 444.8670 | Good     | 323 | 3 | 14 | 3 |\n",
       "\n"
      ],
      "text/plain": [
       "  Age Occupation Annual_Income Num_Bank_Accounts Num_Credit_Card Interest_Rate\n",
       "1 23  Scientist  19114.12      3                 4               3            \n",
       "2 23  Scientist  19114.12      3                 4               3            \n",
       "3 23  Scientist  19114.12      3                 4               3            \n",
       "4 28  Teacher    34847.84      2                 4               6            \n",
       "5 28  Teacher    34847.84      2                 4               6            \n",
       "6 28  Teacher    34847.84      2                 4               6            \n",
       "  Num_of_Loan Delay_from_due_date Num_of_Delayed_Payment Changed_Credit_Limit ⋯\n",
       "1 4           5                   4                       6.27                ⋯\n",
       "2 4           3                   8                      11.27                ⋯\n",
       "3 4           3                   6                      11.27                ⋯\n",
       "4 1           7                   1                       7.42                ⋯\n",
       "5 1           3                   3                       5.42                ⋯\n",
       "6 1           3                   1                       6.42                ⋯\n",
       "  Payment_of_Min_Amount Total_EMI_per_month Amount_invested_monthly\n",
       "1 No                    49.57495            199.45807              \n",
       "2 No                    49.57495            178.34407              \n",
       "3 No                    49.57495             24.78522              \n",
       "4 No                    18.81621             40.39124              \n",
       "5 No                    18.81621             99.30623              \n",
       "6 No                    18.81621            130.11542              \n",
       "  Payment_Behaviour                Monthly_Balance Credit_Score\n",
       "1 Low_spent_Small_value_payments   223.4513        Good        \n",
       "2 Low_spent_Small_value_payments   244.5653        Good        \n",
       "3 High_spent_Medium_value_payments 358.1242        Standard    \n",
       "4 High_spent_Large_value_payments  484.5912        Good        \n",
       "5 Low_spent_Medium_value_payments  465.6762        Good        \n",
       "6 Low_spent_Small_value_payments   444.8670        Good        \n",
       "  Credit_History_Age_Months Credit_Score_Encoded Occupation_Encoded\n",
       "1 268                       3                    13                \n",
       "2 271                       3                    13                \n",
       "3   0                       2                    13                \n",
       "4 320                       3                    14                \n",
       "5 322                       3                    14                \n",
       "6 323                       3                    14                \n",
       "  Credit_Mix_Encoded\n",
       "1 3                 \n",
       "2 3                 \n",
       "3 3                 \n",
       "4 3                 \n",
       "5 3                 \n",
       "6 3                 "
      ]
     },
     "metadata": {},
     "output_type": "display_data"
    }
   ],
   "source": [
    "# Define the order of categories\n",
    "categories <- c(\"Poor\", \"Standard\", \"Good\")\n",
    "\n",
    "# Convert 'Credit_Mix_Encoded' to factor with specified levels\n",
    "train$Credit_Mix_Encoded <- factor(train$Credit_Mix, levels = categories)\n",
    "\n",
    "# Convert factor to numeric while preserving order\n",
    "train$Credit_Mix_Encoded <- as.numeric(train$Credit_Mix_Encoded)\n",
    "# Print the first few rows of the updated data table\n",
    "head(train)"
   ]
  },
  {
   "cell_type": "code",
   "execution_count": 120,
   "metadata": {
    "vscode": {
     "languageId": "r"
    }
   },
   "outputs": [
    {
     "data": {
      "text/html": [
       "<table class=\"dataframe\">\n",
       "<caption>A data.table: 6 × 25</caption>\n",
       "<thead>\n",
       "\t<tr><th scope=col>Age</th><th scope=col>Occupation</th><th scope=col>Annual_Income</th><th scope=col>Num_Bank_Accounts</th><th scope=col>Num_Credit_Card</th><th scope=col>Interest_Rate</th><th scope=col>Num_of_Loan</th><th scope=col>Delay_from_due_date</th><th scope=col>Num_of_Delayed_Payment</th><th scope=col>Changed_Credit_Limit</th><th scope=col>⋯</th><th scope=col>Total_EMI_per_month</th><th scope=col>Amount_invested_monthly</th><th scope=col>Payment_Behaviour</th><th scope=col>Monthly_Balance</th><th scope=col>Credit_Score</th><th scope=col>Credit_History_Age_Months</th><th scope=col>Credit_Score_Encoded</th><th scope=col>Occupation_Encoded</th><th scope=col>Credit_Mix_Encoded</th><th scope=col>Payment_Behaviour_Encoded</th></tr>\n",
       "\t<tr><th scope=col>&lt;int&gt;</th><th scope=col>&lt;chr&gt;</th><th scope=col>&lt;dbl&gt;</th><th scope=col>&lt;int&gt;</th><th scope=col>&lt;int&gt;</th><th scope=col>&lt;int&gt;</th><th scope=col>&lt;int&gt;</th><th scope=col>&lt;int&gt;</th><th scope=col>&lt;int&gt;</th><th scope=col>&lt;dbl&gt;</th><th scope=col>⋯</th><th scope=col>&lt;dbl&gt;</th><th scope=col>&lt;dbl&gt;</th><th scope=col>&lt;chr&gt;</th><th scope=col>&lt;dbl&gt;</th><th scope=col>&lt;chr&gt;</th><th scope=col>&lt;dbl&gt;</th><th scope=col>&lt;dbl&gt;</th><th scope=col>&lt;fct&gt;</th><th scope=col>&lt;dbl&gt;</th><th scope=col>&lt;ord&gt;</th></tr>\n",
       "</thead>\n",
       "<tbody>\n",
       "\t<tr><td>23</td><td>Scientist</td><td>19114.12</td><td>3</td><td>4</td><td>3</td><td>4</td><td>5</td><td>4</td><td> 6.27</td><td>⋯</td><td>49.57495</td><td>199.45807</td><td>Low_spent_Small_value_payments  </td><td>223.4513</td><td>Good    </td><td>268</td><td>3</td><td>13</td><td>3</td><td>Low_spent_Small_value_payments  </td></tr>\n",
       "\t<tr><td>23</td><td>Scientist</td><td>19114.12</td><td>3</td><td>4</td><td>3</td><td>4</td><td>3</td><td>8</td><td>11.27</td><td>⋯</td><td>49.57495</td><td>178.34407</td><td>Low_spent_Small_value_payments  </td><td>244.5653</td><td>Good    </td><td>271</td><td>3</td><td>13</td><td>3</td><td>Low_spent_Small_value_payments  </td></tr>\n",
       "\t<tr><td>23</td><td>Scientist</td><td>19114.12</td><td>3</td><td>4</td><td>3</td><td>4</td><td>3</td><td>6</td><td>11.27</td><td>⋯</td><td>49.57495</td><td> 24.78522</td><td>High_spent_Medium_value_payments</td><td>358.1242</td><td>Standard</td><td>  0</td><td>2</td><td>13</td><td>3</td><td>High_spent_Medium_value_payments</td></tr>\n",
       "\t<tr><td>28</td><td>Teacher  </td><td>34847.84</td><td>2</td><td>4</td><td>6</td><td>1</td><td>7</td><td>1</td><td> 7.42</td><td>⋯</td><td>18.81621</td><td> 40.39124</td><td>High_spent_Large_value_payments </td><td>484.5912</td><td>Good    </td><td>320</td><td>3</td><td>14</td><td>3</td><td>High_spent_Large_value_payments </td></tr>\n",
       "\t<tr><td>28</td><td>Teacher  </td><td>34847.84</td><td>2</td><td>4</td><td>6</td><td>1</td><td>3</td><td>3</td><td> 5.42</td><td>⋯</td><td>18.81621</td><td> 99.30623</td><td>Low_spent_Medium_value_payments </td><td>465.6762</td><td>Good    </td><td>322</td><td>3</td><td>14</td><td>3</td><td>Low_spent_Medium_value_payments </td></tr>\n",
       "\t<tr><td>28</td><td>Teacher  </td><td>34847.84</td><td>2</td><td>4</td><td>6</td><td>1</td><td>3</td><td>1</td><td> 6.42</td><td>⋯</td><td>18.81621</td><td>130.11542</td><td>Low_spent_Small_value_payments  </td><td>444.8670</td><td>Good    </td><td>323</td><td>3</td><td>14</td><td>3</td><td>Low_spent_Small_value_payments  </td></tr>\n",
       "</tbody>\n",
       "</table>\n"
      ],
      "text/latex": [
       "A data.table: 6 × 25\n",
       "\\begin{tabular}{lllllllllllllllllllll}\n",
       " Age & Occupation & Annual\\_Income & Num\\_Bank\\_Accounts & Num\\_Credit\\_Card & Interest\\_Rate & Num\\_of\\_Loan & Delay\\_from\\_due\\_date & Num\\_of\\_Delayed\\_Payment & Changed\\_Credit\\_Limit & ⋯ & Total\\_EMI\\_per\\_month & Amount\\_invested\\_monthly & Payment\\_Behaviour & Monthly\\_Balance & Credit\\_Score & Credit\\_History\\_Age\\_Months & Credit\\_Score\\_Encoded & Occupation\\_Encoded & Credit\\_Mix\\_Encoded & Payment\\_Behaviour\\_Encoded\\\\\n",
       " <int> & <chr> & <dbl> & <int> & <int> & <int> & <int> & <int> & <int> & <dbl> & ⋯ & <dbl> & <dbl> & <chr> & <dbl> & <chr> & <dbl> & <dbl> & <fct> & <dbl> & <ord>\\\\\n",
       "\\hline\n",
       "\t 23 & Scientist & 19114.12 & 3 & 4 & 3 & 4 & 5 & 4 &  6.27 & ⋯ & 49.57495 & 199.45807 & Low\\_spent\\_Small\\_value\\_payments   & 223.4513 & Good     & 268 & 3 & 13 & 3 & Low\\_spent\\_Small\\_value\\_payments  \\\\\n",
       "\t 23 & Scientist & 19114.12 & 3 & 4 & 3 & 4 & 3 & 8 & 11.27 & ⋯ & 49.57495 & 178.34407 & Low\\_spent\\_Small\\_value\\_payments   & 244.5653 & Good     & 271 & 3 & 13 & 3 & Low\\_spent\\_Small\\_value\\_payments  \\\\\n",
       "\t 23 & Scientist & 19114.12 & 3 & 4 & 3 & 4 & 3 & 6 & 11.27 & ⋯ & 49.57495 &  24.78522 & High\\_spent\\_Medium\\_value\\_payments & 358.1242 & Standard &   0 & 2 & 13 & 3 & High\\_spent\\_Medium\\_value\\_payments\\\\\n",
       "\t 28 & Teacher   & 34847.84 & 2 & 4 & 6 & 1 & 7 & 1 &  7.42 & ⋯ & 18.81621 &  40.39124 & High\\_spent\\_Large\\_value\\_payments  & 484.5912 & Good     & 320 & 3 & 14 & 3 & High\\_spent\\_Large\\_value\\_payments \\\\\n",
       "\t 28 & Teacher   & 34847.84 & 2 & 4 & 6 & 1 & 3 & 3 &  5.42 & ⋯ & 18.81621 &  99.30623 & Low\\_spent\\_Medium\\_value\\_payments  & 465.6762 & Good     & 322 & 3 & 14 & 3 & Low\\_spent\\_Medium\\_value\\_payments \\\\\n",
       "\t 28 & Teacher   & 34847.84 & 2 & 4 & 6 & 1 & 3 & 1 &  6.42 & ⋯ & 18.81621 & 130.11542 & Low\\_spent\\_Small\\_value\\_payments   & 444.8670 & Good     & 323 & 3 & 14 & 3 & Low\\_spent\\_Small\\_value\\_payments  \\\\\n",
       "\\end{tabular}\n"
      ],
      "text/markdown": [
       "\n",
       "A data.table: 6 × 25\n",
       "\n",
       "| Age &lt;int&gt; | Occupation &lt;chr&gt; | Annual_Income &lt;dbl&gt; | Num_Bank_Accounts &lt;int&gt; | Num_Credit_Card &lt;int&gt; | Interest_Rate &lt;int&gt; | Num_of_Loan &lt;int&gt; | Delay_from_due_date &lt;int&gt; | Num_of_Delayed_Payment &lt;int&gt; | Changed_Credit_Limit &lt;dbl&gt; | ⋯ ⋯ | Total_EMI_per_month &lt;dbl&gt; | Amount_invested_monthly &lt;dbl&gt; | Payment_Behaviour &lt;chr&gt; | Monthly_Balance &lt;dbl&gt; | Credit_Score &lt;chr&gt; | Credit_History_Age_Months &lt;dbl&gt; | Credit_Score_Encoded &lt;dbl&gt; | Occupation_Encoded &lt;fct&gt; | Credit_Mix_Encoded &lt;dbl&gt; | Payment_Behaviour_Encoded &lt;ord&gt; |\n",
       "|---|---|---|---|---|---|---|---|---|---|---|---|---|---|---|---|---|---|---|---|---|\n",
       "| 23 | Scientist | 19114.12 | 3 | 4 | 3 | 4 | 5 | 4 |  6.27 | ⋯ | 49.57495 | 199.45807 | Low_spent_Small_value_payments   | 223.4513 | Good     | 268 | 3 | 13 | 3 | Low_spent_Small_value_payments   |\n",
       "| 23 | Scientist | 19114.12 | 3 | 4 | 3 | 4 | 3 | 8 | 11.27 | ⋯ | 49.57495 | 178.34407 | Low_spent_Small_value_payments   | 244.5653 | Good     | 271 | 3 | 13 | 3 | Low_spent_Small_value_payments   |\n",
       "| 23 | Scientist | 19114.12 | 3 | 4 | 3 | 4 | 3 | 6 | 11.27 | ⋯ | 49.57495 |  24.78522 | High_spent_Medium_value_payments | 358.1242 | Standard |   0 | 2 | 13 | 3 | High_spent_Medium_value_payments |\n",
       "| 28 | Teacher   | 34847.84 | 2 | 4 | 6 | 1 | 7 | 1 |  7.42 | ⋯ | 18.81621 |  40.39124 | High_spent_Large_value_payments  | 484.5912 | Good     | 320 | 3 | 14 | 3 | High_spent_Large_value_payments  |\n",
       "| 28 | Teacher   | 34847.84 | 2 | 4 | 6 | 1 | 3 | 3 |  5.42 | ⋯ | 18.81621 |  99.30623 | Low_spent_Medium_value_payments  | 465.6762 | Good     | 322 | 3 | 14 | 3 | Low_spent_Medium_value_payments  |\n",
       "| 28 | Teacher   | 34847.84 | 2 | 4 | 6 | 1 | 3 | 1 |  6.42 | ⋯ | 18.81621 | 130.11542 | Low_spent_Small_value_payments   | 444.8670 | Good     | 323 | 3 | 14 | 3 | Low_spent_Small_value_payments   |\n",
       "\n"
      ],
      "text/plain": [
       "  Age Occupation Annual_Income Num_Bank_Accounts Num_Credit_Card Interest_Rate\n",
       "1 23  Scientist  19114.12      3                 4               3            \n",
       "2 23  Scientist  19114.12      3                 4               3            \n",
       "3 23  Scientist  19114.12      3                 4               3            \n",
       "4 28  Teacher    34847.84      2                 4               6            \n",
       "5 28  Teacher    34847.84      2                 4               6            \n",
       "6 28  Teacher    34847.84      2                 4               6            \n",
       "  Num_of_Loan Delay_from_due_date Num_of_Delayed_Payment Changed_Credit_Limit ⋯\n",
       "1 4           5                   4                       6.27                ⋯\n",
       "2 4           3                   8                      11.27                ⋯\n",
       "3 4           3                   6                      11.27                ⋯\n",
       "4 1           7                   1                       7.42                ⋯\n",
       "5 1           3                   3                       5.42                ⋯\n",
       "6 1           3                   1                       6.42                ⋯\n",
       "  Total_EMI_per_month Amount_invested_monthly Payment_Behaviour               \n",
       "1 49.57495            199.45807               Low_spent_Small_value_payments  \n",
       "2 49.57495            178.34407               Low_spent_Small_value_payments  \n",
       "3 49.57495             24.78522               High_spent_Medium_value_payments\n",
       "4 18.81621             40.39124               High_spent_Large_value_payments \n",
       "5 18.81621             99.30623               Low_spent_Medium_value_payments \n",
       "6 18.81621            130.11542               Low_spent_Small_value_payments  \n",
       "  Monthly_Balance Credit_Score Credit_History_Age_Months Credit_Score_Encoded\n",
       "1 223.4513        Good         268                       3                   \n",
       "2 244.5653        Good         271                       3                   \n",
       "3 358.1242        Standard       0                       2                   \n",
       "4 484.5912        Good         320                       3                   \n",
       "5 465.6762        Good         322                       3                   \n",
       "6 444.8670        Good         323                       3                   \n",
       "  Occupation_Encoded Credit_Mix_Encoded Payment_Behaviour_Encoded       \n",
       "1 13                 3                  Low_spent_Small_value_payments  \n",
       "2 13                 3                  Low_spent_Small_value_payments  \n",
       "3 13                 3                  High_spent_Medium_value_payments\n",
       "4 14                 3                  High_spent_Large_value_payments \n",
       "5 14                 3                  Low_spent_Medium_value_payments \n",
       "6 14                 3                  Low_spent_Small_value_payments  "
      ]
     },
     "metadata": {},
     "output_type": "display_data"
    }
   ],
   "source": [
    "\n",
    "# Define categories\n",
    "categories_payment_behaviour <- c(\n",
    "  'Low_spent_Small_value_payments', \n",
    "  'Low_spent_Medium_value_payments', \n",
    "  'Low_spent_Large_value_payments', \n",
    "  'High_spent_Small_value_payments', \n",
    "  'High_spent_Medium_value_payments', \n",
    "  'High_spent_Large_value_payments'\n",
    ")\n",
    "\n",
    "# Encode 'Payment_Behaviour' column\n",
    "train[, Payment_Behaviour_Encoded := factor(Payment_Behaviour, levels = categories_payment_behaviour, ordered = TRUE)]\n",
    "\n",
    "# Print the first few rows of the updated data table\n",
    "head(train)"
   ]
  },
  {
   "cell_type": "code",
   "execution_count": 121,
   "metadata": {
    "vscode": {
     "languageId": "r"
    }
   },
   "outputs": [
    {
     "data": {
      "text/html": [
       "<table class=\"dataframe\">\n",
       "<caption>A data.table: 6 × 21</caption>\n",
       "<thead>\n",
       "\t<tr><th scope=col>Age</th><th scope=col>Annual_Income</th><th scope=col>Num_Bank_Accounts</th><th scope=col>Num_Credit_Card</th><th scope=col>Interest_Rate</th><th scope=col>Num_of_Loan</th><th scope=col>Delay_from_due_date</th><th scope=col>Num_of_Delayed_Payment</th><th scope=col>Changed_Credit_Limit</th><th scope=col>Num_Credit_Inquiries</th><th scope=col>⋯</th><th scope=col>Credit_Utilization_Ratio</th><th scope=col>Payment_of_Min_Amount</th><th scope=col>Total_EMI_per_month</th><th scope=col>Amount_invested_monthly</th><th scope=col>Monthly_Balance</th><th scope=col>Credit_History_Age_Months</th><th scope=col>Credit_Score_Encoded</th><th scope=col>Occupation_Encoded</th><th scope=col>Credit_Mix_Encoded</th><th scope=col>Payment_Behaviour_Encoded</th></tr>\n",
       "\t<tr><th scope=col>&lt;int&gt;</th><th scope=col>&lt;dbl&gt;</th><th scope=col>&lt;int&gt;</th><th scope=col>&lt;int&gt;</th><th scope=col>&lt;int&gt;</th><th scope=col>&lt;int&gt;</th><th scope=col>&lt;int&gt;</th><th scope=col>&lt;int&gt;</th><th scope=col>&lt;dbl&gt;</th><th scope=col>&lt;dbl&gt;</th><th scope=col>⋯</th><th scope=col>&lt;dbl&gt;</th><th scope=col>&lt;chr&gt;</th><th scope=col>&lt;dbl&gt;</th><th scope=col>&lt;dbl&gt;</th><th scope=col>&lt;dbl&gt;</th><th scope=col>&lt;dbl&gt;</th><th scope=col>&lt;dbl&gt;</th><th scope=col>&lt;fct&gt;</th><th scope=col>&lt;dbl&gt;</th><th scope=col>&lt;ord&gt;</th></tr>\n",
       "</thead>\n",
       "<tbody>\n",
       "\t<tr><td>23</td><td>19114.12</td><td>3</td><td>4</td><td>3</td><td>4</td><td>5</td><td>4</td><td> 6.27</td><td>4</td><td>⋯</td><td>31.37786</td><td>No</td><td>49.57495</td><td>199.45807</td><td>223.4513</td><td>268</td><td>3</td><td>13</td><td>3</td><td>Low_spent_Small_value_payments  </td></tr>\n",
       "\t<tr><td>23</td><td>19114.12</td><td>3</td><td>4</td><td>3</td><td>4</td><td>3</td><td>8</td><td>11.27</td><td>4</td><td>⋯</td><td>22.53759</td><td>No</td><td>49.57495</td><td>178.34407</td><td>244.5653</td><td>271</td><td>3</td><td>13</td><td>3</td><td>Low_spent_Small_value_payments  </td></tr>\n",
       "\t<tr><td>23</td><td>19114.12</td><td>3</td><td>4</td><td>3</td><td>4</td><td>3</td><td>6</td><td>11.27</td><td>4</td><td>⋯</td><td>23.93379</td><td>No</td><td>49.57495</td><td> 24.78522</td><td>358.1242</td><td>  0</td><td>2</td><td>13</td><td>3</td><td>High_spent_Medium_value_payments</td></tr>\n",
       "\t<tr><td>28</td><td>34847.84</td><td>2</td><td>4</td><td>6</td><td>1</td><td>7</td><td>1</td><td> 7.42</td><td>2</td><td>⋯</td><td>38.55085</td><td>No</td><td>18.81621</td><td> 40.39124</td><td>484.5912</td><td>320</td><td>3</td><td>14</td><td>3</td><td>High_spent_Large_value_payments </td></tr>\n",
       "\t<tr><td>28</td><td>34847.84</td><td>2</td><td>4</td><td>6</td><td>1</td><td>3</td><td>3</td><td> 5.42</td><td>2</td><td>⋯</td><td>39.18266</td><td>No</td><td>18.81621</td><td> 99.30623</td><td>465.6762</td><td>322</td><td>3</td><td>14</td><td>3</td><td>Low_spent_Medium_value_payments </td></tr>\n",
       "\t<tr><td>28</td><td>34847.84</td><td>2</td><td>4</td><td>6</td><td>1</td><td>3</td><td>1</td><td> 6.42</td><td>2</td><td>⋯</td><td>34.97789</td><td>No</td><td>18.81621</td><td>130.11542</td><td>444.8670</td><td>323</td><td>3</td><td>14</td><td>3</td><td>Low_spent_Small_value_payments  </td></tr>\n",
       "</tbody>\n",
       "</table>\n"
      ],
      "text/latex": [
       "A data.table: 6 × 21\n",
       "\\begin{tabular}{lllllllllllllllllllll}\n",
       " Age & Annual\\_Income & Num\\_Bank\\_Accounts & Num\\_Credit\\_Card & Interest\\_Rate & Num\\_of\\_Loan & Delay\\_from\\_due\\_date & Num\\_of\\_Delayed\\_Payment & Changed\\_Credit\\_Limit & Num\\_Credit\\_Inquiries & ⋯ & Credit\\_Utilization\\_Ratio & Payment\\_of\\_Min\\_Amount & Total\\_EMI\\_per\\_month & Amount\\_invested\\_monthly & Monthly\\_Balance & Credit\\_History\\_Age\\_Months & Credit\\_Score\\_Encoded & Occupation\\_Encoded & Credit\\_Mix\\_Encoded & Payment\\_Behaviour\\_Encoded\\\\\n",
       " <int> & <dbl> & <int> & <int> & <int> & <int> & <int> & <int> & <dbl> & <dbl> & ⋯ & <dbl> & <chr> & <dbl> & <dbl> & <dbl> & <dbl> & <dbl> & <fct> & <dbl> & <ord>\\\\\n",
       "\\hline\n",
       "\t 23 & 19114.12 & 3 & 4 & 3 & 4 & 5 & 4 &  6.27 & 4 & ⋯ & 31.37786 & No & 49.57495 & 199.45807 & 223.4513 & 268 & 3 & 13 & 3 & Low\\_spent\\_Small\\_value\\_payments  \\\\\n",
       "\t 23 & 19114.12 & 3 & 4 & 3 & 4 & 3 & 8 & 11.27 & 4 & ⋯ & 22.53759 & No & 49.57495 & 178.34407 & 244.5653 & 271 & 3 & 13 & 3 & Low\\_spent\\_Small\\_value\\_payments  \\\\\n",
       "\t 23 & 19114.12 & 3 & 4 & 3 & 4 & 3 & 6 & 11.27 & 4 & ⋯ & 23.93379 & No & 49.57495 &  24.78522 & 358.1242 &   0 & 2 & 13 & 3 & High\\_spent\\_Medium\\_value\\_payments\\\\\n",
       "\t 28 & 34847.84 & 2 & 4 & 6 & 1 & 7 & 1 &  7.42 & 2 & ⋯ & 38.55085 & No & 18.81621 &  40.39124 & 484.5912 & 320 & 3 & 14 & 3 & High\\_spent\\_Large\\_value\\_payments \\\\\n",
       "\t 28 & 34847.84 & 2 & 4 & 6 & 1 & 3 & 3 &  5.42 & 2 & ⋯ & 39.18266 & No & 18.81621 &  99.30623 & 465.6762 & 322 & 3 & 14 & 3 & Low\\_spent\\_Medium\\_value\\_payments \\\\\n",
       "\t 28 & 34847.84 & 2 & 4 & 6 & 1 & 3 & 1 &  6.42 & 2 & ⋯ & 34.97789 & No & 18.81621 & 130.11542 & 444.8670 & 323 & 3 & 14 & 3 & Low\\_spent\\_Small\\_value\\_payments  \\\\\n",
       "\\end{tabular}\n"
      ],
      "text/markdown": [
       "\n",
       "A data.table: 6 × 21\n",
       "\n",
       "| Age &lt;int&gt; | Annual_Income &lt;dbl&gt; | Num_Bank_Accounts &lt;int&gt; | Num_Credit_Card &lt;int&gt; | Interest_Rate &lt;int&gt; | Num_of_Loan &lt;int&gt; | Delay_from_due_date &lt;int&gt; | Num_of_Delayed_Payment &lt;int&gt; | Changed_Credit_Limit &lt;dbl&gt; | Num_Credit_Inquiries &lt;dbl&gt; | ⋯ ⋯ | Credit_Utilization_Ratio &lt;dbl&gt; | Payment_of_Min_Amount &lt;chr&gt; | Total_EMI_per_month &lt;dbl&gt; | Amount_invested_monthly &lt;dbl&gt; | Monthly_Balance &lt;dbl&gt; | Credit_History_Age_Months &lt;dbl&gt; | Credit_Score_Encoded &lt;dbl&gt; | Occupation_Encoded &lt;fct&gt; | Credit_Mix_Encoded &lt;dbl&gt; | Payment_Behaviour_Encoded &lt;ord&gt; |\n",
       "|---|---|---|---|---|---|---|---|---|---|---|---|---|---|---|---|---|---|---|---|---|\n",
       "| 23 | 19114.12 | 3 | 4 | 3 | 4 | 5 | 4 |  6.27 | 4 | ⋯ | 31.37786 | No | 49.57495 | 199.45807 | 223.4513 | 268 | 3 | 13 | 3 | Low_spent_Small_value_payments   |\n",
       "| 23 | 19114.12 | 3 | 4 | 3 | 4 | 3 | 8 | 11.27 | 4 | ⋯ | 22.53759 | No | 49.57495 | 178.34407 | 244.5653 | 271 | 3 | 13 | 3 | Low_spent_Small_value_payments   |\n",
       "| 23 | 19114.12 | 3 | 4 | 3 | 4 | 3 | 6 | 11.27 | 4 | ⋯ | 23.93379 | No | 49.57495 |  24.78522 | 358.1242 |   0 | 2 | 13 | 3 | High_spent_Medium_value_payments |\n",
       "| 28 | 34847.84 | 2 | 4 | 6 | 1 | 7 | 1 |  7.42 | 2 | ⋯ | 38.55085 | No | 18.81621 |  40.39124 | 484.5912 | 320 | 3 | 14 | 3 | High_spent_Large_value_payments  |\n",
       "| 28 | 34847.84 | 2 | 4 | 6 | 1 | 3 | 3 |  5.42 | 2 | ⋯ | 39.18266 | No | 18.81621 |  99.30623 | 465.6762 | 322 | 3 | 14 | 3 | Low_spent_Medium_value_payments  |\n",
       "| 28 | 34847.84 | 2 | 4 | 6 | 1 | 3 | 1 |  6.42 | 2 | ⋯ | 34.97789 | No | 18.81621 | 130.11542 | 444.8670 | 323 | 3 | 14 | 3 | Low_spent_Small_value_payments   |\n",
       "\n"
      ],
      "text/plain": [
       "  Age Annual_Income Num_Bank_Accounts Num_Credit_Card Interest_Rate Num_of_Loan\n",
       "1 23  19114.12      3                 4               3             4          \n",
       "2 23  19114.12      3                 4               3             4          \n",
       "3 23  19114.12      3                 4               3             4          \n",
       "4 28  34847.84      2                 4               6             1          \n",
       "5 28  34847.84      2                 4               6             1          \n",
       "6 28  34847.84      2                 4               6             1          \n",
       "  Delay_from_due_date Num_of_Delayed_Payment Changed_Credit_Limit\n",
       "1 5                   4                       6.27               \n",
       "2 3                   8                      11.27               \n",
       "3 3                   6                      11.27               \n",
       "4 7                   1                       7.42               \n",
       "5 3                   3                       5.42               \n",
       "6 3                   1                       6.42               \n",
       "  Num_Credit_Inquiries ⋯ Credit_Utilization_Ratio Payment_of_Min_Amount\n",
       "1 4                    ⋯ 31.37786                 No                   \n",
       "2 4                    ⋯ 22.53759                 No                   \n",
       "3 4                    ⋯ 23.93379                 No                   \n",
       "4 2                    ⋯ 38.55085                 No                   \n",
       "5 2                    ⋯ 39.18266                 No                   \n",
       "6 2                    ⋯ 34.97789                 No                   \n",
       "  Total_EMI_per_month Amount_invested_monthly Monthly_Balance\n",
       "1 49.57495            199.45807               223.4513       \n",
       "2 49.57495            178.34407               244.5653       \n",
       "3 49.57495             24.78522               358.1242       \n",
       "4 18.81621             40.39124               484.5912       \n",
       "5 18.81621             99.30623               465.6762       \n",
       "6 18.81621            130.11542               444.8670       \n",
       "  Credit_History_Age_Months Credit_Score_Encoded Occupation_Encoded\n",
       "1 268                       3                    13                \n",
       "2 271                       3                    13                \n",
       "3   0                       2                    13                \n",
       "4 320                       3                    14                \n",
       "5 322                       3                    14                \n",
       "6 323                       3                    14                \n",
       "  Credit_Mix_Encoded Payment_Behaviour_Encoded       \n",
       "1 3                  Low_spent_Small_value_payments  \n",
       "2 3                  Low_spent_Small_value_payments  \n",
       "3 3                  High_spent_Medium_value_payments\n",
       "4 3                  High_spent_Large_value_payments \n",
       "5 3                  Low_spent_Medium_value_payments \n",
       "6 3                  Low_spent_Small_value_payments  "
      ]
     },
     "metadata": {},
     "output_type": "display_data"
    }
   ],
   "source": [
    "# Define columns to drop\n",
    "columns_to_drop <- c('Payment_Behaviour', 'Credit_Mix', 'Occupation', 'Credit_Score')\n",
    "\n",
    "# Drop columns\n",
    "train <- train[, !names(train) %in% columns_to_drop, with = FALSE]\n",
    "\n",
    "# Print the first few rows of the updated data table\n",
    "head(train)"
   ]
  },
  {
   "cell_type": "markdown",
   "metadata": {},
   "source": [
    "# New Features"
   ]
  },
  {
   "cell_type": "code",
   "execution_count": 122,
   "metadata": {
    "vscode": {
     "languageId": "r"
    }
   },
   "outputs": [
    {
     "data": {
      "text/html": [
       "<table class=\"dataframe\">\n",
       "<caption>A data.table: 6 × 26</caption>\n",
       "<thead>\n",
       "\t<tr><th scope=col>Age</th><th scope=col>Annual_Income</th><th scope=col>Num_Bank_Accounts</th><th scope=col>Num_Credit_Card</th><th scope=col>Interest_Rate</th><th scope=col>Num_of_Loan</th><th scope=col>Delay_from_due_date</th><th scope=col>Num_of_Delayed_Payment</th><th scope=col>Changed_Credit_Limit</th><th scope=col>Num_Credit_Inquiries</th><th scope=col>⋯</th><th scope=col>Credit_History_Age_Months</th><th scope=col>Credit_Score_Encoded</th><th scope=col>Occupation_Encoded</th><th scope=col>Credit_Mix_Encoded</th><th scope=col>Payment_Behaviour_Encoded</th><th scope=col>Total_Num_Accounts</th><th scope=col>Debt_Per_Account</th><th scope=col>Debt_to_Income_Ratio</th><th scope=col>Delayed_Payments_Per_Account</th><th scope=col>Total_Monthly_Expenses</th></tr>\n",
       "\t<tr><th scope=col>&lt;int&gt;</th><th scope=col>&lt;dbl&gt;</th><th scope=col>&lt;int&gt;</th><th scope=col>&lt;int&gt;</th><th scope=col>&lt;int&gt;</th><th scope=col>&lt;int&gt;</th><th scope=col>&lt;int&gt;</th><th scope=col>&lt;int&gt;</th><th scope=col>&lt;dbl&gt;</th><th scope=col>&lt;dbl&gt;</th><th scope=col>⋯</th><th scope=col>&lt;dbl&gt;</th><th scope=col>&lt;dbl&gt;</th><th scope=col>&lt;fct&gt;</th><th scope=col>&lt;dbl&gt;</th><th scope=col>&lt;ord&gt;</th><th scope=col>&lt;int&gt;</th><th scope=col>&lt;dbl&gt;</th><th scope=col>&lt;dbl&gt;</th><th scope=col>&lt;dbl&gt;</th><th scope=col>&lt;dbl&gt;</th></tr>\n",
       "</thead>\n",
       "<tbody>\n",
       "\t<tr><td>23</td><td>19114.12</td><td>3</td><td>4</td><td>3</td><td>4</td><td>5</td><td>4</td><td> 6.27</td><td>4</td><td>⋯</td><td>268</td><td>3</td><td>13</td><td>3</td><td>Low_spent_Small_value_payments  </td><td>7</td><td>115.7114</td><td>0.04237600</td><td>0.5714286</td><td>249.03302</td></tr>\n",
       "\t<tr><td>23</td><td>19114.12</td><td>3</td><td>4</td><td>3</td><td>4</td><td>3</td><td>8</td><td>11.27</td><td>4</td><td>⋯</td><td>271</td><td>3</td><td>13</td><td>3</td><td>Low_spent_Small_value_payments  </td><td>7</td><td>115.7114</td><td>0.04237600</td><td>1.1428571</td><td>227.91902</td></tr>\n",
       "\t<tr><td>23</td><td>19114.12</td><td>3</td><td>4</td><td>3</td><td>4</td><td>3</td><td>6</td><td>11.27</td><td>4</td><td>⋯</td><td>  0</td><td>2</td><td>13</td><td>3</td><td>High_spent_Medium_value_payments</td><td>7</td><td>115.7114</td><td>0.04237600</td><td>0.8571429</td><td> 74.36017</td></tr>\n",
       "\t<tr><td>28</td><td>34847.84</td><td>2</td><td>4</td><td>6</td><td>1</td><td>7</td><td>1</td><td> 7.42</td><td>2</td><td>⋯</td><td>320</td><td>3</td><td>14</td><td>3</td><td>High_spent_Large_value_payments </td><td>6</td><td>100.8383</td><td>0.01736205</td><td>0.1666667</td><td> 59.20745</td></tr>\n",
       "\t<tr><td>28</td><td>34847.84</td><td>2</td><td>4</td><td>6</td><td>1</td><td>3</td><td>3</td><td> 5.42</td><td>2</td><td>⋯</td><td>322</td><td>3</td><td>14</td><td>3</td><td>Low_spent_Medium_value_payments </td><td>6</td><td>100.8383</td><td>0.01736205</td><td>0.5000000</td><td>118.12244</td></tr>\n",
       "\t<tr><td>28</td><td>34847.84</td><td>2</td><td>4</td><td>6</td><td>1</td><td>3</td><td>1</td><td> 6.42</td><td>2</td><td>⋯</td><td>323</td><td>3</td><td>14</td><td>3</td><td>Low_spent_Small_value_payments  </td><td>6</td><td>100.8383</td><td>0.01736205</td><td>0.1666667</td><td>148.93163</td></tr>\n",
       "</tbody>\n",
       "</table>\n"
      ],
      "text/latex": [
       "A data.table: 6 × 26\n",
       "\\begin{tabular}{lllllllllllllllllllll}\n",
       " Age & Annual\\_Income & Num\\_Bank\\_Accounts & Num\\_Credit\\_Card & Interest\\_Rate & Num\\_of\\_Loan & Delay\\_from\\_due\\_date & Num\\_of\\_Delayed\\_Payment & Changed\\_Credit\\_Limit & Num\\_Credit\\_Inquiries & ⋯ & Credit\\_History\\_Age\\_Months & Credit\\_Score\\_Encoded & Occupation\\_Encoded & Credit\\_Mix\\_Encoded & Payment\\_Behaviour\\_Encoded & Total\\_Num\\_Accounts & Debt\\_Per\\_Account & Debt\\_to\\_Income\\_Ratio & Delayed\\_Payments\\_Per\\_Account & Total\\_Monthly\\_Expenses\\\\\n",
       " <int> & <dbl> & <int> & <int> & <int> & <int> & <int> & <int> & <dbl> & <dbl> & ⋯ & <dbl> & <dbl> & <fct> & <dbl> & <ord> & <int> & <dbl> & <dbl> & <dbl> & <dbl>\\\\\n",
       "\\hline\n",
       "\t 23 & 19114.12 & 3 & 4 & 3 & 4 & 5 & 4 &  6.27 & 4 & ⋯ & 268 & 3 & 13 & 3 & Low\\_spent\\_Small\\_value\\_payments   & 7 & 115.7114 & 0.04237600 & 0.5714286 & 249.03302\\\\\n",
       "\t 23 & 19114.12 & 3 & 4 & 3 & 4 & 3 & 8 & 11.27 & 4 & ⋯ & 271 & 3 & 13 & 3 & Low\\_spent\\_Small\\_value\\_payments   & 7 & 115.7114 & 0.04237600 & 1.1428571 & 227.91902\\\\\n",
       "\t 23 & 19114.12 & 3 & 4 & 3 & 4 & 3 & 6 & 11.27 & 4 & ⋯ &   0 & 2 & 13 & 3 & High\\_spent\\_Medium\\_value\\_payments & 7 & 115.7114 & 0.04237600 & 0.8571429 &  74.36017\\\\\n",
       "\t 28 & 34847.84 & 2 & 4 & 6 & 1 & 7 & 1 &  7.42 & 2 & ⋯ & 320 & 3 & 14 & 3 & High\\_spent\\_Large\\_value\\_payments  & 6 & 100.8383 & 0.01736205 & 0.1666667 &  59.20745\\\\\n",
       "\t 28 & 34847.84 & 2 & 4 & 6 & 1 & 3 & 3 &  5.42 & 2 & ⋯ & 322 & 3 & 14 & 3 & Low\\_spent\\_Medium\\_value\\_payments  & 6 & 100.8383 & 0.01736205 & 0.5000000 & 118.12244\\\\\n",
       "\t 28 & 34847.84 & 2 & 4 & 6 & 1 & 3 & 1 &  6.42 & 2 & ⋯ & 323 & 3 & 14 & 3 & Low\\_spent\\_Small\\_value\\_payments   & 6 & 100.8383 & 0.01736205 & 0.1666667 & 148.93163\\\\\n",
       "\\end{tabular}\n"
      ],
      "text/markdown": [
       "\n",
       "A data.table: 6 × 26\n",
       "\n",
       "| Age &lt;int&gt; | Annual_Income &lt;dbl&gt; | Num_Bank_Accounts &lt;int&gt; | Num_Credit_Card &lt;int&gt; | Interest_Rate &lt;int&gt; | Num_of_Loan &lt;int&gt; | Delay_from_due_date &lt;int&gt; | Num_of_Delayed_Payment &lt;int&gt; | Changed_Credit_Limit &lt;dbl&gt; | Num_Credit_Inquiries &lt;dbl&gt; | ⋯ ⋯ | Credit_History_Age_Months &lt;dbl&gt; | Credit_Score_Encoded &lt;dbl&gt; | Occupation_Encoded &lt;fct&gt; | Credit_Mix_Encoded &lt;dbl&gt; | Payment_Behaviour_Encoded &lt;ord&gt; | Total_Num_Accounts &lt;int&gt; | Debt_Per_Account &lt;dbl&gt; | Debt_to_Income_Ratio &lt;dbl&gt; | Delayed_Payments_Per_Account &lt;dbl&gt; | Total_Monthly_Expenses &lt;dbl&gt; |\n",
       "|---|---|---|---|---|---|---|---|---|---|---|---|---|---|---|---|---|---|---|---|---|\n",
       "| 23 | 19114.12 | 3 | 4 | 3 | 4 | 5 | 4 |  6.27 | 4 | ⋯ | 268 | 3 | 13 | 3 | Low_spent_Small_value_payments   | 7 | 115.7114 | 0.04237600 | 0.5714286 | 249.03302 |\n",
       "| 23 | 19114.12 | 3 | 4 | 3 | 4 | 3 | 8 | 11.27 | 4 | ⋯ | 271 | 3 | 13 | 3 | Low_spent_Small_value_payments   | 7 | 115.7114 | 0.04237600 | 1.1428571 | 227.91902 |\n",
       "| 23 | 19114.12 | 3 | 4 | 3 | 4 | 3 | 6 | 11.27 | 4 | ⋯ |   0 | 2 | 13 | 3 | High_spent_Medium_value_payments | 7 | 115.7114 | 0.04237600 | 0.8571429 |  74.36017 |\n",
       "| 28 | 34847.84 | 2 | 4 | 6 | 1 | 7 | 1 |  7.42 | 2 | ⋯ | 320 | 3 | 14 | 3 | High_spent_Large_value_payments  | 6 | 100.8383 | 0.01736205 | 0.1666667 |  59.20745 |\n",
       "| 28 | 34847.84 | 2 | 4 | 6 | 1 | 3 | 3 |  5.42 | 2 | ⋯ | 322 | 3 | 14 | 3 | Low_spent_Medium_value_payments  | 6 | 100.8383 | 0.01736205 | 0.5000000 | 118.12244 |\n",
       "| 28 | 34847.84 | 2 | 4 | 6 | 1 | 3 | 1 |  6.42 | 2 | ⋯ | 323 | 3 | 14 | 3 | Low_spent_Small_value_payments   | 6 | 100.8383 | 0.01736205 | 0.1666667 | 148.93163 |\n",
       "\n"
      ],
      "text/plain": [
       "  Age Annual_Income Num_Bank_Accounts Num_Credit_Card Interest_Rate Num_of_Loan\n",
       "1 23  19114.12      3                 4               3             4          \n",
       "2 23  19114.12      3                 4               3             4          \n",
       "3 23  19114.12      3                 4               3             4          \n",
       "4 28  34847.84      2                 4               6             1          \n",
       "5 28  34847.84      2                 4               6             1          \n",
       "6 28  34847.84      2                 4               6             1          \n",
       "  Delay_from_due_date Num_of_Delayed_Payment Changed_Credit_Limit\n",
       "1 5                   4                       6.27               \n",
       "2 3                   8                      11.27               \n",
       "3 3                   6                      11.27               \n",
       "4 7                   1                       7.42               \n",
       "5 3                   3                       5.42               \n",
       "6 3                   1                       6.42               \n",
       "  Num_Credit_Inquiries ⋯ Credit_History_Age_Months Credit_Score_Encoded\n",
       "1 4                    ⋯ 268                       3                   \n",
       "2 4                    ⋯ 271                       3                   \n",
       "3 4                    ⋯   0                       2                   \n",
       "4 2                    ⋯ 320                       3                   \n",
       "5 2                    ⋯ 322                       3                   \n",
       "6 2                    ⋯ 323                       3                   \n",
       "  Occupation_Encoded Credit_Mix_Encoded Payment_Behaviour_Encoded       \n",
       "1 13                 3                  Low_spent_Small_value_payments  \n",
       "2 13                 3                  Low_spent_Small_value_payments  \n",
       "3 13                 3                  High_spent_Medium_value_payments\n",
       "4 14                 3                  High_spent_Large_value_payments \n",
       "5 14                 3                  Low_spent_Medium_value_payments \n",
       "6 14                 3                  Low_spent_Small_value_payments  \n",
       "  Total_Num_Accounts Debt_Per_Account Debt_to_Income_Ratio\n",
       "1 7                  115.7114         0.04237600          \n",
       "2 7                  115.7114         0.04237600          \n",
       "3 7                  115.7114         0.04237600          \n",
       "4 6                  100.8383         0.01736205          \n",
       "5 6                  100.8383         0.01736205          \n",
       "6 6                  100.8383         0.01736205          \n",
       "  Delayed_Payments_Per_Account Total_Monthly_Expenses\n",
       "1 0.5714286                    249.03302             \n",
       "2 1.1428571                    227.91902             \n",
       "3 0.8571429                     74.36017             \n",
       "4 0.1666667                     59.20745             \n",
       "5 0.5000000                    118.12244             \n",
       "6 0.1666667                    148.93163             "
      ]
     },
     "metadata": {},
     "output_type": "display_data"
    }
   ],
   "source": [
    "\n",
    "# Calculate the total number of accounts (Bank Accounts + Credit Cards)\n",
    "train[, Total_Num_Accounts := Num_Bank_Accounts + Num_Credit_Card]\n",
    "\n",
    "# Calculate the total outstanding debt per account\n",
    "train[, Debt_Per_Account := Outstanding_Debt / Total_Num_Accounts]\n",
    "\n",
    "# Calculate the ratio of outstanding debt to annual income\n",
    "train[, Debt_to_Income_Ratio := Outstanding_Debt / Annual_Income]\n",
    "\n",
    "# Calculate the total number of delayed payments per account\n",
    "train[, Delayed_Payments_Per_Account := Num_of_Delayed_Payment / Total_Num_Accounts]\n",
    "\n",
    "# Calculate the total monthly expenses (EMI + Monthly Investments)\n",
    "train[, Total_Monthly_Expenses := Total_EMI_per_month + Amount_invested_monthly]\n",
    "\n",
    "# Print the first few rows of the updated data table\n",
    "head(train)"
   ]
  },
  {
   "cell_type": "markdown",
   "metadata": {},
   "source": [
    "# Drop based on MI sScore|"
   ]
  },
  {
   "cell_type": "code",
   "execution_count": 123,
   "metadata": {
    "vscode": {
     "languageId": "r"
    }
   },
   "outputs": [
    {
     "data": {
      "text/html": [
       "<table class=\"dataframe\">\n",
       "<caption>A data.table: 6 × 18</caption>\n",
       "<thead>\n",
       "\t<tr><th scope=col>Annual_Income</th><th scope=col>Num_Bank_Accounts</th><th scope=col>Num_Credit_Card</th><th scope=col>Interest_Rate</th><th scope=col>Num_of_Loan</th><th scope=col>Delay_from_due_date</th><th scope=col>Num_of_Delayed_Payment</th><th scope=col>Changed_Credit_Limit</th><th scope=col>Num_Credit_Inquiries</th><th scope=col>Outstanding_Debt</th><th scope=col>Total_EMI_per_month</th><th scope=col>Credit_History_Age_Months</th><th scope=col>Credit_Score_Encoded</th><th scope=col>Credit_Mix_Encoded</th><th scope=col>Total_Num_Accounts</th><th scope=col>Debt_Per_Account</th><th scope=col>Debt_to_Income_Ratio</th><th scope=col>Delayed_Payments_Per_Account</th></tr>\n",
       "\t<tr><th scope=col>&lt;dbl&gt;</th><th scope=col>&lt;int&gt;</th><th scope=col>&lt;int&gt;</th><th scope=col>&lt;int&gt;</th><th scope=col>&lt;int&gt;</th><th scope=col>&lt;int&gt;</th><th scope=col>&lt;int&gt;</th><th scope=col>&lt;dbl&gt;</th><th scope=col>&lt;dbl&gt;</th><th scope=col>&lt;dbl&gt;</th><th scope=col>&lt;dbl&gt;</th><th scope=col>&lt;dbl&gt;</th><th scope=col>&lt;dbl&gt;</th><th scope=col>&lt;dbl&gt;</th><th scope=col>&lt;int&gt;</th><th scope=col>&lt;dbl&gt;</th><th scope=col>&lt;dbl&gt;</th><th scope=col>&lt;dbl&gt;</th></tr>\n",
       "</thead>\n",
       "<tbody>\n",
       "\t<tr><td>19114.12</td><td>3</td><td>4</td><td>3</td><td>4</td><td>5</td><td>4</td><td> 6.27</td><td>4</td><td>809.98</td><td>49.57495</td><td>268</td><td>3</td><td>3</td><td>7</td><td>115.7114</td><td>0.04237600</td><td>0.5714286</td></tr>\n",
       "\t<tr><td>19114.12</td><td>3</td><td>4</td><td>3</td><td>4</td><td>3</td><td>8</td><td>11.27</td><td>4</td><td>809.98</td><td>49.57495</td><td>271</td><td>3</td><td>3</td><td>7</td><td>115.7114</td><td>0.04237600</td><td>1.1428571</td></tr>\n",
       "\t<tr><td>19114.12</td><td>3</td><td>4</td><td>3</td><td>4</td><td>3</td><td>6</td><td>11.27</td><td>4</td><td>809.98</td><td>49.57495</td><td>  0</td><td>2</td><td>3</td><td>7</td><td>115.7114</td><td>0.04237600</td><td>0.8571429</td></tr>\n",
       "\t<tr><td>34847.84</td><td>2</td><td>4</td><td>6</td><td>1</td><td>7</td><td>1</td><td> 7.42</td><td>2</td><td>605.03</td><td>18.81621</td><td>320</td><td>3</td><td>3</td><td>6</td><td>100.8383</td><td>0.01736205</td><td>0.1666667</td></tr>\n",
       "\t<tr><td>34847.84</td><td>2</td><td>4</td><td>6</td><td>1</td><td>3</td><td>3</td><td> 5.42</td><td>2</td><td>605.03</td><td>18.81621</td><td>322</td><td>3</td><td>3</td><td>6</td><td>100.8383</td><td>0.01736205</td><td>0.5000000</td></tr>\n",
       "\t<tr><td>34847.84</td><td>2</td><td>4</td><td>6</td><td>1</td><td>3</td><td>1</td><td> 6.42</td><td>2</td><td>605.03</td><td>18.81621</td><td>323</td><td>3</td><td>3</td><td>6</td><td>100.8383</td><td>0.01736205</td><td>0.1666667</td></tr>\n",
       "</tbody>\n",
       "</table>\n"
      ],
      "text/latex": [
       "A data.table: 6 × 18\n",
       "\\begin{tabular}{llllllllllllllllll}\n",
       " Annual\\_Income & Num\\_Bank\\_Accounts & Num\\_Credit\\_Card & Interest\\_Rate & Num\\_of\\_Loan & Delay\\_from\\_due\\_date & Num\\_of\\_Delayed\\_Payment & Changed\\_Credit\\_Limit & Num\\_Credit\\_Inquiries & Outstanding\\_Debt & Total\\_EMI\\_per\\_month & Credit\\_History\\_Age\\_Months & Credit\\_Score\\_Encoded & Credit\\_Mix\\_Encoded & Total\\_Num\\_Accounts & Debt\\_Per\\_Account & Debt\\_to\\_Income\\_Ratio & Delayed\\_Payments\\_Per\\_Account\\\\\n",
       " <dbl> & <int> & <int> & <int> & <int> & <int> & <int> & <dbl> & <dbl> & <dbl> & <dbl> & <dbl> & <dbl> & <dbl> & <int> & <dbl> & <dbl> & <dbl>\\\\\n",
       "\\hline\n",
       "\t 19114.12 & 3 & 4 & 3 & 4 & 5 & 4 &  6.27 & 4 & 809.98 & 49.57495 & 268 & 3 & 3 & 7 & 115.7114 & 0.04237600 & 0.5714286\\\\\n",
       "\t 19114.12 & 3 & 4 & 3 & 4 & 3 & 8 & 11.27 & 4 & 809.98 & 49.57495 & 271 & 3 & 3 & 7 & 115.7114 & 0.04237600 & 1.1428571\\\\\n",
       "\t 19114.12 & 3 & 4 & 3 & 4 & 3 & 6 & 11.27 & 4 & 809.98 & 49.57495 &   0 & 2 & 3 & 7 & 115.7114 & 0.04237600 & 0.8571429\\\\\n",
       "\t 34847.84 & 2 & 4 & 6 & 1 & 7 & 1 &  7.42 & 2 & 605.03 & 18.81621 & 320 & 3 & 3 & 6 & 100.8383 & 0.01736205 & 0.1666667\\\\\n",
       "\t 34847.84 & 2 & 4 & 6 & 1 & 3 & 3 &  5.42 & 2 & 605.03 & 18.81621 & 322 & 3 & 3 & 6 & 100.8383 & 0.01736205 & 0.5000000\\\\\n",
       "\t 34847.84 & 2 & 4 & 6 & 1 & 3 & 1 &  6.42 & 2 & 605.03 & 18.81621 & 323 & 3 & 3 & 6 & 100.8383 & 0.01736205 & 0.1666667\\\\\n",
       "\\end{tabular}\n"
      ],
      "text/markdown": [
       "\n",
       "A data.table: 6 × 18\n",
       "\n",
       "| Annual_Income &lt;dbl&gt; | Num_Bank_Accounts &lt;int&gt; | Num_Credit_Card &lt;int&gt; | Interest_Rate &lt;int&gt; | Num_of_Loan &lt;int&gt; | Delay_from_due_date &lt;int&gt; | Num_of_Delayed_Payment &lt;int&gt; | Changed_Credit_Limit &lt;dbl&gt; | Num_Credit_Inquiries &lt;dbl&gt; | Outstanding_Debt &lt;dbl&gt; | Total_EMI_per_month &lt;dbl&gt; | Credit_History_Age_Months &lt;dbl&gt; | Credit_Score_Encoded &lt;dbl&gt; | Credit_Mix_Encoded &lt;dbl&gt; | Total_Num_Accounts &lt;int&gt; | Debt_Per_Account &lt;dbl&gt; | Debt_to_Income_Ratio &lt;dbl&gt; | Delayed_Payments_Per_Account &lt;dbl&gt; |\n",
       "|---|---|---|---|---|---|---|---|---|---|---|---|---|---|---|---|---|---|\n",
       "| 19114.12 | 3 | 4 | 3 | 4 | 5 | 4 |  6.27 | 4 | 809.98 | 49.57495 | 268 | 3 | 3 | 7 | 115.7114 | 0.04237600 | 0.5714286 |\n",
       "| 19114.12 | 3 | 4 | 3 | 4 | 3 | 8 | 11.27 | 4 | 809.98 | 49.57495 | 271 | 3 | 3 | 7 | 115.7114 | 0.04237600 | 1.1428571 |\n",
       "| 19114.12 | 3 | 4 | 3 | 4 | 3 | 6 | 11.27 | 4 | 809.98 | 49.57495 |   0 | 2 | 3 | 7 | 115.7114 | 0.04237600 | 0.8571429 |\n",
       "| 34847.84 | 2 | 4 | 6 | 1 | 7 | 1 |  7.42 | 2 | 605.03 | 18.81621 | 320 | 3 | 3 | 6 | 100.8383 | 0.01736205 | 0.1666667 |\n",
       "| 34847.84 | 2 | 4 | 6 | 1 | 3 | 3 |  5.42 | 2 | 605.03 | 18.81621 | 322 | 3 | 3 | 6 | 100.8383 | 0.01736205 | 0.5000000 |\n",
       "| 34847.84 | 2 | 4 | 6 | 1 | 3 | 1 |  6.42 | 2 | 605.03 | 18.81621 | 323 | 3 | 3 | 6 | 100.8383 | 0.01736205 | 0.1666667 |\n",
       "\n"
      ],
      "text/plain": [
       "  Annual_Income Num_Bank_Accounts Num_Credit_Card Interest_Rate Num_of_Loan\n",
       "1 19114.12      3                 4               3             4          \n",
       "2 19114.12      3                 4               3             4          \n",
       "3 19114.12      3                 4               3             4          \n",
       "4 34847.84      2                 4               6             1          \n",
       "5 34847.84      2                 4               6             1          \n",
       "6 34847.84      2                 4               6             1          \n",
       "  Delay_from_due_date Num_of_Delayed_Payment Changed_Credit_Limit\n",
       "1 5                   4                       6.27               \n",
       "2 3                   8                      11.27               \n",
       "3 3                   6                      11.27               \n",
       "4 7                   1                       7.42               \n",
       "5 3                   3                       5.42               \n",
       "6 3                   1                       6.42               \n",
       "  Num_Credit_Inquiries Outstanding_Debt Total_EMI_per_month\n",
       "1 4                    809.98           49.57495           \n",
       "2 4                    809.98           49.57495           \n",
       "3 4                    809.98           49.57495           \n",
       "4 2                    605.03           18.81621           \n",
       "5 2                    605.03           18.81621           \n",
       "6 2                    605.03           18.81621           \n",
       "  Credit_History_Age_Months Credit_Score_Encoded Credit_Mix_Encoded\n",
       "1 268                       3                    3                 \n",
       "2 271                       3                    3                 \n",
       "3   0                       2                    3                 \n",
       "4 320                       3                    3                 \n",
       "5 322                       3                    3                 \n",
       "6 323                       3                    3                 \n",
       "  Total_Num_Accounts Debt_Per_Account Debt_to_Income_Ratio\n",
       "1 7                  115.7114         0.04237600          \n",
       "2 7                  115.7114         0.04237600          \n",
       "3 7                  115.7114         0.04237600          \n",
       "4 6                  100.8383         0.01736205          \n",
       "5 6                  100.8383         0.01736205          \n",
       "6 6                  100.8383         0.01736205          \n",
       "  Delayed_Payments_Per_Account\n",
       "1 0.5714286                   \n",
       "2 1.1428571                   \n",
       "3 0.8571429                   \n",
       "4 0.1666667                   \n",
       "5 0.5000000                   \n",
       "6 0.1666667                   "
      ]
     },
     "metadata": {},
     "output_type": "display_data"
    }
   ],
   "source": [
    "# Define columns to drop\n",
    "columns_to_drop <- c(\n",
    "  'Payment_of_Min_Amount', 'Age', 'Monthly_Balance', 'Total_Monthly_Expenses', \n",
    "  'Payment_Behaviour_Encoded', 'Amount_invested_monthly', 'Credit_Utilization_Ratio', \n",
    "  'Occupation_Encoded'\n",
    ")\n",
    "\n",
    "# Drop columns\n",
    "train <- train[, !names(train) %in% columns_to_drop, with = FALSE]\n",
    "\n",
    "# Print the first few rows of the updated data table\n",
    "head(train)"
   ]
  },
  {
   "cell_type": "code",
   "execution_count": 124,
   "metadata": {
    "vscode": {
     "languageId": "r"
    }
   },
   "outputs": [
    {
     "name": "stderr",
     "output_type": "stream",
     "text": [
      "Installing package into ‘/home/ziegler/R/x86_64-pc-linux-gnu-library/4.0’\n",
      "(as ‘lib’ is unspecified)\n",
      "\n"
     ]
    }
   ],
   "source": [
    "install.packages(\"corrplot\")\n",
    "library(corrplot)"
   ]
  },
  {
   "cell_type": "code",
   "execution_count": 125,
   "metadata": {
    "vscode": {
     "languageId": "r"
    }
   },
   "outputs": [
    {
     "name": "stdout",
     "output_type": "stream",
     "text": [
      "                             Annual_Income Num_Bank_Accounts Num_Credit_Card\n",
      "Annual_Income                   1.00000000     -0.1355512432     -0.07662223\n",
      "Num_Bank_Accounts              -0.13555124      1.0000000000      0.20735323\n",
      "Num_Credit_Card                -0.07662223      0.2073532277      1.00000000\n",
      "Interest_Rate                  -0.13793044      0.3904570612      0.22147802\n",
      "Num_of_Loan                    -0.28279748      0.1557266458      0.11663740\n",
      "Delay_from_due_date            -0.11165998      0.3760718410      0.23587178\n",
      "Num_of_Delayed_Payment         -0.15606784      0.4721901131      0.20504275\n",
      "Changed_Credit_Limit           -0.09923458      0.2311729018      0.08723891\n",
      "Num_Credit_Inquiries           -0.13054785      0.2432262354      0.16410620\n",
      "Outstanding_Debt               -0.03956825      0.0746323382      0.09039549\n",
      "Total_EMI_per_month             0.37951000      0.0002032597      0.03115753\n",
      "Credit_History_Age_Months       0.09562169     -0.1217767922     -0.08468376\n",
      "Credit_Score_Encoded            0.05413094     -0.1929777371     -0.26657451\n",
      "Credit_Mix_Encoded                      NA                NA              NA\n",
      "Total_Num_Accounts             -0.14138988      0.8508403169      0.69042934\n",
      "Debt_Per_Account                0.05332528     -0.3843756098     -0.33860234\n",
      "Debt_to_Income_Ratio           -0.54249316      0.1690217580      0.13379275\n",
      "Delayed_Payments_Per_Account   -0.03726683     -0.1606739473     -0.30473936\n",
      "                             Interest_Rate Num_of_Loan Delay_from_due_date\n",
      "Annual_Income                  -0.13793044 -0.28279748         -0.11165998\n",
      "Num_Bank_Accounts               0.39045706  0.15572665          0.37607184\n",
      "Num_Credit_Card                 0.22147802  0.11663740          0.23587178\n",
      "Interest_Rate                   1.00000000  0.21805061          0.35623509\n",
      "Num_of_Loan                     0.21805061  1.00000000          0.17134578\n",
      "Delay_from_due_date             0.35623509  0.17134578          1.00000000\n",
      "Num_of_Delayed_Payment          0.39245620  0.17769069          0.39018719\n",
      "Changed_Credit_Limit            0.25219791  0.17293890          0.16957780\n",
      "Num_Credit_Inquiries            0.34452744  0.27930051          0.26345694\n",
      "Outstanding_Debt                0.13978457  0.07784254          0.13200244\n",
      "Total_EMI_per_month             0.02896589  0.56276977          0.02661074\n",
      "Credit_History_Age_Months      -0.17138927 -0.20626098         -0.13125451\n",
      "Credit_Score_Encoded           -0.27213087 -0.12807802         -0.30864910\n",
      "Credit_Mix_Encoded                      NA          NA                  NA\n",
      "Total_Num_Accounts              0.40768714  0.17780107          0.40478053\n",
      "Debt_Per_Account               -0.12671240 -0.04234947         -0.12730733\n",
      "Debt_to_Income_Ratio            0.23986774  0.24352391          0.20239223\n",
      "Delayed_Payments_Per_Account    0.06799482  0.03875230          0.06532474\n",
      "                             Num_of_Delayed_Payment Changed_Credit_Limit\n",
      "Annual_Income                          -0.156067844          -0.09923458\n",
      "Num_Bank_Accounts                       0.472190113           0.23117290\n",
      "Num_Credit_Card                         0.205042747           0.08723891\n",
      "Interest_Rate                           0.392456198           0.25219791\n",
      "Num_of_Loan                             0.177690687           0.17293890\n",
      "Delay_from_due_date                     0.390187188           0.16957780\n",
      "Num_of_Delayed_Payment                  1.000000000           0.24388424\n",
      "Changed_Credit_Limit                    0.243884241           1.00000000\n",
      "Num_Credit_Inquiries                    0.250390063           0.29646366\n",
      "Outstanding_Debt                        0.082921234           0.04999854\n",
      "Total_EMI_per_month                     0.007344099           0.04954470\n",
      "Credit_History_Age_Months              -0.148054024          -0.15628042\n",
      "Credit_Score_Encoded                   -0.197144427          -0.12751974\n",
      "Credit_Mix_Encoded                               NA                   NA\n",
      "Total_Num_Accounts                      0.459299045           0.21780156\n",
      "Debt_Per_Account                       -0.195717521          -0.09030609\n",
      "Debt_to_Income_Ratio                    0.185206397           0.11043239\n",
      "Delayed_Payments_Per_Account            0.559920896           0.06169516\n",
      "                             Num_Credit_Inquiries Outstanding_Debt\n",
      "Annual_Income                         -0.13054785     -0.039568255\n",
      "Num_Bank_Accounts                      0.24322624      0.074632338\n",
      "Num_Credit_Card                        0.16410620      0.090395486\n",
      "Interest_Rate                          0.34452744      0.139784571\n",
      "Num_of_Loan                            0.27930051      0.077842539\n",
      "Delay_from_due_date                    0.26345694      0.132002438\n",
      "Num_of_Delayed_Payment                 0.25039006      0.082921234\n",
      "Changed_Credit_Limit                   0.29646366      0.049998539\n",
      "Num_Credit_Inquiries                   1.00000000      0.145604423\n",
      "Outstanding_Debt                       0.14560442      1.000000000\n",
      "Total_EMI_per_month                    0.08008826      0.007015436\n",
      "Credit_History_Age_Months             -0.25171200     -0.068204558\n",
      "Credit_Score_Encoded                  -0.19937867     -0.108724157\n",
      "Credit_Mix_Encoded                             NA               NA\n",
      "Total_Num_Accounts                     0.26799989      0.103739675\n",
      "Debt_Per_Account                      -0.04962630      0.567513310\n",
      "Debt_to_Income_Ratio                   0.22426981      0.579146320\n",
      "Delayed_Payments_Per_Account           0.04372781      0.010716832\n",
      "                             Total_EMI_per_month Credit_History_Age_Months\n",
      "Annual_Income                       0.3795100038                0.09562169\n",
      "Num_Bank_Accounts                   0.0002032597               -0.12177679\n",
      "Num_Credit_Card                     0.0311575343               -0.08468376\n",
      "Interest_Rate                       0.0289658893               -0.17138927\n",
      "Num_of_Loan                         0.5627697707               -0.20626098\n",
      "Delay_from_due_date                 0.0266107353               -0.13125451\n",
      "Num_of_Delayed_Payment              0.0073440987               -0.14805402\n",
      "Changed_Credit_Limit                0.0495446983               -0.15628042\n",
      "Num_Credit_Inquiries                0.0800882561               -0.25171200\n",
      "Outstanding_Debt                    0.0070154361               -0.06820456\n",
      "Total_EMI_per_month                 1.0000000000               -0.05059195\n",
      "Credit_History_Age_Months          -0.0505919452                1.00000000\n",
      "Credit_Score_Encoded               -0.0308709565                0.10388953\n",
      "Credit_Mix_Encoded                            NA                        NA\n",
      "Total_Num_Accounts                  0.0168849404               -0.13553390\n",
      "Debt_Per_Account                   -0.0044389145                0.03691137\n",
      "Debt_to_Income_Ratio               -0.2607989592               -0.13140499\n",
      "Delayed_Payments_Per_Account        0.0004917929               -0.03833928\n",
      "                             Credit_Score_Encoded Credit_Mix_Encoded\n",
      "Annual_Income                          0.05413094                 NA\n",
      "Num_Bank_Accounts                     -0.19297774                 NA\n",
      "Num_Credit_Card                       -0.26657451                 NA\n",
      "Interest_Rate                         -0.27213087                 NA\n",
      "Num_of_Loan                           -0.12807802                 NA\n",
      "Delay_from_due_date                   -0.30864910                 NA\n",
      "Num_of_Delayed_Payment                -0.19714443                 NA\n",
      "Changed_Credit_Limit                  -0.12751974                 NA\n",
      "Num_Credit_Inquiries                  -0.19937867                 NA\n",
      "Outstanding_Debt                      -0.10872416                 NA\n",
      "Total_EMI_per_month                   -0.03087096                 NA\n",
      "Credit_History_Age_Months              0.10388953                 NA\n",
      "Credit_Score_Encoded                   1.00000000                 NA\n",
      "Credit_Mix_Encoded                             NA                  1\n",
      "Total_Num_Accounts                    -0.28587804                 NA\n",
      "Debt_Per_Account                       0.12497053                 NA\n",
      "Debt_to_Income_Ratio                  -0.14492751                 NA\n",
      "Delayed_Payments_Per_Account           0.03861108                 NA\n",
      "                             Total_Num_Accounts Debt_Per_Account\n",
      "Annual_Income                       -0.14138988      0.053325282\n",
      "Num_Bank_Accounts                    0.85084032     -0.384375610\n",
      "Num_Credit_Card                      0.69042934     -0.338602344\n",
      "Interest_Rate                        0.40768714     -0.126712400\n",
      "Num_of_Loan                          0.17780107     -0.042349470\n",
      "Delay_from_due_date                  0.40478053     -0.127307331\n",
      "Num_of_Delayed_Payment               0.45929905     -0.195717521\n",
      "Changed_Credit_Limit                 0.21780156     -0.090306088\n",
      "Num_Credit_Inquiries                 0.26799989     -0.049626305\n",
      "Outstanding_Debt                     0.10373967      0.567513310\n",
      "Total_EMI_per_month                  0.01688494     -0.004438914\n",
      "Credit_History_Age_Months           -0.13553390      0.036911370\n",
      "Credit_Score_Encoded                -0.28587804      0.124970529\n",
      "Credit_Mix_Encoded                           NA               NA\n",
      "Total_Num_Accounts                   1.00000000     -0.466097265\n",
      "Debt_Per_Account                    -0.46609726      1.000000000\n",
      "Debt_to_Income_Ratio                 0.19684652      0.248423455\n",
      "Delayed_Payments_Per_Account        -0.28248855      0.338101684\n",
      "                             Debt_to_Income_Ratio Delayed_Payments_Per_Account\n",
      "Annual_Income                         -0.54249316                -0.0372668315\n",
      "Num_Bank_Accounts                      0.16902176                -0.1606739473\n",
      "Num_Credit_Card                        0.13379275                -0.3047393567\n",
      "Interest_Rate                          0.23986774                 0.0679948215\n",
      "Num_of_Loan                            0.24352391                 0.0387522982\n",
      "Delay_from_due_date                    0.20239223                 0.0653247403\n",
      "Num_of_Delayed_Payment                 0.18520640                 0.5599208955\n",
      "Changed_Credit_Limit                   0.11043239                 0.0616951647\n",
      "Num_Credit_Inquiries                   0.22426981                 0.0437278098\n",
      "Outstanding_Debt                       0.57914632                 0.0107168320\n",
      "Total_EMI_per_month                   -0.26079896                 0.0004917929\n",
      "Credit_History_Age_Months             -0.13140499                -0.0383392838\n",
      "Credit_Score_Encoded                  -0.14492751                 0.0386110764\n",
      "Credit_Mix_Encoded                             NA                           NA\n",
      "Total_Num_Accounts                     0.19684652                -0.2824885546\n",
      "Debt_Per_Account                       0.24842346                 0.3381016840\n",
      "Debt_to_Income_Ratio                   1.00000000                 0.0350127080\n",
      "Delayed_Payments_Per_Account           0.03501271                 1.0000000000\n"
     ]
    }
   ],
   "source": [
    "\n",
    "# Calculate correlation matrix for numeric columns\n",
    "corr_matrix <- cor(train[, .SD, .SDcols = sapply(train, is.numeric)], method = \"pearson\")\n",
    "\n",
    "# Print the correlation matrix\n",
    "print(corr_matrix)"
   ]
  },
  {
   "cell_type": "code",
   "execution_count": 126,
   "metadata": {
    "vscode": {
     "languageId": "r"
    }
   },
   "outputs": [
    {
     "data": {
      "image/png": "[encoded data removed]",
      "text/plain": [
       "plot without title"
      ]
     },
     "metadata": {
      "image/png": {
       "height": 420,
       "width": 420
      }
     },
     "output_type": "display_data"
    }
   ],
   "source": [
    "# Calculate correlation matrix for numeric columns\n",
    "corr_matrix <- cor(train[, .SD, .SDcols = sapply(train, is.numeric)], method = \"pearson\")\n",
    "\n",
    "# Plot correlation matrix as heatmap\n",
    "heatmap(corr_matrix, \n",
    "        Colv = NA,    # Turn off column clustering\n",
    "        Rowv = NA,    # Turn off row clustering\n",
    "        col = colorRampPalette(c(\"blue\", \"white\", \"red\"))(100),  # Color scheme\n",
    "        scale = \"none\",  # Do not scale values\n",
    "        margins = c(10, 10)  # Adjust margins\n",
    ")"
   ]
  },
  {
   "cell_type": "code",
   "execution_count": 127,
   "metadata": {
    "vscode": {
     "languageId": "r"
    }
   },
   "outputs": [
    {
     "name": "stderr",
     "output_type": "stream",
     "text": [
      "Warning message:\n",
      "“\u001b[1m\u001b[22mRemoved 608 rows containing non-finite values (`stat_boxplot()`).”\n"
     ]
    },
    {
     "data": {
      "image/png": "[encoded data removed]",
      "text/plain": [
       "plot without title"
      ]
     },
     "metadata": {
      "image/png": {
       "height": 420,
       "width": 420
      }
     },
     "output_type": "display_data"
    }
   ],
   "source": [
    "\n",
    "# Select numeric columns\n",
    "numeric_columns <- colnames(train)[sapply(train, is.numeric)]\n",
    "\n",
    "# Number of columns and rows in the grid\n",
    "num_columns <- 4\n",
    "num_rows <- ceiling(length(numeric_columns) / num_columns)\n",
    "\n",
    "# Create a list to store plots\n",
    "plot_list <- list()\n",
    "\n",
    "# Loop through numeric columns and create boxplots\n",
    "for (i in 1:length(numeric_columns)) {\n",
    "  plot_list[[i]] <- ggplot(train, aes_string(x = numeric_columns[i])) +\n",
    "    geom_boxplot() +\n",
    "    labs(title = numeric_columns[i]) +\n",
    "    theme_minimal() +\n",
    "    theme(axis.text.x = element_text(angle = 45, hjust = 1))\n",
    "}\n",
    "\n",
    "# Arrange plots into a grid\n",
    "plot_grid <- plot_grid(plotlist = plot_list, ncol = num_columns)\n",
    "\n",
    "# Print the grid of boxplots\n",
    "print(plot_grid)"
   ]
  },
  {
   "cell_type": "code",
   "execution_count": 128,
   "metadata": {
    "vscode": {
     "languageId": "r"
    }
   },
   "outputs": [],
   "source": [
    "\n",
    "# Save the cleaned data to a CSV file\n",
    "fwrite(train, file = \"V2_R_trained_cleaned.csv\", sep = \",\", quote = FALSE)\n"
   ]
  },
  {
   "cell_type": "code",
   "execution_count": 129,
   "metadata": {
    "vscode": {
     "languageId": "r"
    }
   },
   "outputs": [],
   "source": [
    "# train <- fread(\"./input/train.csv\")\n",
    "\n",
    "# # Define the order of categories\n",
    "# categories <- c(\"Poor\", \"Standard\", \"Good\")\n",
    "\n",
    "# # Convert 'Credit_Score_Encoded' to numeric while preserving order\n",
    "# train$Credit_Score_Encoded <- as.numeric(factor(train$Credit_Score, levels = categories))\n",
    "\n",
    "# # Print the updated data\n",
    "# head(train)"
   ]
  },
  {
   "cell_type": "code",
   "execution_count": 130,
   "metadata": {
    "vscode": {
     "languageId": "r"
    }
   },
   "outputs": [],
   "source": [
    "# # Define the order of categories\n",
    "# categories <- c(\"Poor\", \"Standard\", \"Good\")\n",
    "\n",
    "# # Convert 'Credit_Mix_Encoded' to factor with specified levels\n",
    "# train$Credit_Mix_Encoded <- factor(train$Credit_Mix, levels = categories)\n",
    "\n",
    "# # Convert factor to numeric while preserving order\n",
    "# train$Credit_Mix_Encoded <- as.numeric(train$Credit_Mix_Encoded)"
   ]
  },
  {
   "cell_type": "code",
   "execution_count": 131,
   "metadata": {
    "vscode": {
     "languageId": "r"
    }
   },
   "outputs": [
    {
     "name": "stdout",
     "output_type": "stream",
     "text": [
      " num [1:28703] 3 3 3 3 3 3 3 3 3 3 ...\n"
     ]
    }
   ],
   "source": [
    "str(train$Credit_Mix_Encoded)"
   ]
  },
  {
   "cell_type": "code",
   "execution_count": null,
   "metadata": {
    "vscode": {
     "languageId": "r"
    }
   },
   "outputs": [],
   "source": []
  }
 ],
 "metadata": {
  "kernelspec": {
   "display_name": "R",
   "language": "R",
   "name": "ir"
  },
  "language_info": {
   "codemirror_mode": "r",
   "file_extension": ".r",
   "mimetype": "text/x-r-source",
   "name": "R",
   "pygments_lexer": "r",
   "version": "4.0.4"
  }
 },
 "nbformat": 4,
 "nbformat_minor": 2
}
