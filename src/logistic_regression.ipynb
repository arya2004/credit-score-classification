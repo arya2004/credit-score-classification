{
 "cells": [
  {
   "cell_type": "markdown",
   "metadata": {},
   "source": [
    "# Multinomial Logistic Regression"
   ]
  },
  {
   "cell_type": "code",
   "execution_count": null,
   "metadata": {},
   "outputs": [
    {
     "data": {
      "text/html": [
       "<table class=\"dataframe\">\n",
       "<caption>A data.frame: 6 × 18</caption>\n",
       "<thead>\n",
       "\t<tr><th></th><th scope=col>Annual_Income</th><th scope=col>Num_Bank_Accounts</th><th scope=col>Num_Credit_Card</th><th scope=col>Interest_Rate</th><th scope=col>Num_of_Loan</th><th scope=col>Delay_from_due_date</th><th scope=col>Num_of_Delayed_Payment</th><th scope=col>Changed_Credit_Limit</th><th scope=col>Num_Credit_Inquiries</th><th scope=col>Outstanding_Debt</th><th scope=col>Total_EMI_per_month</th><th scope=col>Credit_History_Age_Months</th><th scope=col>Credit_Score_Encoded</th><th scope=col>Credit_Mix_Encoded</th><th scope=col>Total_Num_Accounts</th><th scope=col>Debt_Per_Account</th><th scope=col>Debt_to_Income_Ratio</th><th scope=col>Delayed_Payments_Per_Account</th></tr>\n",
       "\t<tr><th></th><th scope=col>&lt;dbl&gt;</th><th scope=col>&lt;int&gt;</th><th scope=col>&lt;int&gt;</th><th scope=col>&lt;int&gt;</th><th scope=col>&lt;int&gt;</th><th scope=col>&lt;int&gt;</th><th scope=col>&lt;int&gt;</th><th scope=col>&lt;dbl&gt;</th><th scope=col>&lt;dbl&gt;</th><th scope=col>&lt;dbl&gt;</th><th scope=col>&lt;dbl&gt;</th><th scope=col>&lt;int&gt;</th><th scope=col>&lt;dbl&gt;</th><th scope=col>&lt;dbl&gt;</th><th scope=col>&lt;int&gt;</th><th scope=col>&lt;dbl&gt;</th><th scope=col>&lt;dbl&gt;</th><th scope=col>&lt;dbl&gt;</th></tr>\n",
       "</thead>\n",
       "<tbody>\n",
       "\t<tr><th scope=row>1</th><td>19114.12</td><td>3</td><td>4</td><td>3</td><td>4</td><td>5</td><td>4</td><td> 6.27</td><td>4</td><td>809.98</td><td>49.57495</td><td>268</td><td>2</td><td>2</td><td>7</td><td>115.7114</td><td>0.04237600</td><td>0.5714286</td></tr>\n",
       "\t<tr><th scope=row>2</th><td>19114.12</td><td>3</td><td>4</td><td>3</td><td>4</td><td>6</td><td>0</td><td>11.27</td><td>4</td><td>809.98</td><td>49.57495</td><td>269</td><td>2</td><td>2</td><td>7</td><td>115.7114</td><td>0.04237600</td><td>0.0000000</td></tr>\n",
       "\t<tr><th scope=row>3</th><td>19114.12</td><td>3</td><td>4</td><td>3</td><td>4</td><td>3</td><td>8</td><td>11.27</td><td>4</td><td>809.98</td><td>49.57495</td><td>271</td><td>2</td><td>2</td><td>7</td><td>115.7114</td><td>0.04237600</td><td>1.1428571</td></tr>\n",
       "\t<tr><th scope=row>4</th><td>19114.12</td><td>3</td><td>4</td><td>3</td><td>4</td><td>3</td><td>6</td><td>11.27</td><td>4</td><td>809.98</td><td>49.57495</td><td>  0</td><td>1</td><td>2</td><td>7</td><td>115.7114</td><td>0.04237600</td><td>0.8571429</td></tr>\n",
       "\t<tr><th scope=row>5</th><td>34847.84</td><td>2</td><td>4</td><td>6</td><td>1</td><td>7</td><td>1</td><td> 7.42</td><td>2</td><td>605.03</td><td>18.81621</td><td>320</td><td>2</td><td>2</td><td>6</td><td>100.8383</td><td>0.01736205</td><td>0.1666667</td></tr>\n",
       "\t<tr><th scope=row>6</th><td>34847.84</td><td>2</td><td>4</td><td>6</td><td>1</td><td>3</td><td>3</td><td> 5.42</td><td>2</td><td>605.03</td><td>18.81621</td><td>322</td><td>2</td><td>2</td><td>6</td><td>100.8383</td><td>0.01736205</td><td>0.5000000</td></tr>\n",
       "</tbody>\n",
       "</table>\n"
      ],
      "text/latex": [
       "A data.frame: 6 × 18\n",
       "\\begin{tabular}{r|llllllllllllllllll}\n",
       "  & Annual\\_Income & Num\\_Bank\\_Accounts & Num\\_Credit\\_Card & Interest\\_Rate & Num\\_of\\_Loan & Delay\\_from\\_due\\_date & Num\\_of\\_Delayed\\_Payment & Changed\\_Credit\\_Limit & Num\\_Credit\\_Inquiries & Outstanding\\_Debt & Total\\_EMI\\_per\\_month & Credit\\_History\\_Age\\_Months & Credit\\_Score\\_Encoded & Credit\\_Mix\\_Encoded & Total\\_Num\\_Accounts & Debt\\_Per\\_Account & Debt\\_to\\_Income\\_Ratio & Delayed\\_Payments\\_Per\\_Account\\\\\n",
       "  & <dbl> & <int> & <int> & <int> & <int> & <int> & <int> & <dbl> & <dbl> & <dbl> & <dbl> & <int> & <dbl> & <dbl> & <int> & <dbl> & <dbl> & <dbl>\\\\\n",
       "\\hline\n",
       "\t1 & 19114.12 & 3 & 4 & 3 & 4 & 5 & 4 &  6.27 & 4 & 809.98 & 49.57495 & 268 & 2 & 2 & 7 & 115.7114 & 0.04237600 & 0.5714286\\\\\n",
       "\t2 & 19114.12 & 3 & 4 & 3 & 4 & 6 & 0 & 11.27 & 4 & 809.98 & 49.57495 & 269 & 2 & 2 & 7 & 115.7114 & 0.04237600 & 0.0000000\\\\\n",
       "\t3 & 19114.12 & 3 & 4 & 3 & 4 & 3 & 8 & 11.27 & 4 & 809.98 & 49.57495 & 271 & 2 & 2 & 7 & 115.7114 & 0.04237600 & 1.1428571\\\\\n",
       "\t4 & 19114.12 & 3 & 4 & 3 & 4 & 3 & 6 & 11.27 & 4 & 809.98 & 49.57495 &   0 & 1 & 2 & 7 & 115.7114 & 0.04237600 & 0.8571429\\\\\n",
       "\t5 & 34847.84 & 2 & 4 & 6 & 1 & 7 & 1 &  7.42 & 2 & 605.03 & 18.81621 & 320 & 2 & 2 & 6 & 100.8383 & 0.01736205 & 0.1666667\\\\\n",
       "\t6 & 34847.84 & 2 & 4 & 6 & 1 & 3 & 3 &  5.42 & 2 & 605.03 & 18.81621 & 322 & 2 & 2 & 6 & 100.8383 & 0.01736205 & 0.5000000\\\\\n",
       "\\end{tabular}\n"
      ],
      "text/markdown": [
       "\n",
       "A data.frame: 6 × 18\n",
       "\n",
       "| <!--/--> | Annual_Income &lt;dbl&gt; | Num_Bank_Accounts &lt;int&gt; | Num_Credit_Card &lt;int&gt; | Interest_Rate &lt;int&gt; | Num_of_Loan &lt;int&gt; | Delay_from_due_date &lt;int&gt; | Num_of_Delayed_Payment &lt;int&gt; | Changed_Credit_Limit &lt;dbl&gt; | Num_Credit_Inquiries &lt;dbl&gt; | Outstanding_Debt &lt;dbl&gt; | Total_EMI_per_month &lt;dbl&gt; | Credit_History_Age_Months &lt;int&gt; | Credit_Score_Encoded &lt;dbl&gt; | Credit_Mix_Encoded &lt;dbl&gt; | Total_Num_Accounts &lt;int&gt; | Debt_Per_Account &lt;dbl&gt; | Debt_to_Income_Ratio &lt;dbl&gt; | Delayed_Payments_Per_Account &lt;dbl&gt; |\n",
       "|---|---|---|---|---|---|---|---|---|---|---|---|---|---|---|---|---|---|---|\n",
       "| 1 | 19114.12 | 3 | 4 | 3 | 4 | 5 | 4 |  6.27 | 4 | 809.98 | 49.57495 | 268 | 2 | 2 | 7 | 115.7114 | 0.04237600 | 0.5714286 |\n",
       "| 2 | 19114.12 | 3 | 4 | 3 | 4 | 6 | 0 | 11.27 | 4 | 809.98 | 49.57495 | 269 | 2 | 2 | 7 | 115.7114 | 0.04237600 | 0.0000000 |\n",
       "| 3 | 19114.12 | 3 | 4 | 3 | 4 | 3 | 8 | 11.27 | 4 | 809.98 | 49.57495 | 271 | 2 | 2 | 7 | 115.7114 | 0.04237600 | 1.1428571 |\n",
       "| 4 | 19114.12 | 3 | 4 | 3 | 4 | 3 | 6 | 11.27 | 4 | 809.98 | 49.57495 |   0 | 1 | 2 | 7 | 115.7114 | 0.04237600 | 0.8571429 |\n",
       "| 5 | 34847.84 | 2 | 4 | 6 | 1 | 7 | 1 |  7.42 | 2 | 605.03 | 18.81621 | 320 | 2 | 2 | 6 | 100.8383 | 0.01736205 | 0.1666667 |\n",
       "| 6 | 34847.84 | 2 | 4 | 6 | 1 | 3 | 3 |  5.42 | 2 | 605.03 | 18.81621 | 322 | 2 | 2 | 6 | 100.8383 | 0.01736205 | 0.5000000 |\n",
       "\n"
      ],
      "text/plain": [
       "  Annual_Income Num_Bank_Accounts Num_Credit_Card Interest_Rate Num_of_Loan\n",
       "1 19114.12      3                 4               3             4          \n",
       "2 19114.12      3                 4               3             4          \n",
       "3 19114.12      3                 4               3             4          \n",
       "4 19114.12      3                 4               3             4          \n",
       "5 34847.84      2                 4               6             1          \n",
       "6 34847.84      2                 4               6             1          \n",
       "  Delay_from_due_date Num_of_Delayed_Payment Changed_Credit_Limit\n",
       "1 5                   4                       6.27               \n",
       "2 6                   0                      11.27               \n",
       "3 3                   8                      11.27               \n",
       "4 3                   6                      11.27               \n",
       "5 7                   1                       7.42               \n",
       "6 3                   3                       5.42               \n",
       "  Num_Credit_Inquiries Outstanding_Debt Total_EMI_per_month\n",
       "1 4                    809.98           49.57495           \n",
       "2 4                    809.98           49.57495           \n",
       "3 4                    809.98           49.57495           \n",
       "4 4                    809.98           49.57495           \n",
       "5 2                    605.03           18.81621           \n",
       "6 2                    605.03           18.81621           \n",
       "  Credit_History_Age_Months Credit_Score_Encoded Credit_Mix_Encoded\n",
       "1 268                       2                    2                 \n",
       "2 269                       2                    2                 \n",
       "3 271                       2                    2                 \n",
       "4   0                       1                    2                 \n",
       "5 320                       2                    2                 \n",
       "6 322                       2                    2                 \n",
       "  Total_Num_Accounts Debt_Per_Account Debt_to_Income_Ratio\n",
       "1 7                  115.7114         0.04237600          \n",
       "2 7                  115.7114         0.04237600          \n",
       "3 7                  115.7114         0.04237600          \n",
       "4 7                  115.7114         0.04237600          \n",
       "5 6                  100.8383         0.01736205          \n",
       "6 6                  100.8383         0.01736205          \n",
       "  Delayed_Payments_Per_Account\n",
       "1 0.5714286                   \n",
       "2 0.0000000                   \n",
       "3 1.1428571                   \n",
       "4 0.8571429                   \n",
       "5 0.1666667                   \n",
       "6 0.5000000                   "
      ]
     },
     "metadata": {},
     "output_type": "display_data"
    }
   ],
   "source": [
    "data <- read.csv(\"../../data/processed/trained_cleaned.csv\")\n",
    "head(data)"
   ]
  },
  {
   "cell_type": "code",
   "execution_count": null,
   "metadata": {},
   "outputs": [],
   "source": [
    "library(e1071)\n",
    "library(caTools)\n",
    "library(caret)\n",
    "library(nnet)\n",
    "library(caret)"
   ]
  },
  {
   "cell_type": "code",
   "execution_count": null,
   "metadata": {},
   "outputs": [],
   "source": [
    "data <- read.csv(\"../../data/processed/smote.csv\")\n",
    "\n",
    "\n",
    "X <- data[, !(names(data) %in% c(\"Credit_Score_Encoded\"))]\n",
    "y <- as.factor(data$Credit_Score)  \n",
    "\n",
    "\n",
    "set.seed(42) \n",
    "train_index <- createDataPartition(y, p = 0.80, list = FALSE)\n",
    "X_train <- X[train_index, ]\n",
    "y_train <- y[train_index]\n",
    "X_test <- X[-train_index, ]\n",
    "y_test <- y[-train_index]\n"
   ]
  },
  {
   "cell_type": "code",
   "execution_count": null,
   "metadata": {},
   "outputs": [
    {
     "name": "stdout",
     "output_type": "stream",
     "text": [
      "# weights:  57 (36 variable)\n",
      "initial  value 94371.894209 \n",
      "iter  10 value 83221.716052\n",
      "iter  20 value 77605.007649\n",
      "iter  30 value 74788.694540\n",
      "iter  40 value 70908.048378\n",
      "final  value 70907.788227 \n",
      "converged\n"
     ]
    },
    {
     "data": {
      "text/plain": [
       "Call:\n",
       "multinom(formula = as.factor(y_train) ~ ., data = data.frame(cbind(X_train, \n",
       "    y_train)))\n",
       "\n",
       "Coefficients:\n",
       "  (Intercept) Annual_Income Num_Bank_Accounts Num_Credit_Card Interest_Rate\n",
       "1   6.2418523 -5.396823e-06         0.1007261      -0.1329411   -0.05486642\n",
       "2   0.3627708 -6.000326e-06         0.2164214      -0.2731228   -0.03540999\n",
       "  Num_of_Loan Delay_from_due_date Num_of_Delayed_Payment Changed_Credit_Limit\n",
       "1 -0.11161225         -0.05520424            -0.02293199           0.04665125\n",
       "2 -0.08789998         -0.08085970             0.02422629           0.01859692\n",
       "  Num_Credit_Inquiries Outstanding_Debt Total_EMI_per_month\n",
       "1          -0.11663572    -0.0004849337        0.0007089375\n",
       "2          -0.07035695    -0.0008497341        0.0012089808\n",
       "  Credit_History_Age_Months Credit_Mix_Encoded Total_Num_Accounts\n",
       "1             -6.763849e-07          -2.088059        -0.03221502\n",
       "2              1.307370e-04           1.118774        -0.05670144\n",
       "  Debt_Per_Account Debt_to_Income_Ratio Delayed_Payments_Per_Account\n",
       "1      0.002282371            -8.360427                   0.17343425\n",
       "2      0.004620981            -6.249362                   0.04090113\n",
       "\n",
       "Residual Deviance: 141815.6 \n",
       "AIC: 141883.6 "
      ]
     },
     "metadata": {},
     "output_type": "display_data"
    }
   ],
   "source": [
    "# Fitting Naive Bayes Model \n",
    "# to training dataset\n",
    "set.seed(120)  # Setting Seed\n",
    "multinom_model <- multinom(as.factor(y_train) ~ ., data = data.frame(cbind(X_train, y_train)))\n",
    "saveRDS(multinom_model, file = \"../../models/mlr.rds\")\n",
    "multinom_model"
   ]
  },
  {
   "cell_type": "code",
   "execution_count": null,
   "metadata": {},
   "outputs": [],
   "source": [
    "multinom_model <- readRDS(file = \"../../models/mlr.rds\")\n",
    "predictions <- predict(multinom_model, newdata = X_test, type = \"class\")  # Use type = \"class\" for class predictions\n",
    "\n",
    " "
   ]
  },
  {
   "cell_type": "code",
   "execution_count": null,
   "metadata": {},
   "outputs": [
    {
     "name": "stdout",
     "output_type": "stream",
     "text": [
      "Confusion Matrix and Statistics\n",
      "\n",
      "          Reference\n",
      "Prediction    0    1    2\n",
      "         0 4426 1837 1151\n",
      "         1 2374 7052  761\n",
      "         2  931 1039 1903\n",
      "\n",
      "Overall Statistics\n",
      "                                          \n",
      "               Accuracy : 0.6231          \n",
      "                 95% CI : (0.6166, 0.6296)\n",
      "    No Information Rate : 0.4623          \n",
      "    P-Value [Acc > NIR] : < 2.2e-16       \n",
      "                                          \n",
      "                  Kappa : 0.3964          \n",
      "                                          \n",
      " Mcnemar's Test P-Value : < 2.2e-16       \n",
      "\n",
      "Statistics by Class:\n",
      "\n",
      "                     Class: 0 Class: 1 Class: 2\n",
      "Sensitivity            0.5725   0.7103  0.49882\n",
      "Specificity            0.7826   0.7285  0.88844\n",
      "Pos Pred Value         0.5970   0.6923  0.49135\n",
      "Neg Pred Value         0.7649   0.7452  0.89137\n",
      "Prevalence             0.3600   0.4623  0.17766\n",
      "Detection Rate         0.2061   0.3284  0.08862\n",
      "Detection Prevalence   0.3453   0.4744  0.18036\n",
      "Balanced Accuracy      0.6775   0.7194  0.69363\n"
     ]
    }
   ],
   "source": [
    "#C matrix\n",
    "confusion_matrix <- confusionMatrix(predictions, y_test)\n",
    "print(confusion_matrix)"
   ]
  },
  {
   "cell_type": "code",
   "execution_count": null,
   "metadata": {},
   "outputs": [
    {
     "name": "stdout",
     "output_type": "stream",
     "text": [
      "Accuracy: 0.6231256 \n",
      "Precision: 0.7933401 \n",
      "Recall (Sensitivity): 0.7481434 \n",
      "F1 Score: 0.7700792 \n",
      "Specificity: 0.7066901 \n"
     ]
    }
   ],
   "source": [
    "\n",
    "# Extract TP, TN, FP, FN from the confusion matrix\n",
    "TP <- confusion_matrix$table[2, 2]  # True Positives\n",
    "TN <- confusion_matrix$table[1, 1]  # True Negatives\n",
    "FP <- confusion_matrix$table[1, 2]  # False Positives\n",
    "FN <- confusion_matrix$table[2, 1]  # False Negatives\n",
    "\n",
    "# Calculate accuracy\n",
    "accuracy <- sum(diag(confusion_matrix$table)) / sum(confusion_matrix$table)\n",
    "\n",
    "# Calculate precision\n",
    "precision <- TP / (TP + FP)\n",
    "\n",
    "# Calculate recall (sensitivity)\n",
    "recall <- TP / (TP + FN)\n",
    "\n",
    "# Calculate F1 score\n",
    "f1_score <- 2 * ((precision * recall) / (precision + recall))\n",
    "\n",
    "# Calculate specificity\n",
    "specificity <- TN / (TN + FP)\n",
    "\n",
    "# Print the metrics\n",
    "cat(\"Accuracy:\", accuracy, \"\\n\")\n",
    "cat(\"Precision:\", precision, \"\\n\")\n",
    "cat(\"Recall (Sensitivity):\", recall, \"\\n\")\n",
    "cat(\"F1 Score:\", f1_score, \"\\n\")\n",
    "cat(\"Specificity:\", specificity, \"\\n\")"
   ]
  },
  {
   "cell_type": "code",
   "execution_count": null,
   "metadata": {},
   "outputs": [
    {
     "data": {
      "text/plain": [
       "      predictions\n",
       "y_test    0    1    2\n",
       "     0 4426 2374  931\n",
       "     1 1837 7052 1039\n",
       "     2 1151  761 1903"
      ]
     },
     "metadata": {},
     "output_type": "display_data"
    }
   ],
   "source": [
    "cm <- table(y_test, predictions)\n",
    "cm"
   ]
  },
  {
   "cell_type": "code",
   "execution_count": null,
   "metadata": {},
   "outputs": [
    {
     "data": {
      "text/plain": [
       "Confusion Matrix and Statistics\n",
       "\n",
       "      predictions\n",
       "y_test    0    1    2\n",
       "     0 4426 2374  931\n",
       "     1 1837 7052 1039\n",
       "     2 1151  761 1903\n",
       "\n",
       "Overall Statistics\n",
       "                                          \n",
       "               Accuracy : 0.6231          \n",
       "                 95% CI : (0.6166, 0.6296)\n",
       "    No Information Rate : 0.4744          \n",
       "    P-Value [Acc > NIR] : < 2.2e-16       \n",
       "                                          \n",
       "                  Kappa : 0.3964          \n",
       "                                          \n",
       " Mcnemar's Test P-Value : < 2.2e-16       \n",
       "\n",
       "Statistics by Class:\n",
       "\n",
       "                     Class: 0 Class: 1 Class: 2\n",
       "Sensitivity            0.5970   0.6923  0.49135\n",
       "Specificity            0.7649   0.7452  0.89137\n",
       "Pos Pred Value         0.5725   0.7103  0.49882\n",
       "Neg Pred Value         0.7826   0.7285  0.88844\n",
       "Prevalence             0.3453   0.4744  0.18036\n",
       "Detection Rate         0.2061   0.3284  0.08862\n",
       "Detection Prevalence   0.3600   0.4623  0.17766\n",
       "Balanced Accuracy      0.6810   0.7187  0.69136"
      ]
     },
     "metadata": {},
     "output_type": "display_data"
    }
   ],
   "source": [
    "confusionMatrix(cm)"
   ]
  },
  {
   "cell_type": "code",
   "execution_count": null,
   "metadata": {},
   "outputs": [],
   "source": [
    "\n"
   ]
  },
  {
   "cell_type": "code",
   "execution_count": null,
   "metadata": {},
   "outputs": [],
   "source": []
  },
  {
   "cell_type": "code",
   "execution_count": null,
   "metadata": {},
   "outputs": [],
   "source": []
  }
 ],
 "metadata": {
  "kernelspec": {
   "display_name": "base",
   "language": "python",
   "name": "python3"
  },
  "language_info": {
   "codemirror_mode": {
    "name": "ipython",
    "version": 3
   },
   "file_extension": ".py",
   "mimetype": "text/x-python",
   "name": "python",
   "nbconvert_exporter": "python",
   "pygments_lexer": "ipython3",
   "version": "3.12.7"
  }
 },
 "nbformat": 4,
 "nbformat_minor": 2
}
